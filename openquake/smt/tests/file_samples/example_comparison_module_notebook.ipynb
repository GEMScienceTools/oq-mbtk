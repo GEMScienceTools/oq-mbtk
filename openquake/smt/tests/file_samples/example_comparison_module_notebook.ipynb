{
 "cells": [
  {
   "cell_type": "markdown",
   "metadata": {},
   "source": [
    "### NOTEBOOK FOR COMPARISON OF CANDIDATE GMPES\n",
    "This notebook provides a simple and efficient script for comparing candidate GMPEs in terms of median predicted ground-motion using trellis plots, hierarchical clustering plots, Euclidean distance matrix plots and Sammons Maps plots.\n",
    "\n",
    "The required inputs by the user are are specified in the \"User's input\" cell."
   ]
  },
  {
   "cell_type": "code",
   "execution_count": 1,
   "metadata": {},
   "outputs": [],
   "source": [
    "#Import required python modules\n",
    "import os\n",
    "import toml\n",
    "from openquake.smt.comparison import compare_gmpes as comp"
   ]
  },
  {
   "cell_type": "markdown",
   "metadata": {},
   "source": [
    "### User input"
   ]
  },
  {
   "cell_type": "code",
   "execution_count": 2,
   "metadata": {},
   "outputs": [],
   "source": [
    "\"\"\" User's input\"\"\"\n",
    "filename = 'example_comparison_module_inputs.toml' \n",
    "\n",
    "config_file = toml.load(filename)\n",
    "name_analysis = config_file['general']['name_analysis'] \n",
    "\n",
    "output_directory = os.path.join(os.path.abspath(''),'..',name_analysis)"
   ]
  },
  {
   "cell_type": "markdown",
   "metadata": {
    "tags": []
   },
   "source": [
    "### Run the analysis"
   ]
  },
  {
   "cell_type": "code",
   "execution_count": 3,
   "metadata": {},
   "outputs": [
    {
     "ename": "ValueError",
     "evalue": "GMPE logic tree weights must total 1.0",
     "output_type": "error",
     "traceback": [
      "\u001b[1;31m---------------------------------------------------------------------------\u001b[0m",
      "\u001b[1;31mValueError\u001b[0m                                Traceback (most recent call last)",
      "Cell \u001b[1;32mIn[3], line 5\u001b[0m\n\u001b[0;32m      2\u001b[0m \u001b[38;5;28;01mif\u001b[39;00m \u001b[38;5;129;01mnot\u001b[39;00m os\u001b[38;5;241m.\u001b[39mpath\u001b[38;5;241m.\u001b[39mexists(output_directory): os\u001b[38;5;241m.\u001b[39mmakedirs(output_directory)\n\u001b[0;32m      4\u001b[0m \u001b[38;5;66;03m#Generate plots from config object\u001b[39;00m\n\u001b[1;32m----> 5\u001b[0m \u001b[43mcomp\u001b[49m\u001b[38;5;241;43m.\u001b[39;49m\u001b[43mplot_trellis\u001b[49m\u001b[43m(\u001b[49m\u001b[43mfilename\u001b[49m\u001b[43m,\u001b[49m\u001b[43moutput_directory\u001b[49m\u001b[43m)\u001b[49m\n\u001b[0;32m      6\u001b[0m comp\u001b[38;5;241m.\u001b[39mplot_spectra(filename,output_directory)\n\u001b[0;32m      7\u001b[0m comp\u001b[38;5;241m.\u001b[39mplot_cluster(filename,output_directory)\n",
      "File \u001b[1;32m~\\oq-mbtk\\openquake\\smt\\comparison\\compare_gmpes.py:174\u001b[0m, in \u001b[0;36mplot_trellis\u001b[1;34m(filename, output_directory)\u001b[0m\n\u001b[0;32m    167\u001b[0m \u001b[38;5;250m\u001b[39m\u001b[38;5;124;03m\"\"\"\u001b[39;00m\n\u001b[0;32m    168\u001b[0m \u001b[38;5;124;03mPlot trellis for given run configuration\u001b[39;00m\n\u001b[0;32m    169\u001b[0m \u001b[38;5;124;03m:param  filename:\u001b[39;00m\n\u001b[0;32m    170\u001b[0m \u001b[38;5;124;03m    toml file providing configuration for use within comparative\u001b[39;00m\n\u001b[0;32m    171\u001b[0m \u001b[38;5;124;03m    plotting methods.\u001b[39;00m\n\u001b[0;32m    172\u001b[0m \u001b[38;5;124;03m\"\"\"\u001b[39;00m \n\u001b[0;32m    173\u001b[0m \u001b[38;5;66;03m# Generate config object\u001b[39;00m\n\u001b[1;32m--> 174\u001b[0m config \u001b[38;5;241m=\u001b[39m \u001b[43mConfigurations\u001b[49m\u001b[43m(\u001b[49m\u001b[43mfilename\u001b[49m\u001b[43m)\u001b[49m\n\u001b[0;32m    176\u001b[0m plot_trellis_util(config\u001b[38;5;241m.\u001b[39mtrt,\n\u001b[0;32m    177\u001b[0m                   config\u001b[38;5;241m.\u001b[39mztor,\n\u001b[0;32m    178\u001b[0m                   config\u001b[38;5;241m.\u001b[39mrake,\n\u001b[1;32m   (...)\u001b[0m\n\u001b[0;32m    198\u001b[0m                   config\u001b[38;5;241m.\u001b[39mlt_weights_gmc2,\n\u001b[0;32m    199\u001b[0m                   config\u001b[38;5;241m.\u001b[39mup_or_down_dip)\n",
      "File \u001b[1;32m~\\oq-mbtk\\openquake\\smt\\comparison\\compare_gmpes.py:152\u001b[0m, in \u001b[0;36mConfigurations.__init__\u001b[1;34m(self, filename)\u001b[0m\n\u001b[0;32m    150\u001b[0m     check_weights_gmc1 \u001b[38;5;241m=\u001b[39m np\u001b[38;5;241m.\u001b[39marray(pd\u001b[38;5;241m.\u001b[39mSeries(get_weights_gmc1))\n\u001b[0;32m    151\u001b[0m     \u001b[38;5;28;01mif\u001b[39;00m np\u001b[38;5;241m.\u001b[39msum(check_weights_gmc1, axis \u001b[38;5;241m=\u001b[39m \u001b[38;5;241m0\u001b[39m) \u001b[38;5;241m!=\u001b[39m \u001b[38;5;241m1.0\u001b[39m:\n\u001b[1;32m--> 152\u001b[0m         \u001b[38;5;28;01mraise\u001b[39;00m \u001b[38;5;167;01mValueError\u001b[39;00m(\u001b[38;5;124m\"\u001b[39m\u001b[38;5;124mGMPE logic tree weights must total 1.0\u001b[39m\u001b[38;5;124m\"\u001b[39m)\n\u001b[0;32m    153\u001b[0m     \u001b[38;5;28mself\u001b[39m\u001b[38;5;241m.\u001b[39mlt_weights_gmc1 \u001b[38;5;241m=\u001b[39m get_weights_gmc1\n\u001b[0;32m    154\u001b[0m \u001b[38;5;28;01melse\u001b[39;00m:\n",
      "\u001b[1;31mValueError\u001b[0m: GMPE logic tree weights must total 1.0"
     ]
    }
   ],
   "source": [
    "# set the output\n",
    "if not os.path.exists(output_directory): os.makedirs(output_directory)\n",
    "\n",
    "#Generate plots from config object\n",
    "comp.plot_trellis(filename,output_directory)\n",
    "comp.plot_spectra(filename,output_directory)\n",
    "comp.plot_cluster(filename,output_directory)\n",
    "comp.plot_sammons(filename,output_directory)\n",
    "comp.plot_euclidean(filename,output_directory)"
   ]
  },
  {
   "cell_type": "code",
   "execution_count": null,
   "metadata": {},
   "outputs": [],
   "source": []
  }
 ],
 "metadata": {
  "kernelspec": {
   "display_name": "Python (openquake)",
   "language": "python",
   "name": "openquake"
  },
  "language_info": {
   "codemirror_mode": {
    "name": "ipython",
    "version": 3
   },
   "file_extension": ".py",
   "mimetype": "text/x-python",
   "name": "python",
   "nbconvert_exporter": "python",
   "pygments_lexer": "ipython3",
   "version": "3.10.11"
  }
 },
 "nbformat": 4,
 "nbformat_minor": 4
}
