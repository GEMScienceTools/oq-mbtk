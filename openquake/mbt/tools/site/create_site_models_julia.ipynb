{
 "cells": [
  {
   "cell_type": "raw",
   "metadata": {},
   "source": [
    "NOTES: \n",
    "\n",
    "1) downloaded and installed Julia\n",
    "\n",
    "2) installed Julia ipython notebook\n",
    "open Julia\n",
    "import Pkg; Pkg.add(\"IJulia\")\n",
    "\n",
    "3) installed netcdf \n",
    "open Julia\n",
    "import Pkg; Pkg.add(\"NetCDF\"); Pkg.build(\"NetCDF\")"
   ]
  },
  {
   "cell_type": "code",
   "execution_count": 1,
   "metadata": {},
   "outputs": [],
   "source": [
    "using NetCDF\n",
    "using Printf"
   ]
  },
  {
   "cell_type": "markdown",
   "metadata": {},
   "source": [
    "### specify files"
   ]
  },
  {
   "cell_type": "code",
   "execution_count": 15,
   "metadata": {},
   "outputs": [
    {
     "data": {
      "text/plain": [
       "\"./out.csv\""
      ]
     },
     "execution_count": 15,
     "metadata": {},
     "output_type": "execute_result"
    }
   ],
   "source": [
    "## specify location of .nc file\n",
    "ncfile = \"/Users/mpagani/Repos/gem-hazard-data/vs30/global_vs30.grd\";\n",
    "\n",
    "## specify location of \"sites_csv\" file (lon, lat)\n",
    "fname_in = \"/Users/mpagani/Repos/mosaic/TWN/in/sites_TWN_s9.csv\"\n",
    "\n",
    "## specify location of output \"site_model_file\" file (lon,lat,vs30,z1pt0,z2pt5,vs30measured)\n",
    "fname_out = \"./out.csv\""
   ]
  },
  {
   "cell_type": "markdown",
   "metadata": {},
   "source": [
    "### create functions"
   ]
  },
  {
   "cell_type": "code",
   "execution_count": 22,
   "metadata": {},
   "outputs": [
    {
     "data": {
      "text/plain": [
       "write_site_file (generic function with 1 method)"
      ]
     },
     "execution_count": 22,
     "metadata": {},
     "output_type": "execute_result"
    }
   ],
   "source": [
    "function get_index(vec, value)\n",
    "    dff = vec .- value\n",
    "    return findmin(abs.(dff))\n",
    "end\n",
    "\n",
    "function get_sites(ncfile)\n",
    "    lons = Float64[]\n",
    "    lats = Float64[]\n",
    "    file=open(ncfile, \"r\")\n",
    "    c = 0\n",
    "    while(!eof(file))\n",
    "        line = readline(file)\n",
    "        svec = split(line, \",\")\n",
    "        if !all(isletter, svec[1])\n",
    "            push!(lons, parse(Float64, svec[1]))\n",
    "            push!(lats, parse(Float64, svec[2])) \n",
    "            c += 1\n",
    "        end\n",
    "    end\n",
    "    println(c)\n",
    "    return lons, lats\n",
    "end\n",
    "\n",
    "function get_vs30(slons, slats, lons, lats, vs30)\n",
    "    vals = Float64[]\n",
    "    for (lo, la) in zip(slons, slats)\n",
    "        idxx = get_index(xs, lo)\n",
    "        idxy = get_index(ys, la)\n",
    "        push!(vals, zs[idxx[2], idxy[2]])\n",
    "    end\n",
    "    return vals\n",
    "end\n",
    "\n",
    "function get_z1pt0(vs30)\n",
    "    c1 = 571^4.\n",
    "    c2 = 1360.0^4.\n",
    "    out = exp.((-7.15 / 4.0) * log.((vs30.^4. .+ c1) ./ (c2 + c1)))\n",
    "    return out\n",
    "end\n",
    "\n",
    "function get_z2pt5(vs30)\n",
    "    c1 = 7.089\n",
    "    c2 = -1.144\n",
    "    out = exp.(c1 .+ log.(vs30) .* c2)\n",
    "    return out\n",
    "end\n",
    "\n",
    "      \n",
    "function write_site_file(ncfile, lons, lats, vs30)\n",
    "    z1pt0 = get_z1pt0(vs30)\n",
    "    z2pt5 = get_z2pt5(vs30)\n",
    "    f = open(ncfile, \"w\")\n",
    "    write(f, \"lon,lat,vs30,z1pt0,z2pt5,vs30measured\\n\")\n",
    "    c = 0\n",
    "    for (lo, la, vs, z1, z2) in zip(lons, lats, vs30, z1pt0, z2pt5)\n",
    "        tmp = @sprintf(\"%.6f,%.6f,%.2f,%.2f,%.2f,%d\\n\", lo, la, vs, z1, z2, 1)\n",
    "        write(f, tmp)\n",
    "        c += 1\n",
    "    end\n",
    "    close(f)\n",
    "    println(c)\n",
    "end"
   ]
  },
  {
   "cell_type": "markdown",
   "metadata": {},
   "source": [
    "### read in .nc file"
   ]
  },
  {
   "cell_type": "code",
   "execution_count": 23,
   "metadata": {},
   "outputs": [
    {
     "name": "stdout",
     "output_type": "stream",
     "text": [
      "\n",
      "##### NetCDF File #####\n",
      "\n",
      "/Users/mpagani/Repos/gem-hazard-data/vs30/global_vs30.grd\n",
      "\n",
      "##### Dimensions #####\n",
      "\n",
      "Name                                                Length                    \n",
      "--------------------------------------------------------------------------------\n",
      "x                                                   43201                     \n",
      "y                                                   16801                     \n",
      "\n",
      "##### Variables #####\n",
      "\n",
      "Name                            Type            Dimensions                      \n",
      "--------------------------------------------------------------------------------\n",
      "x                               DOUBLE          x                               \n",
      "z                               FLOAT           x y                             \n",
      "y                               DOUBLE          y                               \n",
      "\n",
      "##### Attributes #####\n",
      "\n",
      "Variable            Name                Value                                   \n",
      "--------------------------------------------------------------------------------\n",
      "global              history             grdgradient -V gmted_global.grd -Lg -M..\n",
      "global              GMT_version         4.5.5 [64-bit]                          \n",
      "global              title               Magnitude of maximum slopes             \n",
      "global              Conventions         COARDS/CF-1.0                           \n",
      "x                   units               degrees_east                            \n",
      "x                   long_name           longitude                               \n",
      "x                   actual_range        [-180.0, 180.0]                         \n",
      "z                   long_name           z                                       \n",
      "z                   actual_range        [0.0, 2.2267143726348877]               \n",
      "z                   _FillValue          NaN                                     \n",
      "y                   units               degrees_north                           \n",
      "y                   long_name           latitude                                \n",
      "y                   actual_range        [-56.0, 84.0]                           \n",
      "nothing\n"
     ]
    }
   ],
   "source": [
    "info = ncinfo(ncfile)\n",
    "println(info)\n",
    "\n",
    "xs = ncread(ncfile, \"x\");\n",
    "ys = ncread(ncfile, \"y\");\n",
    "zs = ncread(ncfile, \"z\"); #the vs30 field"
   ]
  },
  {
   "cell_type": "markdown",
   "metadata": {},
   "source": [
    "### read in sites and get vs30"
   ]
  },
  {
   "cell_type": "code",
   "execution_count": 24,
   "metadata": {},
   "outputs": [
    {
     "name": "stdout",
     "output_type": "stream",
     "text": [
      "2027\n"
     ]
    }
   ],
   "source": [
    "lons, lats = get_sites(fname_in)\n",
    "vs30 = get_vs30(lons, lats, xs, ys, zs);"
   ]
  },
  {
   "cell_type": "markdown",
   "metadata": {},
   "source": [
    "### save file"
   ]
  },
  {
   "cell_type": "code",
   "execution_count": 25,
   "metadata": {},
   "outputs": [
    {
     "name": "stdout",
     "output_type": "stream",
     "text": [
      "2027\n"
     ]
    }
   ],
   "source": [
    "write_site_file(fname_out, lons, lats, vs30)"
   ]
  },
  {
   "cell_type": "code",
   "execution_count": null,
   "metadata": {},
   "outputs": [],
   "source": []
  }
 ],
 "metadata": {
  "kernelspec": {
   "display_name": "Julia 1.7.1",
   "language": "julia",
   "name": "julia-1.7"
  },
  "language_info": {
   "file_extension": ".jl",
   "mimetype": "application/julia",
   "name": "julia",
   "version": "1.7.1"
  }
 },
 "nbformat": 4,
 "nbformat_minor": 4
}
