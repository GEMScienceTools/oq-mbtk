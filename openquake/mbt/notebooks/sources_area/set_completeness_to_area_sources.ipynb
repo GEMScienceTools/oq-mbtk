{
 "cells": [
  {
   "cell_type": "markdown",
   "metadata": {},
   "source": [
    "# Set completeness"
   ]
  },
  {
   "cell_type": "markdown",
   "metadata": {},
   "source": [
    "## Import libraries"
   ]
  },
  {
   "cell_type": "code",
   "execution_count": null,
   "metadata": {},
   "outputs": [],
   "source": [
    "import os\n",
    "import h5py\n",
    "import numpy\n",
    "from openquake.mbt.oqt_project import OQtProject, OQtModel, OQtSource"
   ]
  },
  {
   "cell_type": "markdown",
   "metadata": {},
   "source": [
    "## Settings"
   ]
  },
  {
   "cell_type": "code",
   "execution_count": null,
   "metadata": {},
   "outputs": [],
   "source": [
    "project_pickle_filename = os.environ.get('OQMBT_PROJECT')\n",
    "oqtkp = OQtProject.load_from_file(project_pickle_filename)\n",
    "model_id = oqtkp.active_model_id\n",
    "model = oqtkp.models[model_id]\n",
    "prj_dir = os.path.dirname(project_pickle_filename)\n",
    "compl_hdf5_filename = os.path.join(prj_dir, oqtkp.compl_hdf5_filename)\n",
    "compl_data_folder = os.path.abspath(os.path.join(prj_dir, model.compl_data_folder))\n",
    "\n",
    "print('Active model ID             : %s' % (model_id))\n",
    "print('Completeness file           : %s' % (compl_hdf5_filename))\n",
    "print('Data completeness folder ID : %s' % (compl_data_folder))"
   ]
  },
  {
   "cell_type": "markdown",
   "metadata": {},
   "source": [
    "## Set default completeness"
   ]
  },
  {
   "cell_type": "code",
   "execution_count": null,
   "metadata": {},
   "outputs": [],
   "source": [
    "fhdf5 = h5py.File(compl_hdf5_filename, 'a')\n",
    "print('completeness filename: {:s}'.format(compl_hdf5_filename))\n",
    "\n",
    "# Update/create group\n",
    "if model_id in fhdf5.keys():\n",
    "    print('Group exists; selecting group: %s' % (model_id))\n",
    "    grp = fhdf5[model_id]\n",
    "else:\n",
    "    print('Creating group: %s' % (model_id))\n",
    "    grp = fhdf5.create_group(model_id)\n",
    "\n",
    "# Read completeness \n",
    "comw = fhdf5[model_id]['whole_catalogue']\n",
    "\n",
    "# Update the completeness for all the area sources \n",
    "for key in sorted(model.sources):\n",
    "    if model.sources[key].source_type == 'AreaSource':\n",
    "        \n",
    "        fle = os.path.join(compl_data_folder, '{:s}.csv'.format(key))\n",
    "        com = numpy.loadtxt(fle, delimiter=',')\n",
    "        print(com)\n",
    "        \n",
    "        if key in grp:\n",
    "            del fhdf5[model_id][key] \n",
    "            print('Updating source %s' % (key))\n",
    "            grp[key] = com\n",
    "        else:\n",
    "            print('Creating source %s' % (key))\n",
    "            dataset = grp.create_dataset(key, data=comw)\n",
    "fhdf5.close()"
   ]
  },
  {
   "cell_type": "code",
   "execution_count": null,
   "metadata": {},
   "outputs": [],
   "source": []
  }
 ],
 "metadata": {
  "kernelspec": {
   "display_name": "Python 3",
   "language": "python",
   "name": "python3"
  },
  "language_info": {
   "codemirror_mode": {
    "name": "ipython",
    "version": 3
   },
   "file_extension": ".py",
   "mimetype": "text/x-python",
   "name": "python",
   "nbconvert_exporter": "python",
   "pygments_lexer": "ipython3",
   "version": "3.6.8"
  }
 },
 "nbformat": 4,
 "nbformat_minor": 2
}
