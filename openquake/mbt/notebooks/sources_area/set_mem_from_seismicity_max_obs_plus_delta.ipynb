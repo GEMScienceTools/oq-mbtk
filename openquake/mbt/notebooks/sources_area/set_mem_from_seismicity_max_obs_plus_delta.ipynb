{
 "cells": [
  {
   "cell_type": "markdown",
   "metadata": {},
   "source": [
    "# Compute maximum expected magnitude \n",
    "This notebook computes the maximum expected magnitude assuming that the maximum expected magnitude corresponds to the maximum observed magnitude plus a delta."
   ]
  },
  {
   "cell_type": "code",
   "execution_count": null,
   "metadata": {},
   "outputs": [],
   "source": [
    "%matplotlib inline\n",
    "import os\n",
    "import re\n",
    "import sys\n",
    "import numpy\n",
    "import pickle\n",
    "from prettytable import PrettyTable\n",
    "from openquake.mbt.oqt_project import OQtProject"
   ]
  },
  {
   "cell_type": "markdown",
   "metadata": {},
   "source": [
    "## Default settings\n",
    "If you want to change the ID of the source to be processed you can use [this](./../project/project_set_params_gui.ipynb) notebook."
   ]
  },
  {
   "cell_type": "code",
   "execution_count": null,
   "metadata": {},
   "outputs": [],
   "source": [
    "project_pickle_filename = os.environ.get('OQMBT_PROJECT')\n",
    "oqtkp = OQtProject.load_from_file(project_pickle_filename)\n",
    "oqtkp.directory = os.path.dirname(project_pickle_filename)\n",
    "model_id = oqtkp.active_model_id\n",
    "model = oqtkp.models[model_id]\n",
    "compl_hdf5_filename = oqtkp.compl_hdf5_filename\n",
    "try:\n",
    "    area_source_ids_list = getattr(oqtkp,'active_source_id')\n",
    "except:\n",
    "    print('Active source ID not defined in the OQMBT project')\n",
    "    area_source_ids_list = ['10']\n",
    "print('Processing area source with ID:', area_source_ids_list)\n",
    "#\n",
    "# get default max magnitude increment\n",
    "magnitude_delta = model.magnitude_max_delta\n",
    "#\n",
    "# info    \n",
    "print('Processing model with ID:', model_id)\n",
    "print('Processing area source with ID:', area_source_ids_list)"
   ]
  },
  {
   "cell_type": "markdown",
   "metadata": {},
   "source": [
    "## Mmax observed and assigned\n",
    "The table below describes the values of the maximum magnitude observed in each area source included in the current model and the values of maximum magnitude assigned. "
   ]
  },
  {
   "cell_type": "code",
   "execution_count": null,
   "metadata": {},
   "outputs": [],
   "source": [
    "# Set table\n",
    "p = PrettyTable([\"ID\",\"mmax obs\", \"mmax assigned\"])\n",
    "p.align[\"Source ID\"] = 'l'\n",
    "p.align[\"mmax obs\"] = 'r'\n",
    "p.align[\"mmax assigned\"] = 'r'\n",
    "#\n",
    "for key in sorted(model.sources):\n",
    "    src = model.sources[key]\n",
    "    if src.source_type == 'AreaSource':\n",
    "        alab = ''\n",
    "        blab = ''\n",
    "        if hasattr(src, 'mmax_obs'):\n",
    "            alab = '%6.2f' % (src.mmax_obs)\n",
    "        if hasattr(src, 'mmax_expected'):\n",
    "            blab = '%6.2f' % (src.mmax_expected)    \n",
    "        p.add_row([key, alab, blab])\n",
    "print(p)"
   ]
  },
  {
   "cell_type": "markdown",
   "metadata": {},
   "source": [
    "## Read catalogue"
   ]
  },
  {
   "cell_type": "code",
   "execution_count": null,
   "metadata": {},
   "outputs": [],
   "source": [
    "pickle_filename = oqtkp.models[model_id].declustered_catalogue_pickle_filename\n",
    "pickle_filename = os.path.join(oqtkp.directory, pickle_filename)\n",
    "fin = open(pickle_filename, 'rb') \n",
    "catalogue = pickle.load(fin)\n",
    "fin.close()"
   ]
  },
  {
   "cell_type": "markdown",
   "metadata": {},
   "source": [
    "### Create catalogue for the selected areas"
   ]
  },
  {
   "cell_type": "code",
   "execution_count": null,
   "metadata": {},
   "outputs": [],
   "source": [
    "from openquake.mbt.tools.area import create_catalogue\n",
    "fcatal = create_catalogue(model, catalogue, area_source_ids_list)"
   ]
  },
  {
   "cell_type": "markdown",
   "metadata": {},
   "source": [
    "## Computing maximum expected magnitude"
   ]
  },
  {
   "cell_type": "code",
   "execution_count": null,
   "metadata": {},
   "outputs": [],
   "source": [
    "mmax_obs = numpy.amax(fcatal.data['magnitude'])\n",
    "mmax_exp = mmax_obs + magnitude_delta\n",
    "print('The maximum observed magnitude for this source is        : %.2f' % (mmax_obs))\n",
    "print('The maximum expected magnitude assigned to this source is: %.2f' % (mmax_exp))"
   ]
  },
  {
   "cell_type": "markdown",
   "metadata": {},
   "source": [
    "### Update the project info"
   ]
  },
  {
   "cell_type": "code",
   "execution_count": null,
   "metadata": {},
   "outputs": [],
   "source": [
    "for srcid in area_source_ids_list: \n",
    "    src = model.sources[srcid]\n",
    "    src.mmax_obs = mmax_obs\n",
    "    src.mmax_expected = mmax_exp\n",
    "    model.sources[srcid] = src\n",
    "    print(srcid, src.mmax_expected)\n",
    "oqtkp.models[model_id] = model\n",
    "oqtkp.save()"
   ]
  },
  {
   "cell_type": "code",
   "execution_count": null,
   "metadata": {},
   "outputs": [],
   "source": []
  }
 ],
 "metadata": {
  "kernelspec": {
   "display_name": "py35",
   "language": "python",
   "name": "py35"
  },
  "language_info": {
   "codemirror_mode": {
    "name": "ipython",
    "version": 3
   },
   "file_extension": ".py",
   "mimetype": "text/x-python",
   "name": "python",
   "nbconvert_exporter": "python",
   "pygments_lexer": "ipython3",
   "version": "3.5.5"
  }
 },
 "nbformat": 4,
 "nbformat_minor": 2
}
