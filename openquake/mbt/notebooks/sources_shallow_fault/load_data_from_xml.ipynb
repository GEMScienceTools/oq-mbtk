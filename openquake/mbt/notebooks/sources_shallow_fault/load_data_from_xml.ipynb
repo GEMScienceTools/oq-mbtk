{
 "cells": [
  {
   "cell_type": "code",
   "execution_count": null,
   "metadata": {},
   "outputs": [],
   "source": [
    "%matplotlib inline\n",
    "import os\n",
    "import re\n",
    "from openquake.man.checking_utils.source_model_utils import read\n",
    "from openquake.mbt.oqt_project import OQtProject, OQtSource"
   ]
  },
  {
   "cell_type": "code",
   "execution_count": null,
   "metadata": {},
   "outputs": [],
   "source": [
    "project_pickle_filename = os.environ.get('OQMBT_PROJECT')\n",
    "oqtkp = OQtProject.load_from_file(project_pickle_filename)\n",
    "model_id = oqtkp.active_model_id\n",
    "model = oqtkp.models[model_id]\n",
    "faults_xml_filename = os.path.join(oqtkp.directory, getattr(model,'faults_xml_filename'))\n",
    "print(os.path.realpath(faults_xml_filename))"
   ]
  },
  {
   "cell_type": "markdown",
   "metadata": {},
   "source": [
    "## Get shallow crust fault sources"
   ]
  },
  {
   "cell_type": "code",
   "execution_count": null,
   "metadata": {},
   "outputs": [],
   "source": [
    "sources, _ = read(faults_xml_filename)\n",
    "for f in sources:\n",
    "    sid = str(f.source_id)\n",
    "    if not re.search('^fs_', sid):\n",
    "        sid = 'fs_{:s}'.format(sid)\n",
    "    src = OQtSource(sid, 'SimpleFaultSource')\n",
    "    src.trace = f.fault_trace\n",
    "    src.msr = f.magnitude_scaling_relationship\n",
    "    src.mfd = f.mfd\n",
    "    src.rupture_aspect_ratio = f.rupture_aspect_ratio\n",
    "    src.trt = f.tectonic_region_type\n",
    "    src.dip = f.dip\n",
    "    src.upper_seismogenic_depth = f.upper_seismogenic_depth\n",
    "    src.lower_seismogenic_depth = f.lower_seismogenic_depth\n",
    "    src.name = f.name\n",
    "    src.rake = f.rake\n",
    "    model.sources[sid] = src"
   ]
  },
  {
   "cell_type": "markdown",
   "metadata": {},
   "source": [
    "## Update project"
   ]
  },
  {
   "cell_type": "code",
   "execution_count": null,
   "metadata": {},
   "outputs": [],
   "source": [
    "oqtkp.models[model_id] = model\n",
    "oqtkp.save()"
   ]
  }
 ],
 "metadata": {
  "kernelspec": {
   "display_name": "py35",
   "language": "python",
   "name": "py35"
  },
  "language_info": {
   "codemirror_mode": {
    "name": "ipython",
    "version": 3
   },
   "file_extension": ".py",
   "mimetype": "text/x-python",
   "name": "python",
   "nbconvert_exporter": "python",
   "pygments_lexer": "ipython3",
   "version": "3.5.5"
  }
 },
 "nbformat": 4,
 "nbformat_minor": 2
}
