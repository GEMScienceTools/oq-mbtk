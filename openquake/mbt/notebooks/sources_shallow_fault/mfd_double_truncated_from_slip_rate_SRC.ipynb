{
 "cells": [
  {
   "cell_type": "code",
   "execution_count": null,
   "metadata": {},
   "outputs": [],
   "source": [
    "%%html\n",
    "<script>\n",
    "    var code_show=true; //true -> hide code at first\n",
    "\n",
    "    function code_toggle() {\n",
    "        $('div.prompt').hide(); // always hide prompt\n",
    "\n",
    "        if (code_show){\n",
    "            $('div.input').hide();\n",
    "        } else {\n",
    "            $('div.input').show();\n",
    "        }\n",
    "        code_show = !code_show\n",
    "    }\n",
    "    $( document ).ready(code_toggle);\n",
    "</script>\n",
    "<p style=\"font-size:60%;\">\n",
    "<a href=\"javascript:code_toggle()\">[Toggle Code]</a>\n",
    "<a target=\"_blank\" href=\"./../project/project_set_params_gui.ipynb#\">[Set params]</a>\n",
    "</p>"
   ]
  },
  {
   "cell_type": "code",
   "execution_count": null,
   "metadata": {},
   "outputs": [],
   "source": [
    "%matplotlib inline\n",
    "import os\n",
    "import re\n",
    "import sys\n",
    "from openquake.mbt.oqt_project import OQtProject\n",
    "from openquake.mbt.tools.faults import rates_for_double_truncated_mfd\n",
    "from openquake.hazardlib.geo.surface import SimpleFaultSurface\n",
    "from openquake.hazardlib.mfd import EvenlyDiscretizedMFD\n",
    "from openquake.hazardlib.scalerel.wc1994 import WC1994"
   ]
  },
  {
   "cell_type": "code",
   "execution_count": null,
   "metadata": {},
   "outputs": [],
   "source": [
    "project_pickle_filename = os.environ.get('OQMBT_PROJECT')\n",
    "oqtkp = OQtProject.load_from_file(project_pickle_filename)\n",
    "model_id = oqtkp.active_model_id\n",
    "model = oqtkp.models[model_id]\n",
    "try:\n",
    "    source_ids_list = getattr(oqtkp,'active_source_id')\n",
    "except:\n",
    "    print('Active source ID not defined in the OQMBT project')\n",
    "    source_ids_list = ['sf1']\n",
    "print('Processing fault source with ID:', source_ids_list)"
   ]
  },
  {
   "cell_type": "markdown",
   "metadata": {},
   "source": [
    "## Parameters"
   ]
  },
  {
   "cell_type": "code",
   "execution_count": null,
   "metadata": {},
   "outputs": [],
   "source": [
    "default_mmin = float(model.faults_lower_threshold_magnitude)\n",
    "bin_width = float(model.mfd_binwidth)\n",
    "scalerel_name = model.msr"
   ]
  },
  {
   "cell_type": "markdown",
   "metadata": {},
   "source": [
    "## Set the magnitude scaling relationship\n",
    "The options available for the magnitude scaling relationship are:\n",
    "* `scalrel_name = 'WC1994`' <br> Wells and Coppersmith (1994) scaling relationship\n",
    "* '`PointMSR`' Scaling relationship to be used for the creation of tiny ruptures resembling points\n",
    "* '`CEUS2011`' Scaling relationship developed within the CEUS SSC project"
   ]
  },
  {
   "cell_type": "code",
   "execution_count": null,
   "metadata": {},
   "outputs": [],
   "source": [
    "import importlib\n",
    "module = importlib.import_module('openquake.hazardlib.scalerel')\n",
    "my_class = getattr(module, scalerel_name)\n",
    "scalrel = my_class()"
   ]
  },
  {
   "cell_type": "markdown",
   "metadata": {},
   "source": [
    "## Computing the mfd"
   ]
  },
  {
   "cell_type": "code",
   "execution_count": null,
   "metadata": {},
   "outputs": [],
   "source": [
    "assert len(source_ids_list) == 1\n",
    "src = model.sources[source_ids_list[0]]\n",
    "\n",
    "if hasattr(src, 'mlow') and src.mlow >= 0.0:\n",
    "    m_low = src.mlow\n",
    "else:\n",
    "    m_low = 0.0\n",
    "\n",
    "if hasattr(src, 'mmin') and src.mmin > 0.0:\n",
    "    m_min = src.mmin\n",
    "else:\n",
    "    m_min = default_mmin\n",
    "\n",
    "for key in src.__dict__:\n",
    "    print(key, getattr(src, key))"
   ]
  },
  {
   "cell_type": "code",
   "execution_count": null,
   "metadata": {},
   "outputs": [],
   "source": [
    "if src.source_type == 'SimpleFaultSource':\n",
    "    \n",
    "    if True:\n",
    "        \n",
    "        # Fix upper seismogenic depth\n",
    "        if hasattr(src, 'upper_seismogenic_depth'):\n",
    "            upper_seismogenic_depth = 0\n",
    "        else:\n",
    "            upper_seismogenic_depth = src.upper_seismogenic_depth\n",
    "            \n",
    "        # Scaling relationship\n",
    "        if hasattr(src, 'scalerel'):\n",
    "            scalerel = getattr(src, 'scalerel')\n",
    "        else:\n",
    "            scalerel = WC1994()\n",
    "\n",
    "        # Compute area source\n",
    "        surf = SimpleFaultSurface.from_fault_data(\n",
    "                    fault_trace = src.trace, \n",
    "                    upper_seismogenic_depth = upper_seismogenic_depth, \n",
    "                    lower_seismogenic_depth = src.lower_seismogenic_depth, \n",
    "                    dip = src.dip, \n",
    "                    mesh_spacing = 2.5)\n",
    "        flt_area = surf.get_area()\n",
    "\n",
    "        # Median magnitude\n",
    "        if hasattr(src, 'mmax') and float(getattr(src, 'mmax')) > 0.0:\n",
    "            mmax = float(getattr(src, 'mmax'))\n",
    "            print('Maximum magnitude (from input)               : %.2f' % (mmax))\n",
    "        else:\n",
    "            median_magnitude = scalrel.get_median_mag(flt_area, src.rake)\n",
    "            std = scalrel.get_std_dev_mag(src.rake)\n",
    "            mmax = median_magnitude + std * 2\n",
    "            print('Maximum magnitude (from scaling relationship): %.2f' % (mmax))\n",
    "            print('Magnitude Standard Deviation                 : %.2f' % (std))\n",
    "         \n",
    "        if mmax > m_min+bin_width and src.slip_rate > 1e-10:\n",
    "        \n",
    "            # Get rates\n",
    "            if hasattr(src, 'id_intersecting_area'):\n",
    "                print('Using parameters of area source ID           : %s' % (src.id_intersecting_area))\n",
    "                b_gr = model.sources[src.id_intersecting_area].b_gr\n",
    "            else:\n",
    "                b_gr = model.default_bgr\n",
    "            \n",
    "            if hasattr(src, 'coeff'):\n",
    "                coeff = float(getattr(src, 'coeff'))\n",
    "                print('Coeff parameter (from input)                 : %.2f' % (coeff))\n",
    "            else:\n",
    "                coeff = 1.0\n",
    "                print('Coeff parameter (default)                    : %.2f' % (coeff))\n",
    "            \n",
    "            rates = rates_for_double_truncated_mfd(flt_area, \n",
    "                                                   src.slip_rate*coeff, \n",
    "                                                   m_low, \n",
    "                                                   mmax,\n",
    "                                                   m_min,\n",
    "                                                   b_gr=b_gr,\n",
    "                                                   bin_width=bin_width)\n",
    "            \n",
    "            if any(rates):\n",
    "                src.mfd = EvenlyDiscretizedMFD(m_min+bin_width/2, bin_width, rates)\n",
    "                src.scalerel = scalrel\n",
    "                print('Computed MFD\\n\\n',src.mfd.get_annual_occurrence_rates())\n",
    "            else:\n",
    "                print('MFD not defined: rates not defined')\n",
    "                src.mfd = None\n",
    "                src.scalerel = None                \n",
    "        else:  \n",
    "            print('MFD not defined: mag from scaling relationship < m_min + bin_width')\n",
    "            src.mfd = None\n",
    "            src.scalerel = None\n",
    "\n",
    "model.sources[source_ids_list[0]] = src \n",
    "oqtkp.models[model_id] = model\n",
    "oqtkp.save()"
   ]
  },
  {
   "cell_type": "code",
   "execution_count": null,
   "metadata": {},
   "outputs": [],
   "source": []
  }
 ],
 "metadata": {
  "kernelspec": {
   "display_name": "Python 3",
   "language": "python",
   "name": "python3"
  },
  "language_info": {
   "codemirror_mode": {
    "name": "ipython",
    "version": 3
   },
   "file_extension": ".py",
   "mimetype": "text/x-python",
   "name": "python",
   "nbconvert_exporter": "python",
   "pygments_lexer": "ipython3",
   "version": "3.6.8"
  },
  "toc": {
   "nav_menu": {},
   "number_sections": true,
   "sideBar": true,
   "skip_h1_title": true,
   "toc_cell": false,
   "toc_position": {},
   "toc_section_display": "block",
   "toc_window_display": true
  },
  "varInspector": {
   "cols": {
    "lenName": 16,
    "lenType": 16,
    "lenVar": 40
   },
   "kernels_config": {
    "python": {
     "delete_cmd_postfix": "",
     "delete_cmd_prefix": "del ",
     "library": "var_list.py",
     "varRefreshCmd": "print(var_dic_list())"
    },
    "r": {
     "delete_cmd_postfix": ") ",
     "delete_cmd_prefix": "rm(",
     "library": "var_list.r",
     "varRefreshCmd": "cat(var_dic_list()) "
    }
   },
   "types_to_exclude": [
    "module",
    "function",
    "builtin_function_or_method",
    "instance",
    "_Feature"
   ],
   "window_display": false
  }
 },
 "nbformat": 4,
 "nbformat_minor": 2
}
