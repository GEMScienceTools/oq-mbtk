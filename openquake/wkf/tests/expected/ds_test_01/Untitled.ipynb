{
 "cells": [
  {
   "cell_type": "code",
   "execution_count": 10,
   "id": "8619f2cc-3d05-4ee8-83b2-30b69770ecfd",
   "metadata": {},
   "outputs": [],
   "source": [
    "import os\n",
    "import glob\n",
    "import shutil\n",
    "import pathlib\n",
    "\n",
    "import logging\n",
    "import numpy as np\n",
    "import matplotlib.pyplot as plt\n",
    "from openquake.hazardlib.tom import PoissonTOM\n",
    "from openquake.wkf.utils import _get_src_id, create_folder, get_list\n",
    "from openquake.hazardlib.nrml import to_python\n",
    "from openquake.hazardlib.geo.mesh import Mesh\n",
    "from openquake.hazardlib.sourceconverter import SourceConverter\n",
    "from openquake.mbt.tools.mfd import EEvenlyDiscretizedMFD\n",
    "from openquake.hazardlib.sourcewriter import write_source_model\n",
    "from openquake.hazardlib.source import SimpleFaultSource, MultiPointSource\n",
    "from openquake.hazardlib.geo.surface import SimpleFaultSurface\n",
    "from openquake.hazardlib.mfd.multi_mfd import MultiMFD"
   ]
  },
  {
   "cell_type": "code",
   "execution_count": 11,
   "id": "cc6f8e7e-3f2d-4946-9e98-0af11c99b6b5",
   "metadata": {},
   "outputs": [],
   "source": [
    "ffname = '../faults/faults.xml'\n",
    "folder_oq_in = \"../srcs/source*xml\"\n",
    "folder_oq_out = \"oq\"\n",
    "distance = 10\n",
    "magt = 6.5"
   ]
  },
  {
   "cell_type": "code",
   "execution_count": 12,
   "id": "96ad7010-2f23-4a61-ac25-bd548dfb8a63",
   "metadata": {},
   "outputs": [],
   "source": [
    "from openquake.wkf.distributed_seismicity import get_data"
   ]
  },
  {
   "cell_type": "code",
   "execution_count": 13,
   "id": "2ad0648a-bb12-4136-81a1-8c13b0c1be6b",
   "metadata": {},
   "outputs": [
    {
     "data": {
      "image/png": "[encoded data removed]",
      "text/plain": [
       "<Figure size 432x288 with 1 Axes>"
      ]
     },
     "metadata": {
      "needs_background": "light"
     },
     "output_type": "display_data"
    },
    {
     "data": {
      "image/png": "[encoded data removed]",
      "text/plain": [
       "<Figure size 432x288 with 1 Axes>"
      ]
     },
     "metadata": {
      "needs_background": "light"
     },
     "output_type": "display_data"
    }
   ],
   "source": [
    "#if len(use) > 0:\n",
    "#        use = get_list(use)\n",
    "use = ''\n",
    "# Load fault sources\n",
    "binw = 0.1\n",
    "sourceconv = SourceConverter(investigation_time=1.0,\n",
    "                             rupture_mesh_spacing=5.0,\n",
    "                             complex_fault_mesh_spacing=5.0,\n",
    "                             width_of_mfd_bin=binw)\n",
    "ssm_faults = to_python(ffname, sourceconv)\n",
    "\n",
    "# Loading all the point sources in the distributed seismicity model\n",
    "#    coo_pnt_src = []\n",
    "#    pnt_srcs = []\n",
    "ii = 0\n",
    "dst = 10\n",
    "for fname in glob.glob(folder_oq_in):\n",
    "    coo_pnt_src = []\n",
    "    pnt_srcs = []\n",
    "\n",
    "    # Info\n",
    "    logging.info(f'Processing: {fname}')\n",
    "\n",
    "    # Check if the source must be processed\n",
    "    src_id = _get_src_id(fname)\n",
    "    if len(use) > 0 and src_id not in use:\n",
    "        logging.info(f'Skipping {fname}')\n",
    "        continue\n",
    "        \n",
    "    tssm = to_python(fname, sourceconv)\n",
    "    \n",
    "    tcoo = np.array([(p.location.longitude, p.location.latitude) for p in\n",
    "                         tssm[0]])\n",
    "    pnt_srcs.extend(tssm[0])\n",
    "    coo_pnt_src.extend(tcoo)\n",
    "\n",
    "    coo_pnt_src = np.array(coo_pnt_src)\n",
    "\n",
    "    # Getting the list of faults\n",
    "    faults = []\n",
    "    for grp in ssm_faults:\n",
    "        for s in grp:\n",
    "            faults.append(s)\n",
    "\n",
    "    fig, axs = plt.subplots(1, 1)\n",
    "    plt.plot(coo_pnt_src[:, 0], coo_pnt_src[:, 1], '.') \n",
    "    buffer_pts = []\n",
    "    bco = []\n",
    "    src = faults[0]\n",
    "\n",
    "    # Getting the subset of point sources in the surrounding of the fault\n",
    "    # `src`. `coo_pnt_src` is a numpy.array with two columns (i.e. lon and \n",
    "    # lat). `pnt_srcs` is a list containing the point sources that \n",
    "    # collectively describe the distributed seismicity souces provided as\n",
    "    # input\n",
    "    coo = np.array(src.polygon.coords)\n",
    "    plt.plot(coo[:,0],coo[:,1])\n",
    "    #bbox = get_bounding_box(src)\n",
    "    pnt_ii, sel_pnt_srcs, sel_pnt_coo, rrup = get_data(src, coo_pnt_src,\n",
    "                                                       pnt_srcs)\n",
    "    if pnt_ii is not None:\n",
    "    \n",
    "        # Find the index of points within the buffer zone\n",
    "        within_idx = np.nonzero(rrup < dst)[0]\n",
    "        idxs = sorted([pnt_ii[i] for i in within_idx], reverse=True)\n",
    "\n",
    "        plt.plot(coo_pnt_src[idxs, 0], coo_pnt_src[idxs, 1], 'or', mfc='none')"
   ]
  },
  {
   "cell_type": "code",
   "execution_count": 14,
   "id": "70383f90-3eba-4c2b-a7d7-116c363079d7",
   "metadata": {},
   "outputs": [
    {
     "data": {
      "text/plain": [
       "22"
      ]
     },
     "execution_count": 14,
     "metadata": {},
     "output_type": "execute_result"
    }
   ],
   "source": [
    "len(idxs)"
   ]
  },
  {
   "cell_type": "code",
   "execution_count": 15,
   "id": "1aaa8b51-f878-4904-be5b-8280346b4ae7",
   "metadata": {},
   "outputs": [
    {
     "data": {
      "text/plain": [
       "array([[ 0.24783, -0.24782],\n",
       "       [ 0.     ,  0.     ],\n",
       "       [ 0.3    ,  0.3    ],\n",
       "       [ 0.54782,  0.05218],\n",
       "       [ 0.24783, -0.24782]])"
      ]
     },
     "execution_count": 15,
     "metadata": {},
     "output_type": "execute_result"
    }
   ],
   "source": [
    "np.array(src.polygon.coords)"
   ]
  },
  {
   "cell_type": "code",
   "execution_count": 16,
   "id": "b60071a6-a471-436b-aac5-b7888886e471",
   "metadata": {},
   "outputs": [
    {
     "ename": "NameError",
     "evalue": "name 'bbox' is not defined",
     "output_type": "error",
     "traceback": [
      "\u001b[0;31m---------------------------------------------------------------------------\u001b[0m",
      "\u001b[0;31mNameError\u001b[0m                                 Traceback (most recent call last)",
      "Input \u001b[0;32mIn [16]\u001b[0m, in \u001b[0;36m<cell line: 2>\u001b[0;34m()\u001b[0m\n\u001b[1;32m      1\u001b[0m buffer \u001b[38;5;241m=\u001b[39m \u001b[38;5;241m1\u001b[39m\n\u001b[0;32m----> 2\u001b[0m idxs \u001b[38;5;241m=\u001b[39m np\u001b[38;5;241m.\u001b[39mnonzero((coo_pnt_src[:, \u001b[38;5;241m0\u001b[39m] \u001b[38;5;241m>\u001b[39m \u001b[43mbbox\u001b[49m[\u001b[38;5;241m0\u001b[39m]\u001b[38;5;241m-\u001b[39mbuffer) \u001b[38;5;241m&\u001b[39m\n\u001b[1;32m      3\u001b[0m                   (coo_pnt_src[:, \u001b[38;5;241m1\u001b[39m] \u001b[38;5;241m>\u001b[39m bbox[\u001b[38;5;241m1\u001b[39m]\u001b[38;5;241m-\u001b[39mbuffer) \u001b[38;5;241m&\u001b[39m\n\u001b[1;32m      4\u001b[0m                   (coo_pnt_src[:, \u001b[38;5;241m0\u001b[39m] \u001b[38;5;241m<\u001b[39m bbox[\u001b[38;5;241m2\u001b[39m]\u001b[38;5;241m+\u001b[39mbuffer) \u001b[38;5;241m&\u001b[39m\n\u001b[1;32m      5\u001b[0m                   (coo_pnt_src[:, \u001b[38;5;241m1\u001b[39m] \u001b[38;5;241m<\u001b[39m bbox[\u001b[38;5;241m3\u001b[39m]\u001b[38;5;241m+\u001b[39mbuffer))[\u001b[38;5;241m0\u001b[39m]\n\u001b[1;32m      6\u001b[0m sel_pnt_srcs \u001b[38;5;241m=\u001b[39m [pnt_srcs[i] \u001b[38;5;28;01mfor\u001b[39;00m i \u001b[38;5;129;01min\u001b[39;00m idxs]\n\u001b[1;32m      8\u001b[0m \u001b[38;5;66;03m# No points selected\u001b[39;00m\n\u001b[1;32m      9\u001b[0m \u001b[38;5;66;03m#if len(sel_pnt_srcs) < 1:\u001b[39;00m\n\u001b[1;32m     10\u001b[0m \u001b[38;5;66;03m#    return None, None, None, None\u001b[39;00m\n\u001b[1;32m     11\u001b[0m \n\u001b[1;32m     12\u001b[0m \u001b[38;5;66;03m# Coordinates of the selected points i.e. points within the bounding box\u001b[39;00m\n\u001b[1;32m     13\u001b[0m \u001b[38;5;66;03m# plus of the fault plus a buffers\u001b[39;00m\n",
      "\u001b[0;31mNameError\u001b[0m: name 'bbox' is not defined"
     ]
    }
   ],
   "source": [
    "buffer = 1\n",
    "idxs = np.nonzero((coo_pnt_src[:, 0] > bbox[0]-buffer) &\n",
    "                  (coo_pnt_src[:, 1] > bbox[1]-buffer) &\n",
    "                  (coo_pnt_src[:, 0] < bbox[2]+buffer) &\n",
    "                  (coo_pnt_src[:, 1] < bbox[3]+buffer))[0]\n",
    "sel_pnt_srcs = [pnt_srcs[i] for i in idxs]\n",
    "\n",
    "# No points selected\n",
    "#if len(sel_pnt_srcs) < 1:\n",
    "#    return None, None, None, None\n",
    "\n",
    "# Coordinates of the selected points i.e. points within the bounding box\n",
    "# plus of the fault plus a buffers\n",
    "sel_pnt_coo = np.array([(p.location.longitude, p.location.latitude) for p\n",
    "                        in sel_pnt_srcs])\n",
    "\n",
    "# Create the mesh\n",
    "mesh = Mesh(sel_pnt_coo[:, 0], sel_pnt_coo[:, 1])\n",
    "\n",
    "if isinstance(src, SimpleFaultSource):\n",
    "    sfc = SimpleFaultSurface.from_fault_data(src.fault_trace,\n",
    "                                             src.upper_seismogenic_depth, \n",
    "                                             src.lower_seismogenic_depth,\n",
    "                                             src.dip, 1.0)\n",
    "else:\n",
    "    raise ValueError('Not supported fault type')\n",
    "fault_perim = np.array(src.polygon.coords)\n",
    "\n",
    "#rrup = sfc.get_min_distance(mesh)\n",
    "rrup = sfc.get_joyner_boore_distance(mesh)\n",
    "\n"
   ]
  },
  {
   "cell_type": "code",
   "execution_count": null,
   "id": "f65b1a29-b054-4689-ba3e-2374e6219692",
   "metadata": {},
   "outputs": [],
   "source": [
    "fp = fault_perim[:-1]"
   ]
  },
  {
   "cell_type": "code",
   "execution_count": null,
   "id": "7328e806-5b45-4253-869b-09e919e3a8d9",
   "metadata": {},
   "outputs": [],
   "source": [
    "fmesh = Mesh(fp[:, 0], fp[:, 1]) \n"
   ]
  },
  {
   "cell_type": "code",
   "execution_count": null,
   "id": "64cb9817-f007-470d-81ca-ef530da789f6",
   "metadata": {},
   "outputs": [],
   "source": [
    "plt.scatter(mesh.array[0],mesh.array[1],c=rrup)\n"
   ]
  },
  {
   "cell_type": "code",
   "execution_count": null,
   "id": "9fc1ea77-c8d4-4c59-a87d-9b261c9c56d2",
   "metadata": {},
   "outputs": [],
   "source": []
  },
  {
   "cell_type": "code",
   "execution_count": null,
   "id": "e884fd9e-046f-4162-9a09-7c1c7c5eba10",
   "metadata": {},
   "outputs": [],
   "source": []
  },
  {
   "cell_type": "code",
   "execution_count": null,
   "id": "eeacf7a7-15cb-4b23-a4f9-25cee18750d5",
   "metadata": {},
   "outputs": [],
   "source": []
  }
 ],
 "metadata": {
  "kernelspec": {
   "display_name": "Python 3 (ipykernel)",
   "language": "python",
   "name": "python3"
  },
  "language_info": {
   "codemirror_mode": {
    "name": "ipython",
    "version": 3
   },
   "file_extension": ".py",
   "mimetype": "text/x-python",
   "name": "python",
   "nbconvert_exporter": "python",
   "pygments_lexer": "ipython3",
   "version": "3.9.13"
  }
 },
 "nbformat": 4,
 "nbformat_minor": 5
}
