{
 "cells": [
  {
   "cell_type": "code",
   "execution_count": 1,
   "id": "696aedd4",
   "metadata": {},
   "outputs": [],
   "source": [
    "import os\n",
    "import pandas as pd\n",
    "from matplotlib import pyplot as plt\n",
    "import numpy as np"
   ]
  },
  {
   "cell_type": "code",
   "execution_count": 2,
   "id": "ab4a40e5",
   "metadata": {},
   "outputs": [],
   "source": [
    "# import original map file\n",
    "instances = ['pga_475','pga_2475', 'sa02_475','sa02_2475','sa10_475','sa10_2475']\n",
    "path_og = '/Users/kjohnson/GEM/HazardMosaic/global_map/2022-1/'\n",
    "path_extr = '/Users/kjohnson/GEM/oq-mbtk/openquake/ghm/rasters/test-rasters/'\n",
    "\n"
   ]
  },
  {
   "cell_type": "code",
   "execution_count": 3,
   "id": "bb345507",
   "metadata": {},
   "outputs": [
    {
     "name": "stderr",
     "output_type": "stream",
     "text": [
      "/var/folders/jv/qv3l5v7n0dl7fsfn92qt8k340000gn/T/ipykernel_59419/1822709760.py:16: SettingWithCopyWarning: \n",
      "A value is trying to be set on a copy of a slice from a DataFrame.\n",
      "Try using .loc[row_indexer,col_indexer] = value instead\n",
      "\n",
      "See the caveats in the documentation: https://pandas.pydata.org/pandas-docs/stable/user_guide/indexing.html#returning-a-view-versus-a-copy\n",
      "  df1z['raster_sample'] = df2z['SAMPLE_1']\n",
      "/var/folders/jv/qv3l5v7n0dl7fsfn92qt8k340000gn/T/ipykernel_59419/1822709760.py:17: SettingWithCopyWarning: \n",
      "A value is trying to be set on a copy of a slice from a DataFrame.\n",
      "Try using .loc[row_indexer,col_indexer] = value instead\n",
      "\n",
      "See the caveats in the documentation: https://pandas.pydata.org/pandas-docs/stable/user_guide/indexing.html#returning-a-view-versus-a-copy\n",
      "  df1z['percent_diff'] = abs(df1z[key] - df2z['SAMPLE_1'])\n"
     ]
    },
    {
     "name": "stdout",
     "output_type": "stream",
     "text": [
      "Maximum difference at zero:  0.0002359806239837\n",
      "Maximum difference at zero:  4.79701629956253e-05\n",
      "Maximum difference at zero:  1.95993125089444e-05\n",
      "Maximum difference at zero:  0.0002450622851029\n",
      "Maximum difference at zero:  0.0002666389045771\n",
      "Maximum difference at zero:  5.22505342814839e-06\n",
      "Maximum difference at zero:  4.24869285780005e-05\n",
      "Maximum difference at zero:  8.1987627709168e-06\n",
      "Maximum difference at zero:  0.0004413521673996\n",
      "Maximum difference at zero:  0.0014611493097618\n",
      "Maximum difference at zero:  9.98302784864791e-05\n",
      "Maximum difference at zero:  0.0005707666277885\n"
     ]
    }
   ],
   "source": [
    "for sc in ['rock','vs30']:\n",
    "    for inst in instances:\n",
    "        if sc == 'rock':\n",
    "            fi1 = os.path.join(path_og,'v2022_1_{}.csv'.format(inst))\n",
    "            fi2 = os.path.join(path_extr,'{}_rock.csv'.format(inst))\n",
    "        elif sc == 'vs30':\n",
    "            fi1 = os.path.join(path_og,'vs30/v2022_1_{}_vs30.csv'.format(inst))\n",
    "            fi2 = os.path.join(path_extr,'{}_vs30.csv'.format(inst))\n",
    "        df1full = pd.read_csv(fi1, skiprows=1)\n",
    "        df2full = pd.read_csv(fi2, skiprows=0)\n",
    "        \n",
    "        # check 1: are the zeros still zero (check absolute difference)\n",
    "        key = df1full.keys()[2]\n",
    "        df1z = df1full[df1full[key]== 0] \n",
    "        df2z = df2full[df1full[key]== 0] \n",
    "        df1z['raster_sample'] = df2z['SAMPLE_1']\n",
    "        df1z['percent_diff'] = abs(df1z[key] - df2z['SAMPLE_1'])\n",
    "        print('Maximum difference at zero: ',max(df1z['percent_diff']))"
   ]
  },
  {
   "cell_type": "code",
   "execution_count": 6,
   "id": "204e9aae",
   "metadata": {},
   "outputs": [
    {
     "name": "stdout",
     "output_type": "stream",
     "text": [
      "pga_475 rock PGA-0.002105\n"
     ]
    },
    {
     "name": "stderr",
     "output_type": "stream",
     "text": [
      "/var/folders/jv/qv3l5v7n0dl7fsfn92qt8k340000gn/T/ipykernel_59419/3838776444.py:19: SettingWithCopyWarning: \n",
      "A value is trying to be set on a copy of a slice from a DataFrame.\n",
      "Try using .loc[row_indexer,col_indexer] = value instead\n",
      "\n",
      "See the caveats in the documentation: https://pandas.pydata.org/pandas-docs/stable/user_guide/indexing.html#returning-a-view-versus-a-copy\n",
      "  df1['raster_sample'] = df2['SAMPLE_1']\n",
      "/var/folders/jv/qv3l5v7n0dl7fsfn92qt8k340000gn/T/ipykernel_59419/3838776444.py:20: SettingWithCopyWarning: \n",
      "A value is trying to be set on a copy of a slice from a DataFrame.\n",
      "Try using .loc[row_indexer,col_indexer] = value instead\n",
      "\n",
      "See the caveats in the documentation: https://pandas.pydata.org/pandas-docs/stable/user_guide/indexing.html#returning-a-view-versus-a-copy\n",
      "  df1['percent_diff'] = abs(df1[key] - df2['SAMPLE_1'])/df1[key]*100\n"
     ]
    },
    {
     "name": "stdout",
     "output_type": "stream",
     "text": [
      "number of concerning points: 0\n",
      "Empty DataFrame\n",
      "Columns: [lon, lat, PGA-0.002105, raster_sample, percent_diff]\n",
      "Index: []\n",
      "pga_2475 rock PGA-0.000404\n"
     ]
    },
    {
     "name": "stderr",
     "output_type": "stream",
     "text": [
      "/var/folders/jv/qv3l5v7n0dl7fsfn92qt8k340000gn/T/ipykernel_59419/3838776444.py:19: SettingWithCopyWarning: \n",
      "A value is trying to be set on a copy of a slice from a DataFrame.\n",
      "Try using .loc[row_indexer,col_indexer] = value instead\n",
      "\n",
      "See the caveats in the documentation: https://pandas.pydata.org/pandas-docs/stable/user_guide/indexing.html#returning-a-view-versus-a-copy\n",
      "  df1['raster_sample'] = df2['SAMPLE_1']\n",
      "/var/folders/jv/qv3l5v7n0dl7fsfn92qt8k340000gn/T/ipykernel_59419/3838776444.py:20: SettingWithCopyWarning: \n",
      "A value is trying to be set on a copy of a slice from a DataFrame.\n",
      "Try using .loc[row_indexer,col_indexer] = value instead\n",
      "\n",
      "See the caveats in the documentation: https://pandas.pydata.org/pandas-docs/stable/user_guide/indexing.html#returning-a-view-versus-a-copy\n",
      "  df1['percent_diff'] = abs(df1[key] - df2['SAMPLE_1'])/df1[key]*100\n"
     ]
    },
    {
     "name": "stdout",
     "output_type": "stream",
     "text": [
      "number of concerning points: 0\n",
      "Empty DataFrame\n",
      "Columns: [lon, lat, PGA-0.000404, raster_sample, percent_diff]\n",
      "Index: []\n",
      "sa02_475 rock SA(0.2)-0.002105\n"
     ]
    },
    {
     "name": "stderr",
     "output_type": "stream",
     "text": [
      "/var/folders/jv/qv3l5v7n0dl7fsfn92qt8k340000gn/T/ipykernel_59419/3838776444.py:19: SettingWithCopyWarning: \n",
      "A value is trying to be set on a copy of a slice from a DataFrame.\n",
      "Try using .loc[row_indexer,col_indexer] = value instead\n",
      "\n",
      "See the caveats in the documentation: https://pandas.pydata.org/pandas-docs/stable/user_guide/indexing.html#returning-a-view-versus-a-copy\n",
      "  df1['raster_sample'] = df2['SAMPLE_1']\n",
      "/var/folders/jv/qv3l5v7n0dl7fsfn92qt8k340000gn/T/ipykernel_59419/3838776444.py:20: SettingWithCopyWarning: \n",
      "A value is trying to be set on a copy of a slice from a DataFrame.\n",
      "Try using .loc[row_indexer,col_indexer] = value instead\n",
      "\n",
      "See the caveats in the documentation: https://pandas.pydata.org/pandas-docs/stable/user_guide/indexing.html#returning-a-view-versus-a-copy\n",
      "  df1['percent_diff'] = abs(df1[key] - df2['SAMPLE_1'])/df1[key]*100\n"
     ]
    },
    {
     "name": "stdout",
     "output_type": "stream",
     "text": [
      "number of concerning points: 0\n",
      "Empty DataFrame\n",
      "Columns: [lon, lat, SA(0.2)-0.002105, raster_sample, percent_diff]\n",
      "Index: []\n",
      "sa02_2475 rock SA(0.2)-0.000404\n"
     ]
    },
    {
     "name": "stderr",
     "output_type": "stream",
     "text": [
      "/var/folders/jv/qv3l5v7n0dl7fsfn92qt8k340000gn/T/ipykernel_59419/3838776444.py:19: SettingWithCopyWarning: \n",
      "A value is trying to be set on a copy of a slice from a DataFrame.\n",
      "Try using .loc[row_indexer,col_indexer] = value instead\n",
      "\n",
      "See the caveats in the documentation: https://pandas.pydata.org/pandas-docs/stable/user_guide/indexing.html#returning-a-view-versus-a-copy\n",
      "  df1['raster_sample'] = df2['SAMPLE_1']\n",
      "/var/folders/jv/qv3l5v7n0dl7fsfn92qt8k340000gn/T/ipykernel_59419/3838776444.py:20: SettingWithCopyWarning: \n",
      "A value is trying to be set on a copy of a slice from a DataFrame.\n",
      "Try using .loc[row_indexer,col_indexer] = value instead\n",
      "\n",
      "See the caveats in the documentation: https://pandas.pydata.org/pandas-docs/stable/user_guide/indexing.html#returning-a-view-versus-a-copy\n",
      "  df1['percent_diff'] = abs(df1[key] - df2['SAMPLE_1'])/df1[key]*100\n"
     ]
    },
    {
     "name": "stdout",
     "output_type": "stream",
     "text": [
      "number of concerning points: 0\n",
      "Empty DataFrame\n",
      "Columns: [lon, lat, SA(0.2)-0.000404, raster_sample, percent_diff]\n",
      "Index: []\n",
      "sa10_475 rock SA(1.0)-0.002105\n"
     ]
    },
    {
     "name": "stderr",
     "output_type": "stream",
     "text": [
      "/var/folders/jv/qv3l5v7n0dl7fsfn92qt8k340000gn/T/ipykernel_59419/3838776444.py:19: SettingWithCopyWarning: \n",
      "A value is trying to be set on a copy of a slice from a DataFrame.\n",
      "Try using .loc[row_indexer,col_indexer] = value instead\n",
      "\n",
      "See the caveats in the documentation: https://pandas.pydata.org/pandas-docs/stable/user_guide/indexing.html#returning-a-view-versus-a-copy\n",
      "  df1['raster_sample'] = df2['SAMPLE_1']\n",
      "/var/folders/jv/qv3l5v7n0dl7fsfn92qt8k340000gn/T/ipykernel_59419/3838776444.py:20: SettingWithCopyWarning: \n",
      "A value is trying to be set on a copy of a slice from a DataFrame.\n",
      "Try using .loc[row_indexer,col_indexer] = value instead\n",
      "\n",
      "See the caveats in the documentation: https://pandas.pydata.org/pandas-docs/stable/user_guide/indexing.html#returning-a-view-versus-a-copy\n",
      "  df1['percent_diff'] = abs(df1[key] - df2['SAMPLE_1'])/df1[key]*100\n"
     ]
    },
    {
     "name": "stdout",
     "output_type": "stream",
     "text": [
      "number of concerning points: 0\n",
      "Empty DataFrame\n",
      "Columns: [lon, lat, SA(1.0)-0.002105, raster_sample, percent_diff]\n",
      "Index: []\n",
      "sa10_2475 rock SA(1.0)-0.000404\n"
     ]
    },
    {
     "name": "stderr",
     "output_type": "stream",
     "text": [
      "/var/folders/jv/qv3l5v7n0dl7fsfn92qt8k340000gn/T/ipykernel_59419/3838776444.py:19: SettingWithCopyWarning: \n",
      "A value is trying to be set on a copy of a slice from a DataFrame.\n",
      "Try using .loc[row_indexer,col_indexer] = value instead\n",
      "\n",
      "See the caveats in the documentation: https://pandas.pydata.org/pandas-docs/stable/user_guide/indexing.html#returning-a-view-versus-a-copy\n",
      "  df1['raster_sample'] = df2['SAMPLE_1']\n",
      "/var/folders/jv/qv3l5v7n0dl7fsfn92qt8k340000gn/T/ipykernel_59419/3838776444.py:20: SettingWithCopyWarning: \n",
      "A value is trying to be set on a copy of a slice from a DataFrame.\n",
      "Try using .loc[row_indexer,col_indexer] = value instead\n",
      "\n",
      "See the caveats in the documentation: https://pandas.pydata.org/pandas-docs/stable/user_guide/indexing.html#returning-a-view-versus-a-copy\n",
      "  df1['percent_diff'] = abs(df1[key] - df2['SAMPLE_1'])/df1[key]*100\n"
     ]
    },
    {
     "name": "stdout",
     "output_type": "stream",
     "text": [
      "number of concerning points: 0\n",
      "Empty DataFrame\n",
      "Columns: [lon, lat, SA(1.0)-0.000404, raster_sample, percent_diff]\n",
      "Index: []\n",
      "pga_475 vs30 PGA-0.002105\n"
     ]
    },
    {
     "name": "stderr",
     "output_type": "stream",
     "text": [
      "/var/folders/jv/qv3l5v7n0dl7fsfn92qt8k340000gn/T/ipykernel_59419/3838776444.py:19: SettingWithCopyWarning: \n",
      "A value is trying to be set on a copy of a slice from a DataFrame.\n",
      "Try using .loc[row_indexer,col_indexer] = value instead\n",
      "\n",
      "See the caveats in the documentation: https://pandas.pydata.org/pandas-docs/stable/user_guide/indexing.html#returning-a-view-versus-a-copy\n",
      "  df1['raster_sample'] = df2['SAMPLE_1']\n",
      "/var/folders/jv/qv3l5v7n0dl7fsfn92qt8k340000gn/T/ipykernel_59419/3838776444.py:20: SettingWithCopyWarning: \n",
      "A value is trying to be set on a copy of a slice from a DataFrame.\n",
      "Try using .loc[row_indexer,col_indexer] = value instead\n",
      "\n",
      "See the caveats in the documentation: https://pandas.pydata.org/pandas-docs/stable/user_guide/indexing.html#returning-a-view-versus-a-copy\n",
      "  df1['percent_diff'] = abs(df1[key] - df2['SAMPLE_1'])/df1[key]*100\n"
     ]
    },
    {
     "name": "stdout",
     "output_type": "stream",
     "text": [
      "number of concerning points: 1\n",
      "            lon     lat  PGA-0.002105  raster_sample  percent_diff\n",
      "498943  79.4932  16.151      0.120783       0.094463     21.791471\n",
      "pga_2475 vs30 PGA-0.000404\n"
     ]
    },
    {
     "name": "stderr",
     "output_type": "stream",
     "text": [
      "/var/folders/jv/qv3l5v7n0dl7fsfn92qt8k340000gn/T/ipykernel_59419/3838776444.py:19: SettingWithCopyWarning: \n",
      "A value is trying to be set on a copy of a slice from a DataFrame.\n",
      "Try using .loc[row_indexer,col_indexer] = value instead\n",
      "\n",
      "See the caveats in the documentation: https://pandas.pydata.org/pandas-docs/stable/user_guide/indexing.html#returning-a-view-versus-a-copy\n",
      "  df1['raster_sample'] = df2['SAMPLE_1']\n",
      "/var/folders/jv/qv3l5v7n0dl7fsfn92qt8k340000gn/T/ipykernel_59419/3838776444.py:20: SettingWithCopyWarning: \n",
      "A value is trying to be set on a copy of a slice from a DataFrame.\n",
      "Try using .loc[row_indexer,col_indexer] = value instead\n",
      "\n",
      "See the caveats in the documentation: https://pandas.pydata.org/pandas-docs/stable/user_guide/indexing.html#returning-a-view-versus-a-copy\n",
      "  df1['percent_diff'] = abs(df1[key] - df2['SAMPLE_1'])/df1[key]*100\n"
     ]
    },
    {
     "name": "stdout",
     "output_type": "stream",
     "text": [
      "number of concerning points: 1\n",
      "            lon     lat  PGA-0.000404  raster_sample  percent_diff\n",
      "498943  79.4932  16.151      0.265717        0.21065      20.72423\n",
      "sa02_475 vs30 SA(0.2)-0.002105\n"
     ]
    },
    {
     "name": "stderr",
     "output_type": "stream",
     "text": [
      "/var/folders/jv/qv3l5v7n0dl7fsfn92qt8k340000gn/T/ipykernel_59419/3838776444.py:19: SettingWithCopyWarning: \n",
      "A value is trying to be set on a copy of a slice from a DataFrame.\n",
      "Try using .loc[row_indexer,col_indexer] = value instead\n",
      "\n",
      "See the caveats in the documentation: https://pandas.pydata.org/pandas-docs/stable/user_guide/indexing.html#returning-a-view-versus-a-copy\n",
      "  df1['raster_sample'] = df2['SAMPLE_1']\n",
      "/var/folders/jv/qv3l5v7n0dl7fsfn92qt8k340000gn/T/ipykernel_59419/3838776444.py:20: SettingWithCopyWarning: \n",
      "A value is trying to be set on a copy of a slice from a DataFrame.\n",
      "Try using .loc[row_indexer,col_indexer] = value instead\n",
      "\n",
      "See the caveats in the documentation: https://pandas.pydata.org/pandas-docs/stable/user_guide/indexing.html#returning-a-view-versus-a-copy\n",
      "  df1['percent_diff'] = abs(df1[key] - df2['SAMPLE_1'])/df1[key]*100\n"
     ]
    },
    {
     "name": "stdout",
     "output_type": "stream",
     "text": [
      "number of concerning points: 1\n",
      "            lon     lat  SA(0.2)-0.002105  raster_sample  percent_diff\n",
      "498943  79.4932  16.151          0.226829         0.1667     26.508597\n",
      "sa02_2475 vs30 SA(0.2)-0.000404\n"
     ]
    },
    {
     "name": "stderr",
     "output_type": "stream",
     "text": [
      "/var/folders/jv/qv3l5v7n0dl7fsfn92qt8k340000gn/T/ipykernel_59419/3838776444.py:19: SettingWithCopyWarning: \n",
      "A value is trying to be set on a copy of a slice from a DataFrame.\n",
      "Try using .loc[row_indexer,col_indexer] = value instead\n",
      "\n",
      "See the caveats in the documentation: https://pandas.pydata.org/pandas-docs/stable/user_guide/indexing.html#returning-a-view-versus-a-copy\n",
      "  df1['raster_sample'] = df2['SAMPLE_1']\n",
      "/var/folders/jv/qv3l5v7n0dl7fsfn92qt8k340000gn/T/ipykernel_59419/3838776444.py:20: SettingWithCopyWarning: \n",
      "A value is trying to be set on a copy of a slice from a DataFrame.\n",
      "Try using .loc[row_indexer,col_indexer] = value instead\n",
      "\n",
      "See the caveats in the documentation: https://pandas.pydata.org/pandas-docs/stable/user_guide/indexing.html#returning-a-view-versus-a-copy\n",
      "  df1['percent_diff'] = abs(df1[key] - df2['SAMPLE_1'])/df1[key]*100\n"
     ]
    },
    {
     "name": "stdout",
     "output_type": "stream",
     "text": [
      "number of concerning points: 2\n",
      "            lon     lat  SA(0.2)-0.000404  raster_sample  percent_diff\n",
      "498943  79.4932  16.151          0.474082       0.385990     18.581677\n",
      "652571  -2.4005  31.594          0.164141       0.181886     10.810987\n",
      "sa10_475 vs30 SA(1.0)-0.002105\n"
     ]
    },
    {
     "name": "stderr",
     "output_type": "stream",
     "text": [
      "/var/folders/jv/qv3l5v7n0dl7fsfn92qt8k340000gn/T/ipykernel_59419/3838776444.py:19: SettingWithCopyWarning: \n",
      "A value is trying to be set on a copy of a slice from a DataFrame.\n",
      "Try using .loc[row_indexer,col_indexer] = value instead\n",
      "\n",
      "See the caveats in the documentation: https://pandas.pydata.org/pandas-docs/stable/user_guide/indexing.html#returning-a-view-versus-a-copy\n",
      "  df1['raster_sample'] = df2['SAMPLE_1']\n",
      "/var/folders/jv/qv3l5v7n0dl7fsfn92qt8k340000gn/T/ipykernel_59419/3838776444.py:20: SettingWithCopyWarning: \n",
      "A value is trying to be set on a copy of a slice from a DataFrame.\n",
      "Try using .loc[row_indexer,col_indexer] = value instead\n",
      "\n",
      "See the caveats in the documentation: https://pandas.pydata.org/pandas-docs/stable/user_guide/indexing.html#returning-a-view-versus-a-copy\n",
      "  df1['percent_diff'] = abs(df1[key] - df2['SAMPLE_1'])/df1[key]*100\n"
     ]
    },
    {
     "name": "stdout",
     "output_type": "stream",
     "text": [
      "number of concerning points: 0\n",
      "Empty DataFrame\n",
      "Columns: [lon, lat, SA(1.0)-0.002105, raster_sample, percent_diff]\n",
      "Index: []\n",
      "sa10_2475 vs30 SA(1.0)-0.000404\n"
     ]
    },
    {
     "name": "stderr",
     "output_type": "stream",
     "text": [
      "/var/folders/jv/qv3l5v7n0dl7fsfn92qt8k340000gn/T/ipykernel_59419/3838776444.py:19: SettingWithCopyWarning: \n",
      "A value is trying to be set on a copy of a slice from a DataFrame.\n",
      "Try using .loc[row_indexer,col_indexer] = value instead\n",
      "\n",
      "See the caveats in the documentation: https://pandas.pydata.org/pandas-docs/stable/user_guide/indexing.html#returning-a-view-versus-a-copy\n",
      "  df1['raster_sample'] = df2['SAMPLE_1']\n",
      "/var/folders/jv/qv3l5v7n0dl7fsfn92qt8k340000gn/T/ipykernel_59419/3838776444.py:20: SettingWithCopyWarning: \n",
      "A value is trying to be set on a copy of a slice from a DataFrame.\n",
      "Try using .loc[row_indexer,col_indexer] = value instead\n",
      "\n",
      "See the caveats in the documentation: https://pandas.pydata.org/pandas-docs/stable/user_guide/indexing.html#returning-a-view-versus-a-copy\n",
      "  df1['percent_diff'] = abs(df1[key] - df2['SAMPLE_1'])/df1[key]*100\n"
     ]
    },
    {
     "name": "stdout",
     "output_type": "stream",
     "text": [
      "number of concerning points: 2\n",
      "            lon      lat  SA(1.0)-0.000404  raster_sample  percent_diff\n",
      "336505  83.2998  30.2432          0.195428       0.218162     11.632818\n",
      "498943  79.4932  16.1510          0.108479       0.071973     33.652106\n"
     ]
    },
    {
     "data": {
      "text/plain": [
       "<Figure size 432x288 with 0 Axes>"
      ]
     },
     "metadata": {},
     "output_type": "display_data"
    }
   ],
   "source": [
    "for sc in ['rock','vs30']:\n",
    "    for inst in instances:\n",
    "        if sc == 'rock':\n",
    "            fi1 = os.path.join(path_og,'v2022_1_{}.csv'.format(inst))\n",
    "            fi2 = os.path.join(path_extr,'{}_rock.csv'.format(inst))\n",
    "        elif sc == 'vs30':\n",
    "            fi1 = os.path.join(path_og,'vs30/v2022_1_{}_vs30.csv'.format(inst))\n",
    "            fi2 = os.path.join(path_extr,'{}_vs30.csv'.format(inst))\n",
    "        df1full = pd.read_csv(fi1, skiprows=1)\n",
    "        df2full = pd.read_csv(fi2, skiprows=0)\n",
    "        \n",
    "        # check 2: percentage difference when it's not zero\n",
    "        key = df1full.keys()[2]\n",
    "        \n",
    "        print(inst,sc, key)\n",
    "        df1 = df1full[df1full[key]!= 0] \n",
    "        df2 = df2full[df1full[key]!= 0] \n",
    "\n",
    "        df1['raster_sample'] = df2['SAMPLE_1']\n",
    "        df1['percent_diff'] = abs(df1[key] - df2['SAMPLE_1'])/df1[key]*100\n",
    "        \n",
    "        #selected_rows = df1[~df1['percent_diff'].isnull()]\n",
    "        plt.loglog(df1[key], df1.percent_diff,'.')\n",
    "        plt.loglog([0,1.75],[1,1],'r--',0.05,alpha=0.8)        \n",
    "        plt.loglog([0.01,0.01],[min(df1.percent_diff),max(df1.percent_diff)],'r--')\n",
    "        plt.xlabel('IML (g)')\n",
    "        plt.ylabel('%-diff (orig-raster)/orig*100')\n",
    "        name = inst+'-'+sc\n",
    "        plt.title(name)\n",
    "        plt.savefig(name+'.png')\n",
    "        plt.clf()\n",
    "        \n",
    "        df1sub = df1[abs(df1['percent_diff']) >= 1]\n",
    "        dfcp = df1sub[(df1sub.percent_diff>10) & (df1sub[key]>0.1)]\n",
    "        \n",
    "        print('number of concerning points: {}'.format(len(dfcp)))\n",
    "        print(dfcp)\n",
    "        df1sub.to_csv(name+'_diff_sub.csv')\n",
    "        "
   ]
  },
  {
   "cell_type": "code",
   "execution_count": 7,
   "id": "8cbe1eb1",
   "metadata": {},
   "outputs": [],
   "source": [
    "df1sub[(df1sub.percent_diff>10) & (df1sub[key]>0.1)].to_csv('sa02_2475_vs30_concerning-pts.csv',index=None)\n",
    "\n"
   ]
  },
  {
   "cell_type": "code",
   "execution_count": 10,
   "id": "5017a43b",
   "metadata": {},
   "outputs": [
    {
     "data": {
      "text/plain": [
       "<matplotlib.colorbar.Colorbar at 0x1234998b0>"
      ]
     },
     "execution_count": 10,
     "metadata": {},
     "output_type": "execute_result"
    },
    {
     "data": {
      "image/png": "[encoded data removed]",
      "text/plain": [
       "<Figure size 864x432 with 2 Axes>"
      ]
     },
     "metadata": {
      "needs_background": "light"
     },
     "output_type": "display_data"
    }
   ],
   "source": [
    "from matplotlib import pyplot as plt\n",
    "\n",
    "plt.figure(figsize=(12, 6))\n",
    "plt.scatter(df1sub.lon, df1sub.lat, s=100*df1sub[key], c=df1sub.percent_diff)\n",
    "#plt.scatter(df1.lon, df1.lat, c=df1.percent_diff)\n",
    "plt.colorbar(label='percentage difference')"
   ]
  },
  {
   "cell_type": "code",
   "execution_count": null,
   "id": "c8badc07",
   "metadata": {},
   "outputs": [],
   "source": []
  }
 ],
 "metadata": {
  "kernelspec": {
   "display_name": "Python 3 (ipykernel)",
   "language": "python",
   "name": "python3"
  },
  "language_info": {
   "codemirror_mode": {
    "name": "ipython",
    "version": 3
   },
   "file_extension": ".py",
   "mimetype": "text/x-python",
   "name": "python",
   "nbconvert_exporter": "python",
   "pygments_lexer": "ipython3",
   "version": "3.9.13"
  }
 },
 "nbformat": 4,
 "nbformat_minor": 5
}
