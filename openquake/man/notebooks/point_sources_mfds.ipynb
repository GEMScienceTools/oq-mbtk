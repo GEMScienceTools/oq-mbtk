{
 "cells": [
  {
   "cell_type": "markdown",
   "metadata": {},
   "source": [
    "# Point sources mfds"
   ]
  },
  {
   "cell_type": "code",
   "execution_count": null,
   "metadata": {},
   "outputs": [],
   "source": [
    "%matplotlib inline\n",
    "import re\n",
    "import os\n",
    "import sys\n",
    "import glob\n",
    "import numpy as np\n",
    "import matplotlib.pyplot as plt\n",
    "import matplotlib as mpl\n",
    "\n",
    "from matplotlib.path import Path\n",
    "from matplotlib.collections import PathCollection, PatchCollection\n",
    "\n",
    "sys.path.append('/Users/mpagani/Repos/original/oq-engine/')\n",
    "sys.path.append('/Users/mpagani/Repos/oq-man/')\n",
    "\n",
    "import oqman.man.model as model\n",
    "from oqman.man.single.sources import get_discrete_mfds\n",
    "\n",
    "from oqman.man.single.faults import get_lengths\n",
    "from openquake.hazardlib.const import TRT"
   ]
  },
  {
   "cell_type": "markdown",
   "metadata": {},
   "source": [
    "## Model to be analysed"
   ]
  },
  {
   "cell_type": "code",
   "execution_count": null,
   "metadata": {},
   "outputs": [],
   "source": [
    "path = '/Users/mpagani/Prj/2017/global_modelling/results/pkl/*.pkl'\n",
    "modell = set(['arm17'])\n",
    "modell = set(['am17a'])\n",
    "modell = set(['am17b'])\n",
    "modell = set(['am17c'])\n",
    "modell = set(['am17d'])"
   ]
  },
  {
   "cell_type": "markdown",
   "metadata": {},
   "source": [
    "## Read data for the different models"
   ]
  },
  {
   "cell_type": "code",
   "execution_count": null,
   "metadata": {},
   "outputs": [],
   "source": [
    "modd = {}\n",
    "for fname in glob.glob(path):\n",
    "    slist = re.split('\\.',  os.path.basename(fname)) \n",
    "    if re.search('[a-z]*[0-9]*\\.pkl', fname) and slist[0] in modell:\n",
    "        print (fname, end=' ')\n",
    "        mod, points, info, sidx = model.load(fname) \n",
    "        print ('done')\n",
    "        modd[slist[0]] = {'model': mod, 'info': info, 'points': points}\n",
    "print (modd.keys())"
   ]
  },
  {
   "cell_type": "markdown",
   "metadata": {},
   "source": [
    "## Plotting"
   ]
  },
  {
   "cell_type": "code",
   "execution_count": null,
   "metadata": {},
   "outputs": [],
   "source": [
    "fig = plt.figure(figsize=(10, 8))\n",
    "ax = fig.add_subplot(1, 1, 1)\n",
    "\n",
    "mpl.rcParams['xtick.labelsize'] = 12\n",
    "mpl.rcParams['ytick.labelsize'] = 12\n",
    "\n",
    "for key in sorted(modd.keys()):\n",
    "    print ('key: ',key)   \n",
    "    print ('')\n",
    "\n",
    "    ids = [s.source_id for s in modd[key]['points']]\n",
    "    mfds = get_discrete_mfds(modd[key]['points'])\n",
    "\n",
    "    paths = []\n",
    "    mmax = []\n",
    "    for mfd in mfds:\n",
    "        paths.append(Path(mfd.squeeze()))\n",
    "        mmax.append(max(mfd[:,0]))\n",
    "\n",
    "    cols = np.random.rand(len(mfds), 3)\n",
    "    paths_coll = PathCollection(paths, edgecolors=cols)\n",
    "    ax.add_collection(paths_coll)\n",
    "    plt.grid(which='both')\n",
    "    ax.autoscale()\n",
    "    plt.yscale('log')\n",
    "    plt.xlabel('Magnitude, m', fontsize=14)\n",
    "    plt.ylabel('Annual rate of occurrence, m', fontsize=14)\n",
    "    plt.title(key)\n",
    "    plt.ylim([1e-13, 1e-3])"
   ]
  },
  {
   "cell_type": "code",
   "execution_count": null,
   "metadata": {},
   "outputs": [],
   "source": [
    "fig=plt.figure(figsize=(8,6))\n",
    "bins = np.arange(5, 8, step=0.1)\n",
    "print (len(bins))\n",
    "\n",
    "his, _ = np.histogram(mmax, bins)\n",
    "imin = np.min(np.nonzero(his>0))\n",
    "imax = np.max(np.nonzero(his>0))\n",
    "\n",
    "# plotting histogram\n",
    "dlt = 1\n",
    "plt.bar(bins[imin:imax+dlt], \n",
    "        his[imin:imax+dlt]/float(sum(his[imin:imax+dlt])), \n",
    "        width=0.1,\n",
    "        edgecolor='black',\n",
    "        align='edge')\n",
    "plt.xlabel('Magnitude, m', fontsize=12)\n",
    "plt.grid(which='both')\n",
    "plt.title(key)\n",
    "plt.xlim([5.9, 7.5])\n",
    "plt.ylim([0.0, 1.0])"
   ]
  },
  {
   "cell_type": "code",
   "execution_count": null,
   "metadata": {},
   "outputs": [],
   "source": []
  }
 ],
 "metadata": {
  "kernelspec": {
   "display_name": "py35",
   "language": "python",
   "name": "py35"
  },
  "language_info": {
   "codemirror_mode": {
    "name": "ipython",
    "version": 3
   },
   "file_extension": ".py",
   "mimetype": "text/x-python",
   "name": "python",
   "nbconvert_exporter": "python",
   "pygments_lexer": "ipython3",
   "version": "3.5.4"
  },
  "toc": {
   "nav_menu": {},
   "number_sections": true,
   "sideBar": true,
   "skip_h1_title": true,
   "toc_cell": false,
   "toc_position": {},
   "toc_section_display": "block",
   "toc_window_display": true
  },
  "varInspector": {
   "cols": {
    "lenName": 16,
    "lenType": 16,
    "lenVar": 40
   },
   "kernels_config": {
    "python": {
     "delete_cmd_postfix": "",
     "delete_cmd_prefix": "del ",
     "library": "var_list.py",
     "varRefreshCmd": "print(var_dic_list())"
    },
    "r": {
     "delete_cmd_postfix": ") ",
     "delete_cmd_prefix": "rm(",
     "library": "var_list.r",
     "varRefreshCmd": "cat(var_dic_list()) "
    }
   },
   "types_to_exclude": [
    "module",
    "function",
    "builtin_function_or_method",
    "instance",
    "_Feature"
   ],
   "window_display": false
  }
 },
 "nbformat": 4,
 "nbformat_minor": 2
}
