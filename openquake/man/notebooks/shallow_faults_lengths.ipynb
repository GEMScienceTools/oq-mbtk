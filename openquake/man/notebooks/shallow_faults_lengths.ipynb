{
 "cells": [
  {
   "cell_type": "markdown",
   "metadata": {},
   "source": [
    "# Analyse shallow fault mfds"
   ]
  },
  {
   "cell_type": "code",
   "execution_count": null,
   "metadata": {},
   "outputs": [],
   "source": [
    "%matplotlib inline\n",
    "import re\n",
    "import os\n",
    "import sys\n",
    "import glob\n",
    "import numpy as np\n",
    "import matplotlib.pyplot as plt\n",
    "import matplotlib as mpl\n",
    "\n",
    "sys.path.append('/Users/mpagani/Repos/original/oq-engine/')\n",
    "sys.path.append('/Users/mpagani/Repos/oq-man/')\n",
    "\n",
    "import openquake.man.model as model\n",
    "\n",
    "from openquake.man.single.faults import get_lengths\n",
    "from openquake.hazardlib.const import TRT"
   ]
  },
  {
   "cell_type": "markdown",
   "metadata": {},
   "source": [
    "## List of models to be analysed"
   ]
  },
  {
   "cell_type": "code",
   "execution_count": null,
   "metadata": {},
   "outputs": [],
   "source": [
    "path = '/Users/mpagani/NC/Hazard_Charles/Documents/Presentations/2017/0417_SSA/notebooks/pkl/*.pkl'\n",
    "modell = set(['als07', 'aus12', 'ca10h', 'ca10r', 'cub03', 'ear16', 'em16a',\n",
    "              'em16f', 'emc15', 'lea02', 'nzl10', 'res12', 'sar16', 'sea07',\n",
    "              'soa10', 'twn15', 'usa08'])\n",
    "modell = set(['aus12', 'ca10h', 'ca10r', 'cub03', 'ear16', 'em16a',\n",
    "              'em16f', 'emc15', 'lea02', 'nzl10', 'res12', 'sar16', 'sea07',\n",
    "              'soa10', 'twn15', 'usa08'])\n",
    "#modell = set(['twn15'])\n",
    "#modell = set(['ca10r'])"
   ]
  },
  {
   "cell_type": "code",
   "execution_count": null,
   "metadata": {},
   "outputs": [],
   "source": [
    "#path = '/Users/mpagani/Prj/2017/global_modelling/results/pkl/*.pkl'\n",
    "#modell = set(['arm17', 'em16f'])"
   ]
  },
  {
   "cell_type": "markdown",
   "metadata": {},
   "source": [
    "## Read data for the different models"
   ]
  },
  {
   "cell_type": "code",
   "execution_count": null,
   "metadata": {},
   "outputs": [],
   "source": [
    "modd = {}\n",
    "for fname in glob.glob(path):\n",
    "    slist = re.split('\\.',  os.path.basename(fname)) \n",
    "    if re.search('[a-z]*[0-9]*\\.pkl', fname) and slist[0] in modell:\n",
    "        print (fname, end=' ')\n",
    "        mod, points, info, sidx = model.load(fname) \n",
    "        print ('done')\n",
    "        modd[slist[0]] = {'model': mod, 'info': info}"
   ]
  },
  {
   "cell_type": "markdown",
   "metadata": {},
   "source": [
    "## Plotting"
   ]
  },
  {
   "cell_type": "code",
   "execution_count": null,
   "metadata": {},
   "outputs": [],
   "source": [
    "fig = plt.figure(figsize=(10, 8))\n",
    "ax = fig.add_subplot(1, 1, 1)\n",
    "\n",
    "mpl.rcParams['xtick.labelsize'] = 14\n",
    "mpl.rcParams['ytick.labelsize'] = 14\n",
    "\n",
    "bins = np.logspace(0, 4, 17)\n",
    "\n",
    "cnt = 1\n",
    "lbls = []\n",
    "xs = []\n",
    "his = {}\n",
    "for key in sorted(modd.keys()):\n",
    "\n",
    "    print (key)\n",
    "\n",
    "    # Check if the model contains area sources\n",
    "    if ('SimpleFaultSource' in modd[key]['info']['srcs_mmax'] or \n",
    "        'CharacteristicFaultSource' in modd[key]['info']['srcs_mmax']):\n",
    "        print ('')\n",
    "        #print (key, modd[key]['info']['srcs_mmax']['SimpleFaultSource'])\n",
    "        print (set(modd[key]['info']['trt_mmax']))\n",
    "\n",
    "        #fltr = 'Stable Continental Crust|Stable Continental Region|Stable Shallow Crust'\n",
    "        fltr = 'Active Shallow Crust'\n",
    "        lend = get_lengths(modd[key]['model'], trt=fltr)\n",
    "        print (type(lend))\n",
    "\n",
    "        lenl = []\n",
    "        for _, val in lend.items():\n",
    "            lenl.append(val)\n",
    "\n",
    "        if len(lenl) > 1:\n",
    "            print (min(lenl), max(lenl))\n",
    "\n",
    "            his, _ = np.histogram(lenl, bins)\n",
    "            imin = np.min(np.nonzero(his>0))\n",
    "            imax = np.max(np.nonzero(his>0))\n",
    "\n",
    "            lbls.append(key)\n",
    "            xs.append(cnt)\n",
    "            plt.plot([cnt, cnt], [min(lenl), max(lenl)],\n",
    "                     linewidth=5, color='grey', alpha=.5)\n",
    "        \n",
    "            # plotting histogram\n",
    "            dlt = 1\n",
    "            plt.barh(bins[imin:imax+dlt], \n",
    "                     his[imin:imax+dlt]/float(sum(his[imin:imax+dlt])), \n",
    "                     height=np.diff(bins[imin:imax+2])*0.8, \n",
    "                     left=cnt+0.1, \n",
    "                     edgecolor='black',\n",
    "                     align='edge')\n",
    "            # updating counter\n",
    "            cnt += 1\n",
    "\n",
    "plt.yscale('log')\n",
    "plt.ylabel('Fault length [km]]', fontsize=14)\n",
    "plt.grid(linestyle='--')\n",
    "aa = plt.xticks(xs, lbls, rotation='vertical')"
   ]
  },
  {
   "cell_type": "code",
   "execution_count": null,
   "metadata": {},
   "outputs": [],
   "source": []
  }
 ],
 "metadata": {
  "kernelspec": {
   "display_name": "py35",
   "language": "python",
   "name": "py35"
  },
  "language_info": {
   "codemirror_mode": {
    "name": "ipython",
    "version": 3
   },
   "file_extension": ".py",
   "mimetype": "text/x-python",
   "name": "python",
   "nbconvert_exporter": "python",
   "pygments_lexer": "ipython3",
   "version": "3.5.3"
  }
 },
 "nbformat": 4,
 "nbformat_minor": 2
}
