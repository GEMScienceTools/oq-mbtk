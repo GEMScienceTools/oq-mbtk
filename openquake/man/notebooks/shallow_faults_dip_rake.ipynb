{
 "cells": [
  {
   "cell_type": "markdown",
   "metadata": {},
   "source": [
    "# Shallow fault dip Vs rake"
   ]
  },
  {
   "cell_type": "code",
   "execution_count": null,
   "metadata": {},
   "outputs": [],
   "source": [
    "%matplotlib inline\n",
    "import re\n",
    "import os\n",
    "import sys\n",
    "import glob\n",
    "import numpy as np\n",
    "import matplotlib.pyplot as plt\n",
    "import matplotlib as mpl\n",
    "\n",
    "sys.path.append('/Users/mpagani/Repos/original/oq-engine/')\n",
    "sys.path.append('/Users/mpagani/Repos/oq-man/')\n",
    "\n",
    "import oqman.man.model as model\n",
    "\n",
    "from oqman.man.single.faults import get_lengths\n",
    "from oqman.hazardlib.const import TRT\n",
    "\n",
    "from openquake.hazardlib.geo.surface import SimpleFaultSurface\n",
    "from openquake.hazardlib.source import SimpleFaultSource, CharacteristicFaultSource"
   ]
  },
  {
   "cell_type": "markdown",
   "metadata": {},
   "source": [
    "## List of models to be analysed"
   ]
  },
  {
   "cell_type": "code",
   "execution_count": null,
   "metadata": {},
   "outputs": [],
   "source": [
    "path = '/Users/mpagani/NC/Hazard_Charles/Documents/Presentations/2017/0417_SSA/notebooks/pkl/*.pkl'\n",
    "modell = set(['als07', 'aus12', 'ca10h', 'ca10r', 'cub03', 'ear16', 'em16a',\n",
    "              'em16f', 'emc15', 'lea02', 'nzl10', 'res12', 'sar16', 'sea07',\n",
    "              'soa10', 'twn15', 'usa08'])\n",
    "modell = set(['aus12', 'ca10h', 'ca10r', 'cub03', 'ear16', 'em16a',\n",
    "              'em16f', 'emc15', 'eu13f', 'lea02', 'nzl10', 'res12', 'sar16', 'sea07',\n",
    "              'soa10', 'twn15', 'usa08'])\n",
    "#modell = set(['twn15'])\n",
    "#modell = set(['ca10r'])"
   ]
  },
  {
   "cell_type": "code",
   "execution_count": null,
   "metadata": {},
   "outputs": [],
   "source": [
    "#path = '/Users/mpagani/Prj/2017/global_modelling/results/pkl/*.pkl'\n",
    "#modell = set(['arm17', 'em16f'])"
   ]
  },
  {
   "cell_type": "markdown",
   "metadata": {},
   "source": [
    "## Read data for the different models"
   ]
  },
  {
   "cell_type": "code",
   "execution_count": null,
   "metadata": {},
   "outputs": [],
   "source": [
    "modd = {}\n",
    "for fname in glob.glob(path):\n",
    "    slist = re.split('\\.',  os.path.basename(fname)) \n",
    "    if re.search('[a-z]*[0-9]*\\.pkl', fname) and slist[0] in modell:\n",
    "        print (fname, end=' ')\n",
    "        mod, points, info, sidx = model.load(fname) \n",
    "        print ('done')\n",
    "        modd[slist[0]] = {'model': mod, 'info': info}"
   ]
  },
  {
   "cell_type": "code",
   "execution_count": null,
   "metadata": {},
   "outputs": [],
   "source": [
    "def get_surface_from_sfs(src, mesh_spacing):\n",
    "    return SimpleFaultSurface.from_fault_data(src.fault_trace, \n",
    "                                              src.upper_seismogenic_depth,\n",
    "                                              src.lower_seismogenic_depth, \n",
    "                                              src.dip, mesh_spacing)"
   ]
  },
  {
   "cell_type": "markdown",
   "metadata": {},
   "source": [
    "## Plotting"
   ]
  },
  {
   "cell_type": "code",
   "execution_count": null,
   "metadata": {},
   "outputs": [],
   "source": [
    "fig = plt.figure(figsize=(10, 8))\n",
    "ax = fig.add_subplot(1, 1, 1)\n",
    "\n",
    "mpl.rcParams['xtick.labelsize'] = 14\n",
    "mpl.rcParams['ytick.labelsize'] = 14\n",
    "        \n",
    "#fltr = 'Stable Continental Crust|Stable Continental Region|Stable Shallow Crust'\n",
    "fltr = 'Active Shallow Crust'\n",
    "\n",
    "mesh_spacing = 2.\n",
    "src_types = (SimpleFaultSource, CharacteristicFaultSource)\n",
    "\n",
    "for key in sorted(modd.keys()):\n",
    "    print (key)\n",
    "\n",
    "    rake = []\n",
    "    dip = []\n",
    "\n",
    "    # Check if the model contains faults sources\n",
    "    if ('SimpleFaultSource' in modd[key]['info']['srcs_mmax'] or \n",
    "        'CharacteristicFaultSource' in modd[key]['info']['srcs_mmax']): \n",
    "\n",
    "        for src in modd[key]['model']:\n",
    "            srfc = None\n",
    "            if isinstance(src, SimpleFaultSource):\n",
    "                srfc = get_surface_from_sfs(src, mesh_spacing)\n",
    "            elif isinstance(src, CharacteristicFaultSource):\n",
    "                srfc = src.surface\n",
    "            if isinstance(src, src_types) and srfc is not None:\n",
    "                rake.append(src.rake)\n",
    "                dip.append(srfc.get_dip())\n",
    "        plt.plot(rake, dip, 'o')\n",
    "        \n",
    "plt.xlabel('Rake', fontsize=14)\n",
    "plt.ylabel('Dip', fontsize=14)\n",
    "plt.grid(linestyle='--')\n",
    "plt.xlim([-92, 92])"
   ]
  },
  {
   "cell_type": "code",
   "execution_count": null,
   "metadata": {},
   "outputs": [],
   "source": []
  }
 ],
 "metadata": {
  "kernelspec": {
   "display_name": "py35",
   "language": "python",
   "name": "py35"
  },
  "language_info": {
   "codemirror_mode": {
    "name": "ipython",
    "version": 3
   },
   "file_extension": ".py",
   "mimetype": "text/x-python",
   "name": "python",
   "nbconvert_exporter": "python",
   "pygments_lexer": "ipython3",
   "version": "3.5.4"
  },
  "toc": {
   "nav_menu": {},
   "number_sections": true,
   "sideBar": true,
   "skip_h1_title": true,
   "toc_cell": false,
   "toc_position": {},
   "toc_section_display": "block",
   "toc_window_display": true
  },
  "varInspector": {
   "cols": {
    "lenName": 16,
    "lenType": 16,
    "lenVar": 40
   },
   "kernels_config": {
    "python": {
     "delete_cmd_postfix": "",
     "delete_cmd_prefix": "del ",
     "library": "var_list.py",
     "varRefreshCmd": "print(var_dic_list())"
    },
    "r": {
     "delete_cmd_postfix": ") ",
     "delete_cmd_prefix": "rm(",
     "library": "var_list.r",
     "varRefreshCmd": "cat(var_dic_list()) "
    }
   },
   "types_to_exclude": [
    "module",
    "function",
    "builtin_function_or_method",
    "instance",
    "_Feature"
   ],
   "window_display": false
  }
 },
 "nbformat": 4,
 "nbformat_minor": 2
}
