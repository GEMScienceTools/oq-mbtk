{
 "cells": [
  {
   "cell_type": "markdown",
   "metadata": {},
   "source": [
    "# Interface top and bottom"
   ]
  },
  {
   "cell_type": "code",
   "execution_count": null,
   "metadata": {},
   "outputs": [],
   "source": [
    "%matplotlib inline\n",
    "import re\n",
    "import os\n",
    "import sys\n",
    "import glob\n",
    "import numpy as np\n",
    "import matplotlib.pyplot as plt\n",
    "import matplotlib as mpl\n",
    "\n",
    "sys.path.append('/Users/mpagani/Repos/original/oq-engine/')\n",
    "sys.path.append('/Users/mpagani/Repos/oq-man/')\n",
    "\n",
    "import oqman.man.model as model\n",
    "\n",
    "from oqman.man.single.faults import get_lengths\n",
    "from openquake.hazardlib.const import TRT\n",
    "\n",
    "from openquake.hazardlib.geo.surface import SimpleFaultSurface, ComplexFaultSurface\n",
    "from openquake.hazardlib.source import SimpleFaultSource, CharacteristicFaultSource, ComplexFaultSource"
   ]
  },
  {
   "cell_type": "markdown",
   "metadata": {},
   "source": [
    "## List of models to be analysed"
   ]
  },
  {
   "cell_type": "code",
   "execution_count": null,
   "metadata": {},
   "outputs": [],
   "source": [
    "path = '/Users/mpagani/NC/Hazard_Charles/Documents/Presentations/2017/0417_SSA/notebooks/pkl/*.pkl'\n",
    "modell = set(['als07', 'aus12', 'ca10h', 'ca10r', 'cub03', 'ear16', 'em16a',\n",
    "              'em16f', 'emc15', 'lea02', 'nzl10', 'res12', 'sar16', 'sea07',\n",
    "              'soa10', 'twn15', 'usa08'])\n",
    "modell = set(['als07', 'aus12', 'ca10h', 'ca10r', 'cub03', 'ear16', 'em16a',\n",
    "              'em16f', 'emc15', 'eu13f', 'lea02', 'nzl10', 'res12', 'sar16', 'sea07',\n",
    "              'soa10', 'twn15', 'usa08'])\n",
    "#modell = set(['twn15'])\n",
    "#modell = set(['ca10r'])"
   ]
  },
  {
   "cell_type": "code",
   "execution_count": null,
   "metadata": {},
   "outputs": [],
   "source": [
    "#path = '/Users/mpagani/Prj/2017/global_modelling/results/pkl/*.pkl'\n",
    "#modell = set(['arm17', 'em16f'])"
   ]
  },
  {
   "cell_type": "markdown",
   "metadata": {},
   "source": [
    "## Read data for the different models"
   ]
  },
  {
   "cell_type": "code",
   "execution_count": null,
   "metadata": {},
   "outputs": [],
   "source": [
    "modd = {}\n",
    "for fname in glob.glob(path):\n",
    "    slist = re.split('\\.',  os.path.basename(fname)) \n",
    "    if re.search('[a-z]*[0-9]*\\.pkl', fname) and slist[0] in modell:\n",
    "        print (fname, end=' ')\n",
    "        mod, points, info, sidx = model.load(fname) \n",
    "        print ('done')\n",
    "        modd[slist[0]] = {'model': mod, 'info': info}"
   ]
  },
  {
   "cell_type": "code",
   "execution_count": null,
   "metadata": {},
   "outputs": [],
   "source": [
    "def get_surface_from_sfs(src, mesh_spacing):\n",
    "    return SimpleFaultSurface.from_fault_data(src.fault_trace, \n",
    "                                              src.upper_seismogenic_depth,\n",
    "                                              src.lower_seismogenic_depth, \n",
    "                                              src.dip, mesh_spacing)"
   ]
  },
  {
   "cell_type": "code",
   "execution_count": null,
   "metadata": {},
   "outputs": [],
   "source": [
    "def get_surface_from_cfs(src, mesh_spacing):\n",
    "    return ComplexFaultSurface.from_fault_data(src.edges, mesh_spacing)"
   ]
  },
  {
   "cell_type": "markdown",
   "metadata": {},
   "source": [
    "## Plotting"
   ]
  },
  {
   "cell_type": "code",
   "execution_count": null,
   "metadata": {},
   "outputs": [],
   "source": [
    "fig = plt.figure(figsize=(10, 8))\n",
    "ax = fig.add_subplot(1, 1, 1)\n",
    "\n",
    "mpl.rcParams['xtick.labelsize'] = 14\n",
    "mpl.rcParams['ytick.labelsize'] = 14\n",
    "        \n",
    "trts = set(['Interface subduction zone', 'Subduction Interface'])\n",
    "mesh_spacing = 5\n",
    "\n",
    "cnt = 0\n",
    "for key in sorted(modd.keys()):\n",
    "    #\n",
    "    #\n",
    "    col = np.random.rand(3)\n",
    "    # Check if the model contains faults sources\n",
    "    mtrts = set(list(modd[key]['info']['trt_mmin'].keys()))\n",
    "    if mtrts & trts:\n",
    "        leg = True\n",
    "        for src in modd[key]['model']:\n",
    "            if set([src.tectonic_region_type]) & trts:\n",
    "                if isinstance(src, ComplexFaultSource):\n",
    "                    srfc = get_surface_from_cfs(src, mesh_spacing)\n",
    "                if isinstance(src, SimpleFaultSource):\n",
    "                    srfc = get_surface_from_sfs(src, mesh_spacing)\n",
    "                mesh = srfc.get_mesh()\n",
    "                mind = np.amin(mesh.depths)\n",
    "                maxd = np.amax(mesh.depths)\n",
    "                if leg: \n",
    "                    plt.plot([cnt, cnt],[mind, maxd], '-', linewidth=3, color=col, label=key)\n",
    "                    leg = False\n",
    "                else:\n",
    "                    plt.plot([cnt, cnt],[mind, maxd], '-', linewidth=3, color=col)\n",
    "                cnt += 1\n",
    "\n",
    "xlim = ax.get_xlim()\n",
    "plt.plot(xlim, [15, 15], '--')\n",
    "\n",
    "ax.axes.get_xaxis().set_ticks([])\n",
    "\n",
    "plt.legend()\n",
    "plt.ylabel('Depth [km]', fontsize=14)\n",
    "plt.grid(linestyle='--')"
   ]
  },
  {
   "cell_type": "code",
   "execution_count": null,
   "metadata": {},
   "outputs": [],
   "source": []
  }
 ],
 "metadata": {
  "kernelspec": {
   "display_name": "py35",
   "language": "python",
   "name": "py35"
  },
  "language_info": {
   "codemirror_mode": {
    "name": "ipython",
    "version": 3
   },
   "file_extension": ".py",
   "mimetype": "text/x-python",
   "name": "python",
   "nbconvert_exporter": "python",
   "pygments_lexer": "ipython3",
   "version": "3.5.4"
  },
  "toc": {
   "nav_menu": {},
   "number_sections": true,
   "sideBar": true,
   "skip_h1_title": true,
   "toc_cell": false,
   "toc_position": {},
   "toc_section_display": "block",
   "toc_window_display": true
  },
  "varInspector": {
   "cols": {
    "lenName": 16,
    "lenType": 16,
    "lenVar": 40
   },
   "kernels_config": {
    "python": {
     "delete_cmd_postfix": "",
     "delete_cmd_prefix": "del ",
     "library": "var_list.py",
     "varRefreshCmd": "print(var_dic_list())"
    },
    "r": {
     "delete_cmd_postfix": ") ",
     "delete_cmd_prefix": "rm(",
     "library": "var_list.r",
     "varRefreshCmd": "cat(var_dic_list()) "
    }
   },
   "types_to_exclude": [
    "module",
    "function",
    "builtin_function_or_method",
    "instance",
    "_Feature"
   ],
   "window_display": false
  }
 },
 "nbformat": 4,
 "nbformat_minor": 2
}
