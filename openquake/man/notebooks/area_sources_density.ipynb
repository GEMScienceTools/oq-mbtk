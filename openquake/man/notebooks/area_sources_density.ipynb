{
 "cells": [
  {
   "cell_type": "markdown",
   "metadata": {},
   "source": [
    "# Analyse area source density "
   ]
  },
  {
   "cell_type": "code",
   "execution_count": null,
   "metadata": {},
   "outputs": [],
   "source": [
    "%matplotlib inline\n",
    "import re\n",
    "import os\n",
    "import sys\n",
    "import glob\n",
    "import copy\n",
    "import numpy as np\n",
    "import matplotlib.pyplot as plt\n",
    "import matplotlib as mpl\n",
    "\n",
    "sys.path.append('/Users/mpagani/Repos/original/oq-engine/')\n",
    "sys.path.append('/Users/mpagani/Repos/oq-man/')\n",
    "sys.path.append('/Users/mpagani/Repos/model_building_tools/')\n",
    "\n",
    "import oqman.man.model as model\n",
    "from oqman.man.single.areas import get_rates_density\n",
    "\n",
    "from openquake.hazardlib.const import TRT\n",
    "\n",
    "from oqmbt.mfd_tools import EEvenlyDiscretizedMFD, get_evenlyDiscretizedMFD_from_truncatedGRMFD\n",
    "from openquake.hazardlib.mfd import TruncatedGRMFD"
   ]
  },
  {
   "cell_type": "markdown",
   "metadata": {},
   "source": [
    "## List of models to be analysed"
   ]
  },
  {
   "cell_type": "code",
   "execution_count": null,
   "metadata": {},
   "outputs": [],
   "source": [
    "path = './pkl/*.pkl'\n",
    "path = '/Users/mpagani/NC/Hazard_Charles/Documents/Presentations/2017/0417_SSA/notebooks/pkl/*.pkl'\n",
    "modell = set(['als07', 'aus12', 'ca10h', 'ca10r', 'cub03', 'eu13a', 'eu13f',\n",
    "              'eu13s', 'ear16', 'em16a', 'em16f', 'emc15', 'lea02', 'nzl10', \n",
    "              'res12', 'sar16', 'sea07', 'soa10', 'twn15', 'usa08'])\n",
    "modell = set(['aus12', 'ca10h', 'ca10r', 'cub03', 'eu13a', 'eu13f',\n",
    "              'eu13s', 'ear16', 'em16a', 'em16f', 'emc15', 'lea02', 'nzl10', \n",
    "              'res12', 'sar16', 'soa10', 'twn15'])\n",
    "#modell = set(['cub03'])"
   ]
  },
  {
   "cell_type": "markdown",
   "metadata": {},
   "source": [
    "## Read data for the different models"
   ]
  },
  {
   "cell_type": "code",
   "execution_count": null,
   "metadata": {},
   "outputs": [],
   "source": [
    "modd = {}\n",
    "for fname in glob.glob(path):\n",
    "    slist = re.split('\\.',  os.path.basename(fname))\n",
    "    if re.search('[a-z]*[0-9]*\\.pkl', fname) and slist[0] in modell:\n",
    "        print (fname, end=' ')\n",
    "        mod, point, info, sidx = model.load(fname)\n",
    "        print (len(mod), end=' ')\n",
    "        print ('done')\n",
    "        modd[slist[0]] = {'model': mod, 'info': info}"
   ]
  },
  {
   "cell_type": "code",
   "execution_count": null,
   "metadata": {},
   "outputs": [],
   "source": [
    "#\n",
    "# find unique names for sources\n",
    "unique_names = {}\n",
    "unique_ids = {}\n",
    "for key in ['eu13a', 'eu13f', 'eu13s', 'em16a', 'em16f']:\n",
    "    names = set([])\n",
    "    ids = {}\n",
    "    for i, src in enumerate(modd[key]['model']): \n",
    "        names = names | set([src.name])\n",
    "        if src.name in ids:\n",
    "            ids[src.name].append(i)\n",
    "        else:\n",
    "            ids[src.name] = [i]\n",
    "    unique_names[key] = names\n",
    "    unique_ids[key] = ids\n",
    "#\n",
    "# \n",
    "bin_width = 0.1\n",
    "for key in ['eu13a', 'eu13f', 'eu13s', 'em16a', 'em16f']:\n",
    "    names = set([])\n",
    "    ids = {}\n",
    "    sources = []\n",
    "    for name in unique_names[key]:\n",
    "        tocc = 0. \n",
    "        for i, ids in enumerate(unique_ids[key][name]):\n",
    "            #\n",
    "            # this is for checking purpouses\n",
    "            occ = np.array(modd[key]['model'][ids].mfd.get_annual_occurrence_rates())\n",
    "            ss = sum(occ[:,1]) \n",
    "            tocc += ss\n",
    "            #\n",
    "            # stacking the MFDs\n",
    "            if i == 0:\n",
    "                nmfd = EEvenlyDiscretizedMFD.from_mfd(modd[key]['model'][ids].mfd)\n",
    "            else:\n",
    "                tmfd = modd[key]['model'][ids].mfd\n",
    "                if isinstance(tmfd, TruncatedGRMFD):\n",
    "                    tmfd = get_evenlyDiscretizedMFD_from_truncatedGRMFD(tmfd, nmfd.bin_width)\n",
    "                nmfd.stack(tmfd)\n",
    "        # \n",
    "        # check that initial and final rates are the same\n",
    "        if abs(sum(np.array(nmfd.get_annual_occurrence_rates())[:,1]) - tocc) > 1e-10:\n",
    "            print ('warning: total rates do not match with sum of individual ones')\n",
    "        #\n",
    "        # creating the new source\n",
    "        src = copy.deepcopy(modd[key]['model'][ids])\n",
    "        src.mfd = nmfd\n",
    "        sources.append(src)\n",
    "    modd[key]['model'] = sources\n",
    "    print (key, len(sources))"
   ]
  },
  {
   "cell_type": "markdown",
   "metadata": {},
   "source": [
    "## Plotting"
   ]
  },
  {
   "cell_type": "code",
   "execution_count": null,
   "metadata": {},
   "outputs": [],
   "source": [
    "fig = plt.figure(figsize=(10, 8))\n",
    "ax = fig.add_subplot(1, 1, 1)\n",
    "\n",
    "mpl.rcParams['xtick.labelsize'] = 14\n",
    "mpl.rcParams['ytick.labelsize'] = 14\n",
    "\n",
    "bins = np.logspace(-10, -2, 17)\n",
    "\n",
    "print (bins)\n",
    "\n",
    "cnt = 1\n",
    "lbls = []\n",
    "xs = []\n",
    "his = {}\n",
    "mmint = 5.5\n",
    "for key in sorted(modd.keys()):\n",
    "    # Check if the model contains area sources\n",
    "    if 'AreaSource' in modd[key]['info']['srcs_mmax']:\n",
    "\n",
    "        print ('')\n",
    "        print (key, modd[key]['info']['srcs_mmax']['AreaSource'])\n",
    "        print (set(modd[key]['info']['trt_mmax']))\n",
    "\n",
    "        fltr = 'Stable Continental Crust|Stable Continental Region|Stable Shallow Crust|Cratonic|Non_cratonic'; sxx = 0.25\n",
    "        #fltr = 'Active Shallow Crust'; sxx = 0.35\n",
    "\n",
    "        dend = get_rates_density(modd[key]['model'], mmint=mmint, trt=fltr)\n",
    "        print ('Total number of sources {:d}'.format(len(modd[key]['model']))) \n",
    "        print ('Number of sources {:d}'.format(len(dend)))\n",
    "\n",
    "        dens = []\n",
    "\n",
    "        for _, value in dend.items():\n",
    "            dens.append(value)\n",
    "\n",
    "        if len(dens):\n",
    "            print (min(dens), max(dens))\n",
    "            his, _ = np.histogram(dens, bins)\n",
    "            print ('Histogram sum {:d}'.format(sum(his)))\n",
    "\n",
    "            imin = np.min(np.nonzero(his>0.))\n",
    "            imax = np.max(np.nonzero(his>0.))\n",
    "\n",
    "            lbls.append(key)\n",
    "            xs.append(cnt)\n",
    "            plt.plot([cnt, cnt], [min(dens), max(dens)],\n",
    "                     linewidth=5, color='grey', alpha=.5)\n",
    "        \n",
    "            # plotting histogram\n",
    "            dlt = 1\n",
    "            nrm = his[imin:imax+dlt]/float(sum(his[imin:imax+dlt]))\n",
    "\n",
    "            plt.barh(bins[imin:imax+dlt], \n",
    "                     nrm, \n",
    "                     height=np.diff(bins[imin:imax+2])*.85, \n",
    "                     left=cnt+0.1, \n",
    "                     edgecolor='black',\n",
    "                     align='edge')\n",
    "            smm = 0\n",
    "            for y, x, h in zip(bins[imin:imax+dlt], nrm, his[imin:imax+dlt]):\n",
    "                plt.text(cnt-sxx, y, '{0:>5d}'.format(h))\n",
    "                smm += h\n",
    "                print (smm, end=' ')\n",
    "            print ('')\n",
    "\n",
    "            # updating counter\n",
    "            cnt += 1\n",
    "\n",
    "ax.annotate('Min magnitude: {:.2f}'.format(mmint),\n",
    "            xycoords=\"axes fraction\",\n",
    "            xy=(0.02, 0.97))\n",
    "\n",
    "plt.yscale('log')\n",
    "plt.ylabel('Eqks rate [1/[km2*yr]]', fontsize=14)\n",
    "plt.grid(linestyle='--')\n",
    "plt.ylim([1e-10, 1e-2])\n",
    "aa = plt.xticks(xs, lbls, rotation='vertical')"
   ]
  },
  {
   "cell_type": "code",
   "execution_count": null,
   "metadata": {},
   "outputs": [],
   "source": []
  }
 ],
 "metadata": {
  "kernelspec": {
   "display_name": "py35",
   "language": "python",
   "name": "py35"
  },
  "language_info": {
   "codemirror_mode": {
    "name": "ipython",
    "version": 3
   },
   "file_extension": ".py",
   "mimetype": "text/x-python",
   "name": "python",
   "nbconvert_exporter": "python",
   "pygments_lexer": "ipython3",
   "version": "3.5.4"
  },
  "toc": {
   "nav_menu": {},
   "number_sections": true,
   "sideBar": true,
   "skip_h1_title": true,
   "toc_cell": false,
   "toc_position": {},
   "toc_section_display": "block",
   "toc_window_display": true
  },
  "varInspector": {
   "cols": {
    "lenName": 16,
    "lenType": 16,
    "lenVar": 40
   },
   "kernels_config": {
    "python": {
     "delete_cmd_postfix": "",
     "delete_cmd_prefix": "del ",
     "library": "var_list.py",
     "varRefreshCmd": "print(var_dic_list())"
    },
    "r": {
     "delete_cmd_postfix": ") ",
     "delete_cmd_prefix": "rm(",
     "library": "var_list.r",
     "varRefreshCmd": "cat(var_dic_list()) "
    }
   },
   "types_to_exclude": [
    "module",
    "function",
    "builtin_function_or_method",
    "instance",
    "_Feature"
   ],
   "window_display": false
  }
 },
 "nbformat": 4,
 "nbformat_minor": 2
}
