{
 "cells": [
  {
   "cell_type": "markdown",
   "metadata": {},
   "source": [
    "# Analyse area source density "
   ]
  },
  {
   "cell_type": "code",
   "execution_count": 2,
   "metadata": {},
   "outputs": [
    {
     "ename": "ModuleNotFoundError",
     "evalue": "No module named 'matplotlib'",
     "output_type": "error",
     "traceback": [
      "\u001b[31m---------------------------------------------------------------------------\u001b[39m",
      "\u001b[31mModuleNotFoundError\u001b[39m                       Traceback (most recent call last)",
      "\u001b[36mCell\u001b[39m\u001b[36m \u001b[39m\u001b[32mIn[2]\u001b[39m\u001b[32m, line 1\u001b[39m\n\u001b[32m----> \u001b[39m\u001b[32m1\u001b[39m \u001b[43mget_ipython\u001b[49m\u001b[43m(\u001b[49m\u001b[43m)\u001b[49m\u001b[43m.\u001b[49m\u001b[43mrun_line_magic\u001b[49m\u001b[43m(\u001b[49m\u001b[33;43m'\u001b[39;49m\u001b[33;43mmatplotlib\u001b[39;49m\u001b[33;43m'\u001b[39;49m\u001b[43m,\u001b[49m\u001b[43m \u001b[49m\u001b[33;43m'\u001b[39;49m\u001b[33;43minline\u001b[39;49m\u001b[33;43m'\u001b[39;49m\u001b[43m)\u001b[49m\n\u001b[32m      2\u001b[39m \u001b[38;5;28;01mimport\u001b[39;00m\u001b[38;5;250m \u001b[39m\u001b[34;01mre\u001b[39;00m\n\u001b[32m      3\u001b[39m \u001b[38;5;28;01mimport\u001b[39;00m\u001b[38;5;250m \u001b[39m\u001b[34;01mos\u001b[39;00m\n",
      "\u001b[36mFile \u001b[39m\u001b[32m~\\AppData\\Roaming\\Python\\Python312\\site-packages\\IPython\\core\\interactiveshell.py:2478\u001b[39m, in \u001b[36mInteractiveShell.run_line_magic\u001b[39m\u001b[34m(self, magic_name, line, _stack_depth)\u001b[39m\n\u001b[32m   2476\u001b[39m     kwargs[\u001b[33m'\u001b[39m\u001b[33mlocal_ns\u001b[39m\u001b[33m'\u001b[39m] = \u001b[38;5;28mself\u001b[39m.get_local_scope(stack_depth)\n\u001b[32m   2477\u001b[39m \u001b[38;5;28;01mwith\u001b[39;00m \u001b[38;5;28mself\u001b[39m.builtin_trap:\n\u001b[32m-> \u001b[39m\u001b[32m2478\u001b[39m     result = \u001b[43mfn\u001b[49m\u001b[43m(\u001b[49m\u001b[43m*\u001b[49m\u001b[43margs\u001b[49m\u001b[43m,\u001b[49m\u001b[43m \u001b[49m\u001b[43m*\u001b[49m\u001b[43m*\u001b[49m\u001b[43mkwargs\u001b[49m\u001b[43m)\u001b[49m\n\u001b[32m   2480\u001b[39m \u001b[38;5;66;03m# The code below prevents the output from being displayed\u001b[39;00m\n\u001b[32m   2481\u001b[39m \u001b[38;5;66;03m# when using magics with decorator @output_can_be_silenced\u001b[39;00m\n\u001b[32m   2482\u001b[39m \u001b[38;5;66;03m# when the last Python token in the expression is a ';'.\u001b[39;00m\n\u001b[32m   2483\u001b[39m \u001b[38;5;28;01mif\u001b[39;00m \u001b[38;5;28mgetattr\u001b[39m(fn, magic.MAGIC_OUTPUT_CAN_BE_SILENCED, \u001b[38;5;28;01mFalse\u001b[39;00m):\n",
      "\u001b[36mFile \u001b[39m\u001b[32m~\\AppData\\Roaming\\Python\\Python312\\site-packages\\IPython\\core\\magics\\pylab.py:103\u001b[39m, in \u001b[36mPylabMagics.matplotlib\u001b[39m\u001b[34m(self, line)\u001b[39m\n\u001b[32m     98\u001b[39m     \u001b[38;5;28mprint\u001b[39m(\n\u001b[32m     99\u001b[39m         \u001b[33m\"\u001b[39m\u001b[33mAvailable matplotlib backends: \u001b[39m\u001b[38;5;132;01m%s\u001b[39;00m\u001b[33m\"\u001b[39m\n\u001b[32m    100\u001b[39m         % _list_matplotlib_backends_and_gui_loops()\n\u001b[32m    101\u001b[39m     )\n\u001b[32m    102\u001b[39m \u001b[38;5;28;01melse\u001b[39;00m:\n\u001b[32m--> \u001b[39m\u001b[32m103\u001b[39m     gui, backend = \u001b[38;5;28;43mself\u001b[39;49m\u001b[43m.\u001b[49m\u001b[43mshell\u001b[49m\u001b[43m.\u001b[49m\u001b[43menable_matplotlib\u001b[49m\u001b[43m(\u001b[49m\u001b[43margs\u001b[49m\u001b[43m.\u001b[49m\u001b[43mgui\u001b[49m\u001b[43m)\u001b[49m\n\u001b[32m    104\u001b[39m     \u001b[38;5;28mself\u001b[39m._show_matplotlib_backend(args.gui, backend)\n",
      "\u001b[36mFile \u001b[39m\u001b[32m~\\AppData\\Roaming\\Python\\Python312\\site-packages\\IPython\\core\\interactiveshell.py:3634\u001b[39m, in \u001b[36mInteractiveShell.enable_matplotlib\u001b[39m\u001b[34m(self, gui)\u001b[39m\n\u001b[32m   3631\u001b[39m     \u001b[38;5;28;01mimport\u001b[39;00m\u001b[38;5;250m \u001b[39m\u001b[34;01mmatplotlib_inline\u001b[39;00m\u001b[34;01m.\u001b[39;00m\u001b[34;01mbackend_inline\u001b[39;00m\n\u001b[32m   3633\u001b[39m \u001b[38;5;28;01mfrom\u001b[39;00m\u001b[38;5;250m \u001b[39m\u001b[34;01mIPython\u001b[39;00m\u001b[34;01m.\u001b[39;00m\u001b[34;01mcore\u001b[39;00m\u001b[38;5;250m \u001b[39m\u001b[38;5;28;01mimport\u001b[39;00m pylabtools \u001b[38;5;28;01mas\u001b[39;00m pt\n\u001b[32m-> \u001b[39m\u001b[32m3634\u001b[39m gui, backend = \u001b[43mpt\u001b[49m\u001b[43m.\u001b[49m\u001b[43mfind_gui_and_backend\u001b[49m\u001b[43m(\u001b[49m\u001b[43mgui\u001b[49m\u001b[43m,\u001b[49m\u001b[43m \u001b[49m\u001b[38;5;28;43mself\u001b[39;49m\u001b[43m.\u001b[49m\u001b[43mpylab_gui_select\u001b[49m\u001b[43m)\u001b[49m\n\u001b[32m   3636\u001b[39m \u001b[38;5;28;01mif\u001b[39;00m gui != \u001b[38;5;28;01mNone\u001b[39;00m:\n\u001b[32m   3637\u001b[39m     \u001b[38;5;66;03m# If we have our first gui selection, store it\u001b[39;00m\n\u001b[32m   3638\u001b[39m     \u001b[38;5;28;01mif\u001b[39;00m \u001b[38;5;28mself\u001b[39m.pylab_gui_select \u001b[38;5;129;01mis\u001b[39;00m \u001b[38;5;28;01mNone\u001b[39;00m:\n",
      "\u001b[36mFile \u001b[39m\u001b[32m~\\AppData\\Roaming\\Python\\Python312\\site-packages\\IPython\\core\\pylabtools.py:338\u001b[39m, in \u001b[36mfind_gui_and_backend\u001b[39m\u001b[34m(gui, gui_select)\u001b[39m\n\u001b[32m    321\u001b[39m \u001b[38;5;28;01mdef\u001b[39;00m\u001b[38;5;250m \u001b[39m\u001b[34mfind_gui_and_backend\u001b[39m(gui=\u001b[38;5;28;01mNone\u001b[39;00m, gui_select=\u001b[38;5;28;01mNone\u001b[39;00m):\n\u001b[32m    322\u001b[39m \u001b[38;5;250m    \u001b[39m\u001b[33;03m\"\"\"Given a gui string return the gui and mpl backend.\u001b[39;00m\n\u001b[32m    323\u001b[39m \n\u001b[32m    324\u001b[39m \u001b[33;03m    Parameters\u001b[39;00m\n\u001b[32m   (...)\u001b[39m\u001b[32m    335\u001b[39m \u001b[33;03m    'WXAgg','Qt4Agg','module://matplotlib_inline.backend_inline','agg').\u001b[39;00m\n\u001b[32m    336\u001b[39m \u001b[33;03m    \"\"\"\u001b[39;00m\n\u001b[32m--> \u001b[39m\u001b[32m338\u001b[39m     \u001b[38;5;28;01mimport\u001b[39;00m\u001b[38;5;250m \u001b[39m\u001b[34;01mmatplotlib\u001b[39;00m\n\u001b[32m    340\u001b[39m     \u001b[38;5;28;01mif\u001b[39;00m _matplotlib_manages_backends():\n\u001b[32m    341\u001b[39m         backend_registry = matplotlib.backends.registry.backend_registry\n",
      "\u001b[31mModuleNotFoundError\u001b[39m: No module named 'matplotlib'"
     ]
    }
   ],
   "source": [
    "%matplotlib inline\n",
    "import re\n",
    "import os\n",
    "import sys\n",
    "import glob\n",
    "import copy\n",
    "import numpy as np\n",
    "import matplotlib.pyplot as plt\n",
    "import matplotlib as mpl\n",
    "\n",
    "sys.path.append('/Users/mpagani/Repos/original/oq-engine/')\n",
    "sys.path.append('/Users/mpagani/Repos/oq-man/')\n",
    "sys.path.append('/Users/mpagani/Repos/model_building_tools/')\n",
    "\n",
    "from openquake.hazardlib.const import TRT\n",
    "\n",
    "import oqman.man.checking_utils.source_model_utils as model\n",
    "from oqman.man.single_source_utils.areas_utils import get_rates_density\n",
    "from openquake.mbt.mfd_tools import EEvenlyDiscretizedMFD, get_evenlyDiscretizedMFD_from_truncatedGRMFD\n",
    "from openquake.hazardlib.mfd import TruncatedGRMFD"
   ]
  },
  {
   "cell_type": "markdown",
   "metadata": {},
   "source": [
    "## List of models to be analysed"
   ]
  },
  {
   "cell_type": "code",
   "execution_count": null,
   "metadata": {},
   "outputs": [],
   "source": [
    "path = './pkl/*.pkl'\n",
    "path = '/Users/mpagani/NC/Hazard_Charles/Documents/Presentations/2017/0417_SSA/notebooks/pkl/*.pkl'\n",
    "modell = set(['als07', 'aus12', 'ca10h', 'ca10r', 'cub03', 'eu13a', 'eu13f',\n",
    "              'eu13s', 'ear16', 'em16a', 'em16f', 'emc15', 'lea02', 'nzl10', \n",
    "              'res12', 'sar16', 'sea07', 'soa10', 'twn15', 'usa08'])\n",
    "modell = set(['aus12', 'ca10h', 'ca10r', 'cub03', 'eu13a', 'eu13f',\n",
    "              'eu13s', 'ear16', 'em16a', 'em16f', 'emc15', 'lea02', 'nzl10', \n",
    "              'res12', 'sar16', 'soa10', 'twn15'])\n",
    "#modell = set(['cub03'])"
   ]
  },
  {
   "cell_type": "markdown",
   "metadata": {},
   "source": [
    "## Read data for the different models"
   ]
  },
  {
   "cell_type": "code",
   "execution_count": null,
   "metadata": {},
   "outputs": [],
   "source": [
    "modd = {}\n",
    "for fname in glob.glob(path):\n",
    "    slist = re.split('\\.',  os.path.basename(fname))\n",
    "    if re.search('[a-z]*[0-9]*\\.pkl', fname) and slist[0] in modell:\n",
    "        print (fname, end=' ')\n",
    "        mod, point, info, sidx = model.load(fname)\n",
    "        print (len(mod), end=' ')\n",
    "        print ('done')\n",
    "        modd[slist[0]] = {'model': mod, 'info': info}"
   ]
  },
  {
   "cell_type": "code",
   "execution_count": null,
   "metadata": {},
   "outputs": [],
   "source": [
    "#\n",
    "# find unique names for sources\n",
    "unique_names = {}\n",
    "unique_ids = {}\n",
    "for key in ['eu13a', 'eu13f', 'eu13s', 'em16a', 'em16f']:\n",
    "    names = set([])\n",
    "    ids = {}\n",
    "    for i, src in enumerate(modd[key]['model']): \n",
    "        names = names | set([src.name])\n",
    "        if src.name in ids:\n",
    "            ids[src.name].append(i)\n",
    "        else:\n",
    "            ids[src.name] = [i]\n",
    "    unique_names[key] = names\n",
    "    unique_ids[key] = ids\n",
    "#\n",
    "# \n",
    "bin_width = 0.1\n",
    "for key in ['eu13a', 'eu13f', 'eu13s', 'em16a', 'em16f']:\n",
    "    names = set([])\n",
    "    ids = {}\n",
    "    sources = []\n",
    "    for name in unique_names[key]:\n",
    "        tocc = 0. \n",
    "        for i, ids in enumerate(unique_ids[key][name]):\n",
    "            #\n",
    "            # this is for checking purpouses\n",
    "            occ = np.array(modd[key]['model'][ids].mfd.get_annual_occurrence_rates())\n",
    "            ss = sum(occ[:,1]) \n",
    "            tocc += ss\n",
    "            #\n",
    "            # stacking the MFDs\n",
    "            if i == 0:\n",
    "                nmfd = EEvenlyDiscretizedMFD.from_mfd(modd[key]['model'][ids].mfd)\n",
    "            else:\n",
    "                tmfd = modd[key]['model'][ids].mfd\n",
    "                if isinstance(tmfd, TruncatedGRMFD):\n",
    "                    tmfd = get_evenlyDiscretizedMFD_from_truncatedGRMFD(tmfd, nmfd.bin_width)\n",
    "                nmfd.stack(tmfd)\n",
    "        # \n",
    "        # check that initial and final rates are the same\n",
    "        if abs(sum(np.array(nmfd.get_annual_occurrence_rates())[:,1]) - tocc) > 1e-10:\n",
    "            print ('warning: total rates do not match with sum of individual ones')\n",
    "        #\n",
    "        # creating the new source\n",
    "        src = copy.deepcopy(modd[key]['model'][ids])\n",
    "        src.mfd = nmfd\n",
    "        sources.append(src)\n",
    "    modd[key]['model'] = sources\n",
    "    print (key, len(sources))"
   ]
  },
  {
   "cell_type": "markdown",
   "metadata": {},
   "source": [
    "## Plotting"
   ]
  },
  {
   "cell_type": "code",
   "execution_count": null,
   "metadata": {},
   "outputs": [],
   "source": [
    "fig = plt.figure(figsize=(10, 8))\n",
    "ax = fig.add_subplot(1, 1, 1)\n",
    "\n",
    "mpl.rcParams['xtick.labelsize'] = 14\n",
    "mpl.rcParams['ytick.labelsize'] = 14\n",
    "\n",
    "bins = np.logspace(-10, -2, 17)\n",
    "\n",
    "print (bins)\n",
    "\n",
    "cnt = 1\n",
    "lbls = []\n",
    "xs = []\n",
    "his = {}\n",
    "mmint = 5.5\n",
    "for key in sorted(modd.keys()):\n",
    "    # Check if the model contains area sources\n",
    "    if 'AreaSource' in modd[key]['info']['srcs_mmax']:\n",
    "\n",
    "        print ('')\n",
    "        print (key, modd[key]['info']['srcs_mmax']['AreaSource'])\n",
    "        print (set(modd[key]['info']['trt_mmax']))\n",
    "\n",
    "        fltr = 'Stable Continental Crust|Stable Continental Region|Stable Shallow Crust|Cratonic|Non_cratonic'; sxx = 0.25\n",
    "        #fltr = 'Active Shallow Crust'; sxx = 0.35\n",
    "\n",
    "        dend = get_rates_density(modd[key]['model'], mmint=mmint, trt=fltr)\n",
    "        print ('Total number of sources {:d}'.format(len(modd[key]['model']))) \n",
    "        print ('Number of sources {:d}'.format(len(dend)))\n",
    "\n",
    "        dens = []\n",
    "\n",
    "        for _, value in dend.items():\n",
    "            dens.append(value)\n",
    "\n",
    "        if len(dens):\n",
    "            print (min(dens), max(dens))\n",
    "            his, _ = np.histogram(dens, bins)\n",
    "            print ('Histogram sum {:d}'.format(sum(his)))\n",
    "\n",
    "            imin = np.min(np.nonzero(his>0.))\n",
    "            imax = np.max(np.nonzero(his>0.))\n",
    "\n",
    "            lbls.append(key)\n",
    "            xs.append(cnt)\n",
    "            plt.plot([cnt, cnt], [min(dens), max(dens)],\n",
    "                     linewidth=5, color='grey', alpha=.5)\n",
    "        \n",
    "            # plotting histogram\n",
    "            dlt = 1\n",
    "            nrm = his[imin:imax+dlt]/float(sum(his[imin:imax+dlt]))\n",
    "\n",
    "            plt.barh(bins[imin:imax+dlt], \n",
    "                     nrm, \n",
    "                     height=np.diff(bins[imin:imax+2])*.85, \n",
    "                     left=cnt+0.1, \n",
    "                     edgecolor='black',\n",
    "                     align='edge')\n",
    "            smm = 0\n",
    "            for y, x, h in zip(bins[imin:imax+dlt], nrm, his[imin:imax+dlt]):\n",
    "                plt.text(cnt-sxx, y, '{0:>5d}'.format(h))\n",
    "                smm += h\n",
    "                print (smm, end=' ')\n",
    "            print ('')\n",
    "\n",
    "            # updating counter\n",
    "            cnt += 1\n",
    "\n",
    "ax.annotate('Min magnitude: {:.2f}'.format(mmint),\n",
    "            xycoords=\"axes fraction\",\n",
    "            xy=(0.02, 0.97))\n",
    "\n",
    "plt.yscale('log')\n",
    "plt.ylabel('Eqks rate [1/[km2*yr]]', fontsize=14)\n",
    "plt.grid(linestyle='--')\n",
    "plt.ylim([1e-10, 1e-2])\n",
    "aa = plt.xticks(xs, lbls, rotation='vertical')"
   ]
  },
  {
   "cell_type": "code",
   "execution_count": null,
   "metadata": {},
   "outputs": [],
   "source": []
  }
 ],
 "metadata": {
  "kernelspec": {
   "display_name": "Python 3",
   "language": "python",
   "name": "python3"
  },
  "language_info": {
   "codemirror_mode": {
    "name": "ipython",
    "version": 3
   },
   "file_extension": ".py",
   "mimetype": "text/x-python",
   "name": "python",
   "nbconvert_exporter": "python",
   "pygments_lexer": "ipython3",
   "version": "3.12.9"
  },
  "toc": {
   "nav_menu": {},
   "number_sections": true,
   "sideBar": true,
   "skip_h1_title": true,
   "toc_cell": false,
   "toc_position": {},
   "toc_section_display": "block",
   "toc_window_display": true
  },
  "varInspector": {
   "cols": {
    "lenName": 16,
    "lenType": 16,
    "lenVar": 40
   },
   "kernels_config": {
    "python": {
     "delete_cmd_postfix": "",
     "delete_cmd_prefix": "del ",
     "library": "var_list.py",
     "varRefreshCmd": "print(var_dic_list())"
    },
    "r": {
     "delete_cmd_postfix": ") ",
     "delete_cmd_prefix": "rm(",
     "library": "var_list.r",
     "varRefreshCmd": "cat(var_dic_list()) "
    }
   },
   "types_to_exclude": [
    "module",
    "function",
    "builtin_function_or_method",
    "instance",
    "_Feature"
   ],
   "window_display": false
  }
 },
 "nbformat": 4,
 "nbformat_minor": 2
}
