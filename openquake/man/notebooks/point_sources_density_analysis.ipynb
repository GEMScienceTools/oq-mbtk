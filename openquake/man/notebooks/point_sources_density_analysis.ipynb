{
 "cells": [
  {
   "cell_type": "markdown",
   "metadata": {},
   "source": [
    "# Analyse point source density "
   ]
  },
  {
   "cell_type": "code",
   "execution_count": null,
   "metadata": {},
   "outputs": [],
   "source": [
    "%matplotlib inline\n",
    "\n",
    "import re\n",
    "import os\n",
    "import sys\n",
    "import glob\n",
    "import pickle\n",
    "import numpy as np\n",
    "import matplotlib.pyplot as plt\n",
    "import matplotlib as mpl\n",
    "import oqman.man.model as model\n",
    "\n",
    "from oqman.man.single.areas import get_rates_density\n",
    "from oqman.man.single.points import get_rates_density\n",
    "from openquake.hazardlib.const import TRT"
   ]
  },
  {
   "cell_type": "markdown",
   "metadata": {},
   "source": [
    "## List of models to be analysed"
   ]
  },
  {
   "cell_type": "code",
   "execution_count": null,
   "metadata": {},
   "outputs": [],
   "source": [
    "path = '/Users/mpagani/NC/Hazard_Charles/Documents/Presentations/2017/0417_SSA/notebooks/pkl/*.pkl'\n",
    "modell = set(['als07', 'aus12', 'ca10h', 'ca10r', 'cub03', 'ear16', 'em16a',\n",
    "              'em16f', 'emc15', 'lea02', 'nzl10', 'res12', 'sar16', 'sea07',\n",
    "              'soa10', 'twn15', 'usa08'])\n",
    "#modell = set(['cub03'])\n",
    "#modell = set(['nzl10'])\n",
    "#modell = set(['usa08'])\n",
    "#modell = set(['als07'])\n",
    "modell = set(['nzl10'])"
   ]
  },
  {
   "cell_type": "code",
   "execution_count": null,
   "metadata": {},
   "outputs": [],
   "source": [
    "modd = {}\n",
    "for fname in glob.glob(path):\n",
    "    slist = re.split('\\.',  os.path.basename(fname))\n",
    "    if re.search('[a-z]*[0-9]*\\.pkl', fname) and slist[0] in modell:\n",
    "        print ('>>', fname, end=' ')\n",
    "        # Creating output filename \n",
    "        dname = os.path.dirname(fname)\n",
    "        slist = re.split('_', re.split('\\.',  os.path.basename(fname))[0])\n",
    "        outf = os.path.join(dname, '{0:s}_cellsize_sources.pkl'.format(slist[0]))\n",
    "        if os.path.exists(outf):\n",
    "            print ('loading ', outf)\n",
    "            fou = open(outf, 'rb')\n",
    "            csize = pickle.load(fou)\n",
    "            print (len(csize))\n",
    "            fou.close()\n",
    "            modd[slist[0]] = {'csize': csize}\n",
    "        else:\n",
    "            print ('skipping since file exists')"
   ]
  },
  {
   "cell_type": "markdown",
   "metadata": {},
   "source": [
    "## Read data for the different models"
   ]
  },
  {
   "cell_type": "code",
   "execution_count": null,
   "metadata": {},
   "outputs": [],
   "source": [
    "%%time\n",
    "for fname in glob.glob(path):\n",
    "    slist = re.split('\\.',  os.path.basename(fname))\n",
    "    if re.search('[a-z]*[0-9]*\\.pkl', fname) and slist[0] in modell:\n",
    "        print ('>>', fname, end=' ')\n",
    "        mod, point, info, sidx = model.load(fname)      \n",
    "        print (len(point), end=' ')\n",
    "        print ('done')\n",
    "        if slist[0] not in modd:\n",
    "            modd[slist[0]] = {}\n",
    "        modd[slist[0]]['model'] = mod\n",
    "        modd[slist[0]]['info'] = info\n",
    "        modd[slist[0]]['point'] = point\n",
    "        modd[slist[0]]['sidx'] = sidx"
   ]
  },
  {
   "cell_type": "markdown",
   "metadata": {},
   "source": [
    "## Plotting"
   ]
  },
  {
   "cell_type": "code",
   "execution_count": null,
   "metadata": {},
   "outputs": [],
   "source": [
    "fig = plt.figure(figsize=(10, 8))\n",
    "ax = fig.add_subplot(1, 1, 1)\n",
    "\n",
    "mpl.rcParams['xtick.labelsize'] = 14\n",
    "mpl.rcParams['ytick.labelsize'] = 14\n",
    "\n",
    "bins = np.logspace(-10, -2, 17)\n",
    "\n",
    "cnt = 1\n",
    "lbls = []\n",
    "xs = []\n",
    "his = {}\n",
    "\n",
    "for key in sorted(modd.keys()):\n",
    "    # Check if the model contains point sources\n",
    "    if 'PointSource' in modd[key]['info']['srcs_mmax']:\n",
    "        print ('>>>>>>>>', key)\n",
    "        \n",
    "        fltr = 'Active Shallow Crust'; sxx = 0.35\n",
    "        print (len(modd[key]['csize']))\n",
    "        areas = modd[key]['csize']\n",
    "\n",
    "        vals = []\n",
    "        for kkk in areas:\n",
    "            vals.append(areas[kkk])\n",
    "\n",
    "        print ('Cell sizes:', min(vals), max(vals))\n",
    "\n",
    "        point = modd[key]['point'] \n",
    "        sidx = modd[key]['sidx']\n",
    "\n",
    "        print ('Length of point dict', len(point))\n",
    "\n",
    "        dend, _ = get_rates_density(point, sidx, mmint=5.5, trt=fltr, area=areas)\n",
    "\n",
    "        dens = []\n",
    "        for _, value in dend.items():\n",
    "            dens.append(value)\n",
    "\n",
    "        print ('-- len of density points', len(dens))\n",
    "\n",
    "        his, _ = np.histogram(dens, bins)\n",
    "        print ('Density:', min(dens), max(dens))\n",
    "\n",
    "        imin = np.min(np.nonzero(his>0))\n",
    "        imax = np.max(np.nonzero(his>0))\n",
    "\n",
    "        lbls.append(key)\n",
    "        xs.append(cnt)\n",
    "        plt.plot([cnt, cnt], [min(dens), max(dens)],\n",
    "                  linewidth=5, color='grey', alpha=.5)\n",
    "        \n",
    "        # plotting histogram\n",
    "        dlt = 1\n",
    "        nrm = his[imin:imax+dlt]/float(sum(his[imin:imax+dlt]))\n",
    "\n",
    "        plt.barh(bins[imin:imax+dlt], \n",
    "                 nrm, \n",
    "                 height=np.diff(bins[imin:imax+2])*0.8, \n",
    "                 left=cnt+0.1, \n",
    "                 edgecolor='black',\n",
    "                 align='edge')\n",
    "\n",
    "        for y, x, h in zip(bins[imin:imax+dlt], nrm, his[imin:imax+dlt]):\n",
    "            plt.text(cnt-sxx, y, '{0:>5d}'.format(h))\n",
    "\n",
    "        # updating counter\n",
    "        cnt += 1\n",
    "\n",
    "plt.yscale('log')\n",
    "plt.ylabel('Eqks rate [1/[km2*yr]]', fontsize=14)\n",
    "plt.grid(linestyle='--')\n",
    "plt.ylim([1e-10, 1e-2])\n",
    "aa = plt.xticks(xs, lbls, rotation='vertical')"
   ]
  },
  {
   "cell_type": "code",
   "execution_count": null,
   "metadata": {},
   "outputs": [],
   "source": []
  },
  {
   "cell_type": "raw",
   "metadata": {},
   "source": [
    "import pickle\n",
    "fname = './pkl/als07_points.pkl'\n",
    "dname = os.path.dirname(fname)\n",
    "slist = re.split('\\.',  os.path.basename(fname))\n",
    "print (slist)\n",
    "print (dname)\n",
    "\n",
    "fou = os.path.join(dname, '{0:s}_dens_csze.pkl'.format(slist[0]))\n",
    "print (fou)\n",
    "\n",
    "dencsz = {'dens': dend, 'csze': csize}\n",
    "\n",
    "fou = open(fou, 'wb')\n",
    "pickle.dump(dencsz, fou)\n",
    "fou.close()\n",
    "print done"
   ]
  },
  {
   "cell_type": "markdown",
   "metadata": {},
   "source": [
    "##### "
   ]
  }
 ],
 "metadata": {
  "kernelspec": {
   "display_name": "py35",
   "language": "python",
   "name": "py35"
  },
  "language_info": {
   "codemirror_mode": {
    "name": "ipython",
    "version": 3
   },
   "file_extension": ".py",
   "mimetype": "text/x-python",
   "name": "python",
   "nbconvert_exporter": "python",
   "pygments_lexer": "ipython3",
   "version": "3.5.4"
  },
  "toc": {
   "nav_menu": {},
   "number_sections": true,
   "sideBar": true,
   "skip_h1_title": true,
   "toc_cell": false,
   "toc_position": {},
   "toc_section_display": "block",
   "toc_window_display": true
  },
  "varInspector": {
   "cols": {
    "lenName": 16,
    "lenType": 16,
    "lenVar": 40
   },
   "kernels_config": {
    "python": {
     "delete_cmd_postfix": "",
     "delete_cmd_prefix": "del ",
     "library": "var_list.py",
     "varRefreshCmd": "print(var_dic_list())"
    },
    "r": {
     "delete_cmd_postfix": ") ",
     "delete_cmd_prefix": "rm(",
     "library": "var_list.r",
     "varRefreshCmd": "cat(var_dic_list()) "
    }
   },
   "types_to_exclude": [
    "module",
    "function",
    "builtin_function_or_method",
    "instance",
    "_Feature"
   ],
   "window_display": false
  }
 },
 "nbformat": 4,
 "nbformat_minor": 2
}
