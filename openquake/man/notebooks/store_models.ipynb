{
 "cells": [
  {
   "cell_type": "code",
   "execution_count": null,
   "metadata": {},
   "outputs": [],
   "source": [
    "import os\n",
    "import sys\n",
    "import oqman.man.model as model"
   ]
  },
  {
   "cell_type": "raw",
   "metadata": {},
   "source": [
    "%%bash \n",
    "PTH=\"/Users/mpagani/Nextcloud/Hazard/Hazard_models_nrml/EUR13/SHARE_OQ_input_20140807/source_models/\"\n",
    "export PYTHONPATH=/Users/mpagani/Projects/original/oq-hazardlib/:/Users/mpagani/Projects/original/oq-engine/\n",
    "CMD=\"/Users/mpagani/Projects/original/oq-engine/openquake/engine/tools/correct_complex_sources.py\"\n",
    "python $CMD $PTH\"area_source_model.xml\"\n",
    "python $CMD $PTH\"faults_backg_source_model.xml\"\n",
    "python $CMD $PTH\"seifa_model.xml\""
   ]
  },
  {
   "cell_type": "code",
   "execution_count": null,
   "metadata": {},
   "outputs": [],
   "source": [
    "out_path = './pkl/'\n",
    "#out_path = '/Users/mpagani/Prj/2017/global_modelling/results/pkl'\n",
    "out_path = '/Users/mpagani/NC/Hazard_Charles/Documents/Presentations/2017/0417_SSA/notebooks/pkl'"
   ]
  },
  {
   "cell_type": "raw",
   "metadata": {},
   "source": [
    "path = '/Users/mpagani/Nextcloud/Hazard/Hazard_models_nrml/'\n",
    "modell = {}\n",
    "modell['AUS12'] = os.path.join(path,'AUS12/AUS12_v1_2/Australia_AUS12_v1.xml')\n",
    "modell['ALS07'] = os.path.join(path,'ALS07/ALS07_v1_1/Alaska_ALS07_v1.xml')\n",
    "modell['CA10r'] = os.path.join(path,'CAN10/canada_gsc_2010/oq_input/regional/Canada_GSC2005_regional.xml')\n",
    "modell['CA10h'] = os.path.join(path,'CAN10/canada_gsc_2010/oq_input/historical/Canada_GSC2005_historical.xml')\n",
    "modell['CUB03'] = os.path.join(path,'CUB03/CUB03_v1_0/Caribbean_CUB03_v1.xml')\n",
    "modell['EAR16'] = os.path.join(path,'EAR16/ear16_sm_1.0.0.xml')\n",
    "modell['EMC15'] = os.path.join(path,'EMC15/EMC15_v1_0/EMC_seismozonesv1.0.xml')\n",
    "modell['EM16f'] = os.path.join(path,'EMM15/EMM15_v1.0.0/emme_fs_2015.xml')\n",
    "modell['EM16a'] = os.path.join(path,'EMM15/EMM15_v1.0.0/emme_as_2015.xml')\n",
    "modell['LEA02'] = os.path.join(path,'LEA02/LEA02_v1_1/Caribbean_LEA02_v1.xml')\n",
    "modell['NZL10'] = os.path.join(path,'NZL10/nnz.xml')\n",
    "modell['RES12'] = os.path.join(path,'RES12/RES12_v1_1/Central_America_RES12_v1.xml')\n",
    "modell['SAR16'] = os.path.join(path,'SAR16/SAR16_v_1_0/sara_source_model.xml')\n",
    "modell['SEA07'] = os.path.join(path,'SEA07/SEA07_v1_0/South_East_Asia_SEA07_v1.xml')\n",
    "modell['SOA10'] = os.path.join(path,'SOA10/South_America_SOA10_v1_1/South_America_SOA10_v1.xml')\n",
    "modell['TWN15'] = os.path.join(path,'TWN15/TWN15_v1_0/taiwan_source_model-151111.xml')\n",
    "modell['USA08'] = os.path.join(path,'USA08/USA08_v1_0/Conterminous_U_S_USA08_v1.xml')\n",
    "#modell['USA14'] = os.path.join(path,'USA08/USA08_v1_0/Conterminous_U_S_USA08_v1.xml')"
   ]
  },
  {
   "cell_type": "raw",
   "metadata": {},
   "source": [
    "modell = {}\n",
    "modell['NZL10'] = os.path.join(path,'NZL10/nnz.xml')"
   ]
  },
  {
   "cell_type": "raw",
   "metadata": {},
   "source": [
    "modell = {}\n",
    "modell['SAR16'] = os.path.join(path,'SAR16/SAR16_v_1_0/sara_source_model.xml')"
   ]
  },
  {
   "cell_type": "raw",
   "metadata": {},
   "source": [
    "path = '/Users/mpagani/GDrive/20170508_armenia/04_Armenia/src/20170605_from_air_v16/'\n",
    "modell = {}\n",
    "modell['ARM17'] = [os.path.join(path,'faults_v16.xml'),\n",
    "                   os.path.join(path,'Layer0_v16.xml'),\n",
    "                   os.path.join(path,'Layer1_v16.xml'),\n",
    "                   os.path.join(path,'Layer2_v16.xml'),\n",
    "                   os.path.join(path,'Layer3_v16.xml')]\n",
    "modell['AM17f'] = [os.path.join(path,'faults_v16.xml')]\n",
    "modell['AM17a'] = [os.path.join(path,'Layer0_v16.xml')]\n",
    "modell['AM17b'] = [os.path.join(path,'Layer1_v16.xml')]\n",
    "modell['AM17c'] = [os.path.join(path,'Layer2_v16.xml')]\n",
    "modell['AM17d'] = [os.path.join(path,'Layer3_v16.xml')]"
   ]
  },
  {
   "cell_type": "code",
   "execution_count": null,
   "metadata": {},
   "outputs": [],
   "source": [
    "modell = {}\n",
    "path = '/Users/mpagani/NC/Hazard_Charles/Hazard_models_nrml/EUR13/SHARE_OQ_input_20140807/source_models'\n",
    "modell['EU13f'] = [os.path.join(path,'faults_backg_source_model.xml')]\n",
    "modell['EU13a'] = [os.path.join(path,'area_source_model.xml')]\n",
    "modell['EU13s'] = [os.path.join(path,'seifa_model.xml')]"
   ]
  },
  {
   "cell_type": "code",
   "execution_count": null,
   "metadata": {},
   "outputs": [],
   "source": [
    "for key in sorted(modell.keys()):\n",
    "    outf = os.path.join(out_path, key.lower() + '.pkl')\n",
    "    print (outf)\n",
    "    if not os.path.exists(outf):\n",
    "        print (key)\n",
    "        mddl = []\n",
    "        for tmps in modell[key]:\n",
    "            print (tmps)\n",
    "            mdl, info = model.read(tmps)\n",
    "            print ('  adding:', tmps)\n",
    "            mddl.extend(mdl)\n",
    "        model.storeNew(outf, mddl, info=info) \n",
    "        print ('done')\n",
    "    else: \n",
    "        print (key, 'skipping')\n",
    "print ('--')"
   ]
  },
  {
   "cell_type": "code",
   "execution_count": null,
   "metadata": {},
   "outputs": [],
   "source": []
  }
 ],
 "metadata": {
  "kernelspec": {
   "display_name": "py35",
   "language": "python",
   "name": "py35"
  },
  "language_info": {
   "codemirror_mode": {
    "name": "ipython",
    "version": 3
   },
   "file_extension": ".py",
   "mimetype": "text/x-python",
   "name": "python",
   "nbconvert_exporter": "python",
   "pygments_lexer": "ipython3",
   "version": "3.5.4"
  },
  "toc": {
   "nav_menu": {},
   "number_sections": true,
   "sideBar": true,
   "skip_h1_title": true,
   "toc_cell": false,
   "toc_position": {},
   "toc_section_display": "block",
   "toc_window_display": true
  },
  "varInspector": {
   "cols": {
    "lenName": 16,
    "lenType": 16,
    "lenVar": 40
   },
   "kernels_config": {
    "python": {
     "delete_cmd_postfix": "",
     "delete_cmd_prefix": "del ",
     "library": "var_list.py",
     "varRefreshCmd": "print(var_dic_list())"
    },
    "r": {
     "delete_cmd_postfix": ") ",
     "delete_cmd_prefix": "rm(",
     "library": "var_list.r",
     "varRefreshCmd": "cat(var_dic_list()) "
    }
   },
   "types_to_exclude": [
    "module",
    "function",
    "builtin_function_or_method",
    "instance",
    "_Feature"
   ],
   "window_display": false
  }
 },
 "nbformat": 4,
 "nbformat_minor": 2
}
