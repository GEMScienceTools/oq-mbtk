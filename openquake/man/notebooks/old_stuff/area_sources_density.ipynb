{
 "cells": [
  {
   "cell_type": "markdown",
   "metadata": {},
   "source": [
    "# Analysis of earthquake density per tectonic region"
   ]
  },
  {
   "cell_type": "code",
   "execution_count": null,
   "metadata": {},
   "outputs": [],
   "source": [
    "%matplotlib inline\n",
    "import sys\n",
    "import numpy as np\n",
    "import matplotlib.pyplot as plt\n",
    "sys.path.append('/Users/mpagani/Projects/original/oq-engine/')\n",
    "sys.path.append('/Users/mpagani/Projects/oq-man/')\n",
    "\n",
    "from openquake.man.model import read\n",
    "from openquake.man.single.areas import _get_area\n",
    "from shapely.wkt import loads\n",
    "from openquake.hazardlib.source.area import AreaSource"
   ]
  },
  {
   "cell_type": "code",
   "execution_count": null,
   "metadata": {},
   "outputs": [],
   "source": [
    "modeln = './../../data/xml/EOS_SEAsia.xml'\n",
    "sm = read(modeln)"
   ]
  },
  {
   "cell_type": "code",
   "execution_count": null,
   "metadata": {},
   "outputs": [],
   "source": [
    "dat_as = {}\n",
    "for src in sm:\n",
    "    if isinstance(src, AreaSource):\n",
    "        rtes = src.mfd.get_annual_occurrence_rates()\n",
    "        mmin, mmax = src.mfd.get_min_max_mag()\n",
    "        area = _get_area(loads(src.polygon.wkt))\n",
    "        dat_as[src.source_id] = {'mmax': mmax, 'area': area, 'rtes': rtes, 'src': src}"
   ]
  },
  {
   "cell_type": "code",
   "execution_count": null,
   "metadata": {},
   "outputs": [],
   "source": [
    "def plot_eqk_density_hist(srcs):\n",
    "    \"\"\"\n",
    "    \"\"\"\n",
    "    dens = []\n",
    "    ares = []\n",
    "    dtrt = {}\n",
    "    srctr = {}\n",
    "\n",
    "    for src in srcs:\n",
    "\n",
    "        if isinstance(src, AreaSource):\n",
    "            trte = sum([rte[1] for rte in src.mfd.get_annual_occurrence_rates()])\n",
    "            area = _get_area(loads(src.polygon.wkt))\n",
    "            dens.append(trte/area)\n",
    "            trt = src.tectonic_region_type\n",
    "            if trt in dtrt:\n",
    "                dtrt[trt].append(trte/area) \n",
    "                srctr[trt] += 1\n",
    "            else: \n",
    "                dtrt[trt] = [trte/area]\n",
    "                srctr[trt] = 1\n",
    "\n",
    "    bins = np.logspace(-8, -3, num=20)\n",
    "    hist, bin_edges = np.histogram(dens, bins=bins)\n",
    "    #hist, bin_edges = np.histogram(dens)\n",
    "    fig = plt.figure(figsize=(8, 6))\n",
    "    ax = fig.add_subplot(1, 1, 1)\n",
    "    plt.hist(dens, bins=bin_edges) \n",
    "    plt.xlabel(r'Seismicity density, [eqks/(yr*sqkm)]')\n",
    "    plt.grid(which='both', linestyle='--')\n",
    "    plt.xscale('log')\n",
    "    plt.title('All')\n",
    "\n",
    "    for trt in sorted(dtrt.keys()):\n",
    "        hist, bin_edges = np.histogram(dtrt[trt], bins=bin_edges)\n",
    "        fig = plt.figure(figsize=(8, 6))\n",
    "        ax = fig.add_subplot(1, 1, 1)\n",
    "        plt.hist(dtrt[trt], bins=bin_edges) \n",
    "        plt.xlabel(r'Seismicity density, [eqks/(yr*sqkm)]')\n",
    "        plt.grid(which='both', linestyle='--')\n",
    "        plt.xscale('log')\n",
    "        plt.title(trt)\n",
    "        print '{0:20s} {1:4d} {2:9.4e} {3:9.4e}'.format(trt, sum(hist), min(dtrt[trt]), max(dtrt[trt]))\n",
    "\n",
    "    for key in srctr:\n",
    "        print (key, srctr[key])"
   ]
  },
  {
   "cell_type": "code",
   "execution_count": null,
   "metadata": {},
   "outputs": [],
   "source": [
    "plot_eqk_density_hist(sm)"
   ]
  },
  {
   "cell_type": "code",
   "execution_count": null,
   "metadata": {},
   "outputs": [],
   "source": []
  },
  {
   "cell_type": "code",
   "execution_count": null,
   "metadata": {},
   "outputs": [],
   "source": []
  }
 ],
 "metadata": {
  "kernelspec": {
   "display_name": "Python 2",
   "language": "python",
   "name": "python2"
  },
  "language_info": {
   "codemirror_mode": {
    "name": "ipython",
    "version": 2
   },
   "file_extension": ".py",
   "mimetype": "text/x-python",
   "name": "python",
   "nbconvert_exporter": "python",
   "pygments_lexer": "ipython2",
   "version": "2.7.13"
  }
 },
 "nbformat": 4,
 "nbformat_minor": 2
}
