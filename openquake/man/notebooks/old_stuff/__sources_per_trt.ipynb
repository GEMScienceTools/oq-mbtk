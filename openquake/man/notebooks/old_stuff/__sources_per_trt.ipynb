{
 "cells": [
  {
   "cell_type": "markdown",
   "metadata": {
    "deletable": true,
    "editable": true
   },
   "source": [
    "# Sources per TRT"
   ]
  },
  {
   "cell_type": "code",
   "execution_count": null,
   "metadata": {
    "deletable": true,
    "editable": true
   },
   "outputs": [],
   "source": [
    "%matplotlib inline\n",
    "import re\n",
    "import sys\n",
    "import numpy as np\n",
    "import matplotlib.pyplot as plt\n",
    "sys.path.append('/Users/mpagani/Projects/original/oq-hazardlib/')\n",
    "sys.path.append('/Users/mpagani/Projects/original/oq-engine/')\n",
    "from utils_model import read_model, get_area\n",
    "from shapely.wkt import loads\n",
    "from openquake.hazardlib.source.area import AreaSource"
   ]
  },
  {
   "cell_type": "code",
   "execution_count": null,
   "metadata": {
    "deletable": true,
    "editable": true
   },
   "outputs": [],
   "source": [
    "modeln = './../../data/xml/emca_as.xml'\n",
    "modeln = './../../data/xml/emme_as_2015.xml'\n",
    "modeln = './../../data/xml/emme_fs_2015.xml'\n",
    "#modeln = './../../data/xml/EOS_SEAsia.xml'\n",
    "sm = read_model(modeln)"
   ]
  },
  {
   "cell_type": "code",
   "execution_count": null,
   "metadata": {
    "deletable": true,
    "editable": true
   },
   "outputs": [],
   "source": [
    "data = {}\n",
    "nums = {}\n",
    "mfds = {}\n",
    "msrs = {}\n",
    "trts = set()\n",
    "for src in sm:\n",
    "    stype = type(src)\n",
    "    trts = trts | set([src.tectonic_region_type])\n",
    "    if stype in data:\n",
    "        nums[stype] += 1\n",
    "        data[stype] = data[stype] | set([src.tectonic_region_type])\n",
    "        mfds[stype] = mfds[stype] | set([type(src.mfd)])\n",
    "        msrs[stype] = msrs[stype] | set([type(src.magnitude_scaling_relationship)])\n",
    "    else:\n",
    "        nums[stype] = 1\n",
    "        data[stype] = set([src.tectonic_region_type])\n",
    "        mfds[stype] = set([type(src.mfd)])\n",
    "        msrs[stype] = set([type(src.magnitude_scaling_relationship)])\n",
    "print trts"
   ]
  },
  {
   "cell_type": "code",
   "execution_count": null,
   "metadata": {
    "deletable": true,
    "editable": true
   },
   "outputs": [],
   "source": [
    "for srct in data.keys():\n",
    "    print ('{0:s}'.format(srct))\n",
    "    print ('Number of sources: {0:d}'.format(nums[srct]))\n",
    "    print ('  TRTs')\n",
    "    for trt in list(data[srct]):\n",
    "        print ('    - {0:s}'.format(trt))\n",
    "    print '  MFDs'\n",
    "    for trt in mfds[srct]:\n",
    "        print ('    - {0:s}'.format(trt))\n",
    "    print '  MSRs'\n",
    "    for trt in msrs[srct]:\n",
    "        print ('    - {0:s}'.format(trt))\n",
    "    print ''"
   ]
  },
  {
   "cell_type": "code",
   "execution_count": null,
   "metadata": {
    "deletable": true,
    "editable": true
   },
   "outputs": [],
   "source": []
  }
 ],
 "metadata": {
  "kernelspec": {
   "display_name": "Python 2",
   "language": "python",
   "name": "python2"
  },
  "language_info": {
   "codemirror_mode": {
    "name": "ipython",
    "version": 2
   },
   "file_extension": ".py",
   "mimetype": "text/x-python",
   "name": "python",
   "nbconvert_exporter": "python",
   "pygments_lexer": "ipython2",
   "version": "2.7.13"
  }
 },
 "nbformat": 4,
 "nbformat_minor": 2
}
