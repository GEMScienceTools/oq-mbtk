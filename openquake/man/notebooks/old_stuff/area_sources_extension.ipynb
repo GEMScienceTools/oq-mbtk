{
 "cells": [
  {
   "cell_type": "markdown",
   "metadata": {},
   "source": [
    "# Analysis of the extension of area sources for different models"
   ]
  },
  {
   "cell_type": "code",
   "execution_count": null,
   "metadata": {},
   "outputs": [],
   "source": [
    "%matplotlib inline\n",
    "import sys\n",
    "import numpy as np\n",
    "import matplotlib.pyplot as plt\n",
    "sys.path.append('/Users/mpagani/Projects/original/oq-hazardlib/')\n",
    "sys.path.append('/Users/mpagani/Projects/original/oq-engine/')\n",
    "from utils_model import read_model, get_area\n",
    "from shapely.wkt import loads\n",
    "from openquake.hazardlib.source.area import AreaSource\n",
    "from openquake.hazardlib.const import TRT"
   ]
  },
  {
   "cell_type": "code",
   "execution_count": null,
   "metadata": {},
   "outputs": [],
   "source": [
    "sms = {}\n",
    "\n",
    "modeln = './../../data/xml/emca_as.xml'\n",
    "sms['emca'] = read_model(modeln)\n",
    "\n",
    "modeln = './../../data/xml/emme_as_2015.xml'\n",
    "sms['emme_as'] = read_model(modeln)\n",
    "\n",
    "modeln = './../../data/xml/EOS_SEAsia.xml'\n",
    "sms['sea'] = read_model(modeln)"
   ]
  },
  {
   "cell_type": "code",
   "execution_count": null,
   "metadata": {},
   "outputs": [],
   "source": [
    "def get_model_data(sm):\n",
    "    extn = []\n",
    "    extr = {}\n",
    "    for src in sm:\n",
    "        if isinstance(src, AreaSource) and src.tectonic_region_type == TRT.ACTIVE_SHALLOW_CRUST:\n",
    "            area = get_area(loads(src.polygon.wkt))\n",
    "            extn.append(area)\n",
    "            if src.tectonic_region_type in extr:\n",
    "                extr[src.tectonic_region_type].append(area)\n",
    "            else:\n",
    "                extr[src.tectonic_region_type] = [area]\n",
    "    return extn"
   ]
  },
  {
   "cell_type": "code",
   "execution_count": null,
   "metadata": {},
   "outputs": [],
   "source": [
    "bins = np.logspace(2, 6, num=20)\n",
    "\n",
    "fig = plt.figure(figsize=(8, 6))\n",
    "ax = fig.add_subplot(1, 1, 1)\n",
    "\n",
    "cols = ['red', 'green', 'blue', 'orange']\n",
    "colr = ['white', 'white', 'white', 'white']\n",
    "lwdt = [4, 3, 2, 1]\n",
    "\n",
    "for idx, key in enumerate(sms.keys()):\n",
    "\n",
    "    extn = get_model_data(sms[key])\n",
    "    print ('Min and Max value of log(area): {0:.2f} {1:.2f}'.format(np.log10(min(extn)), np.log10(max(extn))))\n",
    "    \n",
    "    histo, bin_edges = np.histogram(extn, bins=bins)\n",
    "    hist = histo / float(sum(histo))\n",
    "    \n",
    "    plt.bar(bin_edges[0:-1]+np.diff(bin_edges)/2, hist, width=np.diff(bin_edges),\n",
    "            edgecolor=colr[idx], facecolor=cols[idx], \n",
    "            linewidth=lwdt[idx], alpha=0.5)\n",
    "\n",
    "    #plt.hist(extn, bins=bins, label=key, edgecolor=colr[idx],  \n",
    "    #         normed=True, facecolor=cols[idx], \n",
    "    #         linewidth=lwdt[idx], alpha=0.5) \n",
    "\n",
    "plt.xlabel(r'Area, [sqkm]')\n",
    "plt.grid(which='both', linestyle='--')\n",
    "plt.xscale('log')\n",
    "plt.legend()"
   ]
  },
  {
   "cell_type": "code",
   "execution_count": null,
   "metadata": {},
   "outputs": [],
   "source": []
  }
 ],
 "metadata": {
  "kernelspec": {
   "display_name": "Python 2",
   "language": "python",
   "name": "python2"
  },
  "language_info": {
   "codemirror_mode": {
    "name": "ipython",
    "version": 2
   },
   "file_extension": ".py",
   "mimetype": "text/x-python",
   "name": "python",
   "nbconvert_exporter": "python",
   "pygments_lexer": "ipython2",
   "version": "2.7.13"
  }
 },
 "nbformat": 4,
 "nbformat_minor": 2
}
