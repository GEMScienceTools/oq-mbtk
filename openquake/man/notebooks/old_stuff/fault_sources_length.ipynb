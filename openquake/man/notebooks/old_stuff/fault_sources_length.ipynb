{
 "cells": [
  {
   "cell_type": "markdown",
   "metadata": {},
   "source": [
    "# Lenght of fault sources"
   ]
  },
  {
   "cell_type": "code",
   "execution_count": null,
   "metadata": {},
   "outputs": [],
   "source": [
    "%matplotlib inline\n",
    "import sys\n",
    "import numpy as np\n",
    "\n",
    "import matplotlib as mpl\n",
    "import matplotlib.pyplot as plt\n",
    "\n",
    "sys.path.append('/Users/mpagani/Projects/original/oq-engine/')\n",
    "sys.path.append('/Users/mpagani/Projects/oq-man/')\n",
    "\n",
    "from openquake.man.model import read\n",
    "\n",
    "from shapely.wkt import loads\n",
    "\n",
    "from openquake.hazardlib.source import SimpleFaultSource\n",
    "from openquake.hazardlib.const import TRT"
   ]
  },
  {
   "cell_type": "code",
   "execution_count": null,
   "metadata": {},
   "outputs": [],
   "source": [
    "sms = {}\n",
    "\n",
    "modeln = '/Users/mpagani/NC/Hazard_Charles/Hazard_models_nrml/EMM15/EMM15_v1.0.0/emme_fs_2015.xml'\n",
    "sms['emme'] = read(modeln)\n",
    "\n",
    "modeln = '/Users/mpagani/GDrive/20170508_armenia/04_Armenia/src/20170605_from_air_v16/faults_v16.xml'\n",
    "sms['armenia'] = read(modeln)"
   ]
  },
  {
   "cell_type": "code",
   "execution_count": null,
   "metadata": {},
   "outputs": [],
   "source": [
    "def get_model_data(sm):\n",
    "    extr = {}\n",
    "    src_types = set()\n",
    "    trt_types = set()\n",
    "    flens = []\n",
    "    for src in sm:\n",
    "        src_types = src_types | set([type(src)])\n",
    "        trt_types = trt_types | set([src.tectonic_region_type])\n",
    "        if isinstance(src, SimpleFaultSource) and src.tectonic_region_type == TRT.ACTIVE_SHALLOW_CRUST:\n",
    "            flens.append(src.fault_trace.get_length())\n",
    "    print 'Source types:'\n",
    "    for srct in list(src_types):\n",
    "        print ('  {0:s}'.format(srct))\n",
    "    print 'TRTs:'\n",
    "    for srct in sorted(list(trt_types)):\n",
    "        print ('  {0:s}'.format(srct))\n",
    "    print ('\\nTotal number of fault sources: {0:d}'.format(len(flens)))\n",
    "    return flens"
   ]
  },
  {
   "cell_type": "code",
   "execution_count": null,
   "metadata": {},
   "outputs": [],
   "source": [
    "bins = np.logspace(1, 3, num=20)\n",
    "\n",
    "fig = plt.figure(figsize=(10, 8))\n",
    "ax = fig.add_subplot(1, 1, 1)\n",
    "\n",
    "mpl.rcParams['xtick.labelsize'] = 12 \n",
    "mpl.rcParams['ytick.labelsize'] = 12\n",
    "\n",
    "cols = ['red', 'green', 'blue', 'orange']\n",
    "colr = ['white', 'white', 'white', 'white']\n",
    "lwdt = [4, 3, 2, 1]\n",
    "\n",
    "for idx, key in enumerate(sms.keys()):\n",
    "\n",
    "    extn = get_model_data(sms[key][0])\n",
    "    print ('Min and Max value of log(length): {0:.2f} {1:.2f}'.format(np.log10(min(extn)), np.log10(max(extn))))\n",
    "    \n",
    "    histo, bin_edges = np.histogram(extn, bins=bins)\n",
    "    hist = histo / float(sum(histo))\n",
    "    \n",
    "    plt.bar(bin_edges[0:-1]+np.diff(bin_edges)/2, hist, width=np.diff(bin_edges),\n",
    "            edgecolor=colr[idx], facecolor=cols[idx], \n",
    "            linewidth=lwdt[idx], alpha=0.5,\n",
    "            label=key)\n",
    "\n",
    "    #plt.hist(extn, bins=bins, label=key, edgecolor=colr[idx],  \n",
    "    #         normed=True, facecolor=cols[idx], \n",
    "    #         linewidth=lwdt[idx], alpha=0.5) \n",
    "\n",
    "plt.xlabel(r'Length, [km]', fontsize=14)\n",
    "plt.grid(which='both', linestyle='--')\n",
    "plt.xscale('log')\n",
    "plt.legend()"
   ]
  },
  {
   "cell_type": "code",
   "execution_count": null,
   "metadata": {},
   "outputs": [],
   "source": []
  }
 ],
 "metadata": {
  "kernelspec": {
   "display_name": "Python 2",
   "language": "python",
   "name": "python2"
  },
  "language_info": {
   "codemirror_mode": {
    "name": "ipython",
    "version": 2
   },
   "file_extension": ".py",
   "mimetype": "text/x-python",
   "name": "python",
   "nbconvert_exporter": "python",
   "pygments_lexer": "ipython2",
   "version": "2.7.13"
  }
 },
 "nbformat": 4,
 "nbformat_minor": 2
}
