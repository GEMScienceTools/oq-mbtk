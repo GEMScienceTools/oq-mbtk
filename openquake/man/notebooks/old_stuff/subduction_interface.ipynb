{
 "cells": [
  {
   "cell_type": "markdown",
   "metadata": {
    "deletable": true,
    "editable": true
   },
   "source": [
    "# Subduction interface"
   ]
  },
  {
   "cell_type": "code",
   "execution_count": null,
   "metadata": {
    "deletable": true,
    "editable": true
   },
   "outputs": [],
   "source": [
    "%matplotlib inline\n",
    "import os\n",
    "import sys\n",
    "import numpy as np\n",
    "import matplotlib.pyplot as plt\n",
    "sys.path.append('/Users/mpagani/Projects/original/oq-hazardlib/')\n",
    "sys.path.append('/Users/mpagani/Projects/original/oq-engine/')\n",
    "from utils_model import read_model, get_area\n",
    "from shapely.wkt import loads\n",
    "from openquake.hazardlib.const import TRT\n",
    "from openquake.hazardlib.source import SimpleFaultSource"
   ]
  },
  {
   "cell_type": "code",
   "execution_count": null,
   "metadata": {
    "deletable": true,
    "editable": true
   },
   "outputs": [],
   "source": [
    "models = []\n",
    "models.append('./../../data/xml/emca_as.xml')\n",
    "#models.append('./../../data/xml/emme_fs_2015.xml')\n",
    "models.append('./../../data/xml/emme_as_2015.xml')\n",
    "models.append('./../../data/xml/EOS_SEAsia.xml')"
   ]
  },
  {
   "cell_type": "code",
   "execution_count": null,
   "metadata": {},
   "outputs": [],
   "source": [
    "for modeln in models:\n",
    "    trts = set()\n",
    "    print '\\n', modeln\n",
    "    sm = read_model(modeln) \n",
    "    for src in sm:\n",
    "        trts = trts | set([src.tectonic_region_type])\n",
    "        if src.tectonic_region_type == TRT.SUBDUCTION_INTERFACE:\n",
    "             print type(src)\n",
    "        \n",
    "    for trt in trts:\n",
    "        print '  - ', trt"
   ]
  },
  {
   "cell_type": "code",
   "execution_count": null,
   "metadata": {
    "deletable": true,
    "editable": true
   },
   "outputs": [],
   "source": []
  }
 ],
 "metadata": {
  "kernelspec": {
   "display_name": "Python 2",
   "language": "python",
   "name": "python2"
  },
  "language_info": {
   "codemirror_mode": {
    "name": "ipython",
    "version": 2
   },
   "file_extension": ".py",
   "mimetype": "text/x-python",
   "name": "python",
   "nbconvert_exporter": "python",
   "pygments_lexer": "ipython2",
   "version": "2.7.13"
  }
 },
 "nbformat": 4,
 "nbformat_minor": 2
}
