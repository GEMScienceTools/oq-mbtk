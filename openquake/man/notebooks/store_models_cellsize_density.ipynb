{
 "cells": [
  {
   "cell_type": "code",
   "execution_count": null,
   "metadata": {},
   "outputs": [],
   "source": [
    "import os\n",
    "import re\n",
    "import sys\n",
    "import glob\n",
    "import pickle\n",
    "import oqman.man.model as model\n",
    "\n",
    "from oqman.man.single.points import get_cell_sizes, gcs"
   ]
  },
  {
   "cell_type": "code",
   "execution_count": null,
   "metadata": {},
   "outputs": [],
   "source": [
    "path = './pkl/*.pkl'\n",
    "modell = set(['als07', 'aus12', 'ca10h', 'ca10r', 'cub03', 'ear16', 'em16a',\n",
    "              'em16f', 'emc15', 'lea02', 'nzl10', 'res12', 'sar16', 'sea07',\n",
    "              'soa10', 'twn15', 'usa08'])\n",
    "#modell = set(['cub03'])\n",
    "modell = set(['nzl10'])\n",
    "#modell = set(['soa10', 'nzl10'])\n",
    "#modell = set(['als07'])\n",
    "#modell = set(['als07'])"
   ]
  },
  {
   "cell_type": "code",
   "execution_count": null,
   "metadata": {},
   "outputs": [],
   "source": [
    "path = '/Users/mpagani/Prj/2017/global_modelling/results/pkl/*.pkl'"
   ]
  },
  {
   "cell_type": "code",
   "execution_count": null,
   "metadata": {},
   "outputs": [],
   "source": [
    "# modd = {}\n",
    "for fname in glob.glob(path):\n",
    "    slist = re.split('\\.',  os.path.basename(fname))\n",
    "    if re.search('[a-z]*[0-9]*\\.pkl', fname) and slist[0] in modell:\n",
    "        #\n",
    "        # loading the model\n",
    "        print ('>>', fname, end=' ')\n",
    "        mod, pointl, info, sidx = model.load(fname)\n",
    "        print (len(pointl), end=' ')\n",
    "        print ('done')\n",
    "        #\n",
    "        # if the model contains point sources compute the area of each \n",
    "        # grid node\n",
    "        if 'PointSource' in info['srcs_mmax']:\n",
    "            #\n",
    "            # Creating output filename \n",
    "            dname = os.path.dirname(fname)\n",
    "            slist = re.split('_', re.split('\\.',  os.path.basename(fname))[0])\n",
    "            outf = os.path.join(dname, '{0:s}_cellsize_sources.pkl'.format(slist[0]))\n",
    "            print (\"output file:\", outf, end=\" \")\n",
    "            print (len(pointl), end=' ')\n",
    "            #\n",
    "            # get grid surface\n",
    "            gcs(pointl, sidx)\n",
    "            #\n",
    "            # saving results\n",
    "            if not os.path.exists(outf):\n",
    "                #csize = get_cell_sizes(pointl, sidx) \n",
    "                fou = open(outf, 'wb')\n",
    "                pickle.dump(csize, fou)\n",
    "                fou.close()\n",
    "                print ('done')\n",
    "            else: \n",
    "                print ('skipping')        "
   ]
  },
  {
   "cell_type": "code",
   "execution_count": null,
   "metadata": {},
   "outputs": [],
   "source": []
  }
 ],
 "metadata": {
  "kernelspec": {
   "display_name": "py35",
   "language": "python",
   "name": "py35"
  },
  "language_info": {
   "codemirror_mode": {
    "name": "ipython",
    "version": 3
   },
   "file_extension": ".py",
   "mimetype": "text/x-python",
   "name": "python",
   "nbconvert_exporter": "python",
   "pygments_lexer": "ipython3",
   "version": "3.5.4"
  },
  "toc": {
   "nav_menu": {},
   "number_sections": true,
   "sideBar": true,
   "skip_h1_title": true,
   "toc_cell": false,
   "toc_position": {},
   "toc_section_display": "block",
   "toc_window_display": true
  },
  "varInspector": {
   "cols": {
    "lenName": 16,
    "lenType": 16,
    "lenVar": 40
   },
   "kernels_config": {
    "python": {
     "delete_cmd_postfix": "",
     "delete_cmd_prefix": "del ",
     "library": "var_list.py",
     "varRefreshCmd": "print(var_dic_list())"
    },
    "r": {
     "delete_cmd_postfix": ") ",
     "delete_cmd_prefix": "rm(",
     "library": "var_list.r",
     "varRefreshCmd": "cat(var_dic_list()) "
    }
   },
   "types_to_exclude": [
    "module",
    "function",
    "builtin_function_or_method",
    "instance",
    "_Feature"
   ],
   "window_display": false
  }
 },
 "nbformat": 4,
 "nbformat_minor": 2
}
