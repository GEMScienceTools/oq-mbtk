{
 "cells": [
  {
   "cell_type": "markdown",
   "metadata": {},
   "source": [
    "# Analyse point source density "
   ]
  },
  {
   "cell_type": "code",
   "execution_count": null,
   "metadata": {},
   "outputs": [],
   "source": [
    "%matplotlib inline\n",
    "\n",
    "import re\n",
    "import os\n",
    "import sys\n",
    "import glob\n",
    "import pickle\n",
    "import numpy as np\n",
    "import matplotlib.pyplot as plt\n",
    "import matplotlib as mpl\n",
    "\n",
    "from rtree import index\n",
    "\n",
    "sys.path.append('/Users/mpagani/Repos/original/oq-engine/')\n",
    "sys.path.append('/Users/mpagani/Repos/oq-man/')\n",
    "\n",
    "import oqman.man.model as model\n",
    "\n",
    "from oqman.man.single.areas import get_rates_density\n",
    "from oqman.man.single.points import get_cell_areas, get_rates_density\n",
    "\n",
    "from openquake.hazardlib.const import TRT\n",
    "from openquake.hazardlib.source import PointSource"
   ]
  },
  {
   "cell_type": "markdown",
   "metadata": {},
   "source": [
    "## List of models to be analysed"
   ]
  },
  {
   "cell_type": "code",
   "execution_count": null,
   "metadata": {},
   "outputs": [],
   "source": [
    "path = '/Users/mpagani/NC/Hazard_Charles/Documents/Presentations/2017/0417_SSA/notebooks/pkl/*.pkl'\n",
    "modell = set(['als07', 'aus12', 'ca10h', 'ca10r', 'cub03', 'ear16', 'em16a',\n",
    "              'em16f', 'emc15', 'lea02', 'nzl10', 'res12', 'sar16', 'sea07',\n",
    "              'soa10', 'twn15', 'usa08'])\n",
    "#modell = set(['cub03'])\n",
    "#modell = set(['nzl10'])\n",
    "#modell = set(['usa08'])\n",
    "#modell = set(['als07'])\n",
    "modell = set(['nzl10', 'soa10'])\n",
    "modell = set(['soa10'])\n",
    "modell = set(['sar16'])\n",
    "modell = set(['em16f'])\n",
    "modell = set(['usa08'])\n",
    "#modell = set(['nzl10'])"
   ]
  },
  {
   "cell_type": "markdown",
   "metadata": {},
   "source": [
    "### Creating the pickle file with the size of each cell"
   ]
  },
  {
   "cell_type": "code",
   "execution_count": null,
   "metadata": {},
   "outputs": [],
   "source": [
    "modd = {}\n",
    "for fname in glob.glob(path):\n",
    "    slist = re.split('\\.',  os.path.basename(fname))\n",
    "    if re.search('[a-z]*[0-9]*\\.pkl', fname) and slist[0] in modell:\n",
    "        print ('>>', fname, end=' ')\n",
    "        # Creating output filename \n",
    "        dname = os.path.dirname(fname)\n",
    "        slist = re.split('_', re.split('\\.',  os.path.basename(fname))[0])\n",
    "        outf = os.path.join(dname, '{0:s}_cellsize_sources.pkl'.format(slist[0]))\n",
    "        if os.path.exists(outf):\n",
    "            print ('loading ', outf)\n",
    "            fou = open(outf, 'rb')\n",
    "            csize = pickle.load(fou)\n",
    "            print (len(csize))\n",
    "            fou.close()\n",
    "            modd[slist[0]] = {'csize': csize}\n",
    "        else:\n",
    "            print ('skipping')"
   ]
  },
  {
   "cell_type": "markdown",
   "metadata": {},
   "source": [
    "## Read data for the different models"
   ]
  },
  {
   "cell_type": "code",
   "execution_count": null,
   "metadata": {},
   "outputs": [],
   "source": [
    "%%time\n",
    "for fname in glob.glob(path):\n",
    "    slist = re.split('\\.',  os.path.basename(fname))\n",
    "    if re.search('[a-z]*[0-9]*\\.pkl', fname) and slist[0] in modell:\n",
    "        print ('>>', fname, end=' ')\n",
    "        mod, point, info, sidx = model.load(fname)      \n",
    "        print (len(point), end=' ')\n",
    "        print ('done')\n",
    "        if slist[0] not in modd:\n",
    "            modd[slist[0]] = {}\n",
    "        modd[slist[0]]['model'] = mod\n",
    "        modd[slist[0]]['info'] = info\n",
    "        modd[slist[0]]['point'] = point\n",
    "        modd[slist[0]]['sidx'] = sidx"
   ]
  },
  {
   "cell_type": "markdown",
   "metadata": {},
   "source": [
    "## Computing the area of cells "
   ]
  },
  {
   "cell_type": "code",
   "execution_count": null,
   "metadata": {},
   "outputs": [],
   "source": [
    "cnt = 1\n",
    "for key in sorted(modd.keys()):\n",
    "    #\n",
    "    # Check if the model contains point sources\n",
    "    if 'PointSource' in modd[key]['info']['srcs_mmax']:\n",
    "        print ('>>>>>>>>', key)\n",
    "        #\n",
    "        # set parameters\n",
    "        fltr = set(['Active Shallow Crust']); \n",
    "        sxx = 0.35\n",
    "        #\n",
    "        # create points list\n",
    "        cnt = 0\n",
    "        pnts = []\n",
    "        lons = []\n",
    "        lats = []\n",
    "        for idx, pnt in enumerate(modd[list(modell)[0]]['point']):\n",
    "            if isinstance(pnt, PointSource):\n",
    "                lon = pnt.location.longitude\n",
    "                lat = pnt.location.latitude\n",
    "                dep = pnt.location.depth\n",
    "                lons.append(lon)\n",
    "                lats.append(lat)\n",
    "                pnts.append(pnt)\n",
    "                cnt += 1\n",
    "\n",
    "        #\n",
    "        # compute area of grid cells \n",
    "        aaa, coloc, coo, sidx = get_cell_areas(pnts)\n",
    "        print ('Area calculation completed')\n",
    "        jjj = np.isnan(aaa)\n",
    "        print (np.any(jjj))\n",
    "        #\n",
    "        # plot \n",
    "        fig = plt.figure(figsize=(8,10))\n",
    "        plt.plot(coo[:,0], coo[:,1], 's') \n",
    "        plt.plot(coo[:,0][jjj], coo[:,1][jjj], 'or', zorder=100)\n",
    "        # updating counter\n",
    "        cnt += 1\n",
    "        #plt.xlim([170, 180])\n",
    "        \"\"\"\n",
    "        \"\"\""
   ]
  },
  {
   "cell_type": "code",
   "execution_count": null,
   "metadata": {},
   "outputs": [],
   "source": [
    "# computing density\n",
    "dend, _, cidx, scoo = get_rates_density(pnts, mmint=5.5)\n",
    "print (len(cidx), len(dend))"
   ]
  },
  {
   "cell_type": "code",
   "execution_count": null,
   "metadata": {},
   "outputs": [],
   "source": [
    "scoo = np.array(scoo)\n",
    "print (sorted(set(scoo[:,2])))"
   ]
  },
  {
   "cell_type": "code",
   "execution_count": null,
   "metadata": {},
   "outputs": [],
   "source": [
    "# plot \n",
    "import matplotlib\n",
    "fig = plt.figure(figsize=(8,10))\n",
    "iii = np.nonzero(scoo[:,2] < 15.0)\n",
    "print (iii[0].dtype)\n",
    "dend = np.array(dend)\n",
    "plt.scatter(scoo[iii[0],0], coo[iii[0],1], c=dend[iii[0]], norm=matplotlib.colors.LogNorm()) "
   ]
  },
  {
   "cell_type": "code",
   "execution_count": null,
   "metadata": {},
   "outputs": [],
   "source": [
    "print (np.amin(dend))\n",
    "print (np.amax(dend))"
   ]
  },
  {
   "cell_type": "code",
   "execution_count": null,
   "metadata": {},
   "outputs": [],
   "source": [
    "#\n",
    "# settings\n",
    "import matplotlib as mpl\n",
    "mpl.rcParams['xtick.labelsize'] = 14\n",
    "mpl.rcParams['ytick.labelsize'] = 14\n",
    "mpl.rcParams['axes.labelsize'] = 14\n",
    "mpl.rcParams['axes.titlesize'] = 16\n",
    "#\n",
    "# figure \n",
    "fig = plt.figure(figsize=(10,8))\n",
    "ax = plt.subplot(111)\n",
    "bins = np.logspace(-10, -4, 25)\n",
    "his, _ = np.histogram(dend, bins=bins)\n",
    "his = his / sum(his)\n",
    "plt.bar(bins[:-1], his, edgecolor='black', width=np.diff(bins)*0.92, align='edge')\n",
    "plt.xscale('log')\n",
    "plt.xlabel('Eqk rate [1/(km^2*yr)]')\n",
    "ax.set_title(list(modell)[0])"
   ]
  },
  {
   "cell_type": "markdown",
   "metadata": {},
   "source": [
    "##### "
   ]
  }
 ],
 "metadata": {
  "kernelspec": {
   "display_name": "py35",
   "language": "python",
   "name": "py35"
  },
  "language_info": {
   "codemirror_mode": {
    "name": "ipython",
    "version": 3
   },
   "file_extension": ".py",
   "mimetype": "text/x-python",
   "name": "python",
   "nbconvert_exporter": "python",
   "pygments_lexer": "ipython3",
   "version": "3.5.4"
  },
  "toc": {
   "nav_menu": {},
   "number_sections": true,
   "sideBar": true,
   "skip_h1_title": true,
   "toc_cell": false,
   "toc_position": {},
   "toc_section_display": "block",
   "toc_window_display": true
  },
  "varInspector": {
   "cols": {
    "lenName": 16,
    "lenType": 16,
    "lenVar": 40
   },
   "kernels_config": {
    "python": {
     "delete_cmd_postfix": "",
     "delete_cmd_prefix": "del ",
     "library": "var_list.py",
     "varRefreshCmd": "print(var_dic_list())"
    },
    "r": {
     "delete_cmd_postfix": ") ",
     "delete_cmd_prefix": "rm(",
     "library": "var_list.r",
     "varRefreshCmd": "cat(var_dic_list()) "
    }
   },
   "types_to_exclude": [
    "module",
    "function",
    "builtin_function_or_method",
    "instance",
    "_Feature"
   ],
   "window_display": false
  }
 },
 "nbformat": 4,
 "nbformat_minor": 2
}
