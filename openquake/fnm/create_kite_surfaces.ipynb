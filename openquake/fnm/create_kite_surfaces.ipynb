{
 "cells": [
  {
   "cell_type": "markdown",
   "id": "15896d23-1a59-4139-85cf-f8f7d0e55b0f",
   "metadata": {},
   "source": [
    "# FERMI: Fault nEtwoRks ModellIng"
   ]
  },
  {
   "cell_type": "markdown",
   "id": "28194783-7e89-4909-bb85-7a558cef3fe7",
   "metadata": {},
   "source": [
    "NOTES:\n",
    "- We need to consider the cases where the kite fault surface contains some NaN (this is possible in case of irregular surfaces)\n",
    "- get_section_polygon will also need to be updated to account for NaN"
   ]
  },
  {
   "cell_type": "code",
   "execution_count": 1,
   "id": "c73cd97d-4013-4ec6-8ed0-d3139a34b27c",
   "metadata": {},
   "outputs": [],
   "source": [
    "%load_ext autoreload\n",
    "%autoreload 2"
   ]
  },
  {
   "cell_type": "code",
   "execution_count": 22,
   "id": "e32603fb-fa97-47b8-b035-96e9f76aa3ae",
   "metadata": {},
   "outputs": [],
   "source": [
    "import pygmt\n",
    "from numba import jit\n",
    "import geojson\n",
    "import numpy as np\n",
    "import geopandas as gpd\n",
    "import matplotlib.pyplot as plt\n",
    "from openquake.hazardlib.geo import Point, Line\n",
    "from openquake.hazardlib.geo.surface.kite_fault importa (\n",
    "    get_profiles_from_simple_fault_data, KiteSurface)\n",
    "from openquake.hazardlib.tests.geo.surface.kite_fault_test import plot_mesh_2d\n",
    "from openquake.hazardlib.geo.mesh import Mesh\n",
    "from openquake.hazardlib.geo.geodetic import geodetic_distance\n",
    "\n",
    "PI = 3.1415926535\n",
    "EARTH_RADIUS = 6371.0"
   ]
  },
  {
   "cell_type": "markdown",
   "id": "6a0db413-3613-4187-bcf1-f800bd5f936f",
   "metadata": {},
   "source": [
    "## Settings "
   ]
  },
  {
   "cell_type": "code",
   "execution_count": 3,
   "id": "c3b838f8-5656-4bff-83ec-abed7a0fd0ea",
   "metadata": {},
   "outputs": [],
   "source": [
    "general_interaction_distance = 10.0\n",
    "interaction_distance = 5.0\n",
    "nc_strike = 2\n",
    "nc_dip = 4\n",
    "nc_dip = 11"
   ]
  },
  {
   "cell_type": "code",
   "execution_count": 4,
   "id": "e423ab59-8beb-44ec-8c06-2d2860e1e065",
   "metadata": {},
   "outputs": [],
   "source": [
    "def plot_mesh_2d(ax, smsh):\n",
    "    \"\"\"\n",
    "    Plots the mesh\n",
    "    \"\"\"\n",
    "    for i in range(smsh.mesh.lons.shape[0]):\n",
    "        ax.plot(smsh.mesh.lons[i, :], smsh.mesh.lats[i, :], '-r', lw=0.5)\n",
    "    for i in range(smsh.mesh.lons.shape[1]):\n",
    "        ax.plot(smsh.mesh.lons[:, i], smsh.mesh.lats[:, i], '-r', lw=0.5)\n",
    "    ax.plot(smsh.mesh.lons[0, :], smsh.mesh.lats[0, :], '-g', lw=1.0)"
   ]
  },
  {
   "cell_type": "code",
   "execution_count": 5,
   "id": "f5365743-7f67-4176-80a9-e765f6ed5b82",
   "metadata": {},
   "outputs": [],
   "source": [
    "def get_dip_dir(prop: dict):\n",
    "    \"\"\"\n",
    "    :param prop:\n",
    "        A dictionary with the properties of a feature\n",
    "    \"\"\"\n",
    "    \n",
    "    if (isinstance(prop[\"dip_dir\"], float) or\n",
    "        isinstance(prop[\"dip_dir\"], int)):\n",
    "        return float(prop[\"dip_dir\"])\n",
    "    else:\n",
    "        if prop[\"dip_dir\"] == 'N':\n",
    "            return 0\n",
    "        elif prop[\"dip_dir\"] == 'E':\n",
    "            return 90\n",
    "        elif prop[\"dip_dir\"] == 'S':\n",
    "            return 180\n",
    "        elif prop[\"dip_dir\"] == 'W':\n",
    "            return 270\n",
    "        elif prop[\"dip_dir\"] == 'NE':\n",
    "            return 45\n",
    "        elif prop[\"dip_dir\"] == 'SE':\n",
    "            return 135\n",
    "        elif prop[\"dip_dir\"] == 'SW':\n",
    "            return 225\n",
    "        elif prop[\"dip_dir\"] == 'NW':\n",
    "            return 315\n",
    "        else:\n",
    "            msg = 'Unknown definition of dir direction'\n",
    "            raise ValueError()   \n",
    "            \n",
    "def fix_right_hand(trace, dip_dir):\n",
    "    azi = trace.average_azimuth()\n",
    "    if np.abs((azi + 90) % 360 - dip_dir) < 60:\n",
    "        return trace\n",
    "    else:\n",
    "        return trace.flip"
   ]
  },
  {
   "cell_type": "markdown",
   "id": "246717bf-7435-4421-974f-b20cf2f82e0f",
   "metadata": {},
   "source": [
    "## Read input information and create the kite surfaces"
   ]
  },
  {
   "cell_type": "code",
   "execution_count": 6,
   "id": "92f4f39d-58cf-4056-87e6-eeaeefa922fa",
   "metadata": {},
   "outputs": [],
   "source": [
    "fname = 'sample.geojson'"
   ]
  },
  {
   "cell_type": "code",
   "execution_count": 7,
   "id": "172576a3-e066-45cb-ab41-be5dc7dc4186",
   "metadata": {},
   "outputs": [],
   "source": [
    "# Read .geojson file with fault info\n",
    "with open(fname) as f:\n",
    "    data = geojson.load(f)"
   ]
  },
  {
   "cell_type": "code",
   "execution_count": 8,
   "id": "dda024d6-b9c4-4ebd-bfea-37a3efd562b0",
   "metadata": {},
   "outputs": [],
   "source": [
    "gdf = gpd.read_file(fname)"
   ]
  },
  {
   "cell_type": "code",
   "execution_count": 9,
   "id": "3e69ce0a-15f5-457b-91e2-bb0169905b40",
   "metadata": {},
   "outputs": [],
   "source": [
    "# Creates the surfaces\n",
    "surfs = []\n",
    "edge_sd = 2.0\n",
    "traces = []\n",
    "for fea in data['features']:\n",
    "    geom = fea['geometry']\n",
    "    prop = fea['properties']\n",
    "    dip_dir = get_dip_dir(prop)\n",
    "    dip = prop.get(\"dip\", None)\n",
    "    fault_trace = Line([Point(c[0], c[1]) for c in geom[\"coordinates\"]])\n",
    "    fault_trace = fix_right_hand(fault_trace, dip_dir)\n",
    "    trace = traces.append(\n",
    "        [[p.longitude, p.latitude] for p in fault_trace.points])\n",
    "    num = np.round(fault_trace.get_length() / edge_sd)\n",
    "    edge_sd_res = fault_trace.get_length() / num\n",
    "    upp_sd = prop.get(\"usd\", None)\n",
    "    low_sd = prop.get(\"lsd\", None)\n",
    "    profs = get_profiles_from_simple_fault_data(\n",
    "        fault_trace, upp_sd, low_sd, dip, 2.0)\n",
    "    surf = KiteSurface.from_profiles(profs, profile_sd=2.0, edge_sd=edge_sd_res)\n",
    "    surfs.append(surf)"
   ]
  },
  {
   "cell_type": "code",
   "execution_count": 10,
   "id": "9101ba2b-987c-4c76-bc70-8aae08f36292",
   "metadata": {},
   "outputs": [
    {
     "data": {
      "image/png": "[encoded data removed]",
      "text/plain": [
       "<Figure size 432x288 with 1 Axes>"
      ]
     },
     "metadata": {
      "needs_background": "light"
     },
     "output_type": "display_data"
    }
   ],
   "source": [
    "fig, ax = plt.subplots(1, 1)\n",
    "for surf in surfs:\n",
    "    plot_mesh_2d(ax, surf)"
   ]
  },
  {
   "cell_type": "raw",
   "id": "b74b6f57-b064-47af-9544-6c32f60f8a32",
   "metadata": {},
   "source": [
    "region = [-88, -85, 11, 13.50]\n",
    "fig = pygmt.Figure()\n",
    "fig.basemap(region=region, projection=\"M15c\", frame=True)\n",
    "fig.coast(land=\"grey\", water=\"skyblue\")\n",
    "fig.plot(x=data.longitude, y=data.latitude, style=\"c0.3c\", fill=\"white\", pen=\"black\")"
   ]
  },
  {
   "cell_type": "code",
   "execution_count": 62,
   "id": "5c5c40e2-1c6f-49ba-a1ab-a31736bc6fa4",
   "metadata": {},
   "outputs": [],
   "source": [
    "def split_mesh_into_sections(mesh, nc_strike=-1, nc_dip=-1):\n",
    "    \"\"\"\n",
    "    This splits a mesh (we assume this is a mesh representing a \n",
    "    kite surface) into a number of sections. \n",
    "\n",
    "    :param mesh:\n",
    "        An :class:`openquake.hazardlib.geo.mesh.Mesh` instance\n",
    "    :param nc_strike:\n",
    "        Number of cells along strike defining a section\n",
    "    :param nc_dip:\n",
    "        Number of cells along dip defining a section\n",
    "    \"\"\"\n",
    "    # Set the default number of cells when this info is not \n",
    "    # provided. We assume that sections are rupturing the \n",
    "    # whole seismogenic layer and the lenght is half the \n",
    "    # width\n",
    "    if nc_dip < 0:\n",
    "        if nc_dip == -1:\n",
    "            nc_dip = mesh.shape[0]\n",
    "    # This collects the upper left corner of each section \n",
    "    # defined on this fault surface\n",
    "    sections_ul = []\n",
    "    for irow in range(0, mesh.shape[0], nc_dip):\n",
    "        for icol in range(0, mesh.shape[1], nc_strike):\n",
    "            sections_ul.append([irow, icol])\n",
    "    return sections_ul, [nc_strike, nc_dip]      \n",
    "    \n",
    "\n",
    "def get_mesh_bb(mesh):\n",
    "    return [np.min(mesh.lons), np.max(mesh.lons),\n",
    "            np.min(mesh.lats), np.max(mesh.lats)]\n",
    "\n",
    "def get_surfaces_bbs(surfs):\n",
    "    bbs = []\n",
    "    for surf in surfs:\n",
    "        bbs.append(get_mesh_bb(surf.mesh))\n",
    "    return bbs\n",
    "        \n",
    "def get_poly_from_bb(bb):\n",
    "    vtxs = []\n",
    "    vtxs.append([bb[0], bb[2]])  # LL\n",
    "    vtxs.append([bb[1], bb[2]])  # LR\n",
    "    vtxs.append([bb[1], bb[3]])  # UR\n",
    "    vtxs.append([bb[0], bb[3]])  # UR\n",
    "    return np.array(vtxs)\n",
    "\n",
    "def get_bb_distance(bb1, bb2):\n",
    "    \"\"\"\n",
    "    See shorturl.at/CWY57\n",
    "    \"\"\"\n",
    "    # def rect_distance((x1, y1, x1b, y1b), (x2, y2, x2b, y2b)):\n",
    "    x1 = bb1[0]\n",
    "    y1 = bb1[2]\n",
    "    x1b = bb1[1]\n",
    "    y1b = bb1[3]\n",
    "    \n",
    "    x2 = bb2[0]\n",
    "    y2 = bb2[2]\n",
    "    x2b = bb2[1]\n",
    "    y2b = bb2[3]\n",
    "    \n",
    "    left = x2b < x1  # Second bb is left of the first one\n",
    "    right = x1b < x2  # Second bb is right of the first one\n",
    "    bottom = y2b < y1  # Second bb is below  the first one\n",
    "    top = y1b < y2  # Second bb is above the first one\n",
    "    \n",
    "    if top and left:\n",
    "        return geodetic_distance(x1, y1b, x2b, y2)\n",
    "    elif left and bottom:\n",
    "        return geodetic_distance(x1, y1, x2b, y2b)\n",
    "    elif bottom and right:\n",
    "        return geodetic_distance(x1b, y1, x2, y2b)\n",
    "    elif right and top:\n",
    "        return geodetic_distance(x1b, y1b, x2, y2)\n",
    "    elif left:\n",
    "        # return x1 - x2b\n",
    "        return geodetic_distance(x1, y1, x2b, y1)\n",
    "    elif right:\n",
    "        # return x2 - x1b\n",
    "        return geodetic_distance(x2, y2, x1b, y2)\n",
    "    elif bottom:\n",
    "        # return y1 - y2b\n",
    "        return geodetic_distance(x1, y1, x1, y2b)\n",
    "    elif top:\n",
    "        # return y2 - y1b\n",
    "        return geodetic_distance(x2, y2, x2, y1b)\n",
    "    else:   \n",
    "        # rectangles intersect\n",
    "        return 0.\n",
    "\n",
    "#def iter_sections(mesh, sections_ul, nc_strike, nc_dip):\n",
    "#    _iter_sections(lons, lats, deps, sections_ul, nc_strike, nc_dip)\n",
    "    \n",
    "    \n",
    "def _iter_sections(mesh, sections_ul, nc_strike, nc_dip):\n",
    "    sections = []\n",
    "    at_edges = []\n",
    "    sections_ul = np.array(sections_ul)\n",
    "    for idxs in sections_ul:\n",
    "        # Get indexes\n",
    "        ir = idxs[0]\n",
    "        ic = idxs[1]\n",
    "        # Create the mesh\n",
    "        tmp_mesh = Mesh(lons=mesh.lons[ir:ir+nc_dip+1, ic:ic+nc_strike+1], \n",
    "                        lats=mesh.lats[ir:ir+nc_dip+1, ic:ic+nc_strike+1], \n",
    "                        depths=mesh.depths[ir:ir+nc_dip+1, ic:ic+nc_strike+1])\n",
    "        # Edge section?\n",
    "        edge = False\n",
    "        mask = sections_ul[:, 0] == ir\n",
    "        if ic == 0 or ic == np.max(sections_ul[mask, 0]):\n",
    "            edge = True\n",
    "        # Update lists\n",
    "        sections.append(tmp_mesh)      \n",
    "        at_edges.append(edge)\n",
    "    return sections, at_edges\n",
    "\n",
    "@jit\n",
    "def get_section(mesh, sections_ul, nc_strike, nc_dip):\n",
    "    ir = sections_ul[0]\n",
    "    ic = sections_ul[1] \n",
    "    tmp_mesh = Mesh(lons=mesh.lons[ir:ir+nc_dip+1, ic:ic+nc_strike+1], \n",
    "                lats=mesh.lats[ir:ir+nc_dip+1, ic:ic+nc_strike+1], \n",
    "                depths=mesh.depths[ir:ir+nc_dip+1, ic:ic+nc_strike+1])\n",
    "    return tmp_mesh\n",
    "\n",
    "@jit \n",
    "def get_section_polygon(lons, lats, deps):\n",
    "    idxs = np.array([[0, 0], [-1, 0], [-1, -1], [0, -1]])\n",
    "    out = np.zeros((4, 3))\n",
    "    cnt = 0\n",
    "    for i in idxs:\n",
    "        out[cnt, 0] = lons[i]\n",
    "        out[cnt, 1] = lats[i]\n",
    "        out[cnt, 2] = deps[i]\n",
    "    return out"
   ]
  },
  {
   "cell_type": "markdown",
   "id": "bbb43d50-c014-49d4-9367-71e6e3bb253c",
   "metadata": {},
   "source": [
    "## Create subsections"
   ]
  },
  {
   "cell_type": "code",
   "execution_count": 63,
   "id": "1aa988e7-b99b-4701-a4ff-34e4aece6163",
   "metadata": {},
   "outputs": [
    {
     "name": "stdout",
     "output_type": "stream",
     "text": [
      ">> [2, 11]\n",
      ">> [2, 11]\n",
      ">> [2, 11]\n",
      ">> [2, 11]\n",
      ">> [2, 11]\n",
      ">> [2, 11]\n",
      ">> [2, 11]\n",
      ">> [2, 11]\n",
      ">> [2, 11]\n",
      ">> [2, 11]\n",
      ">> [2, 11]\n",
      ">> [2, 11]\n",
      ">> [2, 11]\n"
     ]
    }
   ],
   "source": [
    "# This computes the upper left corner of each section of a mesh representing\n",
    "# the fault surface. \n",
    "# NOTES:\n",
    "# - When nc=-1 we take the whole seismogenic thickness but we do not adjust the \n",
    "#   along strike distance \n",
    "# - Is the seismogenic thickness the right parameter to consider? This seems \n",
    "#   okay in case of SS faults but maybe not the best for faults with dipping \n",
    "#   surfaces. \n",
    "sections_ul = []\n",
    "for surf in surfs:\n",
    "    mesh = surf.mesh\n",
    "    tmp_ul, nc_stk_dip = split_mesh_into_sections(mesh, nc_strike, nc_dip)\n",
    "    sections_ul.append(tmp_ul)\n",
    "    print('>>', nc_stk_dip)"
   ]
  },
  {
   "cell_type": "markdown",
   "id": "94100c99-cae4-42fa-b009-174f1dda791c",
   "metadata": {},
   "source": [
    "## Working with Bounding Boxes to Study Fault Proximity\n",
    "\n",
    "TODO:\n",
    "- We should consider using a r-tree (or similar structure) to manage more efficiently the fault network"
   ]
  },
  {
   "cell_type": "code",
   "execution_count": 64,
   "id": "f39c4a64-a5ef-47f0-aaaa-93e7dee2761b",
   "metadata": {},
   "outputs": [],
   "source": [
    "# We calculate the bounding boxes of all the surfaces of the faults. \n",
    "# This is used to find approximate distances that will be possibly \n",
    "# refined within following  steps\n",
    "bbs = get_surfaces_bbs(surfs)"
   ]
  },
  {
   "cell_type": "code",
   "execution_count": 65,
   "id": "0fb30836-2fc9-45b1-8ea4-a5a439b78fe9",
   "metadata": {},
   "outputs": [
    {
     "data": {
      "image/png": "[encoded data removed]",
      "text/plain": [
       "<IPython.core.display.Image object>"
      ]
     },
     "metadata": {
      "image/png": {
       "width": 500
      }
     },
     "output_type": "display_data"
    }
   ],
   "source": [
    "# Plot of the bounding boxes for all the fault surfaces\n",
    "region = [-125, -70, 0, 35]\n",
    "region = [-88, -84, 11, 14]\n",
    "fig = pygmt.Figure()\n",
    "fig.basemap(region=region, projection=\"M15c\", frame=True)\n",
    "fig.coast(land=\"gray\", water=\"skyblue\")\n",
    "for i, bb in enumerate(bbs):\n",
    "    poly = get_poly_from_bb(bb)\n",
    "    fig.plot(x=poly[:, 0], y=poly[:, 1], pen=\"blue\", close=True)\n",
    "    fig.text(x=poly[0, 0], y=poly[0, 1], text=f'{i}')\n",
    "for trc in traces:\n",
    "    trc = np.array(trc)\n",
    "    fig.plot(x=trc[:, 0], y=trc[:, 1], pen=\"red\")\n",
    "fig.show()"
   ]
  },
  {
   "cell_type": "code",
   "execution_count": 15,
   "id": "7a4c73e5-be3e-47e5-87f8-529c7fb49130",
   "metadata": {},
   "outputs": [
    {
     "name": "stdout",
     "output_type": "stream",
     "text": [
      "[[  0.    2.    7.1   0.   25.1   0.   27.8  16.1  30.2  11.3 113.2 104.1  64.8]\n",
      " [  0.    0.   56.4  51.5  77.5  43.2   0.1  58.9  56.9  54.5  51.4  42.7   2. ]\n",
      " [  0.    0.    0.    0.1   0.    7.   73.8  36.1  66.2   0.6 165.4 156.2 118.5]\n",
      " [  0.    0.    0.    0.   18.9   0.   67.4  32.9  60.8  11.3 161.7 152.5 114.1]\n",
      " [  0.    0.    0.    0.    0.   22.8  94.2  51.4  81.9   7.4 185.9 176.7 139.4]\n",
      " [  0.    0.    0.    0.    0.    0.   47.    0.9  31.3   0.  152.7 143.8 103.4]\n",
      " [  0.    0.    0.    0.    0.    0.    0.   50.7  48.2  56.4  99.9  92.3  52.5]\n",
      " [  0.    0.    0.    0.    0.    0.    0.    0.    7.4   2.2 161.6 153.2 112.5]\n",
      " [  0.    0.    0.    0.    0.    0.    0.    0.    0.   32.6 156.8 149.2 109.4]\n",
      " [  0.    0.    0.    0.    0.    0.    0.    0.    0.    0.  163.7 154.8 114.3]\n",
      " [  0.    0.    0.    0.    0.    0.    0.    0.    0.    0.    0.    0.   11.2]\n",
      " [  0.    0.    0.    0.    0.    0.    0.    0.    0.    0.    0.    0.    2.1]\n",
      " [  0.    0.    0.    0.    0.    0.    0.    0.    0.    0.    0.    0.    0. ]]\n"
     ]
    }
   ],
   "source": [
    "bb_dist_matrix = np.zeros((len(bbs), len(bbs)))\n",
    "for i in range(len(bbs)):\n",
    "    for j in range(i+1, len(bbs)):\n",
    "        bb_dist_matrix[i, j] = get_bb_distance(bbs[i], bbs[j])\n",
    "np.set_printoptions(linewidth=110)    \n",
    "print(np.array_str(bb_dist_matrix, precision=1, suppress_small=True))"
   ]
  },
  {
   "cell_type": "markdown",
   "id": "8d91c519-17f8-4c60-ba1a-00eb5f829b0d",
   "metadata": {},
   "source": [
    "## Compute links between faults "
   ]
  },
  {
   "cell_type": "code",
   "execution_count": 20,
   "id": "4aa743ff-5525-4391-ab41-1fd69873bfb5",
   "metadata": {},
   "outputs": [
    {
     "name": "stdout",
     "output_type": "stream",
     "text": [
      "0 1\n",
      "1 1\n",
      "2 1\n",
      "3 1\n",
      "4 1\n",
      "5 1\n",
      "6 1\n",
      "7 1\n",
      "8 1\n",
      "9 1\n",
      "10 1\n",
      "11 1\n",
      "12 1\n"
     ]
    }
   ],
   "source": [
    "# Checking the number of sections at edges\n",
    "for i in range(len(bbs)):\n",
    "    iter_sec = iter_sections(surfs[i].mesh, sections_ul[i], nc_strike, nc_dip)  \n",
    "    sections0, is_edge0 = [s for s in iter_sec]\n",
    "    print(i, np.sum(is_edge0))"
   ]
  },
  {
   "cell_type": "code",
   "execution_count": 34,
   "id": "8bb67a44-b4d8-4c46-a941-9923ad0a6f7b",
   "metadata": {},
   "outputs": [],
   "source": [
    "@jit\n",
    "def get_min_distance(lon1, lat1, dep1, lon2, lat2, dep2):\n",
    "    \"\"\"\n",
    "    Computes the minimum distance between two meshes. Assumes the coordinates \n",
    "    are in radians. Reuses code available here: \n",
    "    \"\"\"\n",
    "    \n",
    "    lo1r = lon1.flatten() * PI / 180.0\n",
    "    la1r = lat1.flatten() * PI / 180.0\n",
    "    lo2r = lon2.flatten() * PI / 180.0\n",
    "    la2r = lat2.flatten() * PI / 180.0\n",
    "    de1f = dep1.flatten()\n",
    "    de2f = dep2.flatten()\n",
    "    \n",
    "    mind = 1e100\n",
    "    for lon, lat, dep in zip(lo1r, la1r, de1f):\n",
    "\n",
    "        hdists = np.arcsin(np.sqrt(\n",
    "            np.sin((lat - la2r) / 2.0) ** 2 +\n",
    "            np.cos(lat) * np.cos(la2r) * np.sin((lon - lo2r) / 2.0) ** 2\n",
    "        ))\n",
    "        vdists = dep - de2f\n",
    "        dists = np.sqrt(hdists ** 2 + vdists ** 2)\n",
    "        mind = np.min(np.array([mind, np.min(dists)])) \n",
    "        \n",
    "    return mind * 2. * EARTH_RADIUS"
   ]
  },
  {
   "cell_type": "code",
   "execution_count": 99,
   "id": "e328529d-d7f6-4b5e-b6b1-1e90a9c9ee35",
   "metadata": {},
   "outputs": [],
   "source": [
    "tmp_links = []\n",
    "\n",
    "for i in range(len(bbs)):\n",
    "    iter_sec = iter_sections(surfs[i].mesh, sections_ul[i], nc_strike, nc_dip)\n",
    "    sections0, is_edge0 = [s for s in iter_sec]\n",
    "    \n",
    "    for j in range(len(bbs)):\n",
    "        if bb_dist_matrix[i, j] < general_interaction_distance:\n",
    "            iter_sec = iter_sections(\n",
    "                surfs[j].mesh, sections_ul[j], nc_strike, nc_dip)\n",
    "            sections1, is_edge1 = [s for s in iter_sec]\n",
    "            \n",
    "            for i0 in range(len(sections0)):\n",
    "                for i1 in range(len(sections1)):\n",
    "                    \n",
    "                    if is_edge0[i0] or is_edge1[i1]: \n",
    "                        m0 = sections0[i0]\n",
    "                        m1 = sections1[i1]\n",
    "                        mind = get_min_distance(m0.lons, m0.lats, m0.depths,\n",
    "                                                m1.lons, m1.lats, m1.depths)\n",
    "                        \n",
    "                        # The first section in the list is the one at the edge\n",
    "                        if mind < interaction_distance:\n",
    "                            if is_edge0[i0]:\n",
    "                                tmp_links.append([i, j, i0, i1, mind])\n",
    "                            else:\n",
    "                                tmp_links.append([j, i, i1, i0, mind])\n",
    "\n",
    "tmp_links = np.array(tmp_links)                                \n",
    "links = np.zeros(len(tmp_links), dtype=[('fault1', 'i4'), \n",
    "                                        ('fault2', 'i4'), \n",
    "                                        ('section1', 'i4'),\n",
    "                                        ('section2', 'i4'),\n",
    "                                        ('mindist', 'f4')])\n",
    "links['fault1'] = tmp_links[:, 0]\n",
    "links['section1'] = tmp_links[:, 1]\n",
    "links['fault2'] = tmp_links[:, 2]\n",
    "links['section2'] = tmp_links[:, 3]"
   ]
  },
  {
   "cell_type": "code",
   "execution_count": 140,
   "id": "75e86722-4942-4272-812d-657a3d2c4d04",
   "metadata": {},
   "outputs": [],
   "source": [
    "def create_geojson_linked_sections(links, surfs):\n",
    "\n",
    "    cnt = 0\n",
    "    for i in range(links.shape[0]):\n",
    "        if cnt < 10:\n",
    "            print(links['fault1'][i])\n",
    "        print(links['fault1'][i],links['section1'][i])\n",
    "        tmp = sections_ul[links['fault1'][i]][links['section1'][i]]\n",
    "        # sec_ul = np.array()\n",
    "        #sec0 = get_section(links[0], sec_ul, nc_strike, nc_dip)\n",
    "        #pol0 = get_section_polygon(sec0.lons, sec0.lats, sec0.depths)\n",
    "        \n",
    "        cnt += 1\n",
    "        \n",
    "        "
   ]
  },
  {
   "cell_type": "code",
   "execution_count": 141,
   "id": "52da7492-d8d8-4f0b-b498-86d9eadb0d29",
   "metadata": {},
   "outputs": [
    {
     "name": "stdout",
     "output_type": "stream",
     "text": [
      "0\n",
      "0 0\n",
      "0\n",
      "0 0\n",
      "0\n",
      "0 0\n",
      "0\n",
      "0 0\n",
      "0\n",
      "0 0\n",
      "1\n",
      "1 0\n",
      "1\n",
      "1 0\n",
      "0\n",
      "0 3\n",
      "0\n",
      "0 3\n",
      "0\n",
      "0 3\n",
      "0 5\n",
      "0 5\n",
      "5 0\n",
      "1 0\n",
      "1 0\n",
      "1 1\n",
      "1 1\n",
      "1 1\n",
      "1 1\n",
      "1 1\n",
      "12 1\n",
      "12 1\n",
      "2 2\n",
      "2 2\n",
      "2 2\n",
      "2 2\n",
      "2 2\n",
      "3 2\n",
      "3 2\n",
      "2 4\n",
      "2 4\n",
      "3 0\n",
      "0 3\n",
      "0 3\n",
      "3 2\n",
      "3 2\n",
      "3 3\n"
     ]
    },
    {
     "ename": "IndexError",
     "evalue": "list index out of range",
     "output_type": "error",
     "traceback": [
      "\u001b[0;31m---------------------------------------------------------------------------\u001b[0m",
      "\u001b[0;31mIndexError\u001b[0m                                Traceback (most recent call last)",
      "\u001b[0;32m/var/folders/j5/vpmn9x657d3gzwvrx2vryvc80000gn/T/ipykernel_32145/2026496552.py\u001b[0m in \u001b[0;36m<module>\u001b[0;34m\u001b[0m\n\u001b[0;32m----> 1\u001b[0;31m \u001b[0mcreate_geojson_linked_sections\u001b[0m\u001b[0;34m(\u001b[0m\u001b[0mlinks\u001b[0m\u001b[0;34m,\u001b[0m \u001b[0msurfs\u001b[0m\u001b[0;34m)\u001b[0m\u001b[0;34m\u001b[0m\u001b[0;34m\u001b[0m\u001b[0m\n\u001b[0m",
      "\u001b[0;32m/var/folders/j5/vpmn9x657d3gzwvrx2vryvc80000gn/T/ipykernel_32145/3935228534.py\u001b[0m in \u001b[0;36mcreate_geojson_linked_sections\u001b[0;34m(links, surfs)\u001b[0m\n\u001b[1;32m      6\u001b[0m             \u001b[0mprint\u001b[0m\u001b[0;34m(\u001b[0m\u001b[0mlinks\u001b[0m\u001b[0;34m[\u001b[0m\u001b[0;34m'fault1'\u001b[0m\u001b[0;34m]\u001b[0m\u001b[0;34m[\u001b[0m\u001b[0mi\u001b[0m\u001b[0;34m]\u001b[0m\u001b[0;34m)\u001b[0m\u001b[0;34m\u001b[0m\u001b[0;34m\u001b[0m\u001b[0m\n\u001b[1;32m      7\u001b[0m         \u001b[0mprint\u001b[0m\u001b[0;34m(\u001b[0m\u001b[0mlinks\u001b[0m\u001b[0;34m[\u001b[0m\u001b[0;34m'fault1'\u001b[0m\u001b[0;34m]\u001b[0m\u001b[0;34m[\u001b[0m\u001b[0mi\u001b[0m\u001b[0;34m]\u001b[0m\u001b[0;34m,\u001b[0m\u001b[0mlinks\u001b[0m\u001b[0;34m[\u001b[0m\u001b[0;34m'section1'\u001b[0m\u001b[0;34m]\u001b[0m\u001b[0;34m[\u001b[0m\u001b[0mi\u001b[0m\u001b[0;34m]\u001b[0m\u001b[0;34m)\u001b[0m\u001b[0;34m\u001b[0m\u001b[0;34m\u001b[0m\u001b[0m\n\u001b[0;32m----> 8\u001b[0;31m         \u001b[0mtmp\u001b[0m \u001b[0;34m=\u001b[0m \u001b[0msections_ul\u001b[0m\u001b[0;34m[\u001b[0m\u001b[0mlinks\u001b[0m\u001b[0;34m[\u001b[0m\u001b[0;34m'fault1'\u001b[0m\u001b[0;34m]\u001b[0m\u001b[0;34m[\u001b[0m\u001b[0mi\u001b[0m\u001b[0;34m]\u001b[0m\u001b[0;34m]\u001b[0m\u001b[0;34m[\u001b[0m\u001b[0mlinks\u001b[0m\u001b[0;34m[\u001b[0m\u001b[0;34m'section1'\u001b[0m\u001b[0;34m]\u001b[0m\u001b[0;34m[\u001b[0m\u001b[0mi\u001b[0m\u001b[0;34m]\u001b[0m\u001b[0;34m]\u001b[0m\u001b[0;34m\u001b[0m\u001b[0;34m\u001b[0m\u001b[0m\n\u001b[0m\u001b[1;32m      9\u001b[0m         \u001b[0;31m# sec_ul = np.array()\u001b[0m\u001b[0;34m\u001b[0m\u001b[0;34m\u001b[0m\u001b[0m\n\u001b[1;32m     10\u001b[0m         \u001b[0;31m#sec0 = get_section(links[0], sec_ul, nc_strike, nc_dip)\u001b[0m\u001b[0;34m\u001b[0m\u001b[0;34m\u001b[0m\u001b[0m\n",
      "\u001b[0;31mIndexError\u001b[0m: list index out of range"
     ]
    }
   ],
   "source": [
    "create_geojson_linked_sections(links, surfs)"
   ]
  },
  {
   "cell_type": "code",
   "execution_count": null,
   "id": "42cdc63c-de14-443e-ba62-2dde4d7c01e0",
   "metadata": {},
   "outputs": [],
   "source": [
    "get_section_polygon(lons, lats, deps)"
   ]
  }
 ],
 "metadata": {
  "kernelspec": {
   "display_name": "Python 3 (ipykernel)",
   "language": "python",
   "name": "python3"
  },
  "language_info": {
   "codemirror_mode": {
    "name": "ipython",
    "version": 3
   },
   "file_extension": ".py",
   "mimetype": "text/x-python",
   "name": "python",
   "nbconvert_exporter": "python",
   "pygments_lexer": "ipython3",
   "version": "3.9.16"
  }
 },
 "nbformat": 4,
 "nbformat_minor": 5
}
