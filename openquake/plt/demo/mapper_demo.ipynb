{
 "cells": [
  {
   "cell_type": "code",
   "execution_count": null,
   "metadata": {},
   "outputs": [],
   "source": [
    "%load_ext autoreload\n",
    "%autoreload 2"
   ]
  },
  {
   "cell_type": "code",
   "execution_count": null,
   "metadata": {},
   "outputs": [],
   "source": [
    "%matplotlib inline\n",
    "#import warnings; warnings.filterwarnings(\"ignore\")\n",
    "\n",
    "# Python dependences\n",
    "import os, time\n",
    "import numpy as np   # Numpy - Python's numerical library\n",
    "import matplotlib.pyplot as plt  # Matplotlib - Python's plotting library\n",
    "from copy import deepcopy   # Python module for copying objects\n",
    "\n",
    "# Import plotting basemap\n",
    "from openquake.hazardlib.nrml import to_python\n",
    "from openquake.plt.mapping import HMTKBaseMap\n",
    "\n",
    "# Input and Output Tools\n",
    "# Catalogue and sources \n",
    "from openquake.hmtk.parsers.catalogue import CsvCatalogueParser   # Reads an earthquake catalogue from CSV\n",
    "from openquake.hmtk.parsers.catalogue.csv_catalogue_parser import CsvCatalogueWriter  # Writes an earthquake catalogue to CSV\n",
    "from openquake.hmtk.parsers.source_model.nrml04_parser import nrmlSourceModelParser  # Imports a source model from XML\n"
   ]
  },
  {
   "cell_type": "markdown",
   "metadata": {},
   "source": [
    "# Complex fault source"
   ]
  },
  {
   "cell_type": "code",
   "execution_count": null,
   "metadata": {},
   "outputs": [],
   "source": [
    "source_model_file = \"test-sources/complexfaults.xml\"\n",
    "source_model = to_python(source_model_file) # initiate source model parser\n",
    "\n",
    "# Parse the seismic sources and save them into a variable called \"source_model\"\n",
    "#source_model = parser.read_file(\"ComplexFaultSourceClassicalPSHA\") # You must supply a name for the source model"
   ]
  },
  {
   "cell_type": "code",
   "execution_count": null,
   "metadata": {},
   "outputs": [],
   "source": [
    "type(source_model)"
   ]
  },
  {
   "cell_type": "code",
   "execution_count": null,
   "metadata": {},
   "outputs": [],
   "source": [
    "map_config = {'min_lon': -2.5, 'max_lon': 2.5,\n",
    "              'min_lat': -2.5, 'max_lat': 2.5,\n",
    "              'title': 'ComplexFaultSourceClassicalPSHA'}"
   ]
  },
  {
   "cell_type": "code",
   "execution_count": null,
   "metadata": {},
   "outputs": [],
   "source": [
    "finame='ComplexFaultSourceClassicalPSHA.jpg'\n",
    "basemap1 = HMTKBaseMap(map_config, output_folder='ComplexFaultSourceClassicalPSHA', overwrite=True)\n",
    "basemap1.add_source_model(source_model) \n",
    "\n",
    "basemap1.savemap(verb=1, filename=finame, save_script=True)\n"
   ]
  },
  {
   "cell_type": "code",
   "execution_count": null,
   "metadata": {},
   "outputs": [],
   "source": [
    "from IPython.display import Image, HTML, display\n",
    "from glob import glob\n",
    "imagesList=''.join( [\"<img style='width: 360px; margin: 0px; float: left; border: 1px solid black; background: #CCC' src='%s' />\" % str(s) \n",
    "                     for s in ['ComplexFaultSourceClassicalPSHA/ComplexFaultSourceClassicalPSHA.jpg','ComplexFaultSourceClassicalPSHA/ComplexFaultSourceClassicalPSHA.jpg'] ])\n",
    "display(HTML(imagesList))"
   ]
  },
  {
   "cell_type": "code",
   "execution_count": null,
   "metadata": {},
   "outputs": [],
   "source": [
    "from wand.image import Image as WImage\n",
    "WImage(filename='ComplexFaultSourceClassicalPSHA/ComplexFaultSourceClassicalPSHA.jpg')"
   ]
  },
  {
   "cell_type": "raw",
   "metadata": {},
   "source": [
    "# Point source"
   ]
  },
  {
   "cell_type": "code",
   "execution_count": null,
   "metadata": {},
   "outputs": [],
   "source": [
    "source_model_file = \"test-sources/pointsources.xml\"\n",
    "source_model = to_python(source_model_file) # initiate source model parser"
   ]
  },
  {
   "cell_type": "code",
   "execution_count": null,
   "metadata": {},
   "outputs": [],
   "source": [
    "map_config = {'min_lon': 179, 'max_lon': 181,\n",
    "              'min_lat': -1, 'max_lat': 1,\n",
    "              'title': 'PointSourceClassicalPSHA'}"
   ]
  },
  {
   "cell_type": "code",
   "execution_count": null,
   "metadata": {},
   "outputs": [],
   "source": [
    "finame='PointSourceClassicalPSHA.pdf'\n",
    "basemap1 = HMTKBaseMap(map_config, output_folder='PointSourceClassicalPSHA', overwrite=True)\n",
    "basemap1.add_source_model(source_model) \n",
    "\n",
    "basemap1.savemap(verb=1, filename=finame)\n"
   ]
  },
  {
   "cell_type": "code",
   "execution_count": null,
   "metadata": {},
   "outputs": [],
   "source": [
    "from wand.image import Image as WImage\n",
    "WImage(filename='PointSourceClassicalPSHA/PointSourceClassicalPSHA.pdf')"
   ]
  },
  {
   "cell_type": "markdown",
   "metadata": {},
   "source": [
    "# Simple fault source"
   ]
  },
  {
   "cell_type": "code",
   "execution_count": null,
   "metadata": {},
   "outputs": [],
   "source": [
    "from openquake.hazardlib.sourceconverter import SourceConverter\n",
    "source_model_file = \"test-sources/simplefaults.xml\"\n",
    "conv = SourceConverter(width_of_mfd_bin=0.5)\n",
    "source_model = to_python(source_model_file, conv) # initiate source model parser"
   ]
  },
  {
   "cell_type": "code",
   "execution_count": null,
   "metadata": {},
   "outputs": [],
   "source": [
    "map_config = {'min_lon': -2, 'max_lon': 2,\n",
    "              'min_lat': -2, 'max_lat': 2,\n",
    "              'title': 'SimpleFaultSourceClassicalPSHA'}"
   ]
  },
  {
   "cell_type": "code",
   "execution_count": null,
   "metadata": {},
   "outputs": [],
   "source": [
    "finame='SimpleFaultSourceClassicalPSHA.pdf'\n",
    "basemap1 = HMTKBaseMap(map_config, output_folder='SimpleFaultSourceClassicalPSHA', overwrite=True)\n",
    "basemap1.add_source_model(source_model) \n",
    "\n",
    "basemap1.savemap(verb=1, filename=finame)"
   ]
  },
  {
   "cell_type": "code",
   "execution_count": null,
   "metadata": {},
   "outputs": [],
   "source": [
    "from wand.image import Image as WImage\n",
    "WImage(filename='SimpleFaultSourceClassicalPSHA/SimpleFaultSourceClassicalPSHA.pdf')"
   ]
  },
  {
   "cell_type": "markdown",
   "metadata": {},
   "source": [
    "# Area source"
   ]
  },
  {
   "cell_type": "code",
   "execution_count": null,
   "metadata": {},
   "outputs": [],
   "source": [
    "source_model_file = \"test-sources/areasources.xml\"\n",
    "source_model = to_python(source_model_file) # initiate source model parser"
   ]
  },
  {
   "cell_type": "code",
   "execution_count": null,
   "metadata": {},
   "outputs": [],
   "source": [
    "map_config = {'min_lon': -2, 'max_lon': 2,\n",
    "              'min_lat': -2, 'max_lat': 2,\n",
    "              'title': 'AreaSourceClassicalPSHA'}"
   ]
  },
  {
   "cell_type": "code",
   "execution_count": null,
   "metadata": {},
   "outputs": [],
   "source": [
    "finame='AreaSourceClassicalPSHA.pdf'\n",
    "basemap1 = HMTKBaseMap(map_config, output_folder='AreaSourceClassicalPSHA', overwrite=True)\n",
    "basemap1.add_source_model(source_model) \n",
    "\n",
    "basemap1.savemap(verb=1, filename=finame)"
   ]
  },
  {
   "cell_type": "code",
   "execution_count": null,
   "metadata": {},
   "outputs": [],
   "source": [
    "from wand.image import Image as WImage\n",
    "WImage(filename='AreaSourceClassicalPSHA/AreaSourceClassicalPSHA.pdf')"
   ]
  },
  {
   "cell_type": "markdown",
   "metadata": {},
   "source": [
    "# Focal Mechanisms "
   ]
  },
  {
   "cell_type": "code",
   "execution_count": null,
   "metadata": {},
   "outputs": [],
   "source": [
    "map_config = {'min_lon': 24, 'max_lon': 33,\n",
    "              'min_lat': 32, 'max_lat': 36,\n",
    "              'title': 'Focal Mechanisms'}"
   ]
  },
  {
   "cell_type": "code",
   "execution_count": null,
   "metadata": {},
   "outputs": [],
   "source": [
    "basemap1 = HMTKBaseMap(map_config, output_folder='FocalMech', projection='-JM30', overwrite=True)\n",
    "filename = '/Users/kjohnson/GEM/oq-mbtk/openquake/plt/demo/input_data/FM_mockset.csv'\n",
    "basemap1.add_focal_mechanism(filename, 'MT')\n",
    "finame = 'FocalMech.pdf'\n",
    "basemap1.savemap(verb=1, filename=finame)"
   ]
  },
  {
   "cell_type": "code",
   "execution_count": null,
   "metadata": {},
   "outputs": [],
   "source": [
    "from wand.image import Image as WImage\n",
    "WImage(filename='FocalMech/FocalMech.pdf')"
   ]
  },
  {
   "cell_type": "code",
   "execution_count": null,
   "metadata": {},
   "outputs": [],
   "source": [
    "from openquake.hmtk.parsers.catalogue import CsvCatalogueParser   # Reads an earthquake catalogue from CSV\n",
    "\n",
    "catalogue_file = \"input_data/Aegean_ExtendedCat1.csv\"\n",
    "parser = CsvCatalogueParser(catalogue_file) # initiate catalogue parser \n",
    "catalogue = parser.read_file(start_year=1900) # load only earthquakes after year 1900\n"
   ]
  },
  {
   "cell_type": "code",
   "execution_count": null,
   "metadata": {},
   "outputs": [],
   "source": [
    "lons = catalogue.data['longitude']\n",
    "lats = catalogue.data['latitude']\n",
    "mags = catalogue.data['magnitude']\n",
    "depths = catalogue.data['depth']"
   ]
  },
  {
   "cell_type": "code",
   "execution_count": null,
   "metadata": {},
   "outputs": [],
   "source": [
    "# Find limits of the catalogue\n",
    "llon, ulon, llat, ulat = catalogue.get_bounding_box()\n",
    "\n",
    "map_config = {'min_lon': np.floor(llon), 'max_lon': np.ceil(ulon),\n",
    "              'min_lat': np.floor(llat), 'max_lat': np.ceil(ulat),\n",
    "              'title': 'Seismicity: color scaled'}\n",
    "\n",
    "# Initialize a toolkit basemap\n",
    "basemap1 = HMTKBaseMap(map_config, output_folder='gmt2', overwrite=True)\n",
    "\n",
    "basemap1.add_colour_scaled_points(lons, lats, mags, label=\"Magnitude\")\n",
    "finame = 'colorscaled.jpg'\n",
    "basemap1.savemap(verb=True, filename=finame)"
   ]
  },
  {
   "cell_type": "code",
   "execution_count": null,
   "metadata": {},
   "outputs": [],
   "source": [
    "from wand.image import Image as WImage\n",
    "WImage(filename='gmt2/colorscaled.jpg')"
   ]
  },
  {
   "cell_type": "code",
   "execution_count": null,
   "metadata": {},
   "outputs": [],
   "source": [
    "# Find limits of the catalogue\n",
    "llon, ulon, llat, ulat = catalogue.get_bounding_box()\n",
    "\n",
    "map_config = {'min_lon': np.floor(llon), 'max_lon': np.ceil(ulon),\n",
    "              'min_lat': np.floor(llat), 'max_lat': np.ceil(ulat),\n",
    "              'title': 'Seismicity: size scaled'}\n",
    "\n",
    "# Initialize a toolkit basemap\n",
    "basemap1 = HMTKBaseMap(map_config, output_folder='gmt2', overwrite=True)\n",
    "basemap1.add_size_scaled_points(lons, lats, mags, color='yellow', smin=0.05, coeff=0.01, label='Magnitude')\n",
    "#basemap1.add_size_scaled_points(lons, lats, depths, color='yellow', smin=0.1, coeff=0.05, sscale=0.5, label='Depth (km)')\n",
    "finame = 'sizescaled.jpg'\n",
    "basemap1.savemap(verb=True, filename=finame)"
   ]
  },
  {
   "cell_type": "code",
   "execution_count": null,
   "metadata": {},
   "outputs": [],
   "source": [
    "from wand.image import Image as WImage\n",
    "WImage(filename='gmt2/sizescaled.jpg')"
   ]
  },
  {
   "cell_type": "code",
   "execution_count": null,
   "metadata": {},
   "outputs": [],
   "source": [
    "from openquake.hmtk.seismicity.selector import CatalogueSelector\n",
    "map_config = {'min_lon': np.floor(llon), 'max_lon': np.ceil(ulon),\n",
    "              'min_lat': np.floor(llat), 'max_lat': np.ceil(ulat),\n",
    "              'title': 'Earthquake catalogue'}\n",
    "\n",
    "selector1 = CatalogueSelector(catalogue, create_copy=True)\n",
    "catalogue1 = selector1.within_magnitude_range(lower_mag=4)\n",
    "#selector2 = CatalogueSelector(catalogue, create_copy=True)\n",
    "#catalogue2 = selector2.within_depth_range(lower_depth=100)\n",
    "\n",
    "basemap1 = HMTKBaseMap(map_config, output_folder='cat', overwrite=True)\n",
    "\n",
    "basemap1.add_catalogue(catalogue1)#, logscale=False)#, cpt_file='test_cpt.cpt')\n",
    "finame = 'catalogue.jpg'\n",
    "basemap1.savemap(filename=finame, save_script=True)"
   ]
  },
  {
   "cell_type": "code",
   "execution_count": null,
   "metadata": {},
   "outputs": [],
   "source": [
    "from wand.image import Image as WImage\n",
    "WImage(filename='cat/catalogue.jpg')\n"
   ]
  },
  {
   "cell_type": "markdown",
   "metadata": {},
   "source": [
    "# Aegean sea example"
   ]
  },
  {
   "cell_type": "raw",
   "metadata": {},
   "source": [
    "source_model_file = '/Users/kjohnson/GEM/HazardMosaic/PHL/in/ssm/crust/model7/gridded_seismicity_source_2.xml'\n",
    "source_model = to_python(source_model_file) # initiate source model parser\n",
    "source_model_file_2 = '/Users/kjohnson/GEM/HazardMosaic/PHL/in/ssm/crust/model7/shallow_faults.xml'\n",
    "source_model_2 = to_python(source_model_file_2)"
   ]
  },
  {
   "cell_type": "code",
   "execution_count": null,
   "metadata": {},
   "outputs": [],
   "source": [
    "source_model = to_python('/Users/kjohnson/GEM/HazardMosaic/PNG/in/ssm/source_model_as_cs.xml')"
   ]
  },
  {
   "cell_type": "code",
   "execution_count": null,
   "metadata": {},
   "outputs": [],
   "source": [
    "map_config = {'min_lon': 130, 'max_lon': 162,\n",
    "              'min_lat': -15, 'max_lat': 2,\n",
    "              'title': 'Papua New Guinea source model'}\n",
    "\n",
    "basemap1 = HMTKBaseMap(map_config, output_folder='phl', overwrite=True)\n",
    "basemap1.add_source_model(source_model) \n",
    "finame = 'PNGSourceModel.jpg'\n",
    "\n",
    "basemap1.savemap(verb=1, filename=finame)"
   ]
  },
  {
   "cell_type": "code",
   "execution_count": null,
   "metadata": {},
   "outputs": [],
   "source": [
    "from wand.image import Image as WImage\n",
    "WImage(filename='phl/PNGSourceModel.jpg')"
   ]
  },
  {
   "cell_type": "code",
   "execution_count": null,
   "metadata": {},
   "outputs": [],
   "source": [
    "%%bash\n",
    "open ."
   ]
  },
  {
   "cell_type": "code",
   "execution_count": null,
   "metadata": {},
   "outputs": [],
   "source": []
  }
 ],
 "metadata": {
  "kernelspec": {
   "display_name": "Python 3",
   "language": "python",
   "name": "python3"
  },
  "language_info": {
   "codemirror_mode": {
    "name": "ipython",
    "version": 3
   },
   "file_extension": ".py",
   "mimetype": "text/x-python",
   "name": "python",
   "nbconvert_exporter": "python",
   "pygments_lexer": "ipython3",
   "version": "3.6.8"
  }
 },
 "nbformat": 4,
 "nbformat_minor": 2
}
