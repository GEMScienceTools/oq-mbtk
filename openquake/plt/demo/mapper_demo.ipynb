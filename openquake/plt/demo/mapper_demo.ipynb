{
 "cells": [
  {
   "cell_type": "code",
   "execution_count": 9,
   "metadata": {},
   "outputs": [],
   "source": [
    "%load_ext autoreload\n",
    "%autoreload 2"
   ]
  },
  {
   "cell_type": "code",
   "execution_count": 10,
   "metadata": {},
   "outputs": [],
   "source": [
    "%matplotlib inline\n",
    "#import warnings; warnings.filterwarnings(\"ignore\")\n",
    "\n",
    "# Python dependences\n",
    "import os, time\n",
    "import numpy as np   # Numpy - Python's numerical library\n",
    "import matplotlib.pyplot as plt  # Matplotlib - Python's plotting library\n",
    "from copy import deepcopy   # Python module for copying objects\n",
    "\n",
    "# Import plotting basemap\n",
    "from openquake.plt.mapping import HMTKBaseMap\n",
    "\n",
    "# Input and Output Tools\n",
    "# Catalogue and sources \n",
    "from openquake.hmtk.parsers.catalogue import CsvCatalogueParser   # Reads an earthquake catalogue from CSV\n",
    "from openquake.hmtk.parsers.catalogue.csv_catalogue_parser import CsvCatalogueWriter  # Writes an earthquake catalogue to CSV\n",
    "from openquake.hmtk.parsers.source_model.nrml04_parser import nrmlSourceModelParser  # Imports a source model from XML\n"
   ]
  },
  {
   "cell_type": "markdown",
   "metadata": {},
   "source": [
    "# Complex fault source"
   ]
  },
  {
   "cell_type": "code",
   "execution_count": 63,
   "metadata": {},
   "outputs": [],
   "source": [
    "source_model_file = \"test-sources/complexfaults.xml\"\n",
    "parser = nrmlSourceModelParser(source_model_file) # initiate source model parser\n",
    "\n",
    "# Parse the seismic sources and save them into a variable called \"source_model\"\n",
    "source_model = parser.read_file(\"ComplexFaultSourceClassicalPSHA\") # You must supply a name for the source model"
   ]
  },
  {
   "cell_type": "code",
   "execution_count": 64,
   "metadata": {},
   "outputs": [],
   "source": [
    "map_config = {'min_lon': -2.5, 'max_lon': 2.5,\n",
    "              'min_lat': -2.5, 'max_lat': 2.5,\n",
    "              'title': 'ComplexFaultSourceClassicalPSHA'}"
   ]
  },
  {
   "cell_type": "code",
   "execution_count": 65,
   "metadata": {},
   "outputs": [
    {
     "name": "stdout",
     "output_type": "stream",
     "text": [
      "gmt begin ComplexFaultSourceClassicalPSHA/ComplexFaultSourceClassicalPSHA.pdf\n",
      "gmt basemap -R-2.5/2.5/-2.5/2.5 -JM15 -BWSne -Bx2.0 -By2.0\n",
      "gmt coast -Df -R-2.5/2.5/-2.5/2.5 -JM15 -Wthin -Gwheat\n",
      "gmt makecpt -Cjet -T0/35.00000001352754/2> ComplexFaultSourceClassicalPSHA/cf_tmp.cpt\n",
      "gmt plot ComplexFaultSourceClassicalPSHA/mtkComplexFaultPoints.csv -CComplexFaultSourceClassicalPSHA/cf_tmp.cpt -Ss0.1 \n",
      "gmt colorbar -DJBC -Ba10+l\"Depth (km)\" -CComplexFaultSourceClassicalPSHA/cf_tmp.cpt\n",
      "gmt plot ComplexFaultSourceClassicalPSHA/mtkComplexFaultOutline.csv -Wthick,black\n",
      "gmt end\n",
      "Map saved to ComplexFaultSourceClassicalPSHA/ComplexFaultSourceClassicalPSHA.pdf.\n"
     ]
    }
   ],
   "source": [
    "finame='ComplexFaultSourceClassicalPSHA.pdf'\n",
    "basemap1 = HMTKBaseMap(map_config, output_folder='ComplexFaultSourceClassicalPSHA', overwrite=True)\n",
    "basemap1.add_source_model(source_model) \n",
    "\n",
    "basemap1.savemap(verb=1, filename=finame)\n"
   ]
  },
  {
   "cell_type": "code",
   "execution_count": 66,
   "metadata": {},
   "outputs": [
    {
     "data": {
      "image/png": "[encoded data removed]",
      "text/plain": [
       "<wand.image.Image: fda7c13 'PDF' (459x515)>"
      ]
     },
     "execution_count": 66,
     "metadata": {},
     "output_type": "execute_result"
    }
   ],
   "source": [
    "from wand.image import Image as WImage\n",
    "WImage(filename='ComplexFaultSourceClassicalPSHA/ComplexFaultSourceClassicalPSHA.pdf')"
   ]
  },
  {
   "cell_type": "markdown",
   "metadata": {},
   "source": [
    "# Point source"
   ]
  },
  {
   "cell_type": "code",
   "execution_count": 68,
   "metadata": {},
   "outputs": [],
   "source": [
    "source_model_file = \"test-sources/pointsources.xml\"\n",
    "parser = nrmlSourceModelParser(source_model_file) # initiate source model parser\n",
    "\n",
    "# Parse the seismic sources and save them into a variable called \"source_model\"\n",
    "source_model = parser.read_file(\"PointSourceClassicalPSHA\") # You must supply a name for the source model\n",
    "\n"
   ]
  },
  {
   "cell_type": "code",
   "execution_count": 69,
   "metadata": {},
   "outputs": [],
   "source": [
    "map_config = {'min_lon': 179, 'max_lon': 181,\n",
    "              'min_lat': -1, 'max_lat': 1,\n",
    "              'title': 'PointSourceClassicalPSHA'}"
   ]
  },
  {
   "cell_type": "code",
   "execution_count": 70,
   "metadata": {},
   "outputs": [
    {
     "name": "stdout",
     "output_type": "stream",
     "text": [
      "gmt begin PointSourceClassicalPSHA/PointSourceClassicalPSHA.pdf\n",
      "gmt basemap -R179/181/-1/1 -JM15 -BWSne -Bx2.0 -By2.0\n",
      "gmt coast -Df -R179/181/-1/1 -JM15 -Wthin -Gwheat\n",
      "gmt plot PointSourceClassicalPSHA/mtkPointSource.csv -Ss0.5 -Gred\n",
      "gmt end\n",
      "Map saved to PointSourceClassicalPSHA/PointSourceClassicalPSHA.pdf.\n"
     ]
    }
   ],
   "source": [
    "finame='PointSourceClassicalPSHA.pdf'\n",
    "basemap1 = HMTKBaseMap(map_config, output_folder='PointSourceClassicalPSHA', overwrite=True)\n",
    "basemap1.add_source_model(source_model) \n",
    "\n",
    "basemap1.savemap(verb=1, filename=finame)\n"
   ]
  },
  {
   "cell_type": "code",
   "execution_count": 71,
   "metadata": {},
   "outputs": [
    {
     "data": {
      "image/png": "[encoded data removed]",
      "text/plain": [
       "<wand.image.Image: 2120389 'PDF' (452x447)>"
      ]
     },
     "execution_count": 71,
     "metadata": {},
     "output_type": "execute_result"
    }
   ],
   "source": [
    "from wand.image import Image as WImage\n",
    "WImage(filename='PointSourceClassicalPSHA/PointSourceClassicalPSHA.pdf')"
   ]
  },
  {
   "cell_type": "markdown",
   "metadata": {},
   "source": [
    "# Simple fault source"
   ]
  },
  {
   "cell_type": "code",
   "execution_count": 72,
   "metadata": {},
   "outputs": [],
   "source": [
    "source_model_file = \"test-sources/simplefaults.xml\"\n",
    "parser = nrmlSourceModelParser(source_model_file) # initiate source model parser\n",
    "\n",
    "# Parse the seismic sources and save them into a variable called \"source_model\"\n",
    "source_model = parser.read_file(\"SimpleFaultSourceClassicalPSHA\") # You must supply a name for the source model\n",
    "\n"
   ]
  },
  {
   "cell_type": "code",
   "execution_count": 73,
   "metadata": {},
   "outputs": [],
   "source": [
    "map_config = {'min_lon': -2, 'max_lon': 2,\n",
    "              'min_lat': -2, 'max_lat': 2,\n",
    "              'title': 'SimpleFaultSourceClassicalPSHA'}"
   ]
  },
  {
   "cell_type": "code",
   "execution_count": 74,
   "metadata": {},
   "outputs": [
    {
     "name": "stdout",
     "output_type": "stream",
     "text": [
      "gmt begin SimpleFaultSourceClassicalPSHA/SimpleFaultSourceClassicalPSHA.pdf\n",
      "gmt basemap -R-2/2/-2/2 -JM15 -BWSne -Bx2.0 -By2.0\n",
      "gmt coast -Df -R-2/2/-2/2 -JM15 -Wthin -Gwheat\n",
      "gmt plot SimpleFaultSourceClassicalPSHA/mtkSimpleFaultProjection.csv -t50 -Ggray\n",
      "gmt plot SimpleFaultSourceClassicalPSHA/mtkSimpleFaultTrace.csv -Wthick,red\n",
      "gmt end\n",
      "Map saved to SimpleFaultSourceClassicalPSHA/SimpleFaultSourceClassicalPSHA.pdf.\n"
     ]
    }
   ],
   "source": [
    "finame='SimpleFaultSourceClassicalPSHA.pdf'\n",
    "basemap1 = HMTKBaseMap(map_config, output_folder='SimpleFaultSourceClassicalPSHA', overwrite=True)\n",
    "basemap1.add_source_model(source_model) \n",
    "\n",
    "basemap1.savemap(verb=1, filename=finame)"
   ]
  },
  {
   "cell_type": "code",
   "execution_count": 75,
   "metadata": {},
   "outputs": [
    {
     "data": {
      "image/png": "[encoded data removed]",
      "text/plain": [
       "<wand.image.Image: 99743c9 'PDF' (459x447)>"
      ]
     },
     "execution_count": 75,
     "metadata": {},
     "output_type": "execute_result"
    }
   ],
   "source": [
    "from wand.image import Image as WImage\n",
    "WImage(filename='SimpleFaultSourceClassicalPSHA/SimpleFaultSourceClassicalPSHA.pdf')"
   ]
  },
  {
   "cell_type": "markdown",
   "metadata": {},
   "source": [
    "# Area source"
   ]
  },
  {
   "cell_type": "code",
   "execution_count": 76,
   "metadata": {},
   "outputs": [],
   "source": [
    "source_model_file = \"test-sources/areasources.xml\"\n",
    "parser = nrmlSourceModelParser(source_model_file) # initiate source model parser\n",
    "\n",
    "# Parse the seismic sources and save them into a variable called \"source_model\"\n",
    "source_model = parser.read_file(\"AreaSourceClassicalPSHA\") # You must supply a name for the source model\n"
   ]
  },
  {
   "cell_type": "code",
   "execution_count": 77,
   "metadata": {},
   "outputs": [],
   "source": [
    "map_config = {'min_lon': -2, 'max_lon': 2,\n",
    "              'min_lat': -2, 'max_lat': 2,\n",
    "              'title': 'AreaSourceClassicalPSHA'}"
   ]
  },
  {
   "cell_type": "code",
   "execution_count": 78,
   "metadata": {},
   "outputs": [
    {
     "name": "stdout",
     "output_type": "stream",
     "text": [
      "gmt begin AreaSourceClassicalPSHA/AreaSourceClassicalPSHA.pdf\n",
      "gmt basemap -R-2/2/-2/2 -JM15 -BWSne -Bx2.0 -By2.0\n",
      "gmt coast -Df -R-2/2/-2/2 -JM15 -Wthin -Gwheat\n",
      "gmt plot AreaSourceClassicalPSHA/mtkAreaSource.csv -L -Wthick,blue\n",
      "gmt end\n",
      "Map saved to AreaSourceClassicalPSHA/AreaSourceClassicalPSHA.pdf.\n"
     ]
    }
   ],
   "source": [
    "finame='AreaSourceClassicalPSHA.pdf'\n",
    "basemap1 = HMTKBaseMap(map_config, output_folder='AreaSourceClassicalPSHA', overwrite=True)\n",
    "basemap1.add_source_model(source_model) \n",
    "\n",
    "basemap1.savemap(verb=1, filename=finame)"
   ]
  },
  {
   "cell_type": "code",
   "execution_count": 79,
   "metadata": {},
   "outputs": [
    {
     "data": {
      "image/png": "[encoded data removed]",
      "text/plain": [
       "<wand.image.Image: 3e04add 'PDF' (459x447)>"
      ]
     },
     "execution_count": 79,
     "metadata": {},
     "output_type": "execute_result"
    }
   ],
   "source": [
    "from wand.image import Image as WImage\n",
    "WImage(filename='AreaSourceClassicalPSHA/AreaSourceClassicalPSHA.pdf')"
   ]
  },
  {
   "cell_type": "code",
   "execution_count": null,
   "metadata": {},
   "outputs": [],
   "source": []
  }
 ],
 "metadata": {
  "kernelspec": {
   "display_name": "Python 3",
   "language": "python",
   "name": "python3"
  },
  "language_info": {
   "codemirror_mode": {
    "name": "ipython",
    "version": 3
   },
   "file_extension": ".py",
   "mimetype": "text/x-python",
   "name": "python",
   "nbconvert_exporter": "python",
   "pygments_lexer": "ipython3",
   "version": "3.6.8"
  }
 },
 "nbformat": 4,
 "nbformat_minor": 2
}
