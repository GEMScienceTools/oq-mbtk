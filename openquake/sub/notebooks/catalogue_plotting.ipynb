{
 "cells": [
  {
   "cell_type": "code",
   "execution_count": 5,
   "metadata": {},
   "outputs": [],
   "source": [
    "%matplotlib inline\n",
    "import os\n",
    "import re\n",
    "import sys\n",
    "import numpy\n",
    "import pickle\n",
    "\n",
    "sys.path.append('/Users/mpagani/Projects/hmtk/')\n",
    "sys.path.append('/Users/mpagani/Projects/original/oq-engine/')\n",
    "\n",
    "import matplotlib.pyplot as plt\n",
    "\n",
    "from mpl_toolkits.basemap import Basemap"
   ]
  },
  {
   "cell_type": "code",
   "execution_count": 6,
   "metadata": {},
   "outputs": [],
   "source": [
    "cat = pickle.load(open( \"./../data/catalogue_ext_cac.p\", \"rb\" ))"
   ]
  },
  {
   "cell_type": "markdown",
   "metadata": {},
   "source": [
    "# Subduction trench\n",
    "The trench curve we use was created by joining parts of the file available here:\n",
    "http://www-udc.ig.utexas.edu/external/plates/data/plate_boundaries/trench.gmt\n",
    "\n",
    "The ID segments used is:\n",
    "+ 9788 9788 MIDDLE AMERICA TRENCH, MEXICO x 2\n",
    "+ 9788 MIDDLE AMERICA TRENCH, GUERRERO \n"
   ]
  },
  {
   "cell_type": "code",
   "execution_count": 8,
   "metadata": {},
   "outputs": [],
   "source": [
    "fin = open('./../data/trench.xy', 'r')\n",
    "trench = []\n",
    "for line in fin: \n",
    "    aa = re.split('\\s+', re.sub('^\\s+', '', line))\n",
    "    trench.append((float(aa[0]), float(aa[1])))\n",
    "fin.close()\n",
    "trc = numpy.array(trench)"
   ]
  },
  {
   "cell_type": "code",
   "execution_count": null,
   "metadata": {
    "collapsed": true
   },
   "outputs": [],
   "source": [
    "def plot_gmt_multi_line(proj, filename):\n",
    "    trenches = [] \n",
    "    fin = open(filename, 'r')\n",
    "    trench = []\n",
    "    for line in fin: \n",
    "        if re.search('^>', line):\n",
    "            if len(trench):\n",
    "                trc = numpy.array(trench)\n",
    "                trenches.append(trc)\n",
    "                x, y = proj(trc[:,0], trc[:,1])\n",
    "                plt.plot(x, y, '--r') \n",
    "            name = line\n",
    "            trench = []\n",
    "        else:\n",
    "            aa = re.split('\\s+', re.sub('^\\s+', '', line))\n",
    "            trench.append((float(aa[0]), float(aa[1])))\n",
    "    fin.close()"
   ]
  },
  {
   "cell_type": "code",
   "execution_count": null,
   "metadata": {
    "collapsed": true
   },
   "outputs": [],
   "source": [
    "import matplotlib.patheffects as PathEffects\n",
    "\n",
    "fig = plt.figure(figsize=(15,10))\n",
    "\n",
    "midlo = (min(cat.data['longitude'])+max(cat.data['longitude']))/2\n",
    "midla = (min(cat.data['latitude'])+max(cat.data['latitude']))/2\n",
    "minlo = min(cat.data['longitude'])\n",
    "minla = min(cat.data['latitude'])\n",
    "maxlo = max(cat.data['longitude'])\n",
    "maxla = max(cat.data['latitude'])\n",
    "\n",
    "m = Basemap(llcrnrlon=minlo, llcrnrlat=minla,\n",
    "            urcrnrlon=maxlo, urcrnrlat=maxla,\n",
    "            resolution='i', projection='tmerc', \n",
    "            lon_0=midlo, lat_0=midla)\n",
    "\n",
    "m.drawcoastlines()\n",
    "x, y = m(cat.data['longitude'], cat.data['latitude'])\n",
    "plt.plot(x, y, 'x')\n",
    "\n",
    "# Plotting large earthquakes\n",
    "idx = numpy.nonzero((cat.data['magnitude'] > 7.4) & (cat.data['year'] > 1990))\n",
    "plt.plot(x[idx], y[idx], 'or')\n",
    "mags = cat.data['magnitude']\n",
    "years = cat.data['year']\n",
    "effect = [PathEffects.withStroke(linewidth=3,foreground=\"w\")]\n",
    "for iii in idx[0]:\n",
    "    lab = '%.1f - %d' % (mags[iii], years[iii])\n",
    "    plt.text(x[iii], y[iii], lab, path_effects=effect)\n",
    "\n",
    "# Parallels\n",
    "delta = 10\n",
    "parallels = numpy.arange(numpy.floor(minla/delta)*delta,\n",
    "                         numpy.ceil(maxla/delta)*delta, delta)\n",
    "# labels = [left,right,top,bottom]\n",
    "m.drawparallels(parallels, labels=[False,True,True,False])\n",
    "meridians = numpy.arange(numpy.floor(minlo/delta)*delta,\n",
    "                         numpy.ceil(maxlo/delta)*delta, delta)\n",
    "# labels = [left,right,top,bottom]\n",
    "m.drawmeridians(meridians, labels=[True, False, False, True])\n",
    "\n",
    "# Plotting trench axis\n",
    "x, y = m(trc[:,0], trc[:,1])\n",
    "plt.plot(x, y, '--b', linewidth=2)\n",
    "plot_gmt_multi_line(m, './trench.gmt')"
   ]
  },
  {
   "cell_type": "code",
   "execution_count": null,
   "metadata": {
    "collapsed": true
   },
   "outputs": [],
   "source": []
  }
 ],
 "metadata": {
  "kernelspec": {
   "display_name": "py35",
   "language": "python",
   "name": "py35"
  },
  "language_info": {
   "codemirror_mode": {
    "name": "ipython",
    "version": 3
   },
   "file_extension": ".py",
   "mimetype": "text/x-python",
   "name": "python",
   "nbconvert_exporter": "python",
   "pygments_lexer": "ipython3",
   "version": "3.5.3"
  }
 },
 "nbformat": 4,
 "nbformat_minor": 1
}
