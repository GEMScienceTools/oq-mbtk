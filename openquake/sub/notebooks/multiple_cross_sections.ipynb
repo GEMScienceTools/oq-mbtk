{
 "cells": [
  {
   "cell_type": "code",
   "execution_count": null,
   "metadata": {},
   "outputs": [],
   "source": [
    "%matplotlib inline\n",
    "import os\n",
    "import re\n",
    "import sys\n",
    "import numpy\n",
    "import matplotlib.pyplot as plt\n",
    "try:\n",
    "   import cPickle as pickle\n",
    "except:\n",
    "   import pickle\n",
    "import matplotlib.patheffects as PathEffects\n",
    "\n",
    "from matplotlib.patches import Circle\n",
    "from matplotlib.collections import PatchCollection\n",
    "\n",
    "sys.path.append('/Users/mpagani/Projects/hmtk/')\n",
    "sys.path.append('/Users/mpagani/Projects/original/oq-engine/')\n",
    "\n",
    "from hmtk.subduction.cross_sections import CrossSection, Trench\n",
    "from hmtk.seismicity.selector import CatalogueSelector\n",
    "from mpl_toolkits.basemap import Basemap"
   ]
  },
  {
   "cell_type": "markdown",
   "metadata": {},
   "source": [
    "# Resources\n",
    "* http://nicoya.eas.gatech.edu/Data_Products\n",
    "* GTDEF http://geophysics.eas.gatech.edu/anewman/classes/MGM/GTdef/"
   ]
  },
  {
   "cell_type": "markdown",
   "metadata": {},
   "source": [
    "## Load trench data"
   ]
  },
  {
   "cell_type": "code",
   "execution_count": null,
   "metadata": {},
   "outputs": [],
   "source": [
    "fin = open('./../data/trench.xy', 'r')\n",
    "trench = []\n",
    "for line in fin: \n",
    "    aa = re.split('\\s+', re.sub('^\\s+', '', line))\n",
    "    trench.append((float(aa[0]), float(aa[1])))\n",
    "fin.close()\n",
    "trench = Trench(numpy.array(trench))"
   ]
  },
  {
   "cell_type": "code",
   "execution_count": null,
   "metadata": {},
   "outputs": [],
   "source": [
    "cat = pickle.load(open(\"./../data/catalogue_ext_cac.p\", \"rb\" ))"
   ]
  },
  {
   "cell_type": "markdown",
   "metadata": {},
   "source": [
    "## Compute the traces of cross-sections"
   ]
  },
  {
   "cell_type": "code",
   "execution_count": null,
   "metadata": {},
   "outputs": [],
   "source": [
    "minlo = -110\n",
    "minla = 5\n",
    "maxlo = -75\n",
    "maxla = 25\n",
    "midlo = -100\n",
    "midla = 20"
   ]
  },
  {
   "cell_type": "code",
   "execution_count": null,
   "metadata": {},
   "outputs": [],
   "source": [
    "from hmtk.parsers.catalogue.gcmt_ndk_parser import ParseNDKtoGCMT\n",
    "from obspy.imaging.beachball import beach\n",
    "\n",
    "gcmt_filename = '/Users/mpagani/Data/catalogues/gcmt/jan76_dec13.ndk'\n",
    "gcmtc = ParseNDKtoGCMT(gcmt_filename)\n",
    "gcmtc.read_file()\n",
    "\n",
    "def plot_nodal_planes(catalogue, ax, minlo, minla, maxlo, maxla):    \n",
    "    beach1 = beach(np1, xy=(-70, 80), width=30)\n",
    "    beach2 = beach(mt, xy=(50, 50), width=50)\n",
    "    ax.add_collection(beach1) \n",
    "    ax.add_collection(beach2)"
   ]
  },
  {
   "cell_type": "code",
   "execution_count": null,
   "metadata": {},
   "outputs": [],
   "source": [
    "fig = plt.figure(figsize=(12,9))\n",
    "\n",
    "#\n",
    "# Plot the basemap\n",
    "m = Basemap(llcrnrlon=minlo, llcrnrlat=minla,\n",
    "            urcrnrlon=maxlo, urcrnrlat=maxla,\n",
    "            resolution='i', projection='tmerc', \n",
    "            lon_0=midlo, lat_0=midla)\n",
    "\n",
    "#\n",
    "# Draw paralleles and meridians with labels \n",
    "# labels = [left,right,top,bottom]\n",
    "m.drawcoastlines()\n",
    "m.drawmeridians(numpy.arange(numpy.floor(minlo/10.)*10,\n",
    "                             numpy.ceil(maxlo/10.)*10,5.),\n",
    "               labels=[False, False, False, True])\n",
    "m.drawparallels(numpy.arange(numpy.floor(minla/10.)*10,\n",
    "                             numpy.ceil(maxla/10.)*10,5.),\n",
    "               labels=[True, False, False, False])\n",
    "\n",
    "#\n",
    "# Plot the instrumental catalogue\n",
    "xa, ya = m(cat.data['longitude'], cat.data['latitude'])\n",
    "szea = (cat.data['magnitude']*100)**1.5\n",
    "patches = []\n",
    "for x, y, sze in zip(list(xa), list(ya), szea):\n",
    "    circle = Circle((x, y), sze, ec='white')\n",
    "    patches.append(circle)\n",
    "print ('depths: %f %f ' % (min(cat.data['depth']), max(cat.data['depth'])))\n",
    "colors = cat.data['depth']\n",
    "p = PatchCollection(patches, zorder=6, edgecolors='white')\n",
    "p.set_alpha(0.5)\n",
    "p.set_clim([0, 200])\n",
    "p.set_array(numpy.array(colors))\n",
    "plt.gca().add_collection(p)\n",
    "plt.colorbar(p,fraction=0.02, pad=0.04, extend='max')\n",
    "\n",
    "#\n",
    "# GCMT \n",
    "x, y = m(gcmtc.catalogue.data['longitude'], \n",
    "         gcmtc.catalogue.data['latitude'])\n",
    "#plt.plot(x, y, 'sr', zorder=10, alpha=.5)\n",
    "\n",
    "#\n",
    "# Plot the traces of cross-sections\n",
    "distance = 100\n",
    "cs_len = 400\n",
    "\n",
    "ts = trench.resample(distance)\n",
    "\n",
    "fou = open('cs_traces.csv', 'w')\n",
    "x, y = m(trench.axis[:, 0], trench.axis[:, 1])\n",
    "plt.plot(x, y, '-g', linewidth=2, zorder=10)\n",
    "x, y = m(ts.axis[:, 0], ts.axis[:, 1])\n",
    "plt.plot(x, y, '--y', linewidth=4, zorder=20)\n",
    "\n",
    "for idx, cs in enumerate(trench.iterate_cross_sections(distance, cs_len)):\n",
    "    if cs is not None:\n",
    "        x, y = m(cs.plo, cs.pla)\n",
    "        plt.plot(x, y, ':r', linewidth=2, zorder=20)\n",
    "        text = plt.text(x[-1], y[-1], '%d' % idx, ha='center', va='center', size=10, zorder=30)\n",
    "        text.set_path_effects([PathEffects.withStroke(linewidth=3, foreground=\"w\")])\n",
    "        tmps = '%f %f %f %f %d\\n' % (cs.plo[0], cs.pla[0], cs_len, cs.strike[0], idx)\n",
    "        print (tmps.rstrip())\n",
    "        fou.write(tmps)\n",
    "fou.close()"
   ]
  },
  {
   "cell_type": "code",
   "execution_count": null,
   "metadata": {},
   "outputs": [],
   "source": []
  }
 ],
 "metadata": {
  "kernelspec": {
   "display_name": "py35",
   "language": "python",
   "name": "py35"
  },
  "language_info": {
   "codemirror_mode": {
    "name": "ipython",
    "version": 3
   },
   "file_extension": ".py",
   "mimetype": "text/x-python",
   "name": "python",
   "nbconvert_exporter": "python",
   "pygments_lexer": "ipython3",
   "version": "3.5.3"
  }
 },
 "nbformat": 4,
 "nbformat_minor": 1
}
