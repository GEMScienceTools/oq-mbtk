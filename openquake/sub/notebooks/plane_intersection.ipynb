{
 "cells": [
  {
   "cell_type": "code",
   "execution_count": 1,
   "metadata": {},
   "outputs": [
    {
     "ename": "ImportError",
     "evalue": "No module named openquake.hazardlib.scalerel.wc1994",
     "output_type": "error",
     "traceback": [
      "\u001b[0;31m---------------------------------------------------------------------------\u001b[0m",
      "\u001b[0;31mImportError\u001b[0m                               Traceback (most recent call last)",
      "\u001b[0;32m<ipython-input-1-d04e1370b3df>\u001b[0m in \u001b[0;36m<module>\u001b[0;34m()\u001b[0m\n\u001b[1;32m      3\u001b[0m \u001b[0;32mimport\u001b[0m \u001b[0mnumpy\u001b[0m\u001b[0;34m\u001b[0m\u001b[0m\n\u001b[1;32m      4\u001b[0m \u001b[0;32mimport\u001b[0m \u001b[0mmatplotlib\u001b[0m\u001b[0;34m.\u001b[0m\u001b[0mpyplot\u001b[0m \u001b[0;32mas\u001b[0m \u001b[0mplt\u001b[0m\u001b[0;34m\u001b[0m\u001b[0m\n\u001b[0;32m----> 5\u001b[0;31m \u001b[0;32mfrom\u001b[0m \u001b[0mutils\u001b[0m \u001b[0;32mimport\u001b[0m \u001b[0mplot_planes_at\u001b[0m\u001b[0;34m\u001b[0m\u001b[0m\n\u001b[0m",
      "\u001b[0;32m/Users/mpagani/Projects/oq-subduction/utils.py\u001b[0m in \u001b[0;36m<module>\u001b[0;34m()\u001b[0m\n\u001b[1;32m      3\u001b[0m \u001b[0;32mimport\u001b[0m \u001b[0mmatplotlib\u001b[0m\u001b[0;34m.\u001b[0m\u001b[0mpyplot\u001b[0m \u001b[0;32mas\u001b[0m \u001b[0mplt\u001b[0m\u001b[0;34m\u001b[0m\u001b[0m\n\u001b[1;32m      4\u001b[0m \u001b[0;34m\u001b[0m\u001b[0m\n\u001b[0;32m----> 5\u001b[0;31m \u001b[0;32mfrom\u001b[0m \u001b[0mopenquake\u001b[0m\u001b[0;34m.\u001b[0m\u001b[0mhazardlib\u001b[0m\u001b[0;34m.\u001b[0m\u001b[0mscalerel\u001b[0m\u001b[0;34m.\u001b[0m\u001b[0mwc1994\u001b[0m \u001b[0;32mimport\u001b[0m \u001b[0mWC1994\u001b[0m\u001b[0;34m\u001b[0m\u001b[0m\n\u001b[0m\u001b[1;32m      6\u001b[0m \u001b[0;34m\u001b[0m\u001b[0m\n\u001b[1;32m      7\u001b[0m \u001b[0;34m\u001b[0m\u001b[0m\n",
      "\u001b[0;31mImportError\u001b[0m: No module named openquake.hazardlib.scalerel.wc1994"
     ]
    }
   ],
   "source": [
    "%matplotlib inline\n",
    "import scipy\n",
    "import numpy\n",
    "import matplotlib.pyplot as plt\n",
    "from utils import plot_planes_at"
   ]
  },
  {
   "cell_type": "markdown",
   "metadata": {},
   "source": [
    "Note that in our case the p parameter of the Hessian form of the two planes is 0 since both are passing through the origin"
   ]
  },
  {
   "cell_type": "code",
   "execution_count": null,
   "metadata": {
    "collapsed": true
   },
   "outputs": [],
   "source": [
    "# FM plane\n",
    "strike = 78\n",
    "dip = 20\n",
    "# Cross-section plane\n",
    "strikecs = 110\n",
    "dipcs = 89"
   ]
  },
  {
   "cell_type": "raw",
   "metadata": {
    "collapsed": true
   },
   "source": [
    "inter = get_line_of_intersection(strike, dip, strikecs, dipcs)\n",
    "dlt = 5\n",
    "pnt1 = dlt * inter\n",
    "xp = (sum(pnt1[:-1]**2))**.5\n",
    "print xp, pnt1"
   ]
  },
  {
   "cell_type": "code",
   "execution_count": null,
   "metadata": {},
   "outputs": [],
   "source": [
    "fig = plt.figure()\n",
    "plot_planes_at(0,0, [strike], [dip], strikecs, dipcs)\n",
    "plt.grid()"
   ]
  },
  {
   "cell_type": "raw",
   "metadata": {
    "collapsed": true
   },
   "source": [
    "import matplotlib.pyplot as plt\n",
    "from mpl_toolkits.mplot3d import Axes3D\n",
    "\n",
    "origin = numpy.zeros(3)\n",
    "\n",
    "d1 = -numpy.sum(origin*pln1[:-1])\n",
    "d2 = -numpy.sum(origin*pln2[:-1])\n",
    "\n",
    "# create x,y\n",
    "xx, yy = numpy.meshgrid(numpy.arange(-30, 30, 0.5), \n",
    "                        numpy.arange(-30, 30, 0.5))\n",
    "\n",
    "# calculate corresponding z\n",
    "z1 = (-pln1[0]*xx - pln1[1]*yy - d1)*1./pln1[2]\n",
    "z2 = (-pln2[0]*xx - pln2[1]*yy - d2)*1./pln2[2]\n",
    "\n",
    "# plot the surface\n",
    "plt3d = plt.figure().gca(projection='3d')\n",
    "plt3d.plot_surface(xx,yy,z1, color='blue')\n",
    "plt3d.plot_surface(xx,yy,z2, color='red')\n",
    "\n",
    "t = numpy.arange(-50, 50, 0.1)\n",
    "xl = t*inter[0]\n",
    "yl = t*inter[1]\n",
    "zl = t*inter[2]\n",
    "\n",
    "aa = plt3d.plot(xl, yl, zl, '--r', lw=3)"
   ]
  },
  {
   "cell_type": "code",
   "execution_count": null,
   "metadata": {
    "collapsed": true
   },
   "outputs": [],
   "source": []
  }
 ],
 "metadata": {
  "kernelspec": {
   "display_name": "Python 2",
   "language": "python",
   "name": "python2"
  },
  "language_info": {
   "codemirror_mode": {
    "name": "ipython",
    "version": 2
   },
   "file_extension": ".py",
   "mimetype": "text/x-python",
   "name": "python",
   "nbconvert_exporter": "python",
   "pygments_lexer": "ipython2",
   "version": "2.7.13"
  }
 },
 "nbformat": 4,
 "nbformat_minor": 1
}
