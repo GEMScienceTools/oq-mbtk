{
 "cells": [
  {
   "cell_type": "code",
   "execution_count": null,
   "metadata": {},
   "outputs": [],
   "source": [
    "import os\n",
    "import sys\n",
    "import numpy\n",
    "import pickle\n",
    "\n",
    "sys.path.append('/Users/mpagani/Projects/original/oq-engine/')\n",
    "\n",
    "from openquake.hmtk.seismicity.catalogue import Catalogue\n",
    "from openquake.hmtk.parsers.catalogue.csv_catalogue_parser import CsvCatalogueParser\n",
    "from openquake.hmtk.seismicity.selector import CatalogueSelector"
   ]
  },
  {
   "cell_type": "code",
   "execution_count": null,
   "metadata": {},
   "outputs": [],
   "source": [
    "filename = '/Users/mpagani/GDrive/GEM_hazard/Data/Catalogues/extended/Weatherill_Pagani_Garcia_Extended_Global_Earthquake_Catalogue.csv'\n",
    "\n",
    "parser = CsvCatalogueParser(filename)\n",
    "cat = parser.read_file()"
   ]
  },
  {
   "cell_type": "code",
   "execution_count": null,
   "metadata": {},
   "outputs": [],
   "source": [
    "output_path = './catalogue_ext.p'\n",
    "fou = open(output_path,'wb') \n",
    "pickle.dump(cat, fou)\n",
    "fou.close()"
   ]
  },
  {
   "cell_type": "code",
   "execution_count": null,
   "metadata": {},
   "outputs": [],
   "source": [
    "idxo = numpy.nonzero((cat.data['longitude'] >= -121) & (cat.data['longitude'] <= -51) & \n",
    "                     (cat.data['latitude'] >= 5) & (cat.data['latitude'] <= 34))\n",
    "idxs = idxo[0].astype(int)\n",
    "\n",
    "boo = numpy.zeros_like(cat.data['magnitude'], dtype=int)\n",
    "boo[idxs] = 1\n",
    "print (len(boo))"
   ]
  },
  {
   "cell_type": "code",
   "execution_count": null,
   "metadata": {},
   "outputs": [],
   "source": [
    "selector = CatalogueSelector(cat, create_copy=True)\n",
    "newcat = selector.select_catalogue(boo)\n",
    "print (len(newcat.data['magnitude']))"
   ]
  },
  {
   "cell_type": "code",
   "execution_count": null,
   "metadata": {},
   "outputs": [],
   "source": [
    "output_path = './catalogue_ext_cac.p'\n",
    "fou = open(output_path,'wb') \n",
    "pickle.dump(newcat, fou)\n",
    "fou.close()"
   ]
  },
  {
   "cell_type": "code",
   "execution_count": null,
   "metadata": {},
   "outputs": [],
   "source": []
  }
 ],
 "metadata": {
  "kernelspec": {
   "display_name": "py35",
   "language": "python",
   "name": "py35"
  },
  "language_info": {
   "codemirror_mode": {
    "name": "ipython",
    "version": 3
   },
   "file_extension": ".py",
   "mimetype": "text/x-python",
   "name": "python",
   "nbconvert_exporter": "python",
   "pygments_lexer": "ipython3",
   "version": "3.5.3"
  }
 },
 "nbformat": 4,
 "nbformat_minor": 1
}
