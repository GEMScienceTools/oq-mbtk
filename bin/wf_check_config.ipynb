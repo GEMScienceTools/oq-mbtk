{
 "cells": [
  {
   "cell_type": "code",
   "execution_count": 1,
   "metadata": {},
   "outputs": [
    {
     "data": {
      "text/plain": [
       "distribute_total_rates (generic function with 1 method)"
      ]
     },
     "execution_count": 1,
     "metadata": {},
     "output_type": "execute_result"
    }
   ],
   "source": [
    "using TOML\n",
    "include(\"boxcounting.jl\")"
   ]
  },
  {
   "cell_type": "code",
   "execution_count": 2,
   "metadata": {},
   "outputs": [
    {
     "data": {
      "text/plain": [
       "Dict{String,Any} with 9 entries:\n",
       "  \"kernel_maximum_distance\" => 120\n",
       "  \"name\"                    => \"CEA Seismic Hazard Model\"\n",
       "  \"default\"                 => Dict{String,Any}(\"mmax\"=>7.0,\"name\"=>\"Default\",\"…\n",
       "  \"msr\"                     => Dict{String,Any}(\"Active Shallow Crust\"=>\"WC1994…\n",
       "  \"kernel_smoothing\"        => [[0.8, 20.0], [0.15, 40.0], [0.05, 80.0]]\n",
       "  \"mmin\"                    => 5.0\n",
       "  \"bin_width\"               => 0.1\n",
       "  \"rupture_mesh_spacing\"    => 2.5\n",
       "  \"sources\"                 => Dict{String,Any}(\"4\"=>Dict{String,Any}(\"bgr_weic…"
      ]
     },
     "execution_count": 2,
     "metadata": {},
     "output_type": "execute_result"
    }
   ],
   "source": [
    "fname_config = \"./config/model01_config.toml\"\n",
    "config = TOML.parsefile(fname_config) "
   ]
  },
  {
   "cell_type": "code",
   "execution_count": 3,
   "metadata": {},
   "outputs": [
    {
     "data": {
      "text/plain": [
       "7-element Array{Array{Float64,1},1}:\n",
       " [2000.0, 5.0]\n",
       " [1970.0, 5.5]\n",
       " [1964.0, 6.0]\n",
       " [1955.0, 6.5]\n",
       " [1940.0, 6.8]\n",
       " [1918.0, 7.0]\n",
       " [1900.0, 7.7]"
      ]
     },
     "execution_count": 3,
     "metadata": {},
     "output_type": "execute_result"
    }
   ],
   "source": [
    "compl = get_completeness_table(config, \"1\")"
   ]
  },
  {
   "cell_type": "code",
   "execution_count": 46,
   "metadata": {},
   "outputs": [
    {
     "data": {
      "text/plain": [
       "get_rate_from_completeness (generic function with 1 method)"
      ]
     },
     "execution_count": 46,
     "metadata": {},
     "output_type": "execute_result"
    }
   ],
   "source": [
    "function get_rate_from_completeness(compl::Array, mag::Number, year::Number, year_end::Number)    \n",
    "    i = size(compl)[1]\n",
    "    while i > 0 \n",
    "        if mag >= compl[i][2]\n",
    "            if year >= compl[i][1]\n",
    "                return 1.0/(year_end-compl[i][1])\n",
    "            end\n",
    "        end\n",
    "        i -= 1\n",
    "    end\n",
    "    return 0.0\n",
    "end"
   ]
  },
  {
   "cell_type": "code",
   "execution_count": 47,
   "metadata": {},
   "outputs": [
    {
     "data": {
      "text/plain": [
       "0.02"
      ]
     },
     "execution_count": 47,
     "metadata": {},
     "output_type": "execute_result"
    }
   ],
   "source": [
    "out = get_rate_from_completeness(compl, 6.2, 1980, 2014)"
   ]
  },
  {
   "cell_type": "code",
   "execution_count": null,
   "metadata": {},
   "outputs": [],
   "source": []
  }
 ],
 "metadata": {
  "kernelspec": {
   "display_name": "Julia 1.5.3",
   "language": "julia",
   "name": "julia-1.5"
  },
  "language_info": {
   "file_extension": ".jl",
   "mimetype": "application/julia",
   "name": "julia",
   "version": "1.5.3"
  }
 },
 "nbformat": 4,
 "nbformat_minor": 4
}
