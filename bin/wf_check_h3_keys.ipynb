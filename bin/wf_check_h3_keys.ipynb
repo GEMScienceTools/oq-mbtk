{
 "cells": [
  {
   "cell_type": "code",
   "execution_count": 58,
   "metadata": {},
   "outputs": [],
   "source": [
    "using H3.API\n",
    "using Printf"
   ]
  },
  {
   "cell_type": "code",
   "execution_count": 59,
   "metadata": {},
   "outputs": [
    {
     "data": {
      "text/plain": [
       "0x0852d4603fffffff"
      ]
     },
     "execution_count": 59,
     "metadata": {},
     "output_type": "execute_result"
    }
   ],
   "source": [
    "lat = 46.217792606964956\n",
    "lon = 39.939846228070564\n",
    "base = geoToH3(GeoCoord(deg2rad(lat), deg2rad(lon)), 5)"
   ]
  },
  {
   "cell_type": "code",
   "execution_count": 60,
   "metadata": {},
   "outputs": [
    {
     "name": "stdout",
     "output_type": "stream",
     "text": [
      "UInt64\n"
     ]
    }
   ],
   "source": [
    "println(typeof(base))"
   ]
  },
  {
   "cell_type": "code",
   "execution_count": 64,
   "metadata": {},
   "outputs": [],
   "source": [
    "fname_h3_to_zone = \"./tmp/CEA_GEM_zonation01_h3_mapping_level_5.csv\"\n",
    "fou = open(\"./tmp/cesso.txt\", \"w\")\n",
    "\n",
    "mapping = Dict{UInt64,String}()\n",
    "if length(fname_h3_to_zone) > 0\n",
    "    open(fname_h3_to_zone) do f\n",
    "        for row in eachline(f)\n",
    "            tmp = split(row, \",\")\n",
    "            key = parse(UInt64, tmp[1], base=16)\n",
    "            mapping[key] = tmp[2]\n",
    "            geoc = h3ToGeo(key)\n",
    "            write(fou, @sprintf(\"%f,%f\\n\", rad2deg(geoc.lon), rad2deg(geoc.lat)))\n",
    "        end\n",
    "    end\n",
    "end\n",
    "\n",
    "close(fou)"
   ]
  },
  {
   "cell_type": "code",
   "execution_count": 62,
   "metadata": {},
   "outputs": [
    {
     "data": {
      "text/plain": [
       "Base.KeySet for a Dict{UInt64,String} with 25191 entries. Keys:\n",
       "  0x0851e6b8bfffffff\n",
       "  0x08500308bfffffff\n",
       "  0x085001d6bfffffff\n",
       "  0x0852d7587fffffff\n",
       "  0x08521a687fffffff\n",
       "  0x08510a39bfffffff\n",
       "  0x08510009bfffffff\n",
       "  0x08521a47bfffffff\n",
       "  0x08511535bfffffff\n",
       "  0x085119b6ffffffff\n",
       "  0x0852d4613fffffff\n",
       "  0x0850019bbfffffff\n",
       "  0x085011227fffffff\n",
       "  0x0852d0e2bfffffff\n",
       "  0x085109363fffffff\n",
       "  0x085106327fffffff\n",
       "  0x085103087fffffff\n",
       "  0x08521b54ffffffff\n",
       "  0x085116823fffffff\n",
       "  0x08510f50ffffffff\n",
       "  0x085001583fffffff\n",
       "  0x08511062bfffffff\n",
       "  0x085102a7bfffffff\n",
       "  0x08501026ffffffff\n",
       "  0x0852c4303fffffff\n",
       "  ⋮"
      ]
     },
     "execution_count": 62,
     "metadata": {},
     "output_type": "execute_result"
    }
   ],
   "source": [
    "kk = keys(mapping)"
   ]
  },
  {
   "cell_type": "code",
   "execution_count": 54,
   "metadata": {},
   "outputs": [
    {
     "data": {
      "text/plain": [
       "true"
      ]
     },
     "execution_count": 54,
     "metadata": {},
     "output_type": "execute_result"
    }
   ],
   "source": [
    "tmp = haskey(mapping, base)"
   ]
  },
  {
   "cell_type": "code",
   "execution_count": null,
   "metadata": {},
   "outputs": [],
   "source": []
  }
 ],
 "metadata": {
  "kernelspec": {
   "display_name": "Julia 1.5.3",
   "language": "julia",
   "name": "julia-1.5"
  },
  "language_info": {
   "file_extension": ".jl",
   "mimetype": "application/julia",
   "name": "julia",
   "version": "1.5.3"
  }
 },
 "nbformat": 4,
 "nbformat_minor": 4
}
