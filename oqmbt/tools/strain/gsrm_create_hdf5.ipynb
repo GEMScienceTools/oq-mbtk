{
 "cells": [
  {
   "cell_type": "code",
   "execution_count": null,
   "metadata": {},
   "outputs": [],
   "source": [
    "import os\n",
    "import h5py\n",
    "import numpy\n",
    "import re"
   ]
  },
  {
   "cell_type": "code",
   "execution_count": null,
   "metadata": {},
   "outputs": [],
   "source": [
    "data_path = '/media/sf_mpagani/Desktop/GSRM/sample_average_strain_rate.txt'\n",
    "#data_path = '/media/sf_mpagani/NC/Hazard_Charles/Data/Strain/gsrm/2.2_20151214/sample_average_strain_rate.txt'\n",
    "#data_path = '/Users/mpagani/Google Drive/GEM_hazard/Data/Strain/gsrm/2.2_20151214/GSRM_average_strain.txt'\n",
    "#data_path = '/Users/mpagani/Google Drive/GEM_hazard/Data/Strain/gsrm/2.2_20151214/GSRM_average_strain.txt'\n",
    "strain_date_model_file = os.path.join(data_path)\n",
    "#strain_date_model_hdf5_file = './../data/strain/GSRM_strain_v2pt2.hdf5'\n",
    "#strain_date_model_hdf5_file = './../data/strain/GSRM_strain_v2pt1.hdf5'\n",
    "strain_date_model_hdf5_file = './sample_average_strain.hdf5'"
   ]
  },
  {
   "cell_type": "code",
   "execution_count": null,
   "metadata": {},
   "outputs": [],
   "source": [
    "# This is an iterator for the strain rate model file\n",
    "def parse_strain_file():\n",
    "    dat = []\n",
    "    f = open(strain_date_model_file, 'rU')\n",
    "    cnt = -1\n",
    "    while True:\n",
    "        line = f.readline()\n",
    "        if not line:\n",
    "            break \n",
    "        if not re.search('^#', line) and re.search('[0-9]', line): \n",
    "            try:\n",
    "                line = re.sub('\\s$', '', line)\n",
    "                str_list = re.split('\\s', re.sub('^\\s+', '', re.sub('\\s+', ' ', line)))\n",
    "                \n",
    "                lat = float(str_list[0])\n",
    "                lon = float(str_list[1])\n",
    "                exx = float(str_list[2])\n",
    "                eyy = float(str_list[3]) \n",
    "                exy = float(str_list[4])\n",
    "                vort = float(str_list[5])\n",
    "                rl_nlc = float(str_list[6])\n",
    "                ll_nlc = float(str_list[7])\n",
    "                e1 = float(str_list[8])\n",
    "                e2 = float(str_list[9])\n",
    "                azi_e1 = float(str_list[10])                \n",
    "                #           0    1    2    3    4    5     6       7       8   9   10  \n",
    "                dat.append([lon, lat, exx, eyy, exy, vort, rl_nlc, ll_nlc, e1, e2, azi_e1])\n",
    "                cnt += 1\n",
    "            \n",
    "            except:\n",
    "                print(line)\n",
    "                print('>>',str_list[0], str_list[1],'<<')\n",
    "                break\n",
    "    f.close()\n",
    "    return numpy.array(dat)"
   ]
  },
  {
   "cell_type": "code",
   "execution_count": null,
   "metadata": {},
   "outputs": [],
   "source": [
    "# Load the strain file and save the hdf5 one\n",
    "strain_data = parse_strain_file()"
   ]
  },
  {
   "cell_type": "code",
   "execution_count": null,
   "metadata": {},
   "outputs": [],
   "source": [
    "# Saving data\n",
    "f = h5py.File(strain_date_model_hdf5_file, 'w')\n",
    "dset = f.create_dataset(\"gsrm\", data=strain_data)\n",
    "f.close()"
   ]
  },
  {
   "cell_type": "code",
   "execution_count": null,
   "metadata": {},
   "outputs": [],
   "source": [
    "f = h5py.File(strain_date_model_hdf5_file, 'r')\n",
    "xxx = f['gsrm'].value\n",
    "f.close()\n",
    "xxx"
   ]
  },
  {
   "cell_type": "code",
   "execution_count": null,
   "metadata": {},
   "outputs": [],
   "source": []
  }
 ],
 "metadata": {
  "kernelspec": {
   "display_name": "Python 3",
   "language": "python",
   "name": "python3"
  },
  "language_info": {
   "codemirror_mode": {
    "name": "ipython",
    "version": 3
   },
   "file_extension": ".py",
   "mimetype": "text/x-python",
   "name": "python",
   "nbconvert_exporter": "python",
   "pygments_lexer": "ipython3",
   "version": "3.5.2"
  }
 },
 "nbformat": 4,
 "nbformat_minor": 1
}
