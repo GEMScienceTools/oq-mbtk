{
 "cells": [
  {
   "cell_type": "code",
   "execution_count": null,
   "metadata": {},
   "outputs": [],
   "source": [
    "import time\n",
    "import h5py\n",
    "import pickle\n",
    "import rtree"
   ]
  },
  {
   "cell_type": "code",
   "execution_count": null,
   "metadata": {},
   "outputs": [],
   "source": [
    "strain_date_model_hdf5_file = './../strain/GSRM_strain_v2.2.hdf5'\n",
    "pickle_spatial_index_filename = './../strain/GSRM_strain_v2pt2'\n",
    "\n",
    "strain_date_model_hdf5_file = './../strain/GSRM_strain_v2pt1.hdf5'\n",
    "pickle_spatial_index_filename = './../strain/GSRM_strain_v2pt1'\n",
    "\n",
    "strain_date_model_hdf5_file = './sample_average_strain.hdf5'\n",
    "pickle_spatial_index_filename = './sample_average_strain'"
   ]
  },
  {
   "cell_type": "code",
   "execution_count": null,
   "metadata": {},
   "outputs": [],
   "source": [
    "def get_strain_grid_coordinates_generator(data):\n",
    "    print(len(data))\n",
    "    for cnt, dat in enumerate(data):\n",
    "        lon = dat[0]\n",
    "        lat = dat[1]\n",
    "        yield (cnt, (lon, lat, lon, lat), 1)"
   ]
  },
  {
   "cell_type": "code",
   "execution_count": null,
   "metadata": {},
   "outputs": [],
   "source": [
    "# Setting properties\n",
    "p = rtree.index.Property()\n",
    "p.get_overwrite = True"
   ]
  },
  {
   "cell_type": "code",
   "execution_count": null,
   "metadata": {},
   "outputs": [],
   "source": [
    "start = time.time()\n",
    "\n",
    "# Load the hdf5 file \n",
    "f = h5py.File(strain_date_model_hdf5_file, 'r')\n",
    "strain_data = f['gsrm'].value\n",
    "f.close()\n",
    "\n",
    "# Create the spatial index\n",
    "#r = index.Index(stream=get_strain_grid_coordinates_generator(strain_data),\n",
    "#                filename=pickle_spatial_index_filename)\n",
    "\n",
    "# Create the spatial index (without stream)\n",
    "r = rtree.index.Index(pickle_spatial_index_filename, properties=p)\n",
    "for cnt, pnt in enumerate(get_strain_grid_coordinates_generator(strain_data)):\n",
    "    r.insert(id=pnt[0], coordinates=pnt[1])\n",
    "\n",
    "end = time.time()\n",
    "print('Time [s]: %.2f' % (end - start))"
   ]
  },
  {
   "cell_type": "code",
   "execution_count": null,
   "metadata": {},
   "outputs": [],
   "source": [
    "iii = list(r.intersection((40.1137117803, 29.251852832, 52.1711089515, 41.1199030933)))\n",
    "print(len(iii))"
   ]
  },
  {
   "cell_type": "code",
   "execution_count": null,
   "metadata": {},
   "outputs": [],
   "source": [
    "del r"
   ]
  }
 ],
 "metadata": {
  "kernelspec": {
   "display_name": "Python 3",
   "language": "python",
   "name": "python3"
  },
  "language_info": {
   "codemirror_mode": {
    "name": "ipython",
    "version": 3
   },
   "file_extension": ".py",
   "mimetype": "text/x-python",
   "name": "python",
   "nbconvert_exporter": "python",
   "pygments_lexer": "ipython3",
   "version": "3.5.2"
  }
 },
 "nbformat": 4,
 "nbformat_minor": 1
}
