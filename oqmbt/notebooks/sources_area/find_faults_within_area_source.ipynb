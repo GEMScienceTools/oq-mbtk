{
 "cells": [
  {
   "cell_type": "markdown",
   "metadata": {},
   "source": [
    "# Faults sources within an area source\n",
    "Given an area source and a set of faults we find the faults whose trace intersects the polygon of the area source and computes the percentage of the fault trace inside the polygon."
   ]
  },
  {
   "cell_type": "markdown",
   "metadata": {},
   "source": [
    "%%html\n",
    "<script>\n",
    "    var code_show=true; //true -> hide code at first\n",
    "\n",
    "    function code_toggle() {\n",
    "        $('div.prompt').hide(); // always hide prompt\n",
    "\n",
    "        if (code_show){\n",
    "            $('div.input').hide();\n",
    "        } else {\n",
    "            $('div.input').show();\n",
    "        }\n",
    "        code_show = !code_show\n",
    "    }\n",
    "    $( document ).ready(code_toggle);\n",
    "</script>\n",
    "<p style=\"font-size:60%;\">\n",
    "<a href=\"javascript:code_toggle()\">[Toggle Code]</a>\n",
    "<a target=\"_blank\" href=\"./../project/project_set_params_gui.ipynb#\">[Set params]</a\n",
    "</p>"
   ]
  },
  {
   "cell_type": "code",
   "execution_count": null,
   "metadata": {},
   "outputs": [],
   "source": [
    "%matplotlib inline\n",
    "import os\n",
    "import re\n",
    "import sys\n",
    "import numpy\n",
    "from prettytable import PrettyTable\n",
    "from oqmbt.oqt_project import OQtProject\n",
    "from oqmbt.tools.geo import get_idx_points_inside_polygon, get_line_inside_polygon"
   ]
  },
  {
   "cell_type": "markdown",
   "metadata": {},
   "source": [
    "## Info"
   ]
  },
  {
   "cell_type": "code",
   "execution_count": null,
   "metadata": {},
   "outputs": [],
   "source": [
    "project_pickle_filename = os.environ.get('OQMBT_PROJECT')\n",
    "print('Reading project file: %s' % (project_pickle_filename))\n",
    "oqtkp = OQtProject.load_from_file(project_pickle_filename)\n",
    "model_id = oqtkp.active_model_id\n",
    "model = oqtkp.models[model_id]\n",
    "try:\n",
    "    area_source_ids_list = getattr(oqtkp,'active_source_id')\n",
    "except:\n",
    "    print('Active source ID not defined in the OQMBT project')\n",
    "    area_source_ids_list = ['10']\n",
    "print('Processing area source with ID:', area_source_ids_list[0])"
   ]
  },
  {
   "cell_type": "markdown",
   "metadata": {},
   "source": [
    "## Selected faults"
   ]
  },
  {
   "cell_type": "code",
   "execution_count": null,
   "metadata": {},
   "outputs": [],
   "source": [
    "from prettytable import PrettyTable\n",
    "\n",
    "idx_faults_in_polygon = []\n",
    "frac_faults_in_polygon = {}\n",
    "#\n",
    "# Setting table header\n",
    "p = PrettyTable([\"ID\",\"Name\",\"Fraction\",\"Slip rate\", \"RI\"])\n",
    "p.align[\"ID\"] = 'l'\n",
    "p.align[\"Name\"] = 'l'\n",
    "p.align[\"Fraction\"] = 'r'\n",
    "p.align[\"Slip rate\"] = 'r'\n",
    "p.align[\"RI\"] = 'r'\n",
    "p.padding_width = 1\n",
    "p.float_format = '.2'\n",
    "#\n",
    "# \n",
    "assert len(area_source_ids_list) == 1\n",
    "area_source = model.sources[area_source_ids_list[0]]\n",
    "area_source.ids_faults_inside = {}\n",
    "#\n",
    "# Processing faults\n",
    "for key in model.sources:\n",
    "    fault = model.sources[key]\n",
    "    if fault.source_type == 'SimpleFaultSource':\n",
    "        plons = []\n",
    "        plats = []\n",
    "        pdeps = []\n",
    "        #\n",
    "        # Create lists with the coordinates of the points defining the trace\n",
    "        for pnt in fault.trace.points:\n",
    "            plons.append(pnt.longitude)\n",
    "            plats.append(pnt.latitude)\n",
    "            pdeps.append(pnt.depth)\n",
    "\n",
    "        # Find points on the trace within the polygon\n",
    "        iii = get_idx_points_inside_polygon(plons, \n",
    "                                            plats, \n",
    "                                            area_source.polygon.lons, \n",
    "                                            area_source.polygon.lats, \n",
    "                                            numpy.arange(0, len(plons)+1))\n",
    "        #\n",
    "        #\n",
    "        frac = get_line_inside_polygon(plons, \n",
    "                                       plats, \n",
    "                                       area_source.polygon.lons, \n",
    "                                       area_source.polygon.lats)\n",
    "        #\n",
    "        #\n",
    "        if frac is not None and frac > 0.0 and hasattr(fault, 'slip_rate'):\n",
    "            idx_faults_in_polygon.append(fault.source_id)\n",
    "            frac_faults_in_polygon[fault.source_id] = frac\n",
    "            recurrence = fault.recurrence if hasattr(fault, 'recurrence') else None\n",
    "            slip_rate = fault.slip_rate if hasattr(fault, 'slip_rate') else None\n",
    "            p.add_row([fault.source_id, fault.name, frac, slip_rate, recurrence])\n",
    "            #\n",
    "            # updating information for the current area source\n",
    "            if hasattr(area_source, 'ids_faults_inside'):\n",
    "                area_source.ids_faults_inside[fault.source_id] = frac\n",
    "            else:\n",
    "                area_source.ids_faults_inside = {fault.source_id: frac} \n",
    "        #\n",
    "        #\n",
    "        if frac is not None and frac > 0.5:\n",
    "            fault.id_intersecting_area = area_source_ids_list[0]\n",
    "            \n",
    "print('Faults intersecting the area source %s\\n' % (area_source_ids_list[0]))     \n",
    "print(p)\n",
    "\n",
    "model.sources[area_source_ids_list[0]] = area_source\n",
    "oqtkp.models[model_id] = model\n",
    "oqtkp.save()"
   ]
  },
  {
   "cell_type": "code",
   "execution_count": null,
   "metadata": {},
   "outputs": [],
   "source": []
  }
 ],
 "metadata": {
  "kernelspec": {
   "display_name": "Python 3",
   "language": "python",
   "name": "python3"
  },
  "language_info": {
   "codemirror_mode": {
    "name": "ipython",
    "version": 3
   },
   "file_extension": ".py",
   "mimetype": "text/x-python",
   "name": "python",
   "nbconvert_exporter": "python",
   "pygments_lexer": "ipython3",
   "version": "3.5.4"
  },
  "toc": {
   "nav_menu": {},
   "number_sections": true,
   "sideBar": true,
   "skip_h1_title": true,
   "toc_cell": false,
   "toc_position": {},
   "toc_section_display": "block",
   "toc_window_display": false
  },
  "varInspector": {
   "cols": {
    "lenName": 16,
    "lenType": 16,
    "lenVar": 40
   },
   "kernels_config": {
    "python": {
     "delete_cmd_postfix": "",
     "delete_cmd_prefix": "del ",
     "library": "var_list.py",
     "varRefreshCmd": "print(var_dic_list())"
    },
    "r": {
     "delete_cmd_postfix": ") ",
     "delete_cmd_prefix": "rm(",
     "library": "var_list.r",
     "varRefreshCmd": "cat(var_dic_list()) "
    }
   },
   "types_to_exclude": [
    "module",
    "function",
    "builtin_function_or_method",
    "instance",
    "_Feature"
   ],
   "window_display": false
  }
 },
 "nbformat": 4,
 "nbformat_minor": 1
}
