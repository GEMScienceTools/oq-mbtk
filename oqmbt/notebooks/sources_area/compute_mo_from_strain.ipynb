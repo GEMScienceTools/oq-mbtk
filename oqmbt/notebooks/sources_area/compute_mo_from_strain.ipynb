{
 "cells": [
  {
   "cell_type": "markdown",
   "metadata": {},
   "source": [
    "# Compute Mo from strain rate model for all sources\n",
    "This notebook computes for all the area sources in a model the scalar seismic moment. "
   ]
  },
  {
   "cell_type": "code",
   "execution_count": null,
   "metadata": {},
   "outputs": [],
   "source": [
    "%matplotlib inline\n",
    "import os\n",
    "import re\n",
    "import sys\n",
    "import h5py\n",
    "\n",
    "from rtree import index\n",
    "from oqmbt.oqt_project import OQtProject\n",
    "from oqmbt.tools.strain import get_moment_for_polygon\n",
    "from oqmbt.tools.mfd import get_moment_from_mfd"
   ]
  },
  {
   "cell_type": "code",
   "execution_count": null,
   "metadata": {},
   "outputs": [],
   "source": [
    "project_pickle_filename = os.environ.get('OQMBT_PROJECT')\n",
    "oqtkp = OQtProject.load_from_file(project_pickle_filename)\n",
    "model_id = oqtkp.active_model_id\n",
    "model = oqtkp.models[model_id]\n",
    "\n",
    "strain_pickle_spatial_index_filename = getattr(model, 'strain_pickle_spatial_index_filename')\n",
    "strain_rate_model_hdf5_filename = getattr(model, 'strain_rate_model_hdf5_filename')\n",
    "\n",
    "strain_rate_model_hdf5_filename = os.path.join(oqtkp.directory, strain_rate_model_hdf5_filename)\n",
    "strain_pickle_spatial_index_filename = os.path.join(oqtkp.directory, strain_pickle_spatial_index_filename)"
   ]
  },
  {
   "cell_type": "markdown",
   "metadata": {},
   "source": [
    "## Get strain data"
   ]
  },
  {
   "cell_type": "code",
   "execution_count": null,
   "metadata": {},
   "outputs": [],
   "source": [
    "#\n",
    "# Strain spatial index\n",
    "strain_idx = index.Index(strain_pickle_spatial_index_filename)\n",
    "#\n",
    "# Strain data\n",
    "f = h5py.File(strain_rate_model_hdf5_filename, 'r')\n",
    "strain_data = f['gsrm'].value\n",
    "f.close()"
   ]
  },
  {
   "cell_type": "markdown",
   "metadata": {},
   "source": [
    "## Computing scalar moment from strain "
   ]
  },
  {
   "cell_type": "code",
   "execution_count": null,
   "metadata": {},
   "outputs": [],
   "source": [
    "#\n",
    "#\n",
    "shear_modulus = float(getattr(model, 'shear_modulus'))\n",
    "cell_dx = model.strain_cell_dx\n",
    "cell_dy = model.strain_cell_dy \n",
    "#\n",
    "#\n",
    "mo_dict = {}\n",
    "for key in model.sources:\n",
    "    source = model.sources[key]\n",
    "    \n",
    "    if re.match('AreaSource', source.source_type):\n",
    "        #\n",
    "        # set required parameters\n",
    "        if 'coup_coef' in source.__dict__:\n",
    "            coup_coef = source.coup_coef\n",
    "        else:\n",
    "            coup_coef = getattr(model, 'coup_coef')\n",
    "        if 'coup_thick' in source.__dict__:\n",
    "            coup_thick = source.coup_thick\n",
    "        else:\n",
    "            coup_thick = getattr(model, 'coup_thick')\n",
    "        #\n",
    "        # coupled seismogenic thickness\n",
    "        coupl_seism_thickness = coup_thick * coup_coef * 1000\n",
    "        #\n",
    "        # computing the moment for the area source\n",
    "        polygon = source.polygon \n",
    "        mo = get_moment_for_polygon(polygon, strain_data, strain_idx,\n",
    "                                    coupl_seism_thickness, shear_modulus,\n",
    "                                    cell_dx, cell_dy)\n",
    "        source.mo_strain = mo\n",
    "oqtkp.save()"
   ]
  },
  {
   "cell_type": "code",
   "execution_count": null,
   "metadata": {},
   "outputs": [],
   "source": [
    "for key in model.sources:\n",
    "    source = model.sources[key]\n",
    "    if re.match('AreaSource', source.source_type):\n",
    "        print(source.source_id, source.mo_strain)"
   ]
  }
 ],
 "metadata": {
  "kernelspec": {
   "display_name": "Python 3",
   "language": "python",
   "name": "python3"
  },
  "language_info": {
   "codemirror_mode": {
    "name": "ipython",
    "version": 3
   },
   "file_extension": ".py",
   "mimetype": "text/x-python",
   "name": "python",
   "nbconvert_exporter": "python",
   "pygments_lexer": "ipython3",
   "version": "3.5.2"
  }
 },
 "nbformat": 4,
 "nbformat_minor": 1
}
