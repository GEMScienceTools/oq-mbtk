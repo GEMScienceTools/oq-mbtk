{
 "metadata": {
  "kernelspec": {
   "display_name": "Python 2",
   "language": "python",
   "name": "python2"
  },
  "language_info": {
   "codemirror_mode": {
    "name": "ipython",
    "version": 2
   },
   "file_extension": ".py",
   "mimetype": "text/x-python",
   "name": "python",
   "nbconvert_exporter": "python",
   "pygments_lexer": "ipython2",
   "version": "2.7.12"
  },
  "name": ""
 },
 "nbformat": 3,
 "nbformat_minor": 0,
 "worksheets": [
  {
   "cells": [
    {
     "cell_type": "heading",
     "level": 1,
     "metadata": {
      "deletable": true,
      "editable": true
     },
     "source": [
      "Set double truncated GR"
     ]
    },
    {
     "cell_type": "code",
     "collapsed": false,
     "input": [
      "%%html\n",
      "<script>\n",
      "    var code_show=true; //true -> hide code at first\n",
      "\n",
      "    function code_toggle() {\n",
      "        $('div.prompt').hide(); // always hide prompt\n",
      "\n",
      "        if (code_show){\n",
      "            $('div.input').hide();\n",
      "        } else {\n",
      "            $('div.input').show();\n",
      "        }\n",
      "        code_show = !code_show\n",
      "    }\n",
      "    $( document ).ready(code_toggle);\n",
      "</script>\n",
      "<p style=\"font-size:60%;\"><a href=\"javascript:code_toggle()\">[Toggle Code]</a></p>"
     ],
     "language": "python",
     "metadata": {
      "deletable": true,
      "editable": true
     },
     "outputs": [],
     "prompt_number": null
    },
    {
     "cell_type": "code",
     "collapsed": false,
     "input": [
      "%matplotlib inline\n",
      "import os\n",
      "import re\n",
      "import sys\n",
      "import h5py\n",
      "import numpy\n",
      "from oqmbt.oqt_project import OQtProject\n",
      "from openquake.hazardlib.mfd import TruncatedGRMFD"
     ],
     "language": "python",
     "metadata": {
      "deletable": true,
      "editable": true
     },
     "outputs": [],
     "prompt_number": null
    },
    {
     "cell_type": "code",
     "collapsed": false,
     "input": [
      "project_pickle_filename = os.environ.get('OQMBT_PROJECT')\n",
      "oqtkp = OQtProject.load_from_file(project_pickle_filename)\n",
      "model_id = oqtkp.active_model_id\n",
      "model = oqtkp.models[model_id]  \n",
      "print 'Active project ID:', model_id"
     ],
     "language": "python",
     "metadata": {
      "deletable": true,
      "editable": true
     },
     "outputs": [],
     "prompt_number": null
    },
    {
     "cell_type": "heading",
     "level": 2,
     "metadata": {
      "deletable": true,
      "editable": true
     },
     "source": [
      "Set MFD"
     ]
    },
    {
     "cell_type": "code",
     "collapsed": false,
     "input": [
      "cnt = 0\n",
      "for key in model.sources:\n",
      "    source = model.sources[key]\n",
      "    if re.match('AreaSource', source.source_type):\n",
      "        m_min = float(model.m_min)\n",
      "        m_max = source.mmax_expected\n",
      "        source.mfd = TruncatedGRMFD(m_min, m_max, model.mfd_binwidth, source.a_gr, source.b_gr)\n",
      "        cnt += 1\n",
      "oqtkp.save()\n",
      "print 'Updated {0:d} sources'.format(cnt)"
     ],
     "language": "python",
     "metadata": {
      "deletable": true,
      "editable": true
     },
     "outputs": [],
     "prompt_number": null
    }
   ],
   "metadata": {}
  }
 ]
}
