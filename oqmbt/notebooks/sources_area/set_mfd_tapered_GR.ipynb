{
 "metadata": {
  "kernelspec": {
   "display_name": "Python 2",
   "language": "python",
   "name": "python2"
  },
  "language_info": {
   "codemirror_mode": {
    "name": "ipython",
    "version": 2
   },
   "file_extension": ".py",
   "mimetype": "text/x-python",
   "name": "python",
   "nbconvert_exporter": "python",
   "pygments_lexer": "ipython2",
   "version": "2.7.6"
  },
  "name": ""
 },
 "nbformat": 3,
 "nbformat_minor": 0,
 "worksheets": [
  {
   "cells": [
    {
     "cell_type": "heading",
     "level": 1,
     "metadata": {},
     "source": [
      "Set tapered GR MFD"
     ]
    },
    {
     "cell_type": "code",
     "collapsed": false,
     "input": [
      "%%html\n",
      "<script>\n",
      "    var code_show=true; //true -> hide code at first\n",
      "\n",
      "    function code_toggle() {\n",
      "        $('div.prompt').hide(); // always hide prompt\n",
      "\n",
      "        if (code_show){\n",
      "            $('div.input').hide();\n",
      "        } else {\n",
      "            $('div.input').show();\n",
      "        }\n",
      "        code_show = !code_show\n",
      "    }\n",
      "    $( document ).ready(code_toggle);\n",
      "</script>\n",
      "<p style=\"font-size:60%;\"><a href=\"javascript:code_toggle()\">[Toggle Code]</a></p>"
     ],
     "language": "python",
     "metadata": {},
     "outputs": [],
     "prompt_number": null
    },
    {
     "cell_type": "code",
     "collapsed": false,
     "input": [
      "%matplotlib inline\n",
      "import os\n",
      "import re\n",
      "import sys\n",
      "import h5py\n",
      "import numpy\n",
      "from rtree import index\n",
      "from oqmbt.utils import mag_to_mo, mo_to_mag\n",
      "\n",
      "import matplotlib.pyplot as plt\n",
      "\n",
      "from oqmbt.tools.china.area import areas_to_oqt_sources\n",
      "from oqmbt.oqt_project import OQtProject\n",
      "from oqmbt.tools.china.china_tools import TaperedGrMFD\n",
      "from openquake.hazardlib.mfd import EvenlyDiscretizedMFD\n",
      "from oqmbt.mfd_tools import get_moment_from_mfd"
     ],
     "language": "python",
     "metadata": {},
     "outputs": [],
     "prompt_number": null
    },
    {
     "cell_type": "code",
     "collapsed": false,
     "input": [
      "project_pickle_filename = os.environ.get('OQMBT_PROJECT')\n",
      "oqtkp = OQtProject.load_from_file(project_pickle_filename)\n",
      "model_id = oqtkp.active_model_id\n",
      "model = oqtkp.models[model_id]"
     ],
     "language": "python",
     "metadata": {},
     "outputs": [],
     "prompt_number": null
    },
    {
     "cell_type": "heading",
     "level": 2,
     "metadata": {},
     "source": [
      "Set MFD"
     ]
    },
    {
     "cell_type": "code",
     "collapsed": false,
     "input": [
      "m_min = float(model.m_min)\n",
      "bin_width = float(model.bin_width)\n",
      "\n",
      "opt = 1\n",
      "\n",
      "fig1 = plt.figure(num=1, figsize=(10, 8))\n",
      "fig2 = plt.figure(num=2, figsize=(10, 8))\n",
      "\n",
      "for key in model.sources:\n",
      "    source = model.sources[key]\n",
      "    if re.match('AreaSource', source.source_type) and 'mo_mcs' in source.__dict__:\n",
      "        \n",
      "        # Compute the \n",
      "        m_c = mo_to_mag(source.mo_mcs)\n",
      "        \n",
      "        if opt == 0:\n",
      "            mags = numpy.arange(m_min, source.mmax_expected+bin_width/2, bin_width)\n",
      "        elif opt == 1:\n",
      "            mags = numpy.arange(m_min, m_c+3.0, bin_width)\n",
      "        else:\n",
      "            raise ValueError('Unknown option')\n",
      "        \n",
      "        # The first parameter is the \"truncation moment\" \n",
      "        gr_trunc = TaperedGrMFD(mag_to_mo(0.), source.mo_mcs, source.b_gr)\n",
      "        mo = mag_to_mo(numpy.array(mags))   \n",
      "        ccdfA = gr_trunc.get_ccdf(mo)*10.**(source.a_gr)\n",
      "        aa = ccdfA[:-1]-ccdfA[1:]\n",
      "        \n",
      "        # Filter our bins with rates lower than threshold_rate\n",
      "        if opt == 1:\n",
      "            idx = numpy.nonzero(aa > 1e-6)\n",
      "            aa = aa[idx]\n",
      "        \n",
      "        # Set the new MFD\n",
      "        source.mfd = EvenlyDiscretizedMFD(m_min+bin_width/2, bin_width, list(aa))\n",
      "        source.mo_from_mfd = get_moment_from_mfd(source.mfd)\n",
      "        \n",
      "        plt.figure(1)\n",
      "        plt.plot(mags[idx], aa)\n",
      "        plt.figure(2)\n",
      "        plt.plot(source.mo_strain, source.mo_from_mfd, 'o')\n",
      "        \n",
      "        print \"%s\\t%6.3e\\t%6.3e\\t%6.3e\\t%6.3e\\t%6.3e\\t%5.3f\" % (source.source_id, source.a_gr, \n",
      "                                                         source.b_gr, m_c, source.mo_strain,\n",
      "                                                         source.mo_from_mfd,\n",
      "                                                         source.mo_from_mfd/source.mo_strain)\n",
      "plt.figure(1)\n",
      "plt.semilogy()\n",
      "plt.figure(2)\n",
      "plt.grid(which='both')\n",
      "plt.xlim([1e18, 3e19])\n",
      "plt.ylim([1e18, 3e19])\n",
      "\n",
      "oqtkp.save()"
     ],
     "language": "python",
     "metadata": {},
     "outputs": [],
     "prompt_number": null
    }
   ],
   "metadata": {}
  }
 ]
}
