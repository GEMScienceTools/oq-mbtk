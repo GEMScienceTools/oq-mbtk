{
 "cells": [
  {
   "cell_type": "code",
   "execution_count": 30,
   "metadata": {
    "collapsed": true
   },
   "outputs": [],
   "source": [
    "# DO NOT REMOVE"
   ]
  },
  {
   "cell_type": "markdown",
   "metadata": {},
   "source": [
    "# Compute double truncated GR from seismicity"
   ]
  },
  {
   "cell_type": "code",
   "execution_count": 31,
   "metadata": {
    "ExecuteTime": {
     "end_time": "2017-12-17T12:27:39.214939Z",
     "start_time": "2017-12-17T12:27:38.533475Z"
    },
    "collapsed": true
   },
   "outputs": [],
   "source": [
    "%matplotlib inline\n",
    "import os\n",
    "import re\n",
    "import sys\n",
    "import h5py\n",
    "import numpy\n",
    "try:\n",
    "    import cPickle as pickle\n",
    "except:\n",
    "    import pickle\n",
    "\n",
    "from collections import Counter\n",
    "from prettytable import PrettyTable\n",
    "\n",
    "from openquake.hmtk.seismicity.occurrence.weichert import Weichert\n",
    "from openquake.hmtk.seismicity.occurrence.utils import get_completeness_counts\n",
    "from openquake.hmtk.plotting.seismicity.occurrence.recurrence_plot import plot_trunc_gr_model\n",
    "\n",
    "from oqmbt.oqt_project import OQtProject\n",
    "from oqmbt.tools.area import create_catalogue"
   ]
  },
  {
   "cell_type": "code",
   "execution_count": 32,
   "metadata": {
    "ExecuteTime": {
     "end_time": "2017-12-17T12:27:39.867361Z",
     "start_time": "2017-12-17T12:27:39.770337Z"
    }
   },
   "outputs": [
    {
     "name": "stdout",
     "output_type": "stream",
     "text": [
      "Project filename: /home/openquake/GEM/oq-mbtk/oqmbt/tests/tmp/project_test/test.oqmbtp\n",
      "Processing model with ID: model01\n",
      "Processing area source with ID: ['3']\n"
     ]
    }
   ],
   "source": [
    "project_pickle_filename = os.environ.get('OQMBT_PROJECT')\n",
    "oqtkp = OQtProject.load_from_file(project_pickle_filename)\n",
    "print ('Project filename:', project_pickle_filename)\n",
    "model_id = oqtkp.active_model_id\n",
    "model = oqtkp.models[model_id]\n",
    "#\n",
    "# hdf5 files\n",
    "compl_hdf5_filename = os.path.join(oqtkp.directory, oqtkp.compl_hdf5_filename)\n",
    "eqk_rates_hdf5_filename = os.path.join(oqtkp.directory, oqtkp.eqk_rates_hdf5_filename)\n",
    "#\n",
    "# set source ID\n",
    "try:\n",
    "    area_source_ids_list = getattr(oqtkp,'active_source_id')\n",
    "except:\n",
    "    print ('Active source ID not defined in the OQMBT project')\n",
    "    area_source_ids_list = ['1']\n",
    "#\n",
    "# info \n",
    "print ('Processing model with ID:', model_id)\n",
    "print ('Processing area source with ID:', area_source_ids_list)"
   ]
  },
  {
   "cell_type": "code",
   "execution_count": 33,
   "metadata": {
    "collapsed": true
   },
   "outputs": [],
   "source": [
    "# Width of bins used to discretise the MFDs\n",
    "binwidth = float(model.mfd_binwidth)"
   ]
  },
  {
   "cell_type": "markdown",
   "metadata": {},
   "source": [
    "## Summary of GR parameters assigned to area sources"
   ]
  },
  {
   "cell_type": "code",
   "execution_count": 34,
   "metadata": {},
   "outputs": [
    {
     "name": "stdout",
     "output_type": "stream",
     "text": [
      "+----+----------+--------+\n",
      "| ID |     a_gr |   b_gr |\n",
      "+----+----------+--------+\n",
      "| 1  |          |        |\n",
      "| 2  |  3.69438 |  0.674 |\n",
      "| 3  |          |        |\n",
      "+----+----------+--------+\n"
     ]
    }
   ],
   "source": [
    "# Set table\n",
    "p = PrettyTable([\"ID\",\"a_gr\", \"b_gr\"])\n",
    "p.align[\"Source ID\"] = 'l'\n",
    "p.align[\"a_gr\"] = 'r'\n",
    "p.align[\"b_gr\"] = 'r'\n",
    "#\n",
    "for key in sorted(model.sources):\n",
    "    src = model.sources[key]\n",
    "    if src.source_type == 'AreaSource':\n",
    "        alab = ''\n",
    "        blab = ''\n",
    "        if 'a_gr' in src.__dict__:\n",
    "            alab = '%8.5f' % (src.a_gr)\n",
    "        if 'b_gr' in src.__dict__:\n",
    "            blab = '%6.3f' % (src.b_gr)    \n",
    "        p.add_row([key, alab, blab])\n",
    "print (p)"
   ]
  },
  {
   "cell_type": "markdown",
   "metadata": {},
   "source": [
    "## Read catalogue"
   ]
  },
  {
   "cell_type": "code",
   "execution_count": 35,
   "metadata": {},
   "outputs": [
    {
     "name": "stdout",
     "output_type": "stream",
     "text": [
      "model01_catalogue.pkl\n",
      "The catalogue contains 4299 earthquakes\n"
     ]
    }
   ],
   "source": [
    "print (oqtkp.models[model_id].declustered_catalogue_pickle_filename)\n",
    "pickle_filename = os.path.join(oqtkp.directory, oqtkp.models[model_id].declustered_catalogue_pickle_filename)\n",
    "fin = open(pickle_filename, 'rb') \n",
    "catalogue = pickle.load(fin)\n",
    "fin.close()\n",
    "print ('The catalogue contains %d earthquakes' % (len(catalogue.data['magnitude'])))"
   ]
  },
  {
   "cell_type": "markdown",
   "metadata": {},
   "source": [
    "### Create catalogue for the selected areas"
   ]
  },
  {
   "cell_type": "code",
   "execution_count": 36,
   "metadata": {},
   "outputs": [
    {
     "name": "stdout",
     "output_type": "stream",
     "text": [
      "merging eqks for source: 3 # eqks: 415\n",
      "Total number of earthquakes selected 415\n"
     ]
    }
   ],
   "source": [
    "fcatal = create_catalogue(model, catalogue, area_source_ids_list)"
   ]
  },
  {
   "cell_type": "code",
   "execution_count": 37,
   "metadata": {},
   "outputs": [
    {
     "name": "stdout",
     "output_type": "stream",
     "text": [
      "Minimum magnitude considered for the model is:  3.5\n",
      "Maximum observed magnitude is:  7.36\n"
     ]
    }
   ],
   "source": [
    "mmin_model = float(model.catalogue_cutoff_magnitude)\n",
    "print ('Minimum magnitude considered for the model is: ', mmin_model)\n",
    "mmax_obs = float(max(fcatal.data['magnitude']))\n",
    "print ('Maximum observed magnitude is: ', mmax_obs)"
   ]
  },
  {
   "cell_type": "markdown",
   "metadata": {},
   "source": [
    "### Load the completeness table"
   ]
  },
  {
   "cell_type": "code",
   "execution_count": 38,
   "metadata": {},
   "outputs": [
    {
     "name": "stdout",
     "output_type": "stream",
     "text": [
      "Reading /home/openquake/GEM/oq-mbtk/oqmbt/tests/whole_workflow/./../tmp/project_test/completeness.hdf5\n",
      "\n",
      "Found completeness table for: <3>\n",
      "\n",
      "Completeness table:\n",
      "[[ 1998.      3.5]\n",
      " [ 1989.      4. ]\n",
      " [ 1977.      4.5]\n",
      " [ 1970.      5. ]\n",
      " [ 1933.      5.5]\n",
      " [ 1933.      6. ]\n",
      " [ 1905.      6.5]\n",
      " [ 1905.      7. ]]\n"
     ]
    }
   ],
   "source": [
    "compl_hdf5_filename = os.path.join(oqtkp.directory, oqtkp.compl_hdf5_filename)\n",
    "print ('Reading {:s}\\n'.format(compl_hdf5_filename))\n",
    "fhdf5 = h5py.File(compl_hdf5_filename,'r')\n",
    "\n",
    "grp = fhdf5[model_id]\n",
    "src_id = area_source_ids_list[0]\n",
    "if src_id in grp.keys():\n",
    "    compl_table = grp[src_id][()]\n",
    "    print ('Found completeness table for: <%s>' % (src_id))\n",
    "else:\n",
    "    print ('The .hdf5 file does not contain completeness table for source {:s}'.format(src_id))\n",
    "    if 'whole_catalogue' in grp.keys():\n",
    "        compl_table = grp['whole_catalogue'][()]\n",
    "        print ('Using the default completeness table set for the whole catalogue')\n",
    "    else:\n",
    "        print ('Default completeness table (whole catalogue) not defined')\n",
    "        raise ValueError()\n",
    "        compl_table = None\n",
    "print ('\\nCompleteness table:')\n",
    "print (compl_table)\n",
    "fhdf5.close()"
   ]
  },
  {
   "cell_type": "markdown",
   "metadata": {},
   "source": [
    "## Double truncated magnitude-frequency distribution (MFD)"
   ]
  },
  {
   "cell_type": "code",
   "execution_count": 39,
   "metadata": {},
   "outputs": [
    {
     "name": "stdout",
     "output_type": "stream",
     "text": [
      "bval: 0.633617 (sigma=0.027)\n",
      "aval: 3.329368 (sigma=0.023)\n",
      "0.6336174742\n",
      "3.32936780717\n"
     ]
    }
   ],
   "source": [
    "#\n",
    "# selecting earthquakes\n",
    "idx = numpy.nonzero(compl_table[:,1] < numpy.max(fcatal.data['magnitude']))\n",
    "weichert_config = {'magnitude_interval': 0.1, \n",
    "                   'reference_magnitude': 0.0}\n",
    "weichert = Weichert()\n",
    "bval_wei, sigmab, aval_wei, sigmaa = weichert.calculate(fcatal, weichert_config, \n",
    "                                                        completeness=compl_table)\n",
    "#\n",
    "# info\n",
    "print ('bval: %.6f (sigma=%.3f)' % (bval_wei, sigmab))\n",
    "print ('aval: %.6f (sigma=%.3f)' % (aval_wei, sigmaa))\n",
    "#\n",
    "# computing seismicity rates\n",
    "cent_mag, t_per, n_obs = get_completeness_counts(fcatal, compl_table, binwidth)"
   ]
  },
  {
   "cell_type": "code",
   "execution_count": 40,
   "metadata": {},
   "outputs": [
    {
     "name": "stdout",
     "output_type": "stream",
     "text": [
      "Updating /home/openquake/GEM/oq-mbtk/oqmbt/tests/whole_workflow/./../tmp/project_test/eqk_rates.hdf5\n",
      "    Group exists. Set group model01\n",
      "    Creating dataset 3\n"
     ]
    }
   ],
   "source": [
    "print('Updating', eqk_rates_hdf5_filename)\n",
    "fhdf5 = h5py.File(eqk_rates_hdf5_filename, 'a')\n",
    "#\n",
    "# update/create group\n",
    "if model_id in fhdf5.keys():\n",
    "    print ('    Group exists. Set group %s' % (model_id))\n",
    "    grp = fhdf5[model_id]\n",
    "else:\n",
    "    print ('    Create group: %s' % (model_id))\n",
    "    grp = fhdf5.create_group(model_id)\n",
    "#\n",
    "# Update/create dataset\n",
    "rates = numpy.array([cent_mag, t_per, n_obs])\n",
    "if src_id in grp:\n",
    "    del grp[src_id]\n",
    "print('    Creating dataset %s' % (src_id))\n",
    "dataset = grp.create_dataset(src_id, data=rates)\n",
    "fhdf5.close()"
   ]
  },
  {
   "cell_type": "code",
   "execution_count": 41,
   "metadata": {},
   "outputs": [
    {
     "data": {
      "image/png": "[encoded data removed]",
      "text/plain": [
       "<matplotlib.figure.Figure at 0x7f324b0cd390>"
      ]
     },
     "metadata": {},
     "output_type": "display_data"
    }
   ],
   "source": [
    "plot_trunc_gr_model(aval_wei, bval_wei, mmin_model, mmax_obs, binwidth, catalogue=fcatal,\n",
    "        completeness=compl_table)"
   ]
  },
  {
   "cell_type": "code",
   "execution_count": 42,
   "metadata": {},
   "outputs": [
    {
     "name": "stdout",
     "output_type": "stream",
     "text": [
      "source 3  | num. of eqks [eqks] 415.00  | weight 1.0\n",
      "Project saved into file /home/openquake/GEM/oq-mbtk/oqmbt/tests/whole_workflow/./../tmp/project_test/test.oqmbtp\n",
      "check: 1.0\n"
     ]
    }
   ],
   "source": [
    "#\n",
    "# Update the project info\n",
    "c = Counter(fcatal.data['comment'])\n",
    "weights = {}\n",
    "annual_rate_source = []\n",
    "#\n",
    "# \n",
    "for srcid in area_source_ids_list:\n",
    "    #\n",
    "    # Computing weight\n",
    "    num_eqs_source = float(c['%s' % srcid])\n",
    "    weights[srcid] = num_eqs_source / fcatal.get_number_events()\n",
    "    print ('source', srcid, \\\n",
    "           ' | num. of eqks [eqks] %6.2f' % (c['%s' % srcid]), \\\n",
    "           ' | weight %s' % (weights[srcid]))\n",
    "    #\n",
    "    # attaching source to model \n",
    "    src = model.get_source(srcid) \n",
    "    src.a_gr=numpy.log10(10**aval_wei * weights[srcid])\n",
    "    src.b_gr=bval_wei\n",
    "#\n",
    "# saving the project\n",
    "oqtkp.save(log=True)\n",
    "#\n",
    "# check of the weight\n",
    "checkw = 0.0\n",
    "for key in weights:\n",
    "    checkw += weights[key]\n",
    "print ('check:', checkw)"
   ]
  },
  {
   "cell_type": "code",
   "execution_count": 43,
   "metadata": {},
   "outputs": [
    {
     "name": "stdout",
     "output_type": "stream",
     "text": [
      "+----+----------+--------+\n",
      "| ID |     a_gr |   b_gr |\n",
      "+----+----------+--------+\n",
      "| 1  |          |        |\n",
      "| 2  |  3.69438 |  0.674 |\n",
      "| 3  |  3.32937 |  0.634 |\n",
      "+----+----------+--------+\n"
     ]
    }
   ],
   "source": [
    "# Set table\n",
    "p = PrettyTable([\"ID\",\"a_gr\", \"b_gr\"])\n",
    "p.align[\"Source ID\"] = 'l'\n",
    "p.align[\"a_gr\"] = 'r'\n",
    "p.align[\"b_gr\"] = 'r'\n",
    "#\n",
    "for key in sorted(model.sources):\n",
    "    src = model.sources[key]\n",
    "    if src.source_type == 'AreaSource':\n",
    "        alab = ''\n",
    "        blab = ''\n",
    "        if 'a_gr' in src.__dict__:\n",
    "            alab = '%8.5f' % (src.a_gr)\n",
    "        if 'b_gr' in src.__dict__:\n",
    "            blab = '%6.3f' % (src.b_gr)    \n",
    "        p.add_row([key, alab, blab])\n",
    "print (p)"
   ]
  },
  {
   "cell_type": "code",
   "execution_count": null,
   "metadata": {
    "collapsed": true
   },
   "outputs": [],
   "source": []
  }
 ],
 "metadata": {
  "kernelspec": {
   "display_name": "Python 3",
   "language": "python",
   "name": "python3"
  },
  "language_info": {
   "codemirror_mode": {
    "name": "ipython",
    "version": 3
   },
   "file_extension": ".py",
   "mimetype": "text/x-python",
   "name": "python",
   "nbconvert_exporter": "python",
   "pygments_lexer": "ipython3",
   "version": "3.5.2"
  },
  "toc": {
   "nav_menu": {},
   "number_sections": true,
   "sideBar": true,
   "skip_h1_title": false,
   "toc_cell": false,
   "toc_position": {},
   "toc_section_display": "block",
   "toc_window_display": false
  }
 },
 "nbformat": 4,
 "nbformat_minor": 1
}
