{
 "cells": [
  {
   "cell_type": "code",
   "execution_count": null,
   "metadata": {},
   "outputs": [],
   "source": [
    "# DO NOT REMOVE"
   ]
  },
  {
   "cell_type": "markdown",
   "metadata": {},
   "source": [
    "# Compute double truncated GR from seismicity"
   ]
  },
  {
   "cell_type": "code",
   "execution_count": 9,
   "metadata": {},
   "outputs": [],
   "source": [
    "%matplotlib inline\n",
    "import os\n",
    "import re\n",
    "import sys\n",
    "import h5py\n",
    "import numpy\n",
    "try:\n",
    "    import cPickle as pickle\n",
    "except:\n",
    "    import pickle\n",
    "\n",
    "from collections import Counter\n",
    "#from prettytable import PrettyTable\n",
    "\n",
    "from openquake.hmtk.parsers.catalogue.csv_catalogue_parser import CsvCatalogueWriter \n",
    "from openquake.hmtk.parsers.catalogue import CsvCatalogueParser\n",
    "from openquake.hmtk.seismicity.occurrence.weichert import Weichert\n",
    "from openquake.hmtk.seismicity.occurrence.utils import get_completeness_counts\n",
    "from openquake.hmtk.plotting.seismicity.occurrence.recurrence_plot import plot_trunc_gr_model\n",
    "\n",
    "from oqmbt.oqt_project import OQtProject\n",
    "from oqmbt.tools.area import create_catalogue"
   ]
  },
  {
   "cell_type": "code",
   "execution_count": 10,
   "metadata": {},
   "outputs": [],
   "source": [
    "prj_path = \"/Users/kjohnson/GEM/Regions/paisl18/project/paisl.oqmbtp\"\n",
    "os.environ[\"OQMBT_PROJECT\"] = prj_path"
   ]
  },
  {
   "cell_type": "code",
   "execution_count": 11,
   "metadata": {},
   "outputs": [
    {
     "name": "stdout",
     "output_type": "stream",
     "text": [
      "Project filename: /Users/kjohnson/GEM/Regions/paisl18/project/paisl.oqmbtp\n",
      "Processing model with ID: model02\n",
      "Processing area source with ID: ['1']\n"
     ]
    }
   ],
   "source": [
    "project_pickle_filename = os.environ.get('OQMBT_PROJECT')\n",
    "oqtkp = OQtProject.load_from_file(project_pickle_filename)\n",
    "print ('Project filename:', project_pickle_filename)\n",
    "model_id = oqtkp.active_model_id\n",
    "model = oqtkp.models[model_id]\n",
    "#\n",
    "# hdf5 files\n",
    "compl_hdf5_filename = os.path.join(oqtkp.directory, oqtkp.compl_hdf5_filename)\n",
    "eqk_rates_hdf5_filename = os.path.join(oqtkp.directory, oqtkp.eqk_rates_hdf5_filename)\n",
    "#\n",
    "# set source ID\n",
    "try:\n",
    "    area_source_ids_list = getattr(oqtkp,'active_source_id')\n",
    "except:\n",
    "    print ('Active source ID not defined in the OQMBT project')\n",
    "    area_source_ids_list = ['1']\n",
    "#\n",
    "# info \n",
    "print ('Processing model with ID:', model_id)\n",
    "print ('Processing area source with ID:', area_source_ids_list)"
   ]
  },
  {
   "cell_type": "code",
   "execution_count": 12,
   "metadata": {},
   "outputs": [],
   "source": [
    "area_source_ids_list = ['16']"
   ]
  },
  {
   "cell_type": "code",
   "execution_count": 13,
   "metadata": {},
   "outputs": [],
   "source": [
    "# Width of bins used to discretise the MFDs\n",
    "binwidth = float(model.mfd_binwidth)"
   ]
  },
  {
   "cell_type": "markdown",
   "metadata": {},
   "source": [
    "## Summary of GR parameters assigned to area sources"
   ]
  },
  {
   "cell_type": "raw",
   "metadata": {},
   "source": [
    "# Set table\n",
    "p = PrettyTable([\"ID\",\"a_gr\", \"b_gr\"])\n",
    "p.align[\"Source ID\"] = 'l'\n",
    "p.align[\"a_gr\"] = 'r'\n",
    "p.align[\"b_gr\"] = 'r'\n",
    "#\n",
    "for key in sorted(model.sources):\n",
    "    src = model.sources[key]\n",
    "    if src.source_type == 'AreaSource':\n",
    "        alab = ''\n",
    "        blab = ''\n",
    "        if 'a_gr' in src.__dict__:\n",
    "            alab = '%8.5f' % (src.a_gr)\n",
    "        if 'b_gr' in src.__dict__:\n",
    "            blab = '%6.3f' % (src.b_gr)    \n",
    "        p.add_row([key, alab, blab])\n",
    "print (p)"
   ]
  },
  {
   "cell_type": "markdown",
   "metadata": {},
   "source": [
    "## Read catalogue"
   ]
  },
  {
   "cell_type": "code",
   "execution_count": 7,
   "metadata": {},
   "outputs": [
    {
     "name": "stdout",
     "output_type": "stream",
     "text": [
      "model_2_-_learning_catalogue.pkl\n",
      "The catalogue contains 2867 earthquakes\n"
     ]
    }
   ],
   "source": [
    "print (oqtkp.models[model_id].declustered_catalogue_pickle_filename)\n",
    "pickle_filename = os.path.join(oqtkp.directory, oqtkp.models[model_id].declustered_catalogue_pickle_filename)\n",
    "fin = open(pickle_filename, 'rb') \n",
    "catalogue = pickle.load(fin)\n",
    "fin.close()\n",
    "print ('The catalogue contains %d earthquakes' % (len(catalogue.data['magnitude'])))"
   ]
  },
  {
   "cell_type": "code",
   "execution_count": 14,
   "metadata": {},
   "outputs": [
    {
     "name": "stdout",
     "output_type": "stream",
     "text": [
      "Catalogue Attribute 360 is not a recognised catalogue key\n",
      "Catalogue Attribute  is not a recognised catalogue key\n"
     ]
    }
   ],
   "source": [
    "catalogue_filename = '/Users/kjohnson/GEM/Regions/paisl18/data/catalogues/locations/FinalCatalog/Simplified/PI_final_crustal.csv'\n",
    "parser = CsvCatalogueParser(catalogue_filename)\n",
    "catalogue = parser.read_file()"
   ]
  },
  {
   "cell_type": "markdown",
   "metadata": {},
   "source": [
    "### Create catalogue for the selected areas"
   ]
  },
  {
   "cell_type": "code",
   "execution_count": 15,
   "metadata": {},
   "outputs": [
    {
     "name": "stdout",
     "output_type": "stream",
     "text": [
      "Total number of earthquakes selected 192\n"
     ]
    }
   ],
   "source": [
    "fcatal = create_catalogue(model, catalogue, area_source_ids_list)"
   ]
  },
  {
   "cell_type": "code",
   "execution_count": 16,
   "metadata": {},
   "outputs": [
    {
     "name": "stdout",
     "output_type": "stream",
     "text": [
      "Minimum magnitude considered for the model is:  3.5\n",
      "Maximum observed magnitude is:  6.66\n"
     ]
    }
   ],
   "source": [
    "mmin_model = float(model.catalogue_cutoff_magnitude)\n",
    "print ('Minimum magnitude considered for the model is: ', mmin_model)\n",
    "mmax_obs = float(max(fcatal.data['magnitude']))\n",
    "print ('Maximum observed magnitude is: ', mmax_obs)"
   ]
  },
  {
   "cell_type": "code",
   "execution_count": 18,
   "metadata": {},
   "outputs": [
    {
     "name": "stdout",
     "output_type": "stream",
     "text": [
      "/Users/kjohnson/GEM/Regions/paisl18/data/sub_cata/model02-16-v2.csv\n",
      "Catalogue successfully written to /Users/kjohnson/GEM/Regions/paisl18/data/sub_cata/model02-16-v2.csv\n"
     ]
    }
   ],
   "source": [
    "if 1:\n",
    "    # set the csv file name\n",
    "    aa =\"/Users/kjohnson/GEM/Regions/paisl18/data/sub_cata\"\n",
    "    #aa = \"sub_cata\"\n",
    "    csv_filename = '{:s}/{:s}-{:s}-v2.csv'.format(aa, model_id, area_source_ids_list[0])\n",
    "    #\n",
    "    #csv_filename = \"/Users/kjohnson/GEM/Regions/paisl18/project/declustered.csv\"\n",
    "    print(csv_filename)\n",
    "    # Sub-catalogue\n",
    "    sub_cata = CsvCatalogueWriter(csv_filename) \n",
    "\n",
    "    # Write the purged catalogue\n",
    " #   sub_cata.write_file(fcatal)\n",
    "    sub_cata.write_file(fcatal)\n",
    "    print(\"Catalogue successfully written to %s\" % csv_filename)"
   ]
  },
  {
   "cell_type": "markdown",
   "metadata": {},
   "source": [
    "### Load the completeness table"
   ]
  },
  {
   "cell_type": "code",
   "execution_count": 9,
   "metadata": {},
   "outputs": [
    {
     "name": "stdout",
     "output_type": "stream",
     "text": [
      "Reading /Users/kjohnson/GEM/Regions/paisl18/project/completeness.hdf5\n",
      "\n",
      "The .hdf5 file does not contain completeness table for source 1\n",
      "Using the default completeness table set for the whole catalogue\n",
      "\n",
      "Completeness table:\n",
      "[[ 1969.      5. ]\n",
      " [ 1969.      5.5]\n",
      " [ 1931.      6. ]\n",
      " [ 1931.      6.5]\n",
      " [ 1931.      7. ]\n",
      " [ 1931.      7.5]\n",
      " [ 1931.      8. ]]\n"
     ]
    }
   ],
   "source": [
    "compl_hdf5_filename = os.path.join(oqtkp.directory, oqtkp.compl_hdf5_filename)\n",
    "print ('Reading {:s}\\n'.format(compl_hdf5_filename))\n",
    "fhdf5 = h5py.File(compl_hdf5_filename,'r')\n",
    "\n",
    "grp = fhdf5[model_id]\n",
    "src_id = area_source_ids_list[0]\n",
    "if src_id in grp.keys():\n",
    "    compl_table = grp[src_id][()]\n",
    "    print ('Found completeness table for: <%s>' % (src_id))\n",
    "else:\n",
    "    print ('The .hdf5 file does not contain completeness table for source {:s}'.format(src_id))\n",
    "    if 'whole_catalogue' in grp.keys():\n",
    "        compl_table = grp['whole_catalogue'][()]\n",
    "        print ('Using the default completeness table set for the whole catalogue')\n",
    "    else:\n",
    "        print ('Default completeness table (whole catalogue) not defined')\n",
    "        raise ValueError()\n",
    "        compl_table = None\n",
    "print ('\\nCompleteness table:')\n",
    "print (compl_table)\n",
    "fhdf5.close()"
   ]
  },
  {
   "cell_type": "markdown",
   "metadata": {},
   "source": [
    "## Double truncated magnitude-frequency distribution (MFD)"
   ]
  },
  {
   "cell_type": "code",
   "execution_count": 10,
   "metadata": {},
   "outputs": [
    {
     "name": "stdout",
     "output_type": "stream",
     "text": [
      "bval: 0.958248 (sigma=0.664)\n",
      "aval: 4.332605 (sigma=0.097)\n"
     ]
    }
   ],
   "source": [
    "#\n",
    "# selecting earthquakes\n",
    "idx = numpy.nonzero(compl_table[:,1] < numpy.max(fcatal.data['magnitude']))\n",
    "weichert_config = {'magnitude_interval': 0.1, \n",
    "                   'reference_magnitude': 0.0}\n",
    "weichert = Weichert()\n",
    "bval_wei, sigmab, aval_wei, sigmaa = weichert.calculate(fcatal, weichert_config, \n",
    "                                                        completeness=compl_table)\n",
    "#\n",
    "# info\n",
    "print ('bval: %.6f (sigma=%.3f)' % (bval_wei, sigmab))\n",
    "print ('aval: %.6f (sigma=%.3f)' % (aval_wei, sigmaa))\n",
    "#\n",
    "# computing seismicity rates\n",
    "cent_mag, t_per, n_obs = get_completeness_counts(fcatal, compl_table, binwidth)"
   ]
  },
  {
   "cell_type": "code",
   "execution_count": 11,
   "metadata": {},
   "outputs": [
    {
     "name": "stdout",
     "output_type": "stream",
     "text": [
      "Updating /Users/kjohnson/GEM/Regions/paisl18/project/eqk_rates.hdf5\n",
      "    Group exists. Set group model02\n",
      "    Creating dataset 1\n"
     ]
    }
   ],
   "source": [
    "print('Updating', eqk_rates_hdf5_filename)\n",
    "fhdf5 = h5py.File(eqk_rates_hdf5_filename, 'a')\n",
    "#\n",
    "# update/create group\n",
    "if model_id in fhdf5.keys():\n",
    "    print ('    Group exists. Set group %s' % (model_id))\n",
    "    grp = fhdf5[model_id]\n",
    "else:\n",
    "    print ('    Create group: %s' % (model_id))\n",
    "    grp = fhdf5.create_group(model_id)\n",
    "#\n",
    "# Update/create dataset\n",
    "rates = numpy.array([cent_mag, t_per, n_obs])\n",
    "if src_id in grp:\n",
    "    del grp[src_id]\n",
    "print('    Creating dataset %s' % (src_id))\n",
    "dataset = grp.create_dataset(src_id, data=rates)\n",
    "fhdf5.close()"
   ]
  },
  {
   "cell_type": "code",
   "execution_count": 12,
   "metadata": {},
   "outputs": [
    {
     "data": {
      "image/png": "[encoded data removed]",
      "text/plain": [
       "<matplotlib.figure.Figure at 0x109eb1860>"
      ]
     },
     "metadata": {},
     "output_type": "display_data"
    }
   ],
   "source": [
    "plot_trunc_gr_model(aval_wei, bval_wei, mmin_model, mmax_obs, binwidth, catalogue=fcatal,\n",
    "        completeness=compl_table)"
   ]
  },
  {
   "cell_type": "code",
   "execution_count": 13,
   "metadata": {},
   "outputs": [
    {
     "name": "stdout",
     "output_type": "stream",
     "text": [
      "source 1  | num. of eqks [eqks]  18.00  | weight 1.0\n",
      "Project saved into file /Users/kjohnson/GEM/Regions/paisl18/project/paisl.oqmbtp\n",
      "check: 1.0\n"
     ]
    }
   ],
   "source": [
    "#\n",
    "# Update the project info\n",
    "c = Counter(fcatal.data['comment'])\n",
    "weights = {}\n",
    "annual_rate_source = []\n",
    "#\n",
    "# \n",
    "for srcid in area_source_ids_list:\n",
    "    #\n",
    "    # Computing weight\n",
    "    num_eqs_source = float(c['%s' % srcid])\n",
    "    weights[srcid] = num_eqs_source / fcatal.get_number_events()\n",
    "    print ('source', srcid, \\\n",
    "           ' | num. of eqks [eqks] %6.2f' % (c['%s' % srcid]), \\\n",
    "           ' | weight %s' % (weights[srcid]))\n",
    "    #\n",
    "    # attaching source to model \n",
    "    src = model.get_source(srcid) \n",
    "    src.a_gr=numpy.log10(10**aval_wei * weights[srcid])\n",
    "    src.b_gr=bval_wei\n",
    "#\n",
    "# saving the project\n",
    "oqtkp.save(log=True)\n",
    "#\n",
    "# check of the weight\n",
    "checkw = 0.0\n",
    "for key in weights:\n",
    "    checkw += weights[key]\n",
    "print ('check:', checkw)"
   ]
  },
  {
   "cell_type": "raw",
   "metadata": {},
   "source": [
    "# Set table\n",
    "p = PrettyTable([\"ID\",\"a_gr\", \"b_gr\"])\n",
    "p.align[\"Source ID\"] = 'l'\n",
    "p.align[\"a_gr\"] = 'r'\n",
    "p.align[\"b_gr\"] = 'r'\n",
    "#\n",
    "for key in sorted(model.sources):\n",
    "    src = model.sources[key]\n",
    "    if src.source_type == 'AreaSource':\n",
    "        alab = ''\n",
    "        blab = ''\n",
    "        if 'a_gr' in src.__dict__:\n",
    "            alab = '%8.5f' % (src.a_gr)\n",
    "        if 'b_gr' in src.__dict__:\n",
    "            blab = '%6.3f' % (src.b_gr)    \n",
    "        p.add_row([key, alab, blab])\n",
    "print (p)"
   ]
  },
  {
   "cell_type": "code",
   "execution_count": null,
   "metadata": {},
   "outputs": [],
   "source": []
  }
 ],
 "metadata": {
  "kernelspec": {
   "display_name": "Python 3",
   "language": "python",
   "name": "python3"
  },
  "language_info": {
   "codemirror_mode": {
    "name": "ipython",
    "version": 3
   },
   "file_extension": ".py",
   "mimetype": "text/x-python",
   "name": "python",
   "nbconvert_exporter": "python",
   "pygments_lexer": "ipython3",
   "version": "3.5.4"
  },
  "toc": {
   "nav_menu": {},
   "number_sections": true,
   "sideBar": true,
   "skip_h1_title": false,
   "toc_cell": false,
   "toc_position": {},
   "toc_section_display": "block",
   "toc_window_display": false
  },
  "varInspector": {
   "cols": {
    "lenName": 16,
    "lenType": 16,
    "lenVar": 40
   },
   "kernels_config": {
    "python": {
     "delete_cmd_postfix": "",
     "delete_cmd_prefix": "del ",
     "library": "var_list.py",
     "varRefreshCmd": "print(var_dic_list())"
    },
    "r": {
     "delete_cmd_postfix": ") ",
     "delete_cmd_prefix": "rm(",
     "library": "var_list.r",
     "varRefreshCmd": "cat(var_dic_list()) "
    }
   },
   "types_to_exclude": [
    "module",
    "function",
    "builtin_function_or_method",
    "instance",
    "_Feature"
   ],
   "window_display": false
  }
 },
 "nbformat": 4,
 "nbformat_minor": 1
}
