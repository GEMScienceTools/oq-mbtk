{
 "cells": [
  {
   "cell_type": "code",
   "execution_count": null,
   "metadata": {},
   "outputs": [],
   "source": [
    "a = [1,5,6,7,12,26,72,99]\n",
    "b = [1,3,7,26,41]\n",
    "\n",
    "index = dict((y,x) for x,y in enumerate(b))\n",
    "#for ii in range(0,len(b)):\n",
    "for ii in b:\n",
    "    try:\n",
    "        b_index = index[ii]\n",
    "        #print(ii)\n",
    "        #= index[72]\n",
    "    except KeyError:\n",
    "        print (\"Not found\")\n",
    "    else:\n",
    "       print(ii)"
   ]
  },
  {
   "cell_type": "code",
   "execution_count": null,
   "metadata": {},
   "outputs": [],
   "source": []
  }
 ],
 "metadata": {
  "kernelspec": {
   "display_name": "Python 3",
   "language": "python",
   "name": "python3"
  },
  "language_info": {
   "codemirror_mode": {
    "name": "ipython",
    "version": 3
   },
   "file_extension": ".py",
   "mimetype": "text/x-python",
   "name": "python",
   "nbconvert_exporter": "python",
   "pygments_lexer": "ipython3",
   "version": "3.5.4"
  }
 },
 "nbformat": 4,
 "nbformat_minor": 2
}
