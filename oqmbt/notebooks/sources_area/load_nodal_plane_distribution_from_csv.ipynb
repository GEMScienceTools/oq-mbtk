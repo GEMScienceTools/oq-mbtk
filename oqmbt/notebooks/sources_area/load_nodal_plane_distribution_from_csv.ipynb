{
 "cells": [
  {
   "cell_type": "markdown",
   "metadata": {},
   "source": [
    "# Load nodal plane distribution from .csv files"
   ]
  },
  {
   "cell_type": "code",
   "execution_count": null,
   "metadata": {},
   "outputs": [],
   "source": [
    "%%html\n",
    "<script>\n",
    "    var code_show=true; //true -> hide code at first\n",
    "\n",
    "    function code_toggle() {\n",
    "        $('div.prompt').hide(); // always hide prompt\n",
    "\n",
    "        if (code_show){\n",
    "            $('div.input').hide();\n",
    "        } else {\n",
    "            $('div.input').show();\n",
    "        }\n",
    "        code_show = !code_show\n",
    "    }\n",
    "    $( document ).ready(code_toggle);\n",
    "</script>\n",
    "<p style=\"font-size:60%;\">\n",
    "<a href=\"javascript:code_toggle()\">[Toggle Code]</a>\n",
    "<a target=\"_blank\" href=\"./../project/project_set_params_gui.ipynb#\">[Set params]</a>\n",
    "</p>"
   ]
  },
  {
   "cell_type": "code",
   "execution_count": null,
   "metadata": {},
   "outputs": [],
   "source": [
    "%matplotlib inline\n",
    "import os\n",
    "import re\n",
    "import sys\n",
    "import h5py\n",
    "import numpy\n",
    "import pickle\n",
    "import matplotlib.pyplot as plt\n",
    "from oqmbt.oqt_project import OQtProject"
   ]
  },
  {
   "cell_type": "code",
   "execution_count": null,
   "metadata": {},
   "outputs": [],
   "source": [
    "project_pickle_filename = os.environ.get('OQMBT_PROJECT')\n",
    "oqtkp = OQtProject.load_from_file(project_pickle_filename)\n",
    "model_id = oqtkp.active_model_id\n",
    "model = oqtkp.models[model_id]\n",
    "# hdf5 files\n",
    "focal_mech_hdf5_filename = os.path.join(oqtkp.directory, oqtkp.focal_mech_hdf5_filename)\n",
    "# set source ID\n",
    "try:\n",
    "    area_source_ids_list = getattr(oqtkp,'active_source_id')\n",
    "except:\n",
    "    print('Active source ID not defined in the OQMBT project')\n",
    "    area_source_ids_list = ['10']\n",
    "#\n",
    "#    \n",
    "print('Processing area source with ID:', area_source_ids_list)\n",
    "src_id = area_source_ids_list[0]"
   ]
  },
  {
   "cell_type": "code",
   "execution_count": null,
   "metadata": {},
   "outputs": [],
   "source": [
    "aa = re.sub('\\.hdf5', '', os.path.basename(focal_mech_hdf5_filename))\n",
    "csv_filename = '{:s}-{:s}-{:s}.csv'.format(aa, model_id, src_id)\n",
    "path = os.path.join(oqtkp.directory, 'focal_mechs')\n",
    "infile = os.path.join(path, csv_filename)"
   ]
  },
  {
   "cell_type": "code",
   "execution_count": null,
   "metadata": {},
   "outputs": [],
   "source": [
    "#\n",
    "# loading csv file\n",
    "strike = []\n",
    "dip = []\n",
    "rake = []\n",
    "wei = []\n",
    "print ('Reading {:s}'.format(infile))\n",
    "for line in open(infile, 'r'):\n",
    "    if not re.search('[a-z]', line): \n",
    "        aa = re.split('\\,', line)\n",
    "        strike.append(float(aa[0]))\n",
    "        dip.append(float(aa[1]))\n",
    "        rake.append(float(aa[2]))\n",
    "        wei.append(float(aa[3]))\n",
    "wei = numpy.array(wei)\n",
    "strike = numpy.array(strike)\n",
    "dip = numpy.array(dip)\n",
    "rake = numpy.array(rake)"
   ]
  },
  {
   "cell_type": "code",
   "execution_count": null,
   "metadata": {},
   "outputs": [],
   "source": [
    "#\n",
    "# open the hdf5 containing the nodal plane information\n",
    "nodal_plane_dist_filename = os.path.join(oqtkp.directory, model.nodal_plane_dist_filename)\n",
    "fhdf5 = h5py.File(nodal_plane_dist_filename,'a')\n",
    "#\n",
    "# cleaning\n",
    "if src_id in fhdf5:\n",
    "    del fhdf5[src_id]\n",
    "#\n",
    "# updating the dataset for the current area source\n",
    "x = numpy.zeros(len(strike), dtype=[('strike','f4'),('dip', 'f4'), ('rake', 'f4'), ('wei', 'f4')])\n",
    "print(strike)\n",
    "x['strike'] = strike\n",
    "x['dip'] = dip\n",
    "x['rake'] = rake\n",
    "x['wei'] = wei\n",
    "dset = fhdf5.create_dataset(src_id, data=x)\n",
    "fhdf5.close()\n",
    "\n",
    "print('{:s} updated - src {:s}'.format(nodal_plane_dist_filename, src_id))"
   ]
  },
  {
   "cell_type": "code",
   "execution_count": null,
   "metadata": {},
   "outputs": [],
   "source": []
  }
 ],
 "metadata": {
  "kernelspec": {
   "display_name": "Python 3",
   "language": "python",
   "name": "python3"
  },
  "language_info": {
   "codemirror_mode": {
    "name": "ipython",
    "version": 3
   },
   "file_extension": ".py",
   "mimetype": "text/x-python",
   "name": "python",
   "nbconvert_exporter": "python",
   "pygments_lexer": "ipython3",
   "version": "3.5.4"
  },
  "toc": {
   "nav_menu": {},
   "number_sections": true,
   "sideBar": true,
   "skip_h1_title": true,
   "toc_cell": false,
   "toc_position": {},
   "toc_section_display": "none",
   "toc_window_display": true
  },
  "varInspector": {
   "cols": {
    "lenName": 16,
    "lenType": 16,
    "lenVar": 40
   },
   "kernels_config": {
    "python": {
     "delete_cmd_postfix": "",
     "delete_cmd_prefix": "del ",
     "library": "var_list.py",
     "varRefreshCmd": "print(var_dic_list())"
    },
    "r": {
     "delete_cmd_postfix": ") ",
     "delete_cmd_prefix": "rm(",
     "library": "var_list.r",
     "varRefreshCmd": "cat(var_dic_list()) "
    }
   },
   "types_to_exclude": [
    "module",
    "function",
    "builtin_function_or_method",
    "instance",
    "_Feature"
   ],
   "window_display": false
  }
 },
 "nbformat": 4,
 "nbformat_minor": 2
}
