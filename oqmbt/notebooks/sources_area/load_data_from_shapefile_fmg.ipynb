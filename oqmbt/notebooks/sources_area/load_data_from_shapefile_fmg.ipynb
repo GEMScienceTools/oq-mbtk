{
 "cells": [
  {
   "cell_type": "code",
   "execution_count": null,
   "metadata": {},
   "outputs": [],
   "source": [
    "import os\n",
    "import sys\n",
    "from oqmbt.tools.area import areas_to_oqt_sources\n",
    "from oqmbt.oqt_project import OQtProject"
   ]
  },
  {
   "cell_type": "code",
   "execution_count": null,
   "metadata": {},
   "outputs": [],
   "source": [
    "project_pickle_filename = os.environ.get('OQMBT_PROJECT')\n",
    "oqtkp = OQtProject.load_from_file(project_pickle_filename)\n",
    "model_id = oqtkp.active_model_id\n",
    "model = oqtkp.models[model_id]\n",
    "area_shapefile_filename = os.path.join(oqtkp.directory, getattr(model,'area_shapefile_filename'))\n",
    "print('Shapefile: %s' % (area_shapefile_filename))"
   ]
  },
  {
   "cell_type": "markdown",
   "metadata": {},
   "source": [
    "## Load area sources from shapefile\n",
    "The sources loaded from the shapefile are instances of the OQtSource object."
   ]
  },
  {
   "cell_type": "code",
   "execution_count": null,
   "metadata": {},
   "outputs": [],
   "source": [
    "sources = areas_to_oqt_sources(area_shapefile_filename)"
   ]
  },
  {
   "cell_type": "markdown",
   "metadata": {},
   "source": [
    "## Update project\n",
    "We update the project by adding to the `sources` dictionary of the active model the sources loaded in the previous cell from the shapefile. "
   ]
  },
  {
   "cell_type": "code",
   "execution_count": null,
   "metadata": {},
   "outputs": [],
   "source": [
    "if len(model.sources):\n",
    "    z = model.sources.copy()\n",
    "    z.update(sources)\n",
    "    model.sources = z\n",
    "else:\n",
    "    model.sources = sources\n",
    "\n",
    "oqtkp.models[model_id] = model\n",
    "oqtkp.save()\n",
    "del oqtkp"
   ]
  }
 ],
 "metadata": {
  "kernelspec": {
   "display_name": "py35",
   "language": "python",
   "name": "py35"
  },
  "language_info": {
   "codemirror_mode": {
    "name": "ipython",
    "version": 3
   },
   "file_extension": ".py",
   "mimetype": "text/x-python",
   "name": "python",
   "nbconvert_exporter": "python",
   "pygments_lexer": "ipython3",
   "version": "3.5.5"
  }
 },
 "nbformat": 4,
 "nbformat_minor": 2
}
