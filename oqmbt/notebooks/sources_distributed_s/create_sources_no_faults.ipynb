{
 "metadata": {
  "kernelspec": {
   "display_name": "Python 2",
   "language": "python",
   "name": "python2"
  },
  "language_info": {
   "codemirror_mode": {
    "name": "ipython",
    "version": 2
   },
   "file_extension": ".py",
   "mimetype": "text/x-python",
   "name": "python",
   "nbconvert_exporter": "python",
   "pygments_lexer": "ipython2",
   "version": "2.7.12"
  },
  "name": ""
 },
 "nbformat": 3,
 "nbformat_minor": 0,
 "worksheets": [
  {
   "cells": [
    {
     "cell_type": "heading",
     "level": 1,
     "metadata": {
      "deletable": true,
      "editable": true
     },
     "source": [
      "Building the distributed seismicity model"
     ]
    },
    {
     "cell_type": "raw",
     "metadata": {
      "deletable": true,
      "editable": true
     },
     "source": [
      "%%html\n",
      "<script>\n",
      "    var code_show=true; //true -> hide code at first\n",
      "\n",
      "    function code_toggle() {\n",
      "        $('div.prompt').hide(); // always hide prompt\n",
      "\n",
      "        if (code_show){\n",
      "            $('div.input').hide();\n",
      "        } else {\n",
      "            $('div.input').show();\n",
      "        }\n",
      "        code_show = !code_show\n",
      "    }\n",
      "    $( document ).ready(code_toggle);\n",
      "</script>\n",
      "<p style=\"font-size:60%;\">\n",
      "<a href=\"javascript:code_toggle()\">[Toggle Code]</a>\n",
      "<a target=\"_blank\" href=\"./../project/project_set_params_gui.ipynb#\">[Set params]</a>\n",
      "</p>"
     ]
    },
    {
     "cell_type": "code",
     "collapsed": false,
     "input": [
      "%matplotlib inline\n",
      "import os\n",
      "import re\n",
      "import h5py\n",
      "import numpy\n",
      "import scipy\n",
      "import cPickle as pickle\n",
      "import matplotlib.pylab as plt\n",
      "\n",
      "from copy import deepcopy\n",
      "\n",
      "from oqmbt.oqt_project import OQtProject, OQtSource\n",
      "from oqmbt.tools.area import create_catalogue\n",
      "from oqmbt.tools.smooth import Smoothing\n",
      "from oqmbt.geo_tools import get_idx_points_inside_polygon\n",
      "\n",
      "from openquake.hazardlib.sourcewriter import write_source_model\n",
      "from openquake.hazardlib.source import PointSource, SimpleFaultSource\n",
      "from openquake.hazardlib.mfd.evenly_discretized import EvenlyDiscretizedMFD\n",
      "from openquake.hazardlib.geo.point import Point\n",
      "from openquake.hazardlib.geo.geodetic import azimuth, point_at\n",
      "\n",
      "from hmtk.seismicity.selector import CatalogueSelector\n",
      "\n",
      "from openquake.hazardlib.scalerel.wc1994 import WC1994\n",
      "from openquake.hazardlib.tom import PoissonTOM\n",
      "from openquake.hazardlib.pmf import PMF\n",
      "from openquake.hazardlib.geo.nodalplane import NodalPlane \n",
      "from openquake.hazardlib.mfd import TruncatedGRMFD"
     ],
     "language": "python",
     "metadata": {
      "deletable": true,
      "editable": true
     },
     "outputs": [],
     "prompt_number": null
    },
    {
     "cell_type": "heading",
     "level": 2,
     "metadata": {
      "deletable": true,
      "editable": true
     },
     "source": [
      "Loading the model and area source"
     ]
    },
    {
     "cell_type": "code",
     "collapsed": false,
     "input": [
      "project_pickle_filename = os.environ.get('OQMBT_PROJECT')\n",
      "oqtkp = OQtProject.load_from_file(project_pickle_filename)\n",
      "model_id = oqtkp.active_model_id\n",
      "\n",
      "model_id = 'model_35_70'\n",
      "\n",
      "model = oqtkp.models[model_id]\n",
      "print 'Active model ID is:', model_id\n",
      "area_discretization = model.area_source_discretization"
     ],
     "language": "python",
     "metadata": {
      "deletable": true,
      "editable": true
     },
     "outputs": [],
     "prompt_number": null
    },
    {
     "cell_type": "code",
     "collapsed": false,
     "input": [
      "src_id = getattr(oqtkp,'active_source_id')[0]\n",
      "print 'Area source ID:', src_id\n",
      "src = model.sources[src_id]"
     ],
     "language": "python",
     "metadata": {
      "deletable": true,
      "editable": true
     },
     "outputs": [],
     "prompt_number": null
    },
    {
     "cell_type": "heading",
     "level": 2,
     "metadata": {
      "deletable": true,
      "editable": true
     },
     "source": [
      "Set the nodal plane distribution "
     ]
    },
    {
     "cell_type": "code",
     "collapsed": false,
     "input": [
      "# \n",
      "# set the nodal plane distribution\n",
      "nodal_plane_dist_filename = os.path.join(oqtkp.directory, model.nodal_plane_dist_filename)\n",
      "fhdf5 = h5py.File(nodal_plane_dist_filename,'a')\n",
      "#\n",
      "# add the dataset for the current area source, if missing\n",
      "if (src_id in fhdf5.keys() and not ((fhdf5[src_id]['strike'][0] == 0) and \n",
      "                                    (fhdf5[src_id]['dip'][0] == 0) and\n",
      "                                    (fhdf5[src_id]['rake'][0] == 0))):\n",
      "    print 'Using source-specific nodal plane distribution'\n",
      "    data = fhdf5[src_id][:]\n",
      "    tpll = []\n",
      "    for idx in range(0, len(data)):\n",
      "        nplane = NodalPlane(data['strike'][idx],\n",
      "                            data['dip'][idx],\n",
      "                            data['rake'][idx])\n",
      "        tpll.append((data['wei'][idx], nplane))\n",
      "else:\n",
      "    print 'Using default nodal plane distribution'\n",
      "    tpll = []\n",
      "    npd = model.default_nodal_plane_dist\n",
      "    for idx in range(0, len(npd['strike'])):\n",
      "        nplane = NodalPlane(npd['strike'][idx],\n",
      "                            npd['dip'][idx],\n",
      "                            npd['rake'][idx])\n",
      "        tpll.append((npd['wei'][idx], nplane))\n",
      "nodal_plane_distribution = PMF(tpll)    \n",
      "fhdf5.close()"
     ],
     "language": "python",
     "metadata": {
      "deletable": true,
      "editable": true
     },
     "outputs": [],
     "prompt_number": null
    },
    {
     "cell_type": "heading",
     "level": 2,
     "metadata": {
      "deletable": true,
      "editable": true
     },
     "source": [
      "Set the hypocentral depth distribution"
     ]
    },
    {
     "cell_type": "code",
     "collapsed": false,
     "input": [
      "# \n",
      "# read hypocentral depth file\n",
      "hypo_dist_filename = os.path.join(oqtkp.directory, model.hypo_dist_filename)\n",
      "fhdf5 = h5py.File(hypo_dist_filename,'a')\n",
      "#\n",
      "# check if the file contains information relative this source\n",
      "if (src_id in fhdf5.keys() and not ((fhdf5[src_id]['depth'][0] == 0) and \n",
      "                                    (fhdf5[src_id]['wei'][0] == 0))):\n",
      "    print 'Using source-specific hypocentral depth distribution'\n",
      "    data = fhdf5[src_id][:]\n",
      "    tpll = []\n",
      "    for idx in range(0, len(data)):\n",
      "        tpll.append((data['wei'][idx], data['depth'][idx]))\n",
      "else:\n",
      "    print 'Using default hypocentral depth distribution'\n",
      "    tpll = []\n",
      "    hdd = model.default_hypo_dist\n",
      "    for idx in range(0, len(hdd['dep'])):\n",
      "        tpll.append((hdd['wei'][idx], hdd['dep'][idx]))\n",
      "hypocenter_distribution = PMF(tpll)    "
     ],
     "language": "python",
     "metadata": {
      "deletable": true,
      "editable": true
     },
     "outputs": [],
     "prompt_number": null
    },
    {
     "cell_type": "heading",
     "level": 2,
     "metadata": {
      "deletable": true,
      "editable": true
     },
     "source": [
      "Create the dilated polygon around the area source"
     ]
    },
    {
     "cell_type": "code",
     "collapsed": false,
     "input": [
      "new_polygon = src.polygon.dilate(100)\n",
      "polygon_mesh = new_polygon.discretize(area_discretization)\n",
      "print 'Number of points: %d' % (len(polygon_mesh))"
     ],
     "language": "python",
     "metadata": {
      "deletable": true,
      "editable": true
     },
     "outputs": [],
     "prompt_number": null
    },
    {
     "cell_type": "code",
     "collapsed": false,
     "input": [
      "#\n",
      "# get the earthquakes of the catalogue within the dilated polygon \n",
      "pickle_filename = os.path.join(oqtkp.directory, oqtkp.models[model_id].declustered_catalogue_pickle_filename)\n",
      "fin = open(pickle_filename, 'rb') \n",
      "catalogue = pickle.load(fin)\n",
      "fin.close()\n",
      "print 'The calogue contains %d earthquakes' % (len(catalogue.data['magnitude']))"
     ],
     "language": "python",
     "metadata": {
      "deletable": true,
      "editable": true
     },
     "outputs": [],
     "prompt_number": null
    },
    {
     "cell_type": "code",
     "collapsed": false,
     "input": [
      "#\n",
      "# create the subcatalogue for the dilated polygon\n",
      "cutoff_magnitude = float(model.catalogue_cutoff_magnitude)\n",
      "fcatal = create_catalogue(model, catalogue, polygon=new_polygon)\n",
      "selector = CatalogueSelector(catalogue, create_copy=False)\n",
      "tmp = selector.within_magnitude_range(cutoff_magnitude, 10.)"
     ],
     "language": "python",
     "metadata": {
      "deletable": true,
      "editable": true
     },
     "outputs": [],
     "prompt_number": null
    },
    {
     "cell_type": "heading",
     "level": 2,
     "metadata": {
      "deletable": true,
      "editable": true
     },
     "source": [
      "Smoothing "
     ]
    },
    {
     "cell_type": "code",
     "collapsed": true,
     "input": [
      "smooth_param = [['gaussian', 50, 20, 0.95],\n",
      "                ['gaussian', 20,  5, 0.05]]\n",
      "smooth = Smoothing(fcatal, polygon_mesh, 10)"
     ],
     "language": "python",
     "metadata": {
      "deletable": true,
      "editable": true
     },
     "outputs": [],
     "prompt_number": null
    },
    {
     "cell_type": "code",
     "collapsed": false,
     "input": [
      "values = smooth.multiple_smoothing(smooth_param)\n",
      "print 'Max smoothing value:', max(values)"
     ],
     "language": "python",
     "metadata": {
      "deletable": true,
      "editable": true
     },
     "outputs": [],
     "prompt_number": null
    },
    {
     "cell_type": "heading",
     "level": 2,
     "metadata": {
      "deletable": true,
      "editable": true
     },
     "source": [
      "Map with the smoothed grid"
     ]
    },
    {
     "cell_type": "code",
     "collapsed": false,
     "input": [
      "fig = plt.figure(figsize=(12,8))\n",
      "tmp = plt.scatter(smooth.mesh.lons, smooth.mesh.lats, c=values, vmin=0, vmax=max(values), marker='s', s=15)\n",
      "tmp = plt.plot(src.polygon.lons, src.polygon.lats, 'r')\n",
      "tmp = plt.plot(fcatal.data['longitude'], fcatal.data['latitude'], 'og', mfc='white')"
     ],
     "language": "python",
     "metadata": {
      "deletable": true,
      "editable": true
     },
     "outputs": [],
     "prompt_number": null
    },
    {
     "cell_type": "code",
     "collapsed": true,
     "input": [
      "%%bash\n",
      "rm tmp*"
     ],
     "language": "python",
     "metadata": {
      "deletable": true,
      "editable": true
     },
     "outputs": [],
     "prompt_number": null
    },
    {
     "cell_type": "heading",
     "level": 2,
     "metadata": {
      "deletable": true,
      "editable": true
     },
     "source": [
      "Select the nodes of the grid within the area source"
     ]
    },
    {
     "cell_type": "code",
     "collapsed": true,
     "input": [
      "idxp = smooth.get_points_in_polygon(src.polygon)"
     ],
     "language": "python",
     "metadata": {
      "deletable": true,
      "editable": true
     },
     "outputs": [],
     "prompt_number": null
    },
    {
     "cell_type": "code",
     "collapsed": false,
     "input": [
      "fig = plt.figure(figsize=(12,8))\n",
      "plt.scatter(smooth.mesh.lons[idxp], smooth.mesh.lats[idxp], vmin=0, vmax=0.4, c=values[idxp], marker='s', s=15)\n",
      "plt.plot(src.polygon.lons, src.polygon.lats, 'r')\n",
      "if 'ids_faults_inside' in src.__dict__:\n",
      "    for iii, key in enumerate(sorted(src.ids_faults_inside.keys())): \n",
      "        tsrc = model.sources[key] \n",
      "        coord = numpy.array(get_polygon_from_simple_fault(tsrc))\n",
      "        plt.plot(coord[:,0], coord[:,1], 'r')"
     ],
     "language": "python",
     "metadata": {
      "deletable": true,
      "editable": true
     },
     "outputs": [],
     "prompt_number": null
    },
    {
     "cell_type": "markdown",
     "metadata": {
      "deletable": true,
      "editable": true
     },
     "source": [
      "## Assign seismicity to the source\n",
      "The redistribution of seismicity to the source is done for each cell using as a scaling factor the ratio of the value assigned to the node and the sum of the values of all the nodes within the area source. Note that the mfd assigned to the area source must be an EvenlyDiscretisedMFD instance."
     ]
    },
    {
     "cell_type": "code",
     "collapsed": true,
     "input": [
      "scaling_factor = 1. /sum(values[idxp])\n",
      "#\n",
      "# if necessary convert a TruncatedGR into a EvenlyDiscretizedMFD \n",
      "if isinstance(src.mfd, TruncatedGRMFD):\n",
      "    src.mfd.get_annual_occurrence_rates\n",
      "    tmp = src.mfd.get_annual_occurrence_rates()\n",
      "    mfd = EvenlyDiscretizedMFD(tmp[0][0], tmp[1][0] - tmp[0][0], tmp[:][1]) \n",
      "else:\n",
      "    mfd = source.mfd\n",
      "#\n",
      "# compute scaled rates\n",
      "mfdpnts = numpy.array([mfd.occurrence_rates,]*len(values))*scaling_factor\n",
      "#\n",
      "#\n",
      "xxx = numpy.tile(values, (mfdpnts.shape[1], 1)).T\n",
      "mfdpnts = mfdpnts * numpy.tile(values, (mfdpnts.shape[1], 1)).T\n",
      "#\n",
      "# create a vector of magnitude values\n",
      "mags = []\n",
      "for mag, _ in mfd.get_annual_occurrence_rates():\n",
      "    mags.append(mag)"
     ],
     "language": "python",
     "metadata": {
      "deletable": true,
      "editable": true
     },
     "outputs": [],
     "prompt_number": null
    },
    {
     "cell_type": "heading",
     "level": 1,
     "metadata": {
      "deletable": true,
      "editable": true
     },
     "source": [
      "Create the nrml "
     ]
    },
    {
     "cell_type": "code",
     "collapsed": false,
     "input": [
      "print (\"model upper seismogenic depth: {:.2f}\".format(model.upper_seismogenic_depth))\n",
      "print (\"model lower seismogenic depth: {:.2f}\".format(model.lower_seismogenic_depth))\n",
      "\n",
      "for tple in hypocenter_distribution.data:\n",
      "    print (tple)\n",
      "\n",
      "nrmls = [] \n",
      "#\n",
      "# settings\n",
      "rupture_mesh_spacing = 2.5\n",
      "magnitude_scaling_relationship = WC1994()\n",
      "rupture_aspect_ratio = 2.0\n",
      "temporal_occurrence_model = PoissonTOM(1.)\n",
      "#\n",
      "# loop on the points inside the polygon\n",
      "for eee, iii in enumerate(idxp):\n",
      "    #\n",
      "    # check if the discrete MFD for this point has values larger than 0\n",
      "    jjj = numpy.nonzero(mfdpnts[iii, :] > 0)\n",
      "    if len(list(mfdpnts[iii, jjj][0])) > 0:\n",
      "        #\n",
      "        # create the MFD\n",
      "        tmfd = EvenlyDiscretizedMFD(src.mfd.min_mag, src.mfd.bin_width, list(mfdpnts[iii, jjj][0]))\n",
      "        #\n",
      "        # create the point source\n",
      "        points = PointSource(\n",
      "            source_id='%d' % eee, \n",
      "            name='', \n",
      "            tectonic_region_type=src.tectonic_region_type,\n",
      "            mfd=tmfd, \n",
      "            rupture_mesh_spacing=rupture_mesh_spacing,\n",
      "            magnitude_scaling_relationship=magnitude_scaling_relationship, \n",
      "            rupture_aspect_ratio=rupture_aspect_ratio,\n",
      "            temporal_occurrence_model=temporal_occurrence_model,\n",
      "            upper_seismogenic_depth=model.upper_seismogenic_depth, \n",
      "            lower_seismogenic_depth=model.lower_seismogenic_depth,\n",
      "            location=Point(smooth.mesh.lons[iii], smooth.mesh.lats[iii]), \n",
      "            nodal_plane_distribution=nodal_plane_distribution, \n",
      "            hypocenter_distribution=hypocenter_distribution\n",
      "            )\n",
      "        nrmls.append(points)"
     ],
     "language": "python",
     "metadata": {
      "deletable": true,
      "editable": true
     },
     "outputs": [],
     "prompt_number": null
    },
    {
     "cell_type": "code",
     "collapsed": false,
     "input": [
      "#\n",
      "# write the nrml file\n",
      "model_dir = os.path.join(oqtkp.directory, 'nrml/%s' % (re.sub('\\s','_',model_id)))\n",
      "if not os.path.exists(model_dir):\n",
      "    os.makedirs(model_dir)\n",
      "model_name = '%s_gridded_seismicity_source_%s.xml' % (model_id, src_id)\n",
      "out_model_name = os.path.join(model_dir, model_name)\n",
      "_ = write_source_model(out_model_name, nrmls, 'Model %s')\n",
      "print 'Created %s ' % (out_model_name)"
     ],
     "language": "python",
     "metadata": {
      "deletable": true,
      "editable": true
     },
     "outputs": [],
     "prompt_number": null
    },
    {
     "cell_type": "code",
     "collapsed": true,
     "input": [],
     "language": "python",
     "metadata": {
      "deletable": true,
      "editable": true
     },
     "outputs": [],
     "prompt_number": null
    }
   ],
   "metadata": {}
  }
 ]
}
