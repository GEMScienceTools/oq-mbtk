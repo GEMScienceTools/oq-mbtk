{
 "cells": [
  {
   "cell_type": "code",
   "execution_count": null,
   "metadata": {},
   "outputs": [],
   "source": [
    "import re\n",
    "import sys\n",
    "import os\n",
    "import glob\n",
    "import xlrd\n",
    "import subprocess\n",
    "from IPython.core.display import HTML\n",
    "from IPython.display import display\n",
    "from oqmbt.oqt_project import OQtProject\n",
    "from oqmbt.nrml_tools import get_source_model\n",
    "from openquake.commonlib.sourcewriter import write_source_model"
   ]
  },
  {
   "cell_type": "code",
   "execution_count": null,
   "metadata": {},
   "outputs": [],
   "source": [
    "project_pickle_filename = os.environ.get('OQMBT_PROJECT')\n",
    "oqtkp = OQtProject.load_from_file(project_pickle_filename)\n",
    "model_id = oqtkp.active_model_id\n",
    "model = oqtkp.models[model_id]"
   ]
  },
  {
   "cell_type": "code",
   "execution_count": null,
   "metadata": {},
   "outputs": [],
   "source": [
    "mfd_bin_width = 0.1\n",
    "area_discretization = 10.0"
   ]
  },
  {
   "cell_type": "code",
   "execution_count": null,
   "metadata": {},
   "outputs": [],
   "source": [
    "# Write the nrml file\n",
    "model_dir = os.path.join(oqtkp.directory, 'nrml/%s' % (re.sub('\\s','_',model_id)))\n",
    "print model_dir\n",
    "# get list of sources\n",
    "path_dir_with_sources = os.path.join(model_dir,'*.xml')\n",
    "files_list = glob.glob(path_dir_with_sources)\n",
    "# get all the sources \n",
    "final_model = []\n",
    "for filename in files_list:\n",
    "    modelx = get_source_model(filename, \n",
    "                              inv_time=1.0,\n",
    "                              simple_mesh_spacing=10.0,\n",
    "                              complex_mesh_spacing=100.0,\n",
    "                              mfd_spacing=mfd_bin_width,\n",
    "                              area_discretisation=area_discretization\n",
    "                             )\n",
    "\n",
    "    print modelx\n",
    "    for tsrc in modelx[0].sources:\n",
    "        final_model.append(tsrc)\n",
    "\n",
    "out_model_name = os.path.join(model_dir,'model.xml')\n",
    "\n",
    "write_source_model(out_model_name, final_model, 'Model %s')\n",
    "text = 'Created <a href=\"%s\" target=\"_blank\">file</a><br>' % (os.path.relpath(out_model_name))\n",
    "text += '<small>%s</small>' % (out_model_name)\n",
    "display(HTML(text))"
   ]
  },
  {
   "cell_type": "code",
   "execution_count": null,
   "metadata": {},
   "outputs": [],
   "source": []
  }
 ],
 "metadata": {
  "kernelspec": {
   "display_name": "py35",
   "language": "python",
   "name": "py35"
  },
  "language_info": {
   "codemirror_mode": {
    "name": "ipython",
    "version": 3
   },
   "file_extension": ".py",
   "mimetype": "text/x-python",
   "name": "python",
   "nbconvert_exporter": "python",
   "pygments_lexer": "ipython3",
   "version": "3.5.5"
  },
  "toc": {
   "nav_menu": {},
   "number_sections": true,
   "sideBar": true,
   "skip_h1_title": true,
   "toc_cell": false,
   "toc_position": {},
   "toc_section_display": "block",
   "toc_window_display": true
  },
  "varInspector": {
   "cols": {
    "lenName": 16,
    "lenType": 16,
    "lenVar": 40
   },
   "kernels_config": {
    "python": {
     "delete_cmd_postfix": "",
     "delete_cmd_prefix": "del ",
     "library": "var_list.py",
     "varRefreshCmd": "print(var_dic_list())"
    },
    "r": {
     "delete_cmd_postfix": ") ",
     "delete_cmd_prefix": "rm(",
     "library": "var_list.r",
     "varRefreshCmd": "cat(var_dic_list()) "
    }
   },
   "types_to_exclude": [
    "module",
    "function",
    "builtin_function_or_method",
    "instance",
    "_Feature"
   ],
   "window_display": false
  }
 },
 "nbformat": 4,
 "nbformat_minor": 1
}
