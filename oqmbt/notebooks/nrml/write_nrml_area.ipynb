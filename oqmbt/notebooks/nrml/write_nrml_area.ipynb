{
 "cells": [
  {
   "cell_type": "markdown",
   "metadata": {},
   "source": [
    "# Write into a nrml file the area sources included in a model"
   ]
  },
  {
   "cell_type": "code",
   "execution_count": null,
   "metadata": {},
   "outputs": [],
   "source": [
    "%matplotlib inline\n",
    "import os\n",
    "import re\n",
    "import sys\n",
    "from IPython.core.display import HTML\n",
    "from IPython.display import display\n",
    "from oqmbt.oqt_project import OQtProject\n",
    "from openquake.commonlib.sourcewriter import write_source_model\n",
    "from openquake.hazardlib.source import AreaSource"
   ]
  },
  {
   "cell_type": "code",
   "execution_count": null,
   "metadata": {},
   "outputs": [],
   "source": [
    "project_pickle_filename = os.environ.get('OQMBT_PROJECT')\n",
    "oqtkp = OQtProject.load_from_file(project_pickle_filename)\n",
    "model_id = oqtkp.active_model_id\n",
    "model = oqtkp.models[model_id]"
   ]
  },
  {
   "cell_type": "code",
   "execution_count": null,
   "metadata": {},
   "outputs": [],
   "source": [
    "# Create the source list\n",
    "sources = []\n",
    "for key in model.nrml_sources:\n",
    "    src = model.nrml_sources[key]\n",
    "    if isinstance(src, AreaSource):\n",
    "        sources.append(src)\n",
    "# Write the nrml file\n",
    "model_dir = os.path.join(oqtkp.directory, 'nrml/%s' % (re.sub('\\s','_',model_id)))\n",
    "if not os.path.exists(model_dir):\n",
    "    os.makedirs(model_dir)\n",
    "model_name = 'area_sources.xml'\n",
    "out_model_name = os.path.join(model_dir, model_name)\n",
    "_ = write_source_model(out_model_name,  sources, 'Model %s')\n",
    "\n",
    "text = 'Created <a href=\"%s\" target=\"_blank\">file</a><br>' % (os.path.relpath(out_model_name))\n",
    "text += '<small>%s</small>' % (out_model_name)\n",
    "display(HTML(text))"
   ]
  },
  {
   "cell_type": "code",
   "execution_count": null,
   "metadata": {},
   "outputs": [],
   "source": []
  }
 ],
 "metadata": {
  "kernelspec": {
   "display_name": "Python 2",
   "language": "python",
   "name": "python2"
  },
  "language_info": {
   "codemirror_mode": {
    "name": "ipython",
    "version": 2
   },
   "file_extension": ".py",
   "mimetype": "text/x-python",
   "name": "python",
   "nbconvert_exporter": "python",
   "pygments_lexer": "ipython2",
   "version": "2.7.6"
  }
 },
 "nbformat": 4,
 "nbformat_minor": 0
}
