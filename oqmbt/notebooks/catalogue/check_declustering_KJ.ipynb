{
 "cells": [
  {
   "cell_type": "code",
   "execution_count": 6,
   "metadata": {},
   "outputs": [],
   "source": [
    "%matplotlib inline\n",
    "\n",
    "import os\n",
    "import re\n",
    "import sys\n",
    "import h5py\n",
    "import numpy\n",
    "import subprocess\n",
    "try:\n",
    "    import cPickle as pickle\n",
    "except: \n",
    "    import pickle\n",
    "\n",
    "import matplotlib.pyplot as plt\n",
    "import matplotlib.patheffects as PathEffects\n",
    "\n",
    "from mpl_toolkits.basemap import Basemap\n",
    "\n",
    "from copy import deepcopy\n",
    "from oqmbt.oqt_project import OQtProject, OQtModel, OQtSource\n",
    "\n",
    "from openquake.hmtk.seismicity.occurrence.weichert import Weichert\n",
    "from openquake.hmtk.seismicity.completeness.comp_stepp_1971 import Stepp1971 \n",
    "from openquake.hmtk.plotting.seismicity.completeness.plot_stepp_1972 import create_stepp_plot\n",
    "from openquake.hmtk.plotting.seismicity.occurrence.recurrence_plot import plot_trunc_gr_model\n",
    "from openquake.hmtk.plotting.seismicity.catalogue_plots import (plot_magnitude_time_scatter, \n",
    "                                                      plot_magnitude_time_density)\n",
    "from openquake.hmtk.parsers.catalogue.csv_catalogue_parser import CsvCatalogueParser\n",
    "from openquake.hmtk.seismicity.selector import CatalogueSelector\n",
    "from openquake.hmtk.seismicity.declusterer.dec_gardner_knopoff import GardnerKnopoffType1\n",
    "from openquake.hmtk.seismicity.declusterer.distance_time_windows import GardnerKnopoffWindow"
   ]
  },
  {
   "cell_type": "code",
   "execution_count": 7,
   "metadata": {},
   "outputs": [],
   "source": [
    "base = os.getcwd()\n",
    "prj_path_long = os.path.join(\"/Users/kjohnson/GEM/Regions/paisl18/project/paisl.oqmbtp\")\n",
    "prj_path = os.path.normpath(prj_path_long)\n",
    "os.environ[\"OQMBT_PROJECT\"] = prj_path\n"
   ]
  },
  {
   "cell_type": "code",
   "execution_count": 8,
   "metadata": {},
   "outputs": [
    {
     "name": "stdout",
     "output_type": "stream",
     "text": [
      "Model id                      : model01\n",
      "Reading                       : /Users/kjohnson/GEM/Regions/paisl18/project/../data/catalogues/locations/FinalCatalog/PI_final.hmtk\n"
     ]
    }
   ],
   "source": [
    "#\n",
    "# load project information \n",
    "project_pickle_filename = os.environ.get('OQMBT_PROJECT')\n",
    "oqtkp = OQtProject.load_from_file(project_pickle_filename)\n",
    "oqtkp.directory = os.path.dirname(project_pickle_filename)\n",
    "model_id = oqtkp.active_model_id\n",
    "model = oqtkp.models[model_id]\n",
    "catalogue_csv_filename = os.path.join(oqtkp.directory, getattr(model,'catalogue_csv_filename'))\n",
    "#\n",
    "# info\n",
    "text_length = 30\n",
    "print ('{:s}: {:s}'.format('Model id'.ljust(text_length), model_id))\n",
    "print ('{:s}: {:s}'.format('Reading'.ljust(text_length), catalogue_csv_filename))"
   ]
  },
  {
   "cell_type": "code",
   "execution_count": 9,
   "metadata": {},
   "outputs": [
    {
     "name": "stdout",
     "output_type": "stream",
     "text": [
      "MFD bin width                 : 0.10\n",
      "Magnitude cutoff              : 3.50\n"
     ]
    }
   ],
   "source": [
    "# cutoff magnitude is the lowest magnitude treshold. All the events below this threshold \n",
    "# are filtered out at the beginning of the processing workflow\n",
    "cutoff_magnitude = float(model.catalogue_cutoff_magnitude)\n",
    "#\n",
    "# width of bins used to discretise the MFDs\n",
    "binwidth = float(model.mfd_binwidth)\n",
    "#\n",
    "# printing info\n",
    "print ('{:s}: {:.2f}'.format('MFD bin width'.ljust(text_length), binwidth))\n",
    "print ('{:s}: {:.2f}'.format('Magnitude cutoff'.ljust(text_length), cutoff_magnitude))"
   ]
  },
  {
   "cell_type": "code",
   "execution_count": 10,
   "metadata": {},
   "outputs": [
    {
     "name": "stdout",
     "output_type": "stream",
     "text": [
      "Catalogue Attribute locId is not a recognised catalogue key\n",
      "Catalogue Attribute field_27 is not a recognised catalogue key\n",
      "Catalogue Attribute field_28 is not a recognised catalogue key\n",
      "Catalogue Attribute 360_1 is not a recognised catalogue key\n",
      "Catalogue Attribute field_26 is not a recognised catalogue key\n",
      "Catalogue Attribute field_24 is not a recognised catalogue key\n",
      "Catalogue Attribute MagId is not a recognised catalogue key\n",
      "Catalogue Attribute field_29 is not a recognised catalogue key\n",
      "Catalogue Attribute field_25 is not a recognised catalogue key\n",
      "Catalogue Attribute field_23 is not a recognised catalogue key\n",
      "Catalogue Attribute field_30 is not a recognised catalogue key\n",
      "Catalogue Attribute Identifier is not a recognised catalogue key\n",
      "Catalogue:\n",
      "    minimum hypocentral depth: 0.00\n",
      "    maximum hypocentral depth: 34.90\n"
     ]
    },
    {
     "name": "stderr",
     "output_type": "stream",
     "text": [
      "/Users/kjohnson/GEM/oq-engine/openquake/hmtk/seismicity/selector.py:380: RuntimeWarning: invalid value encountered in greater_equal\n",
      "  is_valid = np.logical_and(self.catalogue.data['depth'] >= upper_depth,\n",
      "/Users/kjohnson/GEM/oq-engine/openquake/hmtk/seismicity/selector.py:381: RuntimeWarning: invalid value encountered in less\n",
      "  self.catalogue.data['depth'] < lower_depth)\n"
     ]
    }
   ],
   "source": [
    "#\n",
    "# parsing the .csv catalogue\n",
    "catalogue_csv_filename = '/Users/kjohnson/GEM/Regions/paisl18/data/catalogues/locations/FinalCatalog/PI_final.hmtk'\n",
    "catalogue_parser = CsvCatalogueParser(catalogue_csv_filename)\n",
    "catalogue = catalogue_parser.read_file()\n",
    "selector = CatalogueSelector(catalogue, create_copy=False)\n",
    "selector.within_magnitude_range(cutoff_magnitude, 10.)\n",
    "dep_max = float(model.catalogue_maximum_depth)\n",
    "dep_min = float(model.catalogue_minimum_depth)\n",
    "tmp = selector.within_depth_range(dep_max, dep_min)\n",
    "#\n",
    "# info\n",
    "print ('Catalogue:')\n",
    "print ('    minimum hypocentral depth: {:.2f}'.format(numpy.min(catalogue.data['depth'])))\n",
    "print ('    maximum hypocentral depth: {:.2f}'.format(numpy.max(catalogue.data['depth'])))"
   ]
  },
  {
   "cell_type": "code",
   "execution_count": 19,
   "metadata": {},
   "outputs": [],
   "source": [
    "distance_time_wind = GardnerKnopoffWindow()\n",
    "config = {'time_distance_window': distance_time_wind, 'fs_time_prop': .9}\n",
    "declusterer = GardnerKnopoffType1()\n",
    "from openquake.hmtk.seismicity.utils import decimal_year, haversine\n",
    "import numpy as np"
   ]
  },
  {
   "cell_type": "code",
   "execution_count": 32,
   "metadata": {},
   "outputs": [
    {
     "name": "stdout",
     "output_type": "stream",
     "text": [
      "7523\n"
     ]
    }
   ],
   "source": [
    "neq = len(catalogue.data['magnitude'])\n",
    "year_dec = decimal_year(\n",
    "            catalogue.data['year'], catalogue.data['month'],\n",
    "            catalogue.data['day'])\n",
    "sw_space, sw_time = (\n",
    "            config['time_distance_window'].calc(catalogue.data['magnitude']))\n",
    "# Initial Position Identifier\n",
    "eqid = np.arange(0, neq, 1)\n",
    "# Pre-allocate cluster index vectors\n",
    "vcl = np.zeros(neq, dtype=int)\n",
    "# Sort magnitudes into descending order\n",
    "id0 = np.flipud(np.argsort(catalogue.data['magnitude'],\n",
    "                           kind='heapsort'))\n",
    "longitude = catalogue.data['longitude'][id0]\n",
    "latitude = catalogue.data['latitude'][id0]\n",
    "sw_space = sw_space[id0]\n",
    "sw_time = sw_time[id0]\n",
    "year_dec = year_dec[id0]\n",
    "eqid = eqid[id0]\n",
    "flagvector = np.zeros(neq, dtype=int)\n",
    "# Begin cluster identification\n",
    "clust_index = 0\n"
   ]
  },
  {
   "cell_type": "code",
   "execution_count": 35,
   "metadata": {},
   "outputs": [
    {
     "name": "stdout",
     "output_type": "stream",
     "text": [
      "[  0.           3.3890411    1.99726027 ...,  91.97808219  94.84109589\n",
      "  95.72054795]\n",
      "[ -3.3890411    0.          -1.39178082 ...,  88.5890411   91.45205479\n",
      "  92.33150685]\n",
      "[ -1.99726027   1.39178082   0.         ...,  89.98082192  92.84383562\n",
      "  93.72328767]\n",
      "[-92.41369863 -89.02465753 -90.41643836 ...,  -0.43561644   2.42739726\n",
      "   3.30684932]\n",
      "[-89.91780822 -86.52876712 -87.92054795 ...,   2.06027397   4.92328767\n",
      "   5.80273973]\n",
      "[ -0.15342466   3.23561644   1.84383562 ...,  91.82465753  94.68767123\n",
      "  95.56712329]\n",
      "[-83.54520548 -80.15616438 -81.54794521 ...,   8.43287671  11.29589041\n",
      "  12.17534247]\n",
      "[-89.00547945 -85.61643836 -87.00821918 ...,   2.97260274   5.83561644\n",
      "   6.71506849]\n",
      "[-21.99726027 -18.60821918 -20.         ...,  69.98082192  72.84383562\n",
      "  73.72328767]\n",
      "[  15.7260274    19.11506849   17.72328767 ...,  107.70410959  110.56712329\n",
      "  111.44657534]\n"
     ]
    }
   ],
   "source": [
    "for i in range(0, 10):\n",
    "    if vcl[i] == 0:\n",
    "        # Find Events inside both fore- and aftershock time windows\n",
    "        dt = year_dec - year_dec[i]\n",
    "        print(dt)\n",
    "        vsel = np.logical_and(\n",
    "            vcl == 0,\n",
    "            np.logical_and(\n",
    "                dt >= (-sw_time[i] * config['fs_time_prop']),\n",
    "                dt <= sw_time[i]))\n",
    "        # Of those events inside time window,\n",
    "        # find those inside distance window\n",
    "        vsel1 = haversine(longitude[vsel],\n",
    "                          latitude[vsel],\n",
    "                          longitude[i],\n",
    "                          latitude[i]) <= sw_space[i]\n",
    "        #print(vsel1)\n",
    "        vsel[vsel] = vsel1[:, 0]\n",
    "        temp_vsel = np.copy(vsel)\n",
    "        temp_vsel[i] = False\n",
    "        if any(temp_vsel):\n",
    "            # Allocate a cluster number\n",
    "            vcl[vsel] = clust_index + 1\n",
    "            flagvector[vsel] = 1\n",
    "            ## For those events in the cluster before the main event,\n",
    "            ## flagvector is equal to -1\n",
    "            temp_vsel[dt >= 0.0] = False\n",
    "            flagvector[temp_vsel] = -1\n",
    "            flagvector[i] = 0\n",
    "            clust_index += 1\n",
    "\n"
   ]
  },
  {
   "cell_type": "code",
   "execution_count": 36,
   "metadata": {},
   "outputs": [
    {
     "ename": "TypeError",
     "evalue": "NumPy boolean array indexing assignment requires a 0 or 1-dimensional input, input has 2 dimensions",
     "output_type": "error",
     "traceback": [
      "\u001b[0;31m---------------------------------------------------------------------------\u001b[0m",
      "\u001b[0;31mTypeError\u001b[0m                                 Traceback (most recent call last)",
      "\u001b[0;32m<ipython-input-36-a87f8a6834f5>\u001b[0m in \u001b[0;36m<module>\u001b[0;34m()\u001b[0m\n\u001b[0;32m----> 1\u001b[0;31m \u001b[0mvcl\u001b[0m\u001b[0;34m,\u001b[0m \u001b[0mflag\u001b[0m \u001b[0;34m=\u001b[0m \u001b[0mdeclusterer\u001b[0m\u001b[0;34m.\u001b[0m\u001b[0mdecluster\u001b[0m\u001b[0;34m(\u001b[0m\u001b[0mcatalogue\u001b[0m\u001b[0;34m,\u001b[0m \u001b[0mconfig\u001b[0m\u001b[0;34m)\u001b[0m\u001b[0;34m\u001b[0m\u001b[0m\n\u001b[0m",
      "\u001b[0;32m<decorator-gen-128>\u001b[0m in \u001b[0;36mdecluster\u001b[0;34m(self, catalogue, config)\u001b[0m\n",
      "\u001b[0;32m~/GEM/oq-engine/openquake/hmtk/registry.py\u001b[0m in \u001b[0;36mcaller\u001b[0;34m(fn, obj, catalogue, config, *args, **kwargs)\u001b[0m\n\u001b[1;32m    108\u001b[0m                 \u001b[0mself\u001b[0m\u001b[0;34m.\u001b[0m\u001b[0mset_defaults\u001b[0m\u001b[0;34m(\u001b[0m\u001b[0mconfig\u001b[0m\u001b[0;34m,\u001b[0m \u001b[0mfields\u001b[0m\u001b[0;34m)\u001b[0m\u001b[0;34m\u001b[0m\u001b[0m\n\u001b[1;32m    109\u001b[0m                 \u001b[0mself\u001b[0m\u001b[0;34m.\u001b[0m\u001b[0mcheck_config\u001b[0m\u001b[0;34m(\u001b[0m\u001b[0mconfig\u001b[0m\u001b[0;34m,\u001b[0m \u001b[0mfields\u001b[0m\u001b[0;34m)\u001b[0m\u001b[0;34m\u001b[0m\u001b[0m\n\u001b[0;32m--> 110\u001b[0;31m                 \u001b[0;32mreturn\u001b[0m \u001b[0mfn\u001b[0m\u001b[0;34m(\u001b[0m\u001b[0mobj\u001b[0m\u001b[0;34m,\u001b[0m \u001b[0mcatalogue\u001b[0m\u001b[0;34m,\u001b[0m \u001b[0mconfig\u001b[0m\u001b[0;34m,\u001b[0m \u001b[0;34m*\u001b[0m\u001b[0margs\u001b[0m\u001b[0;34m,\u001b[0m \u001b[0;34m**\u001b[0m\u001b[0mkwargs\u001b[0m\u001b[0;34m)\u001b[0m\u001b[0;34m\u001b[0m\u001b[0m\n\u001b[0m\u001b[1;32m    111\u001b[0m             \u001b[0mnew_method\u001b[0m \u001b[0;34m=\u001b[0m \u001b[0mdecorator\u001b[0m\u001b[0;34m(\u001b[0m\u001b[0mcaller\u001b[0m\u001b[0;34m,\u001b[0m \u001b[0moriginal_method\u001b[0m\u001b[0;34m)\u001b[0m\u001b[0;34m\u001b[0m\u001b[0m\n\u001b[1;32m    112\u001b[0m             \u001b[0msetattr\u001b[0m\u001b[0;34m(\u001b[0m\u001b[0mclass_obj\u001b[0m\u001b[0;34m,\u001b[0m \u001b[0mmethod_name\u001b[0m\u001b[0;34m,\u001b[0m \u001b[0mnew_method\u001b[0m\u001b[0;34m)\u001b[0m\u001b[0;34m\u001b[0m\u001b[0m\n",
      "\u001b[0;32m~/GEM/oq-engine/openquake/hmtk/seismicity/declusterer/dec_gardner_knopoff.py\u001b[0m in \u001b[0;36mdecluster\u001b[0;34m(self, catalogue, config)\u001b[0m\n\u001b[1;32m    135\u001b[0m                                   \u001b[0mlongitude\u001b[0m\u001b[0;34m[\u001b[0m\u001b[0mi\u001b[0m\u001b[0;34m]\u001b[0m\u001b[0;34m,\u001b[0m\u001b[0;34m\u001b[0m\u001b[0m\n\u001b[1;32m    136\u001b[0m                                   latitude[i]) <= sw_space[i]\n\u001b[0;32m--> 137\u001b[0;31m                 \u001b[0mvsel\u001b[0m\u001b[0;34m[\u001b[0m\u001b[0mvsel\u001b[0m\u001b[0;34m]\u001b[0m \u001b[0;34m=\u001b[0m \u001b[0mvsel1\u001b[0m\u001b[0;34m[\u001b[0m\u001b[0;34m:\u001b[0m\u001b[0;34m,\u001b[0m \u001b[0;36m0\u001b[0m\u001b[0;34m]\u001b[0m\u001b[0;34m\u001b[0m\u001b[0m\n\u001b[0m\u001b[1;32m    138\u001b[0m                 \u001b[0mtemp_vsel\u001b[0m \u001b[0;34m=\u001b[0m \u001b[0mnp\u001b[0m\u001b[0;34m.\u001b[0m\u001b[0mcopy\u001b[0m\u001b[0;34m(\u001b[0m\u001b[0mvsel\u001b[0m\u001b[0;34m)\u001b[0m\u001b[0;34m\u001b[0m\u001b[0m\n\u001b[1;32m    139\u001b[0m                 \u001b[0mtemp_vsel\u001b[0m\u001b[0;34m[\u001b[0m\u001b[0mi\u001b[0m\u001b[0;34m]\u001b[0m \u001b[0;34m=\u001b[0m \u001b[0;32mFalse\u001b[0m\u001b[0;34m\u001b[0m\u001b[0m\n",
      "\u001b[0;31mTypeError\u001b[0m: NumPy boolean array indexing assignment requires a 0 or 1-dimensional input, input has 2 dimensions"
     ]
    }
   ],
   "source": [
    "vcl, flag = declusterer.decluster(catalogue, config)"
   ]
  },
  {
   "cell_type": "code",
   "execution_count": null,
   "metadata": {},
   "outputs": [],
   "source": []
  }
 ],
 "metadata": {
  "kernelspec": {
   "display_name": "Python 3",
   "language": "python",
   "name": "python3"
  },
  "language_info": {
   "codemirror_mode": {
    "name": "ipython",
    "version": 3
   },
   "file_extension": ".py",
   "mimetype": "text/x-python",
   "name": "python",
   "nbconvert_exporter": "python",
   "pygments_lexer": "ipython3",
   "version": "3.5.4"
  }
 },
 "nbformat": 4,
 "nbformat_minor": 2
}
