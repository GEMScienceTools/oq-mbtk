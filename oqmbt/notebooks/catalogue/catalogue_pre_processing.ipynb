{
 "cells": [
  {
   "cell_type": "code",
   "execution_count": null,
   "metadata": {},
   "outputs": [],
   "source": [
    "# DO NOT REMOVE"
   ]
  },
  {
   "cell_type": "markdown",
   "metadata": {},
   "source": [
    "# Catalogue pre-processing\n",
    "## Settings"
   ]
  },
  {
   "cell_type": "code",
   "execution_count": null,
   "metadata": {},
   "outputs": [],
   "source": [
    "%matplotlib inline\n",
    "\n",
    "import os\n",
    "import re\n",
    "import sys\n",
    "import h5py\n",
    "import numpy\n",
    "import subprocess\n",
    "try:\n",
    "    import cPickle as pickle\n",
    "except: \n",
    "    import pickle\n",
    "\n",
    "import matplotlib.pyplot as plt\n",
    "import matplotlib.patheffects as PathEffects\n",
    "\n",
    "from mpl_toolkits.basemap import Basemap\n",
    "\n",
    "from copy import deepcopy\n",
    "from oqmbt.oqt_project import OQtProject, OQtModel, OQtSource\n",
    "\n",
    "from openquake.hmtk.seismicity.occurrence.weichert import Weichert\n",
    "from openquake.hmtk.seismicity.completeness.comp_stepp_1971 import Stepp1971 \n",
    "from openquake.hmtk.plotting.seismicity.completeness.plot_stepp_1972 import create_stepp_plot\n",
    "from openquake.hmtk.plotting.seismicity.occurrence.recurrence_plot import plot_trunc_gr_model\n",
    "from openquake.hmtk.plotting.seismicity.catalogue_plots import (plot_magnitude_time_scatter, \n",
    "                                                      plot_magnitude_time_density)\n",
    "from openquake.hmtk.parsers.catalogue.csv_catalogue_parser import CsvCatalogueParser\n",
    "from openquake.hmtk.seismicity.selector import CatalogueSelector\n",
    "from openquake.hmtk.seismicity.declusterer.dec_gardner_knopoff import GardnerKnopoffType1\n",
    "from openquake.hmtk.seismicity.declusterer.distance_time_windows import GardnerKnopoffWindow"
   ]
  },
  {
   "cell_type": "code",
   "execution_count": null,
   "metadata": {},
   "outputs": [],
   "source": [
    "#\n",
    "# load project information \n",
    "project_pickle_filename = os.environ.get('OQMBT_PROJECT')\n",
    "oqtkp = OQtProject.load_from_file(project_pickle_filename)\n",
    "oqtkp.directory = os.path.dirname(project_pickle_filename)\n",
    "model_id = oqtkp.active_model_id\n",
    "model = oqtkp.models[model_id]\n",
    "catalogue_csv_filename = os.path.join(oqtkp.directory, getattr(model,'catalogue_csv_filename'))\n",
    "#\n",
    "# info\n",
    "text_length = 30\n",
    "print ('{:s}: {:s}'.format('Model id'.ljust(text_length), model_id))\n",
    "print ('{:s}: {:s}'.format('Reading'.ljust(text_length), catalogue_csv_filename))"
   ]
  },
  {
   "cell_type": "code",
   "execution_count": null,
   "metadata": {},
   "outputs": [],
   "source": [
    "#\n",
    "# cutoff magnitude is the lowest magnitude treshold. All the events below this threshold \n",
    "# are filtered out at the beginning of the processing workflow\n",
    "cutoff_magnitude = float(model.catalogue_cutoff_magnitude)\n",
    "#\n",
    "# width of bins used to discretise the MFDs\n",
    "binwidth = float(model.mfd_binwidth)\n",
    "#\n",
    "# printing info\n",
    "print ('{:s}: {:.2f}'.format('MFD bin width'.ljust(text_length), binwidth))\n",
    "print ('{:s}: {:.2f}'.format('Magnitude cutoff'.ljust(text_length), cutoff_magnitude))"
   ]
  },
  {
   "cell_type": "markdown",
   "metadata": {},
   "source": [
    "## Earthquake catalogue"
   ]
  },
  {
   "cell_type": "code",
   "execution_count": null,
   "metadata": {},
   "outputs": [],
   "source": [
    "#\n",
    "# parsing the .csv catalogue\n",
    "catalogue_parser = CsvCatalogueParser(catalogue_csv_filename)\n",
    "catalogue = catalogue_parser.read_file()\n",
    "selector = CatalogueSelector(catalogue, create_copy=False)\n",
    "selector.within_magnitude_range(cutoff_magnitude, 10.)\n",
    "dep_max = float(model.catalogue_maximum_depth)\n",
    "dep_min = float(model.catalogue_minimum_depth)\n",
    "tmp = selector.within_depth_range(dep_max, dep_min)\n",
    "#\n",
    "# info\n",
    "print ('Catalogue:')\n",
    "print ('    minimum hypocentral depth: {:.2f}'.format(numpy.min(catalogue.data['depth'])))\n",
    "print ('    maximum hypocentral depth: {:.2f}'.format(numpy.max(catalogue.data['depth'])))"
   ]
  },
  {
   "cell_type": "code",
   "execution_count": null,
   "metadata": {},
   "outputs": [],
   "source": [
    "if 0: \n",
    "    import cartopy\n",
    "    import cartopy.crs as ccrs\n",
    "    from cartopy.mpl.ticker import LongitudeFormatter, LatitudeFormatter\n",
    "    \n",
    "    fig = plt.figure(figsize=(20, 14), dpi=300)\n",
    "    ax = plt.axes(projection=ccrs.PlateCarree())\n",
    "    ax.stock_img()\n",
    "    \n",
    "    if 'map_limits' in model.__dict__:\n",
    "        limits = model.map_limits\n",
    "        tickspacing = model.map_tick_spacing\n",
    "    else:\n",
    "        limits = [min(catalogue.data['longitude']), min(catalogue.data['latitude']), \n",
    "                  max(catalogue.data['longitude']), max(catalogue.data['latitude'])]\n",
    "        if limits[2]-limits[0] > 20:\n",
    "            tickspacing = 10\n",
    "        else:\n",
    "            tickspacing = 5\n",
    "    \n",
    "    ax.coastlines()\n",
    "    # ax.add_feature(cartopy.feature.OCEAN, zorder=0)\n",
    "    # set the area for the plot\n",
    "    ax.set_extent([limits[0], limits[2], limits[1], limits[3]], ccrs.Geodetic())\n",
    "    \n",
    "    xlo = numpy.floor(limits[0]/10)*10\n",
    "    ylo = numpy.round(limits[1]/10)*10\n",
    "    ax.set_xticks(numpy.arange(xlo, limits[2], tickspacing), crs=ccrs.PlateCarree())\n",
    "    ax.set_yticks(numpy.arange(ylo, limits[3], tickspacing), crs=ccrs.PlateCarree())\n",
    "    \n",
    "    idx = numpy.nonzero(flag!=0)\n",
    "\n",
    "    # catalogue    \n",
    "    ax.plot(catalogue.data['longitude'], catalogue.data['latitude'], 'o',\n",
    "            linewidth=6, alpha=0.4, transform=ccrs.Geodetic(), color='blue')\n",
    "\n",
    "    ax.plot(catalogue_original.data['longitude'][idx], \n",
    "            catalogue_original.data['latitude'][idx], 'x',\n",
    "            linewidth=.5, alpha=0.8, transform=ccrs.Geodetic(), color='red')   "
   ]
  },
  {
   "cell_type": "markdown",
   "metadata": {},
   "source": [
    "### Declustering"
   ]
  },
  {
   "cell_type": "code",
   "execution_count": null,
   "metadata": {},
   "outputs": [],
   "source": [
    "distance_time_wind = GardnerKnopoffWindow()\n",
    "config = {'time_distance_window': distance_time_wind, 'fs_time_prop': .9}\n",
    "declusterer = GardnerKnopoffType1()\n",
    "vcl, flag = declusterer.decluster(catalogue, config)\n",
    "\n",
    "catalogue_original = deepcopy(catalogue)\n",
    "print ('{:s}: {:.2f}'.format('Original number of events'.ljust(text_length), catalogue_original.get_number_events()))\n",
    "catalogue.select_catalogue_events(numpy.where(flag == 0)[0])\n",
    "print ('{:s}: {:.2f}'.format('Number of mainshocks'.ljust(text_length), len(catalogue.data['magnitude'])))"
   ]
  },
  {
   "cell_type": "markdown",
   "metadata": {},
   "source": [
    "### Completeness analysis"
   ]
  },
  {
   "cell_type": "code",
   "execution_count": null,
   "metadata": {},
   "outputs": [],
   "source": [
    "print(min(catalogue.data['year']), max(catalogue.data['year']))\n",
    "print(min(catalogue.data['month']), max(catalogue.data['month']))\n",
    "print(min(catalogue.data['day']), max(catalogue.data['day']))"
   ]
  },
  {
   "cell_type": "code",
   "execution_count": null,
   "metadata": {},
   "outputs": [],
   "source": [
    "#\n",
    "# parameters for completeness analysis\n",
    "config = {'magnitude_bin': .5, 'time_bin': 10., 'increment_lock': True}\n",
    "stepp = Stepp1971()\n",
    "compl_table = stepp.completeness(catalogue, config)\n",
    "#\n",
    "# cleaning temporary figures\n",
    "if os.path.exists('aa'):\n",
    "    subprocess.call('rm aa', shell=True)\n",
    "#create_stepp_plot(stepp, 'aa')\n",
    "if os.path.exists('aa'):\n",
    "    subprocess.call('rm aa', shell=True)\n",
    "#\n",
    "# info\n",
    "print ('Maximum magnitude is: ', max(catalogue.data['magnitude']))\n",
    "print ('The catalogue contains %d events' % (catalogue.get_number_events()))\n",
    "print ('Completeness table: \\n')\n",
    "#\n",
    "# Display html\n",
    "for line in compl_table:\n",
    "    print ('%.2f, %.2f' % (line[0], line[1]))"
   ]
  },
  {
   "cell_type": "code",
   "execution_count": null,
   "metadata": {},
   "outputs": [],
   "source": [
    "ppp = plot_magnitude_time_density(catalogue, mag_int=0.1, time_int=10, normalisation=True, \n",
    "                                  bootstrap=0, completeness=compl_table)"
   ]
  },
  {
   "cell_type": "markdown",
   "metadata": {},
   "source": [
    "## Magnitude-frequency distribution"
   ]
  },
  {
   "cell_type": "code",
   "execution_count": null,
   "metadata": {},
   "outputs": [],
   "source": [
    "idx = numpy.nonzero(compl_table[:,1] < numpy.max(catalogue.data['magnitude']))\n",
    "#\n",
    "# settings for MFD calculation\n",
    "weichert_config = {'magnitude_interval': 0.1, 'reference_magnitude': 0.0}\n",
    "weichert = Weichert()\n",
    "bval_wei, sigmab, aval_wei, sigmaa = weichert.calculate(catalogue, weichert_config, completeness=compl_table)\n",
    "#\n",
    "# info\n",
    "print ('bval: %.3f (sigma=%.3f)' % (bval_wei, sigmab))\n",
    "print ('aval: %.3f (sigma=%.3f)' % (aval_wei, sigmaa))"
   ]
  },
  {
   "cell_type": "code",
   "execution_count": null,
   "metadata": {},
   "outputs": [],
   "source": [
    "mmax_plot = numpy.amax(catalogue.data['magnitude'])\n",
    "plot_trunc_gr_model(aval_wei, bval_wei, cutoff_magnitude, mmax_plot, 0.1, catalogue=catalogue, \n",
    "                    filename='aa', completeness=compl_table, save=False)"
   ]
  },
  {
   "cell_type": "markdown",
   "metadata": {},
   "source": [
    "## Project info"
   ]
  },
  {
   "cell_type": "code",
   "execution_count": null,
   "metadata": {},
   "outputs": [],
   "source": [
    "model_lab = re.sub('\\s', '_', oqtkp.models[model_id].name).lower()\n",
    "output_path = os.path.join(oqtkp.directory, '%s_catalogue.pkl' % model_lab)\n",
    "fou = open(output_path,'wb') \n",
    "pickle.dump(catalogue, fou)\n",
    "fou.close()\n",
    "print ('Catalogue dataset saved into file: \\n%s' % (output_path))"
   ]
  },
  {
   "cell_type": "code",
   "execution_count": null,
   "metadata": {},
   "outputs": [],
   "source": [
    "filename = os.path.join(oqtkp.directory, oqtkp.compl_hdf5_filename)\n",
    "fhdf5 = h5py.File(filename, 'a')\n",
    "print ('Updating {:s}'.format(filename))\n",
    "dataset_name = 'whole_catalogue'\n",
    "#\n",
    "# Update/create group\n",
    "if model_id in fhdf5.keys():\n",
    "    print ('    Group {:s} exists'.format(model_id))\n",
    "    grp = fhdf5[model_id]\n",
    "else:\n",
    "    print ('    Creating group: %s' % (model_id))\n",
    "    grp = fhdf5.create_group(model_id)\n",
    "# Update/create dataset\n",
    "if dataset_name in grp:\n",
    "    del fhdf5[model_id][dataset_name]\n",
    "    print ('    Updating dataset: %s' % (dataset_name))\n",
    "    dataset = grp.create_dataset(dataset_name, data=compl_table)\n",
    "else:\n",
    "    print ('    Creating dataset: %s' % (dataset_name))\n",
    "    dataset = grp.create_dataset(dataset_name, data=compl_table)\n",
    "fhdf5.close()"
   ]
  },
  {
   "cell_type": "code",
   "execution_count": null,
   "metadata": {},
   "outputs": [],
   "source": [
    "oqtkp.models[model_id].declustered_catalogue_pickle_filename = os.path.relpath(output_path, oqtkp.directory)\n",
    "oqtkp.save()"
   ]
  },
  {
   "cell_type": "code",
   "execution_count": null,
   "metadata": {},
   "outputs": [],
   "source": [
    "model = oqtkp.models[model_id]\n",
    "model.get_info()"
   ]
  }
 ],
 "metadata": {
  "kernelspec": {
   "display_name": "Python 3",
   "language": "python",
   "name": "python3"
  },
  "language_info": {
   "codemirror_mode": {
    "name": "ipython",
    "version": 3
   },
   "file_extension": ".py",
   "mimetype": "text/x-python",
   "name": "python",
   "nbconvert_exporter": "python",
   "pygments_lexer": "ipython3",
   "version": "3.5.4"
  },
  "toc": {
   "nav_menu": {},
   "number_sections": true,
   "sideBar": false,
   "skip_h1_title": false,
   "toc_cell": false,
   "toc_position": {
    "height": "264px",
    "left": "973px",
    "right": "32px",
    "top": "138.133px",
    "width": "268px"
   },
   "toc_section_display": "block",
   "toc_window_display": false
  },
  "varInspector": {
   "cols": {
    "lenName": 16,
    "lenType": 16,
    "lenVar": 40
   },
   "kernels_config": {
    "python": {
     "delete_cmd_postfix": "",
     "delete_cmd_prefix": "del ",
     "library": "var_list.py",
     "varRefreshCmd": "print(var_dic_list())"
    },
    "r": {
     "delete_cmd_postfix": ") ",
     "delete_cmd_prefix": "rm(",
     "library": "var_list.r",
     "varRefreshCmd": "cat(var_dic_list()) "
    }
   },
   "types_to_exclude": [
    "module",
    "function",
    "builtin_function_or_method",
    "instance",
    "_Feature"
   ],
   "window_display": false
  }
 },
 "nbformat": 4,
 "nbformat_minor": 1
}
