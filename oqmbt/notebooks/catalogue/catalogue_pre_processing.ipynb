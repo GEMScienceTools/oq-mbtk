{
 "cells": [
  {
   "cell_type": "code",
   "execution_count": 1,
   "metadata": {
    "ExecuteTime": {
     "end_time": "2018-01-30T07:53:17.303768Z",
     "start_time": "2018-01-30T07:53:17.301231Z"
    }
   },
   "outputs": [],
   "source": [
    "# DO NOT REMOVE"
   ]
  },
  {
   "cell_type": "markdown",
   "metadata": {},
   "source": [
    "# Catalogue pre-processing\n",
    "## Settings"
   ]
  },
  {
   "cell_type": "code",
   "execution_count": 2,
   "metadata": {
    "ExecuteTime": {
     "end_time": "2018-01-30T07:53:18.355774Z",
     "start_time": "2018-01-30T07:53:17.306880Z"
    }
   },
   "outputs": [
    {
     "name": "stderr",
     "output_type": "stream",
     "text": [
      "/opt/local/Library/Frameworks/Python.framework/Versions/3.5/lib/python3.5/site-packages/h5py/__init__.py:34: FutureWarning: Conversion of the second argument of issubdtype from `float` to `np.floating` is deprecated. In future, it will be treated as `np.float64 == np.dtype(float).type`.\n",
      "  from ._conv import register_converters as _register_converters\n"
     ]
    }
   ],
   "source": [
    "%matplotlib inline\n",
    "\n",
    "import os\n",
    "import re\n",
    "import sys\n",
    "import h5py\n",
    "import numpy\n",
    "import subprocess\n",
    "try:\n",
    "    import cPickle as pickle\n",
    "except: \n",
    "    import pickle\n",
    "\n",
    "import matplotlib.pyplot as plt\n",
    "import matplotlib.patheffects as PathEffects\n",
    "\n",
    "from mpl_toolkits.basemap import Basemap\n",
    "\n",
    "from copy import deepcopy\n",
    "from oqmbt.oqt_project import OQtProject, OQtModel, OQtSource\n",
    "\n",
    "from openquake.hmtk.seismicity.occurrence.weichert import Weichert\n",
    "from openquake.hmtk.seismicity.completeness.comp_stepp_1971 import Stepp1971 \n",
    "from openquake.hmtk.plotting.seismicity.completeness.plot_stepp_1972 import create_stepp_plot\n",
    "from openquake.hmtk.plotting.seismicity.occurrence.recurrence_plot import plot_trunc_gr_model\n",
    "from openquake.hmtk.plotting.seismicity.catalogue_plots import (plot_magnitude_time_scatter, \n",
    "                                                      plot_magnitude_time_density)\n",
    "from openquake.hmtk.parsers.catalogue.csv_catalogue_parser import CsvCatalogueParser\n",
    "from openquake.hmtk.seismicity.selector import CatalogueSelector\n",
    "from openquake.hmtk.seismicity.declusterer.dec_gardner_knopoff import GardnerKnopoffType1\n",
    "from openquake.hmtk.seismicity.declusterer.distance_time_windows import GardnerKnopoffWindow"
   ]
  },
  {
   "cell_type": "code",
   "execution_count": 3,
   "metadata": {
    "ExecuteTime": {
     "end_time": "2018-01-30T07:53:18.375287Z",
     "start_time": "2018-01-30T07:53:18.358517Z"
    }
   },
   "outputs": [
    {
     "name": "stdout",
     "output_type": "stream",
     "text": [
      "Model id                      : model01\n",
      "Reading                       : /Users/mpagani/Documents/2018/diary/01/16_IRSN/project/../data/catalogue/catalogue.csv\n"
     ]
    }
   ],
   "source": [
    "#\n",
    "# load project information \n",
    "project_pickle_filename = os.environ.get('OQMBT_PROJECT')\n",
    "oqtkp = OQtProject.load_from_file(project_pickle_filename)\n",
    "oqtkp.directory = os.path.dirname(project_pickle_filename)\n",
    "model_id = oqtkp.active_model_id\n",
    "model = oqtkp.models[model_id]\n",
    "catalogue_csv_filename = os.path.join(oqtkp.directory, getattr(model,'catalogue_csv_filename'))\n",
    "#\n",
    "# info\n",
    "text_length = 30\n",
    "print ('{:s}: {:s}'.format('Model id'.ljust(text_length), model_id))\n",
    "print ('{:s}: {:s}'.format('Reading'.ljust(text_length), catalogue_csv_filename))"
   ]
  },
  {
   "cell_type": "code",
   "execution_count": 4,
   "metadata": {
    "ExecuteTime": {
     "end_time": "2018-01-30T07:53:18.385852Z",
     "start_time": "2018-01-30T07:53:18.377269Z"
    }
   },
   "outputs": [
    {
     "name": "stdout",
     "output_type": "stream",
     "text": [
      "MFD bin width                 : 0.10\n",
      "Magnitude cutoff              : 3.50\n"
     ]
    }
   ],
   "source": [
    "#\n",
    "# cutoff magnitude is the lowest magnitude treshold. All the events below this threshold \n",
    "# are filtered out at the beginning of the processing workflow\n",
    "cutoff_magnitude = float(model.catalogue_cutoff_magnitude)\n",
    "#\n",
    "# width of bins used to discretise the MFDs\n",
    "binwidth = float(model.mfd_binwidth)\n",
    "#\n",
    "# printing info\n",
    "print ('{:s}: {:.2f}'.format('MFD bin width'.ljust(text_length), binwidth))\n",
    "print ('{:s}: {:.2f}'.format('Magnitude cutoff'.ljust(text_length), cutoff_magnitude))"
   ]
  },
  {
   "cell_type": "markdown",
   "metadata": {},
   "source": [
    "## Earthquake catalogue"
   ]
  },
  {
   "cell_type": "code",
   "execution_count": 5,
   "metadata": {
    "ExecuteTime": {
     "end_time": "2018-01-30T07:53:34.986994Z",
     "start_time": "2018-01-30T07:53:18.387759Z"
    }
   },
   "outputs": [
    {
     "name": "stdout",
     "output_type": "stream",
     "text": [
      "Catalogue Attribute None is not a recognised catalogue key\n",
      "Catalogue:\n",
      "    minimum hypocentral depth: 0.00\n",
      "    maximum hypocentral depth: 29.60\n"
     ]
    }
   ],
   "source": [
    "#\n",
    "# parsing the .csv catalogue\n",
    "catalogue_parser = CsvCatalogueParser(catalogue_csv_filename)\n",
    "catalogue = catalogue_parser.read_file()\n",
    "selector = CatalogueSelector(catalogue, create_copy=False)\n",
    "selector.within_magnitude_range(cutoff_magnitude, 10.)\n",
    "dep_max = float(model.catalogue_maximum_depth)\n",
    "dep_min = float(model.catalogue_minimum_depth)\n",
    "tmp = selector.within_depth_range(dep_max, dep_min)\n",
    "#\n",
    "# info\n",
    "print ('Catalogue:')\n",
    "print ('    minimum hypocentral depth: {:.2f}'.format(numpy.min(catalogue.data['depth'])))\n",
    "print ('    maximum hypocentral depth: {:.2f}'.format(numpy.max(catalogue.data['depth'])))"
   ]
  },
  {
   "cell_type": "code",
   "execution_count": 6,
   "metadata": {
    "ExecuteTime": {
     "end_time": "2018-01-30T07:53:35.071373Z",
     "start_time": "2018-01-30T07:53:34.989276Z"
    }
   },
   "outputs": [],
   "source": [
    "if 0: \n",
    "    import cartopy\n",
    "    import cartopy.crs as ccrs\n",
    "    from cartopy.mpl.ticker import LongitudeFormatter, LatitudeFormatter\n",
    "    \n",
    "    fig = plt.figure(figsize=(20, 14), dpi=300)\n",
    "    ax = plt.axes(projection=ccrs.PlateCarree())\n",
    "    ax.stock_img()\n",
    "    \n",
    "    if 'map_limits' in model.__dict__:\n",
    "        limits = model.map_limits\n",
    "        tickspacing = model.map_tick_spacing\n",
    "    else:\n",
    "        limits = [min(catalogue.data['longitude']), min(catalogue.data['latitude']), \n",
    "                  max(catalogue.data['longitude']), max(catalogue.data['latitude'])]\n",
    "        if limits[2]-limits[0] > 20:\n",
    "            tickspacing = 10\n",
    "        else:\n",
    "            tickspacing = 5\n",
    "    \n",
    "    ax.coastlines()\n",
    "    # ax.add_feature(cartopy.feature.OCEAN, zorder=0)\n",
    "    # set the area for the plot\n",
    "    ax.set_extent([limits[0], limits[2], limits[1], limits[3]], ccrs.Geodetic())\n",
    "    \n",
    "    xlo = numpy.floor(limits[0]/10)*10\n",
    "    ylo = numpy.round(limits[1]/10)*10\n",
    "    ax.set_xticks(numpy.arange(xlo, limits[2], tickspacing), crs=ccrs.PlateCarree())\n",
    "    ax.set_yticks(numpy.arange(ylo, limits[3], tickspacing), crs=ccrs.PlateCarree())\n",
    "    \n",
    "    idx = numpy.nonzero(flag!=0)\n",
    "\n",
    "    # catalogue    \n",
    "    ax.plot(catalogue.data['longitude'], catalogue.data['latitude'], 'o',\n",
    "            linewidth=6, alpha=0.4, transform=ccrs.Geodetic(), color='blue')\n",
    "\n",
    "    ax.plot(catalogue_original.data['longitude'][idx], \n",
    "            catalogue_original.data['latitude'][idx], 'x',\n",
    "            linewidth=.5, alpha=0.8, transform=ccrs.Geodetic(), color='red')   "
   ]
  },
  {
   "cell_type": "markdown",
   "metadata": {},
   "source": [
    "### Declustering"
   ]
  },
  {
   "cell_type": "code",
   "execution_count": 7,
   "metadata": {
    "ExecuteTime": {
     "end_time": "2018-01-30T07:53:35.191568Z",
     "start_time": "2018-01-30T07:53:35.073520Z"
    }
   },
   "outputs": [
    {
     "name": "stdout",
     "output_type": "stream",
     "text": [
      "Original number of events     : 1302.00\n",
      "Number of mainshocks          : 1062.00\n"
     ]
    }
   ],
   "source": [
    "distance_time_wind = GardnerKnopoffWindow()\n",
    "config = {'time_distance_window': distance_time_wind, 'fs_time_prop': .9}\n",
    "declusterer = GardnerKnopoffType1()\n",
    "vcl, flag = declusterer.decluster(catalogue, config)\n",
    "\n",
    "catalogue_original = deepcopy(catalogue)\n",
    "print ('{:s}: {:.2f}'.format('Original number of events'.ljust(text_length), catalogue_original.get_number_events()))\n",
    "catalogue.select_catalogue_events(numpy.where(flag == 0)[0])\n",
    "print ('{:s}: {:.2f}'.format('Number of mainshocks'.ljust(text_length), len(catalogue.data['magnitude'])))"
   ]
  },
  {
   "cell_type": "markdown",
   "metadata": {},
   "source": [
    "### Completeness analysis"
   ]
  },
  {
   "cell_type": "code",
   "execution_count": 8,
   "metadata": {
    "ExecuteTime": {
     "end_time": "2018-01-30T07:53:35.199876Z",
     "start_time": "2018-01-30T07:53:35.193752Z"
    }
   },
   "outputs": [
    {
     "name": "stdout",
     "output_type": "stream",
     "text": [
      "463 2009\n",
      "1 12\n",
      "1 31\n"
     ]
    }
   ],
   "source": [
    "print(min(catalogue.data['year']), max(catalogue.data['year']))\n",
    "print(min(catalogue.data['month']), max(catalogue.data['month']))\n",
    "print(min(catalogue.data['day']), max(catalogue.data['day']))"
   ]
  },
  {
   "cell_type": "code",
   "execution_count": 9,
   "metadata": {
    "ExecuteTime": {
     "end_time": "2018-01-30T07:53:36.450233Z",
     "start_time": "2018-01-30T07:53:35.202742Z"
    }
   },
   "outputs": [
    {
     "name": "stdout",
     "output_type": "stream",
     "text": [
      "Maximum magnitude is:  6.7\n",
      "The catalogue contains 1062 events\n",
      "Completeness table: \n",
      "\n",
      "1767.00, 3.50\n",
      "1702.00, 4.00\n",
      "1626.00, 4.50\n",
      "1597.00, 5.00\n",
      "1531.00, 5.50\n",
      "1046.00, 6.00\n"
     ]
    }
   ],
   "source": [
    "#\n",
    "# parameters for completeness analysis\n",
    "config = {'magnitude_bin': .5, 'time_bin': 10., 'increment_lock': True}\n",
    "stepp = Stepp1971()\n",
    "compl_table = stepp.completeness(catalogue, config)\n",
    "#\n",
    "# cleaning temporary figures\n",
    "if os.path.exists('aa'):\n",
    "    subprocess.call('rm aa', shell=True)\n",
    "#create_stepp_plot(stepp, 'aa')\n",
    "if os.path.exists('aa'):\n",
    "    subprocess.call('rm aa', shell=True)\n",
    "#\n",
    "# info\n",
    "print ('Maximum magnitude is: ', max(catalogue.data['magnitude']))\n",
    "print ('The catalogue contains %d events' % (catalogue.get_number_events()))\n",
    "print ('Completeness table: \\n')\n",
    "#\n",
    "# Display html\n",
    "for line in compl_table:\n",
    "    print ('%.2f, %.2f' % (line[0], line[1]))"
   ]
  },
  {
   "cell_type": "code",
   "execution_count": 10,
   "metadata": {
    "ExecuteTime": {
     "end_time": "2018-01-30T07:53:37.377242Z",
     "start_time": "2018-01-30T07:53:36.452175Z"
    }
   },
   "outputs": [
    {
     "name": "stderr",
     "output_type": "stream",
     "text": [
      "/opt/local/Library/Frameworks/Python.framework/Versions/3.5/lib/python3.5/site-packages/matplotlib/cbook/__init__.py:2400: UserWarning: Saw kwargs ['ls', 'linestyle'] which are all aliases for 'linestyle'.  Kept value from 'linestyle'\n",
      "  seen=seen, canon=canonical, used=seen[-1]))\n"
     ]
    },
    {
     "data": {
      "image/png": "[encoded data removed]",
      "text/plain": [
       "<matplotlib.figure.Figure at 0x107247940>"
      ]
     },
     "metadata": {},
     "output_type": "display_data"
    }
   ],
   "source": [
    "ppp = plot_magnitude_time_density(catalogue, mag_int=0.1, time_int=10, normalisation=True, \n",
    "                                  bootstrap=0, completeness=compl_table)"
   ]
  },
  {
   "cell_type": "markdown",
   "metadata": {},
   "source": [
    "## Magnitude-frequency distribution"
   ]
  },
  {
   "cell_type": "code",
   "execution_count": 11,
   "metadata": {
    "ExecuteTime": {
     "end_time": "2018-01-30T07:53:37.393174Z",
     "start_time": "2018-01-30T07:53:37.379454Z"
    }
   },
   "outputs": [
    {
     "name": "stdout",
     "output_type": "stream",
     "text": [
      "bval: 0.739 (sigma=0.022)\n",
      "aval: 3.065 (sigma=0.014)\n"
     ]
    }
   ],
   "source": [
    "idx = numpy.nonzero(compl_table[:,1] < numpy.max(catalogue.data['magnitude']))\n",
    "#\n",
    "# settings for MFD calculation\n",
    "weichert_config = {'magnitude_interval': 0.1, 'reference_magnitude': 0.0}\n",
    "weichert = Weichert()\n",
    "bval_wei, sigmab, aval_wei, sigmaa = weichert.calculate(catalogue, weichert_config, completeness=compl_table)\n",
    "#\n",
    "# info\n",
    "print ('bval: %.3f (sigma=%.3f)' % (bval_wei, sigmab))\n",
    "print ('aval: %.3f (sigma=%.3f)' % (aval_wei, sigmaa))"
   ]
  },
  {
   "cell_type": "code",
   "execution_count": 12,
   "metadata": {
    "ExecuteTime": {
     "end_time": "2018-01-30T07:53:37.936263Z",
     "start_time": "2018-01-30T07:53:37.395173Z"
    }
   },
   "outputs": [
    {
     "data": {
      "image/png": "[encoded data removed]",
      "text/plain": [
       "<matplotlib.figure.Figure at 0x1052a9d68>"
      ]
     },
     "metadata": {},
     "output_type": "display_data"
    }
   ],
   "source": [
    "mmax_plot = numpy.amax(catalogue.data['magnitude'])\n",
    "plot_trunc_gr_model(aval_wei, bval_wei, cutoff_magnitude, mmax_plot, 0.1, catalogue=catalogue, \n",
    "                    filename='aa', completeness=compl_table, save=False)"
   ]
  },
  {
   "cell_type": "markdown",
   "metadata": {},
   "source": [
    "## Project info"
   ]
  },
  {
   "cell_type": "code",
   "execution_count": 13,
   "metadata": {
    "ExecuteTime": {
     "end_time": "2018-01-30T07:53:37.947902Z",
     "start_time": "2018-01-30T07:53:37.938197Z"
    }
   },
   "outputs": [
    {
     "name": "stdout",
     "output_type": "stream",
     "text": [
      "Catalogue dataset saved into file: \n",
      "/Users/mpagani/Documents/2018/diary/01/16_IRSN/project/test_model_for_irsn_catalogue.pkl\n"
     ]
    }
   ],
   "source": [
    "model_lab = re.sub('\\s', '_', oqtkp.models[model_id].name).lower()\n",
    "output_path = os.path.join(oqtkp.directory, '%s_catalogue.pkl' % model_lab)\n",
    "fou = open(output_path,'wb') \n",
    "pickle.dump(catalogue, fou)\n",
    "fou.close()\n",
    "print ('Catalogue dataset saved into file: \\n%s' % (output_path))"
   ]
  },
  {
   "cell_type": "code",
   "execution_count": 14,
   "metadata": {
    "ExecuteTime": {
     "end_time": "2018-01-30T07:53:37.991421Z",
     "start_time": "2018-01-30T07:53:37.949830Z"
    }
   },
   "outputs": [
    {
     "name": "stdout",
     "output_type": "stream",
     "text": [
      "Updating /Users/mpagani/Documents/2018/diary/01/16_IRSN/project/completeness.hdf5\n",
      "    Group model01 exists\n",
      "    Creating dataset: whole_catalogue\n"
     ]
    }
   ],
   "source": [
    "filename = os.path.join(oqtkp.directory, oqtkp.compl_hdf5_filename)\n",
    "fhdf5 = h5py.File(filename, 'a')\n",
    "print ('Updating {:s}'.format(filename))\n",
    "dataset_name = 'whole_catalogue'\n",
    "#\n",
    "# Update/create group\n",
    "if model_id in fhdf5.keys():\n",
    "    print ('    Group {:s} exists'.format(model_id))\n",
    "    grp = fhdf5[model_id]\n",
    "else:\n",
    "    print ('    Creating group: %s' % (model_id))\n",
    "    grp = fhdf5.create_group(model_id)\n",
    "# Update/create dataset\n",
    "if dataset_name in grp:\n",
    "    del fhdf5[model_id][dataset_name]\n",
    "    print ('    Updating dataset: %s' % (dataset_name))\n",
    "    dataset = grp.create_dataset(dataset_name, data=compl_table)\n",
    "else:\n",
    "    print ('    Creating dataset: %s' % (dataset_name))\n",
    "    dataset = grp.create_dataset(dataset_name, data=compl_table)\n",
    "fhdf5.close()"
   ]
  },
  {
   "cell_type": "code",
   "execution_count": 15,
   "metadata": {
    "ExecuteTime": {
     "end_time": "2018-01-30T07:53:37.998388Z",
     "start_time": "2018-01-30T07:53:37.993707Z"
    }
   },
   "outputs": [],
   "source": [
    "oqtkp.models[model_id].declustered_catalogue_pickle_filename = os.path.relpath(output_path, oqtkp.directory)\n",
    "oqtkp.save()"
   ]
  },
  {
   "cell_type": "code",
   "execution_count": 16,
   "metadata": {
    "ExecuteTime": {
     "end_time": "2018-01-30T07:53:38.006563Z",
     "start_time": "2018-01-30T07:53:38.000587Z"
    }
   },
   "outputs": [
    {
     "name": "stdout",
     "output_type": "stream",
     "text": [
      "\n",
      "Information for model: Test Model for IRSN\n",
      "   area_discretization                     : 10.0\n",
      "   area_shapefile_filename                 : ../data/area_sources/Export_Output.shp\n",
      "   catalogue_csv_filename                  : ../data/catalogue/catalogue.csv\n",
      "   catalogue_cutoff_magnitude              : 3.5\n",
      "   catalogue_lower_hypo_depth              : 35.0\n",
      "   catalogue_maximum_depth                 : 35.0\n",
      "   catalogue_minimum_depth                 : 0.0\n",
      "   declustered_catalogue_pickle_filename   : test_model_for_irsn_catalogue.pkl\n",
      "   focal_mechanisms_filename               : ../data/catalogue/gcmt_7601_1312.ndk\n",
      "   hypo_depth_bin_edges                    : [0, 15, 35]\n",
      "   hypo_dist_filename                      : model01_hypo_dist.hdf5\n",
      "   id                                      : model01\n",
      "   m_min                                   : 5.0\n",
      "   magnitude_max_delta                     : 0.5\n",
      "   mfd_binwidth                            : 0.1\n",
      "   mfd_method_area                         : Weichert\n",
      "   model_id                                : model01\n",
      "   msr                                     : WC1994\n",
      "   name                                    : Test Model for IRSN\n",
      "   nodal_plane_dist_filename               : model01_nodal_plane_dist.hdf5\n",
      "   rupture_mesh_spacing                    : 2.0\n",
      "   smoothing_param                         : [['gaussian', 50, 20, 0.95], ['gaussian', 20, 5, 0.05]]\n",
      "   upper_seismogenic_depth                 : 0.0\n"
     ]
    }
   ],
   "source": [
    "model = oqtkp.models[model_id]\n",
    "model.get_info()"
   ]
  }
 ],
 "metadata": {
  "kernelspec": {
   "display_name": "Python 3",
   "language": "python",
   "name": "python3"
  },
  "language_info": {
   "codemirror_mode": {
    "name": "ipython",
    "version": 3
   },
   "file_extension": ".py",
   "mimetype": "text/x-python",
   "name": "python",
   "nbconvert_exporter": "python",
   "pygments_lexer": "ipython3",
   "version": "3.5.4"
  },
  "toc": {
   "nav_menu": {},
   "number_sections": true,
   "sideBar": false,
   "skip_h1_title": false,
   "toc_cell": false,
   "toc_position": {
    "height": "264px",
    "left": "973px",
    "right": "32px",
    "top": "138.133px",
    "width": "268px"
   },
   "toc_section_display": "block",
   "toc_window_display": false
  },
  "varInspector": {
   "cols": {
    "lenName": 16,
    "lenType": 16,
    "lenVar": 40
   },
   "kernels_config": {
    "python": {
     "delete_cmd_postfix": "",
     "delete_cmd_prefix": "del ",
     "library": "var_list.py",
     "varRefreshCmd": "print(var_dic_list())"
    },
    "r": {
     "delete_cmd_postfix": ") ",
     "delete_cmd_prefix": "rm(",
     "library": "var_list.r",
     "varRefreshCmd": "cat(var_dic_list()) "
    }
   },
   "types_to_exclude": [
    "module",
    "function",
    "builtin_function_or_method",
    "instance",
    "_Feature"
   ],
   "window_display": false
  }
 },
 "nbformat": 4,
 "nbformat_minor": 1
}
