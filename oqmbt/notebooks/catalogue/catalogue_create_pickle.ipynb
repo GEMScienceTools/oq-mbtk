{
 "cells": [
  {
   "cell_type": "markdown",
   "metadata": {},
   "source": [
    "# Create pickle file of declustered catalogue"
   ]
  },
  {
   "cell_type": "markdown",
   "metadata": {},
   "source": [
    "## Importing libraries"
   ]
  },
  {
   "cell_type": "code",
   "execution_count": 1,
   "metadata": {
    "collapsed": true
   },
   "outputs": [],
   "source": [
    "%matplotlib inline\n",
    "import os\n",
    "import re\n",
    "import sys\n",
    "import h5py\n",
    "import numpy\n",
    "import subprocess\n",
    "try:\n",
    "    import cPickle as pickle\n",
    "except:\n",
    "    import pickle\n",
    "from copy import deepcopy\n",
    "from oqmbt.oqt_project import OQtProject, OQtModel, OQtSource\n",
    "from openquake.hmtk.parsers.catalogue.csv_catalogue_parser import CsvCatalogueParser\n",
    "from openquake.hmtk.seismicity.selector import CatalogueSelector"
   ]
  },
  {
   "cell_type": "code",
   "execution_count": 2,
   "metadata": {},
   "outputs": [
    {
     "name": "stdout",
     "output_type": "stream",
     "text": [
      "Model id ...: model01\n",
      "Reading ....: /Users/mpagani/Repos/model_building_tools/oqmbt/tests/notebooks/data/catalogue.csv\n"
     ]
    }
   ],
   "source": [
    "#\n",
    "# load project information \n",
    "project_pickle_filename = os.environ.get('OQMBT_PROJECT')\n",
    "oqtkp = OQtProject.load_from_file(project_pickle_filename)\n",
    "oqtkp.directory = os.path.dirname(project_pickle_filename)\n",
    "model_id = oqtkp.active_model_id\n",
    "model = oqtkp.models[model_id]\n",
    "#\n",
    "# set the full path of the catalogue\n",
    "catalogue_csv_filename = os.path.abspath(os.path.join(oqtkp.directory, getattr(model,'catalogue_csv_filename')))\n",
    "#\n",
    "# printing info\n",
    "print ('Model id ...: {:s}'.format(model_id))\n",
    "print ('Reading ....: {:s}'.format(catalogue_csv_filename))"
   ]
  },
  {
   "cell_type": "markdown",
   "metadata": {},
   "source": [
    "## Reading information from the project\n",
    " * The earthquake catalogue is an hmtk-formatted catalogue. A common file format used to represent this typology of infomation is an ASCII comma-separated file (.csv)"
   ]
  },
  {
   "cell_type": "markdown",
   "metadata": {},
   "source": [
    "## Main settings"
   ]
  },
  {
   "cell_type": "code",
   "execution_count": 3,
   "metadata": {
    "collapsed": true
   },
   "outputs": [],
   "source": [
    "#\n",
    "# cutoff magnitude is the lowest magnitude treshold. All the events below this threshold \n",
    "# are filtered out at the beginning of the processing workflow\n",
    "cutoff_magnitude = float(model.catalogue_cutoff_magnitude)\n",
    "#\n",
    "# width of bins used to discretise the MFDs\n",
    "binwidth = float(model.mfd_binwidth)"
   ]
  },
  {
   "cell_type": "markdown",
   "metadata": {},
   "source": [
    "## Read catalogue\n",
    "Read the catalogue from the .csv file and remove events below the cutoff magnitude."
   ]
  },
  {
   "cell_type": "code",
   "execution_count": 4,
   "metadata": {},
   "outputs": [
    {
     "name": "stdout",
     "output_type": "stream",
     "text": [
      "Catalogue Attribute LonError is not a recognised catalogue key\n",
      "Catalogue Attribute MagType is not a recognised catalogue key\n",
      "Catalogue Attribute LocId is not a recognised catalogue key\n",
      "Catalogue Attribute MagError is not a recognised catalogue key\n",
      "Catalogue Attribute LatError is not a recognised catalogue key\n",
      "Catalogue Attribute LocCode is not a recognised catalogue key\n",
      "Catalogue Attribute SecError is not a recognised catalogue key\n",
      "Catalogue Attribute DepError is not a recognised catalogue key\n",
      "Catalogue Attribute MagCode is not a recognised catalogue key\n",
      "Catalogue Attribute Log is not a recognised catalogue key\n",
      "Catalogue Attribute MagId is not a recognised catalogue key\n"
     ]
    },
    {
     "ename": "TypeError",
     "evalue": "unorderable types: numpy.ndarray() >= str()",
     "output_type": "error",
     "traceback": [
      "\u001b[0;31m---------------------------------------------------------------------------\u001b[0m",
      "\u001b[0;31mTypeError\u001b[0m                                 Traceback (most recent call last)",
      "\u001b[0;32m<ipython-input-4-aa684e12bd64>\u001b[0m in \u001b[0;36m<module>\u001b[0;34m()\u001b[0m\n\u001b[1;32m      7\u001b[0m \u001b[0mdep_max\u001b[0m \u001b[0;34m=\u001b[0m \u001b[0mmodel\u001b[0m\u001b[0;34m.\u001b[0m\u001b[0mcatalogue_maximum_depth\u001b[0m\u001b[0;34m\u001b[0m\u001b[0m\n\u001b[1;32m      8\u001b[0m \u001b[0mdep_min\u001b[0m \u001b[0;34m=\u001b[0m \u001b[0mmodel\u001b[0m\u001b[0;34m.\u001b[0m\u001b[0mcatalogue_minimum_depth\u001b[0m\u001b[0;34m\u001b[0m\u001b[0m\n\u001b[0;32m----> 9\u001b[0;31m \u001b[0mtmp\u001b[0m \u001b[0;34m=\u001b[0m \u001b[0mselector\u001b[0m\u001b[0;34m.\u001b[0m\u001b[0mwithin_depth_range\u001b[0m\u001b[0;34m(\u001b[0m\u001b[0mdep_max\u001b[0m\u001b[0;34m,\u001b[0m \u001b[0mdep_min\u001b[0m\u001b[0;34m)\u001b[0m\u001b[0;34m\u001b[0m\u001b[0m\n\u001b[0m\u001b[1;32m     10\u001b[0m \u001b[0;31m#\u001b[0m\u001b[0;34m\u001b[0m\u001b[0;34m\u001b[0m\u001b[0m\n\u001b[1;32m     11\u001b[0m \u001b[0;31m# info\u001b[0m\u001b[0;34m\u001b[0m\u001b[0;34m\u001b[0m\u001b[0m\n",
      "\u001b[0;32m/Users/mpagani/Repos/oq-engine/openquake/hmtk/seismicity/selector.py\u001b[0m in \u001b[0;36mwithin_depth_range\u001b[0;34m(self, lower_depth, upper_depth)\u001b[0m\n\u001b[1;32m    378\u001b[0m             \u001b[0mupper_depth\u001b[0m \u001b[0;34m=\u001b[0m \u001b[0;36m0.0\u001b[0m\u001b[0;34m\u001b[0m\u001b[0m\n\u001b[1;32m    379\u001b[0m \u001b[0;34m\u001b[0m\u001b[0m\n\u001b[0;32m--> 380\u001b[0;31m         is_valid = np.logical_and(self.catalogue.data['depth'] >= upper_depth,\n\u001b[0m\u001b[1;32m    381\u001b[0m                                   self.catalogue.data['depth'] < lower_depth)\n\u001b[1;32m    382\u001b[0m         \u001b[0;32mreturn\u001b[0m \u001b[0mself\u001b[0m\u001b[0;34m.\u001b[0m\u001b[0mselect_catalogue\u001b[0m\u001b[0;34m(\u001b[0m\u001b[0mis_valid\u001b[0m\u001b[0;34m)\u001b[0m\u001b[0;34m\u001b[0m\u001b[0m\n",
      "\u001b[0;31mTypeError\u001b[0m: unorderable types: numpy.ndarray() >= str()"
     ]
    }
   ],
   "source": [
    "catalogue_parser = CsvCatalogueParser(catalogue_csv_filename)\n",
    "catalogue = catalogue_parser.read_file()\n",
    "#\n",
    "# filtering catalogue\n",
    "selector = CatalogueSelector(catalogue, create_copy=False)\n",
    "selector.within_magnitude_range(cutoff_magnitude, 10.)\n",
    "dep_max = float(model.catalogue_maximum_depth)\n",
    "dep_min = float(model.catalogue_minimum_depth)\n",
    "tmp = selector.within_depth_range(dep_max, dep_min)\n",
    "#\n",
    "# info\n",
    "print ('Catalogue:')\n",
    "print ('    minimum hypocentral depth: {:.2f}'.format(numpy.min(catalogue.data['depth'])))\n",
    "print ('    maximum hypocentral depth: {:.2f}'.format(numpy.max(catalogue.data['depth'])))"
   ]
  },
  {
   "cell_type": "markdown",
   "metadata": {},
   "source": [
    "## Saving catalogue pickle file and updating the project "
   ]
  },
  {
   "cell_type": "code",
   "execution_count": null,
   "metadata": {
    "collapsed": true
   },
   "outputs": [],
   "source": [
    "model_lab = re.sub('\\s', '_', oqtkp.models[model_id].name).lower()\n",
    "output_path = os.path.join(oqtkp.directory, '%s_catalogue.pkl' % model_lab)\n",
    "fou = open(output_path,'wb') \n",
    "pickle.dump(catalogue, fou)\n",
    "fou.close()\n",
    "print ('Catalogue dataset saved into file: \\n%s' % (output_path))"
   ]
  },
  {
   "cell_type": "code",
   "execution_count": null,
   "metadata": {
    "collapsed": true
   },
   "outputs": [],
   "source": [
    "oqtkp.models[model_id].declustered_catalogue_pickle_filename = os.path.relpath(output_path, oqtkp.directory)\n",
    "oqtkp.save()\n",
    "print (oqtkp.models[model_id].declustered_catalogue_pickle_filename)"
   ]
  }
 ],
 "metadata": {
  "kernelspec": {
   "display_name": "py35",
   "language": "python",
   "name": "py35"
  },
  "language_info": {
   "codemirror_mode": {
    "name": "ipython",
    "version": 3
   },
   "file_extension": ".py",
   "mimetype": "text/x-python",
   "name": "python",
   "nbconvert_exporter": "python",
   "pygments_lexer": "ipython3",
   "version": "3.5.4"
  }
 },
 "nbformat": 4,
 "nbformat_minor": 1
}
