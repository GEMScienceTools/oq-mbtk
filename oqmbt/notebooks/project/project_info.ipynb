{
 "cells": [
  {
   "cell_type": "markdown",
   "metadata": {
    "deletable": true,
    "editable": true
   },
   "source": [
    "# Project info"
   ]
  },
  {
   "cell_type": "code",
   "execution_count": 1,
   "metadata": {
    "collapsed": true,
    "deletable": true,
    "editable": true
   },
   "outputs": [],
   "source": [
    "import os\n",
    "import sys\n",
    "import h5py\n",
    "from oqmbt.oqt_project import OQtProject, OQtModel"
   ]
  },
  {
   "cell_type": "code",
   "execution_count": 2,
   "metadata": {
    "collapsed": false,
    "deletable": true,
    "editable": true
   },
   "outputs": [],
   "source": [
    "# \n",
    "# load the project\n",
    "project_pickle_filename = os.environ.get('OQMBT_PROJECT')\n",
    "oqtkp = OQtProject.load_from_file(project_pickle_filename)\n",
    "#\n",
    "# get the ID of the active model\n",
    "model_id = oqtkp.active_model_id\n",
    "model_id = 'model01'\n",
    "model = oqtkp.models[model_id]"
   ]
  },
  {
   "cell_type": "code",
   "execution_count": 3,
   "metadata": {
    "collapsed": false,
    "deletable": true,
    "editable": true,
    "scrolled": false
   },
   "outputs": [
    {
     "name": "stdout",
     "output_type": "stream",
     "text": [
      "\n",
      "Information for project: China 2016\n",
      "\n",
      "  -- parameters:\n",
      "   compl_hdf5_filename                     : completeness.hdf5\n",
      "   name                                    : China 2016\n",
      "   models                                  : {u'model01': <oqmbt.oqt_project.OQtModel object at 0x7f53a9f42ed0>, 'model_35_70': <oqmbt.oqt_project.OQtModel object at 0x7f53a9f5bcd0>}\n",
      "   csv_catalogues                          : {}\n",
      "   hypo_depths_hdf5_filename               : hypo_depths.hdf5\n",
      "   focal_mech_hdf5_filename                : focal_mechanisms.hdf5\n",
      "   eqk_rates_hdf5_filename                 : eqk_rates.hdf5\n",
      "   hypo_close_to_flts_hdf5_filename        : hypo_close_to_faults.hdf5\n",
      "   active_source_id                        : ['1']\n",
      "   directory                               : /home/openquake/GEM/model_building_tools_data/china2016\n",
      "   active_model_id                         : model_35_70\n",
      "\n",
      "  -- models:\n",
      "   model01                                 : 25 sources\n",
      "   model_35_70                             :  7 sources\n",
      "\n",
      "Information for model: Model 1\n",
      "   area_shapefile_filename                 : ../data/china2016/regions/subregions_china_v1.shp\n",
      "   area_source_discretization              : 10.0\n",
      "   bin_width                               : 0.1\n",
      "   catalogue_csv_filename                  : ../data/china2016/CatalogResultsISCGEM_all.csv\n",
      "   catalogue_cutoff_magnitude              : 4.5\n",
      "   catalogue_maximum_depth                 : 35\n",
      "   catalogue_minimum_depth                 : 0\n",
      "   coup_coef                               : 0.8\n",
      "   coupl_seism_thickness                   : 5000 # [m]\n",
      "   declustered_catalogue_pickle_filename   : model_1_catalogue.pkl\n",
      "   default_hypo_dist                       : {'dep': [0], 'wei': [1.0]}\n",
      "   default_nodal_plane_dist                : {'strike': [0], 'wei': [1.0], 'rake': [-90], 'dip': [90]}\n",
      "   faults_shp_filename                     : ../data/china2016/faults/ChinaSeismicSource20161121.shp\n",
      "   focal_mechanisms_filename               : gcmt_jan76_dec13.ndk\n",
      "   id                                      : model01\n",
      "   m_min                                   : 4.5\n",
      "   magnitude_delta                         : 0.1\n",
      "   magnitude_max_delta                     : 0.5\n",
      "   map_limits                              : [65, 14, 135, 55]\n",
      "   map_tick_spacing                        : 10\n",
      "   mfd_binwidth                            : 0.1\n",
      "   model_id                                : model01\n",
      "   name                                    : Model 1\n",
      "   rupt_aspect_ratio                       : 1.5\n",
      "   rupture_mesh_spacing                    : 2.0\n",
      "   shear_modulus                           : 3.2e10\n",
      "   strain_pickle_spatial_index_filename    : ../data/china2016/strain/GSRM_strain_v2pt2_china\n",
      "   strain_rate_model_hdf5_filename         : ../data/china2016/strain/GSRM_strain_v2pt2_china.hdf5\n",
      "   threshold_rate                          : 1e-10\n",
      "   upper_seismogenic_depth                 : 0.0\n",
      "\n",
      "Information for model: Model 35-70\n",
      "   area_shapefile_filename                 : ../data/china2016/regions/35_70/subregions_china_35_70.shp\n",
      "   area_source_discretization              : 10.0\n",
      "   catalogue_csv_filename                  : ../data/china2016/CatalogResultsISCGEM_all.csv\n",
      "   catalogue_cutoff_magnitude              : 4.5\n",
      "   catalogue_maximum_depth                 : 70.0\n",
      "   catalogue_minimum_depth                 : 35.0\n",
      "   declustered_catalogue_pickle_filename   : model_35-70_catalogue.pkl\n",
      "   default_hypo_dist                       : {'dep': [0], 'wei': [1.0]}\n",
      "   default_nodal_plane_dist                : {'strike': [0], 'wei': [1.0], 'rake': [-90], 'dip': [90]}\n",
      "   focal_mechanisms_filename               : gcmt_jan76_dec13.ndk\n",
      "   m_min                                   : 4.5\n",
      "   magnitude_max_delta                     : 0.5\n",
      "   map_limits                              : [65, 14, 135, 55]\n",
      "   map_tick_spacing                        : 10.0\n",
      "   mfd_binwidth                            : 0.1\n",
      "   model_id                                : model_35_70\n",
      "   name                                    : Model 35-70\n",
      "   rupt_aspect_ratio                       : 1.5\n"
     ]
    }
   ],
   "source": [
    "# get info\n",
    "oqtkp.get_info()\n",
    "for key in oqtkp.models.keys():\n",
    "    oqtkp.models[key].get_info()"
   ]
  },
  {
   "cell_type": "code",
   "execution_count": null,
   "metadata": {
    "collapsed": true,
    "deletable": true,
    "editable": true
   },
   "outputs": [],
   "source": []
  },
  {
   "cell_type": "code",
   "execution_count": null,
   "metadata": {
    "collapsed": true,
    "deletable": true,
    "editable": true
   },
   "outputs": [],
   "source": []
  }
 ],
 "metadata": {
  "kernelspec": {
   "display_name": "Python 2",
   "language": "python",
   "name": "python2"
  },
  "language_info": {
   "codemirror_mode": {
    "name": "ipython",
    "version": 2
   },
   "file_extension": ".py",
   "mimetype": "text/x-python",
   "name": "python",
   "nbconvert_exporter": "python",
   "pygments_lexer": "ipython2",
   "version": "2.7.12"
  }
 },
 "nbformat": 4,
 "nbformat_minor": 0
}
