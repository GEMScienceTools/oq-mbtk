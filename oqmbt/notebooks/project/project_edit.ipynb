{
 "cells": [
  {
   "cell_type": "markdown",
   "metadata": {
    "deletable": true,
    "editable": true
   },
   "source": [
    "# Edit an existing OQMBT project\n",
    "This notebook changes parameters of an [OQMBT](./../../../doc/_build/html/index.html) project."
   ]
  },
  {
   "cell_type": "code",
   "execution_count": null,
   "metadata": {
    "deletable": true,
    "editable": true
   },
   "outputs": [],
   "source": [
    "import os\n",
    "import sys\n",
    "import h5py\n",
    "from oqmbt.oqt_project import OQtProject, OQtModel"
   ]
  },
  {
   "cell_type": "markdown",
   "metadata": {},
   "source": [
    "### Project"
   ]
  },
  {
   "cell_type": "code",
   "execution_count": null,
   "metadata": {},
   "outputs": [],
   "source": [
    "project_pickle_filename = os.environ.get('OQMBT_PROJECT')\n",
    "oqtkp = OQtProject.load_from_file(project_pickle_filename)"
   ]
  },
  {
   "cell_type": "markdown",
   "metadata": {},
   "source": [
    "### Model for shallow seismicity"
   ]
  },
  {
   "cell_type": "code",
   "execution_count": null,
   "metadata": {
    "deletable": true,
    "editable": true
   },
   "outputs": [],
   "source": [
    "model_id = 'model01'\n",
    "oqtkp.active_model_id = model_id\n",
    "model = oqtkp.models[model_id]\n",
    "#\n",
    "# initialising the hdf5 files containing information about nodal plane and \n",
    "# hypocentral distribution\n",
    "model.nodal_plane_dist_filename = '{0:s}_nodal_plane_dist.hdf5'.format(model.model_id)\n",
    "model.hypo_dist_filename = '{0:s}_hypo_dist.hdf5'.format(model.model_id)\n",
    "model.default_nodal_plane_dist = {'strike': [0], 'dip': [90], 'rake': [-90], 'wei': [1.0]}\n",
    "model.default_hypo_dist = {'dep': [0], 'wei': [1.0]}\n",
    "\n",
    "model.magnitude_max_delta = 0.5\n",
    "model.compl_hdf5_filename = '{0:s}_completeness.hdf5'.format(model.model_id)\n",
    "\n",
    "model.area_source_discretization = 10.0\n",
    "\n",
    "model.catalogue_minimum_depth = 0\n",
    "model.catalogue_maximum_depth = 35\n",
    "#\n",
    "#\n",
    "keys = ['compl_hdf5_filename', 'hypo_dist_filename', 'directory']\n",
    "for key in keys:\n",
    "    if hasattr(model, key):\n",
    "        del model.__dict__[key]\n",
    "#\n",
    "# saving the changes\n",
    "oqtkp.models[model_id] = model"
   ]
  },
  {
   "cell_type": "markdown",
   "metadata": {},
   "source": [
    "### Model for deep seismicity"
   ]
  },
  {
   "cell_type": "code",
   "execution_count": null,
   "metadata": {
    "deletable": true,
    "editable": true
   },
   "outputs": [],
   "source": [
    "model_id = 'model_35_70'\n",
    "oqtkp.active_model_id = model_id\n",
    "model = oqtkp.models[model_id]\n",
    "model.nodal_plane_dist_filename = '{0:s}_nodal_plane_dist.hdf5'.format(model.model_id)\n",
    "model.hypo_dist_filename = '{0:s}_hypo_dist.hdf5'.format(model.model_id)\n",
    "model.default_nodal_plane_dist = {'strike': [0], 'dip': [90], 'rake': [-90], 'wei': [1.0]}\n",
    "model.default_hypo_dist = {'dep': [0], 'wei': [1.0]}\n",
    "model.m_min = 4.5\n",
    "#\n",
    "#\n",
    "keys = ['compl_hdf5_filename', 'hypo_dist_filename', 'eqk_rates_hdf5_filename']\n",
    "for key in keys:\n",
    "    if hasattr(model, key):\n",
    "        del model.__dict__[key]\n",
    "#\n",
    "# saving the changes\n",
    "oqtkp.models[model_id] = model"
   ]
  },
  {
   "cell_type": "code",
   "execution_count": null,
   "metadata": {
    "deletable": true,
    "editable": true
   },
   "outputs": [],
   "source": [
    "#\n",
    "# saving the project\n",
    "oqtkp.save()"
   ]
  },
  {
   "cell_type": "code",
   "execution_count": null,
   "metadata": {},
   "outputs": [],
   "source": []
  }
 ],
 "metadata": {
  "kernelspec": {
   "display_name": "Python 2",
   "language": "python",
   "name": "python2"
  },
  "language_info": {
   "codemirror_mode": {
    "name": "ipython",
    "version": 2
   },
   "file_extension": ".py",
   "mimetype": "text/x-python",
   "name": "python",
   "nbconvert_exporter": "python",
   "pygments_lexer": "ipython2",
   "version": "2.7.12"
  }
 },
 "nbformat": 4,
 "nbformat_minor": 0
}
