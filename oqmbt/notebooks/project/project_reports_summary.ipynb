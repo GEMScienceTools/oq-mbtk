{
 "cells": [
  {
   "cell_type": "markdown",
   "metadata": {
    "deletable": true,
    "editable": true
   },
   "source": [
    "# Project reports summary\n",
    "This table contains a list of the reports generated while processing various steps of the active model. Note that the active model can be set using [this](./../project/project_set_params_gui.ipynb) notebook."
   ]
  },
  {
   "cell_type": "code",
   "execution_count": null,
   "metadata": {
    "deletable": true,
    "editable": true
   },
   "outputs": [],
   "source": [
    "%%html\n",
    "<script>\n",
    "    var code_show=true; //true -> hide code at first\n",
    "\n",
    "    function code_toggle() {\n",
    "        $('div.prompt').hide(); // always hide prompt\n",
    "\n",
    "        if (code_show){\n",
    "            $('div.input').hide();\n",
    "        } else {\n",
    "            $('div.input').show();\n",
    "        }\n",
    "        code_show = !code_show\n",
    "    }\n",
    "    $( document ).ready(code_toggle);\n",
    "</script>\n",
    "<p style=\"font-size:60%;\">\n",
    "<a href=\"javascript:code_toggle()\">[Toggle Code]</a>\n",
    "</p>"
   ]
  },
  {
   "cell_type": "code",
   "execution_count": null,
   "metadata": {
    "deletable": true,
    "editable": true
   },
   "outputs": [],
   "source": [
    "%matplotlib inline\n",
    "import re\n",
    "import os\n",
    "import sys\n",
    "import glob\n",
    "import subprocess\n",
    "from oqmbt.oqt_project import OQtProject, OQtModel\n",
    "from IPython.core.display import HTML\n",
    "from IPython.display import display"
   ]
  },
  {
   "cell_type": "code",
   "execution_count": null,
   "metadata": {
    "deletable": true,
    "editable": true
   },
   "outputs": [],
   "source": [
    "project_pickle_filename = os.environ.get('OQMBT_PROJECT')\n",
    "oqtkp = OQtProject.load_from_file(project_pickle_filename)\n",
    "model_id = oqtkp.active_model_id\n",
    "model = oqtkp.models[model_id]"
   ]
  },
  {
   "cell_type": "code",
   "execution_count": null,
   "metadata": {
    "deletable": true,
    "editable": true
   },
   "outputs": [],
   "source": [
    "cwd = os.chdir(oqtkp.directory)\n",
    "proc = subprocess.Popen(['python', '-m', 'SimpleHTTPServer'])"
   ]
  },
  {
   "cell_type": "code",
   "execution_count": null,
   "metadata": {
    "deletable": true,
    "editable": true
   },
   "outputs": [],
   "source": [
    "path = os.path.join(oqtkp.directory, 'reports/%s/*.html' % (model_id))\n",
    "id_src_set = set()\n",
    "for filename in glob.glob(path):\n",
    "    mtch = re.search('-([0-9a-zA-Z]*)\\.html', filename)\n",
    "    id_src_set.add(mtch.group(1))\n",
    "\n",
    "text = '<table style=\"width:100%\">\\n'\n",
    "for ids in list(sorted(list(id_src_set))):\n",
    "    text += '<tr><td><b> ID src: </b></td> <td><b>%s</b></td></tr>\\n' % (ids)\n",
    "    # This is the pattern used to search for reports\n",
    "    pattern = os.path.join(oqtkp.directory, 'reports/%s/' % model_id, '*-%s.html' % ids) \n",
    "    for filename in sorted(glob.glob(pattern)):\n",
    "        path, name = os.path.split(filename)\n",
    "        rpath = os.path.relpath(filename)\n",
    "        link = '<a href=\"http://localhost:8000/%s\" target=\"_blank\">%s</a>' % (rpath, name)\n",
    "        text += '<tr><td> </td><td>%s</td></tr>\\n' % (link)   \n",
    "text += \"</table>\"\n",
    "display(HTML(text))"
   ]
  },
  {
   "cell_type": "raw",
   "metadata": {
    "deletable": true,
    "editable": true
   },
   "source": [
    "proc.terminate()"
   ]
  }
 ],
 "metadata": {
  "kernelspec": {
   "display_name": "Python 2",
   "language": "python",
   "name": "python2"
  },
  "language_info": {
   "codemirror_mode": {
    "name": "ipython",
    "version": 2
   },
   "file_extension": ".py",
   "mimetype": "text/x-python",
   "name": "python",
   "nbconvert_exporter": "python",
   "pygments_lexer": "ipython2",
   "version": "2.7.12"
  }
 },
 "nbformat": 4,
 "nbformat_minor": 0
}
