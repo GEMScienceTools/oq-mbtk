{
 "cells": [
  {
   "cell_type": "markdown",
   "metadata": {
    "deletable": true,
    "editable": true
   },
   "source": [
    "# Project reports summary\n",
    "This table contains a list of the reports generated while processing various steps of the active model. Note that the active model can be set using [this](./../project/project_set_params_gui.ipynb) notebook."
   ]
  },
  {
   "cell_type": "code",
   "execution_count": 1,
   "metadata": {
    "collapsed": false,
    "deletable": true,
    "editable": true
   },
   "outputs": [
    {
     "data": {
      "text/html": [
       "<script>\n",
       "    var code_show=true; //true -> hide code at first\n",
       "\n",
       "    function code_toggle() {\n",
       "        $('div.prompt').hide(); // always hide prompt\n",
       "\n",
       "        if (code_show){\n",
       "            $('div.input').hide();\n",
       "        } else {\n",
       "            $('div.input').show();\n",
       "        }\n",
       "        code_show = !code_show\n",
       "    }\n",
       "    $( document ).ready(code_toggle);\n",
       "</script>\n",
       "<p style=\"font-size:60%;\">\n",
       "<a href=\"javascript:code_toggle()\">[Toggle Code]</a>\n",
       "</p>"
      ],
      "text/plain": [
       "<IPython.core.display.HTML object>"
      ]
     },
     "metadata": {},
     "output_type": "display_data"
    }
   ],
   "source": [
    "%%html\n",
    "<script>\n",
    "    var code_show=true; //true -> hide code at first\n",
    "\n",
    "    function code_toggle() {\n",
    "        $('div.prompt').hide(); // always hide prompt\n",
    "\n",
    "        if (code_show){\n",
    "            $('div.input').hide();\n",
    "        } else {\n",
    "            $('div.input').show();\n",
    "        }\n",
    "        code_show = !code_show\n",
    "    }\n",
    "    $( document ).ready(code_toggle);\n",
    "</script>\n",
    "<p style=\"font-size:60%;\">\n",
    "<a href=\"javascript:code_toggle()\">[Toggle Code]</a>\n",
    "</p>"
   ]
  },
  {
   "cell_type": "code",
   "execution_count": 2,
   "metadata": {
    "collapsed": true,
    "deletable": true,
    "editable": true
   },
   "outputs": [],
   "source": [
    "%matplotlib inline\n",
    "import re\n",
    "import os\n",
    "import sys\n",
    "import glob\n",
    "import subprocess\n",
    "from oqmbt.oqt_project import OQtProject, OQtModel\n",
    "from IPython.core.display import HTML\n",
    "from IPython.display import display"
   ]
  },
  {
   "cell_type": "code",
   "execution_count": 3,
   "metadata": {
    "collapsed": true,
    "deletable": true,
    "editable": true
   },
   "outputs": [],
   "source": [
    "project_pickle_filename = os.environ.get('OQMBT_PROJECT')\n",
    "oqtkp = OQtProject.load_from_file(project_pickle_filename)\n",
    "model_id = oqtkp.active_model_id\n",
    "model = oqtkp.models[model_id]"
   ]
  },
  {
   "cell_type": "code",
   "execution_count": 4,
   "metadata": {
    "collapsed": true,
    "deletable": true,
    "editable": true
   },
   "outputs": [],
   "source": [
    "cwd = os.chdir(oqtkp.directory)\n",
    "proc = subprocess.Popen(['python', '-m', 'SimpleHTTPServer'])"
   ]
  },
  {
   "cell_type": "code",
   "execution_count": 5,
   "metadata": {
    "collapsed": false,
    "deletable": true,
    "editable": true,
    "scrolled": false
   },
   "outputs": [
    {
     "data": {
      "text/html": [
       "<table style=\"width:100%\">\n",
       "<tr><td><b> ID src: </b></td> <td><b>1</b></td></tr>\n",
       "<tr><td> </td><td><a href=\"http://localhost:8000/reports/model01/rpt-compute_double_truncated_GR_from_seismicity-model01-1.html\" target=\"_blank\">rpt-compute_double_truncated_GR_from_seismicity-model01-1.html</a></td></tr>\n",
       "<tr><td> </td><td><a href=\"http://localhost:8000/reports/model01/rpt-compute_focal_mechanism_distribution-model01-1.html\" target=\"_blank\">rpt-compute_focal_mechanism_distribution-model01-1.html</a></td></tr>\n",
       "<tr><td> </td><td><a href=\"http://localhost:8000/reports/model01/rpt-compute_hypocentral_depth_distribution-model01-1.html\" target=\"_blank\">rpt-compute_hypocentral_depth_distribution-model01-1.html</a></td></tr>\n",
       "<tr><td> </td><td><a href=\"http://localhost:8000/reports/model01/rpt-create_sources-model01-1.html\" target=\"_blank\">rpt-create_sources-model01-1.html</a></td></tr>\n",
       "<tr><td> </td><td><a href=\"http://localhost:8000/reports/model01/rpt-mfd_from_seismicity_VS_mfd_from_faults-model01-1.html\" target=\"_blank\">rpt-mfd_from_seismicity_VS_mfd_from_faults-model01-1.html</a></td></tr>\n",
       "<tr><td> </td><td><a href=\"http://localhost:8000/reports/model01/rpt-set_mfd_tapered_GR-model01-1.html\" target=\"_blank\">rpt-set_mfd_tapered_GR-model01-1.html</a></td></tr>\n",
       "<tr><td><b> ID src: </b></td> <td><b>10</b></td></tr>\n",
       "<tr><td> </td><td><a href=\"http://localhost:8000/reports/model01/rpt-compute_double_truncated_GR_from_seismicity-model01-10.html\" target=\"_blank\">rpt-compute_double_truncated_GR_from_seismicity-model01-10.html</a></td></tr>\n",
       "<tr><td> </td><td><a href=\"http://localhost:8000/reports/model01/rpt-compute_focal_mechanism_distribution-model01-10.html\" target=\"_blank\">rpt-compute_focal_mechanism_distribution-model01-10.html</a></td></tr>\n",
       "<tr><td> </td><td><a href=\"http://localhost:8000/reports/model01/rpt-compute_hypocentral_depth_distribution-model01-10.html\" target=\"_blank\">rpt-compute_hypocentral_depth_distribution-model01-10.html</a></td></tr>\n",
       "<tr><td> </td><td><a href=\"http://localhost:8000/reports/model01/rpt-create_sources-model01-10.html\" target=\"_blank\">rpt-create_sources-model01-10.html</a></td></tr>\n",
       "<tr><td> </td><td><a href=\"http://localhost:8000/reports/model01/rpt-mfd_from_seismicity_VS_mfd_from_faults-model01-10.html\" target=\"_blank\">rpt-mfd_from_seismicity_VS_mfd_from_faults-model01-10.html</a></td></tr>\n",
       "<tr><td> </td><td><a href=\"http://localhost:8000/reports/model01/rpt-set_mfd_tapered_GR-model01-10.html\" target=\"_blank\">rpt-set_mfd_tapered_GR-model01-10.html</a></td></tr>\n",
       "<tr><td><b> ID src: </b></td> <td><b>11</b></td></tr>\n",
       "<tr><td> </td><td><a href=\"http://localhost:8000/reports/model01/rpt-compute_double_truncated_GR_from_seismicity-model01-11.html\" target=\"_blank\">rpt-compute_double_truncated_GR_from_seismicity-model01-11.html</a></td></tr>\n",
       "<tr><td> </td><td><a href=\"http://localhost:8000/reports/model01/rpt-compute_focal_mechanism_distribution-model01-11.html\" target=\"_blank\">rpt-compute_focal_mechanism_distribution-model01-11.html</a></td></tr>\n",
       "<tr><td> </td><td><a href=\"http://localhost:8000/reports/model01/rpt-compute_hypocentral_depth_distribution-model01-11.html\" target=\"_blank\">rpt-compute_hypocentral_depth_distribution-model01-11.html</a></td></tr>\n",
       "<tr><td> </td><td><a href=\"http://localhost:8000/reports/model01/rpt-create_sources-model01-11.html\" target=\"_blank\">rpt-create_sources-model01-11.html</a></td></tr>\n",
       "<tr><td> </td><td><a href=\"http://localhost:8000/reports/model01/rpt-mfd_from_seismicity_VS_mfd_from_faults-model01-11.html\" target=\"_blank\">rpt-mfd_from_seismicity_VS_mfd_from_faults-model01-11.html</a></td></tr>\n",
       "<tr><td> </td><td><a href=\"http://localhost:8000/reports/model01/rpt-set_mfd_tapered_GR-model01-11.html\" target=\"_blank\">rpt-set_mfd_tapered_GR-model01-11.html</a></td></tr>\n",
       "<tr><td><b> ID src: </b></td> <td><b>12</b></td></tr>\n",
       "<tr><td> </td><td><a href=\"http://localhost:8000/reports/model01/rpt-compute_double_truncated_GR_from_seismicity-model01-12.html\" target=\"_blank\">rpt-compute_double_truncated_GR_from_seismicity-model01-12.html</a></td></tr>\n",
       "<tr><td> </td><td><a href=\"http://localhost:8000/reports/model01/rpt-compute_focal_mechanism_distribution-model01-12.html\" target=\"_blank\">rpt-compute_focal_mechanism_distribution-model01-12.html</a></td></tr>\n",
       "<tr><td> </td><td><a href=\"http://localhost:8000/reports/model01/rpt-compute_hypocentral_depth_distribution-model01-12.html\" target=\"_blank\">rpt-compute_hypocentral_depth_distribution-model01-12.html</a></td></tr>\n",
       "<tr><td> </td><td><a href=\"http://localhost:8000/reports/model01/rpt-create_sources-model01-12.html\" target=\"_blank\">rpt-create_sources-model01-12.html</a></td></tr>\n",
       "<tr><td> </td><td><a href=\"http://localhost:8000/reports/model01/rpt-mfd_from_seismicity_VS_mfd_from_faults-model01-12.html\" target=\"_blank\">rpt-mfd_from_seismicity_VS_mfd_from_faults-model01-12.html</a></td></tr>\n",
       "<tr><td> </td><td><a href=\"http://localhost:8000/reports/model01/rpt-set_mfd_tapered_GR-model01-12.html\" target=\"_blank\">rpt-set_mfd_tapered_GR-model01-12.html</a></td></tr>\n",
       "<tr><td><b> ID src: </b></td> <td><b>13</b></td></tr>\n",
       "<tr><td> </td><td><a href=\"http://localhost:8000/reports/model01/rpt-compute_double_truncated_GR_from_seismicity-model01-13.html\" target=\"_blank\">rpt-compute_double_truncated_GR_from_seismicity-model01-13.html</a></td></tr>\n",
       "<tr><td> </td><td><a href=\"http://localhost:8000/reports/model01/rpt-compute_focal_mechanism_distribution-model01-13.html\" target=\"_blank\">rpt-compute_focal_mechanism_distribution-model01-13.html</a></td></tr>\n",
       "<tr><td> </td><td><a href=\"http://localhost:8000/reports/model01/rpt-compute_hypocentral_depth_distribution-model01-13.html\" target=\"_blank\">rpt-compute_hypocentral_depth_distribution-model01-13.html</a></td></tr>\n",
       "<tr><td> </td><td><a href=\"http://localhost:8000/reports/model01/rpt-create_sources-model01-13.html\" target=\"_blank\">rpt-create_sources-model01-13.html</a></td></tr>\n",
       "<tr><td> </td><td><a href=\"http://localhost:8000/reports/model01/rpt-mfd_from_seismicity_VS_mfd_from_faults-model01-13.html\" target=\"_blank\">rpt-mfd_from_seismicity_VS_mfd_from_faults-model01-13.html</a></td></tr>\n",
       "<tr><td> </td><td><a href=\"http://localhost:8000/reports/model01/rpt-set_mfd_tapered_GR-model01-13.html\" target=\"_blank\">rpt-set_mfd_tapered_GR-model01-13.html</a></td></tr>\n",
       "<tr><td><b> ID src: </b></td> <td><b>14</b></td></tr>\n",
       "<tr><td> </td><td><a href=\"http://localhost:8000/reports/model01/rpt-compute_double_truncated_GR_from_seismicity-model01-14.html\" target=\"_blank\">rpt-compute_double_truncated_GR_from_seismicity-model01-14.html</a></td></tr>\n",
       "<tr><td> </td><td><a href=\"http://localhost:8000/reports/model01/rpt-compute_focal_mechanism_distribution-model01-14.html\" target=\"_blank\">rpt-compute_focal_mechanism_distribution-model01-14.html</a></td></tr>\n",
       "<tr><td> </td><td><a href=\"http://localhost:8000/reports/model01/rpt-compute_hypocentral_depth_distribution-model01-14.html\" target=\"_blank\">rpt-compute_hypocentral_depth_distribution-model01-14.html</a></td></tr>\n",
       "<tr><td> </td><td><a href=\"http://localhost:8000/reports/model01/rpt-create_sources-model01-14.html\" target=\"_blank\">rpt-create_sources-model01-14.html</a></td></tr>\n",
       "<tr><td> </td><td><a href=\"http://localhost:8000/reports/model01/rpt-mfd_from_seismicity_VS_mfd_from_faults-model01-14.html\" target=\"_blank\">rpt-mfd_from_seismicity_VS_mfd_from_faults-model01-14.html</a></td></tr>\n",
       "<tr><td> </td><td><a href=\"http://localhost:8000/reports/model01/rpt-set_mfd_tapered_GR-model01-14.html\" target=\"_blank\">rpt-set_mfd_tapered_GR-model01-14.html</a></td></tr>\n",
       "<tr><td><b> ID src: </b></td> <td><b>15</b></td></tr>\n",
       "<tr><td> </td><td><a href=\"http://localhost:8000/reports/model01/rpt-compute_double_truncated_GR_from_seismicity-model01-15.html\" target=\"_blank\">rpt-compute_double_truncated_GR_from_seismicity-model01-15.html</a></td></tr>\n",
       "<tr><td> </td><td><a href=\"http://localhost:8000/reports/model01/rpt-compute_focal_mechanism_distribution-model01-15.html\" target=\"_blank\">rpt-compute_focal_mechanism_distribution-model01-15.html</a></td></tr>\n",
       "<tr><td> </td><td><a href=\"http://localhost:8000/reports/model01/rpt-compute_hypocentral_depth_distribution-model01-15.html\" target=\"_blank\">rpt-compute_hypocentral_depth_distribution-model01-15.html</a></td></tr>\n",
       "<tr><td> </td><td><a href=\"http://localhost:8000/reports/model01/rpt-create_sources-model01-15.html\" target=\"_blank\">rpt-create_sources-model01-15.html</a></td></tr>\n",
       "<tr><td> </td><td><a href=\"http://localhost:8000/reports/model01/rpt-mfd_from_seismicity_VS_mfd_from_faults-model01-15.html\" target=\"_blank\">rpt-mfd_from_seismicity_VS_mfd_from_faults-model01-15.html</a></td></tr>\n",
       "<tr><td> </td><td><a href=\"http://localhost:8000/reports/model01/rpt-set_mfd_tapered_GR-model01-15.html\" target=\"_blank\">rpt-set_mfd_tapered_GR-model01-15.html</a></td></tr>\n",
       "<tr><td><b> ID src: </b></td> <td><b>16</b></td></tr>\n",
       "<tr><td> </td><td><a href=\"http://localhost:8000/reports/model01/rpt-compute_double_truncated_GR_from_seismicity-model01-16.html\" target=\"_blank\">rpt-compute_double_truncated_GR_from_seismicity-model01-16.html</a></td></tr>\n",
       "<tr><td> </td><td><a href=\"http://localhost:8000/reports/model01/rpt-compute_focal_mechanism_distribution-model01-16.html\" target=\"_blank\">rpt-compute_focal_mechanism_distribution-model01-16.html</a></td></tr>\n",
       "<tr><td> </td><td><a href=\"http://localhost:8000/reports/model01/rpt-compute_hypocentral_depth_distribution-model01-16.html\" target=\"_blank\">rpt-compute_hypocentral_depth_distribution-model01-16.html</a></td></tr>\n",
       "<tr><td> </td><td><a href=\"http://localhost:8000/reports/model01/rpt-create_sources-model01-16.html\" target=\"_blank\">rpt-create_sources-model01-16.html</a></td></tr>\n",
       "<tr><td> </td><td><a href=\"http://localhost:8000/reports/model01/rpt-mfd_from_seismicity_VS_mfd_from_faults-model01-16.html\" target=\"_blank\">rpt-mfd_from_seismicity_VS_mfd_from_faults-model01-16.html</a></td></tr>\n",
       "<tr><td> </td><td><a href=\"http://localhost:8000/reports/model01/rpt-set_mfd_tapered_GR-model01-16.html\" target=\"_blank\">rpt-set_mfd_tapered_GR-model01-16.html</a></td></tr>\n",
       "<tr><td><b> ID src: </b></td> <td><b>17</b></td></tr>\n",
       "<tr><td> </td><td><a href=\"http://localhost:8000/reports/model01/rpt-compute_double_truncated_GR_from_seismicity-model01-17.html\" target=\"_blank\">rpt-compute_double_truncated_GR_from_seismicity-model01-17.html</a></td></tr>\n",
       "<tr><td> </td><td><a href=\"http://localhost:8000/reports/model01/rpt-compute_focal_mechanism_distribution-model01-17.html\" target=\"_blank\">rpt-compute_focal_mechanism_distribution-model01-17.html</a></td></tr>\n",
       "<tr><td> </td><td><a href=\"http://localhost:8000/reports/model01/rpt-compute_hypocentral_depth_distribution-model01-17.html\" target=\"_blank\">rpt-compute_hypocentral_depth_distribution-model01-17.html</a></td></tr>\n",
       "<tr><td> </td><td><a href=\"http://localhost:8000/reports/model01/rpt-create_sources-model01-17.html\" target=\"_blank\">rpt-create_sources-model01-17.html</a></td></tr>\n",
       "<tr><td> </td><td><a href=\"http://localhost:8000/reports/model01/rpt-mfd_from_seismicity_VS_mfd_from_faults-model01-17.html\" target=\"_blank\">rpt-mfd_from_seismicity_VS_mfd_from_faults-model01-17.html</a></td></tr>\n",
       "<tr><td> </td><td><a href=\"http://localhost:8000/reports/model01/rpt-set_mfd_tapered_GR-model01-17.html\" target=\"_blank\">rpt-set_mfd_tapered_GR-model01-17.html</a></td></tr>\n",
       "<tr><td><b> ID src: </b></td> <td><b>18</b></td></tr>\n",
       "<tr><td> </td><td><a href=\"http://localhost:8000/reports/model01/rpt-compute_double_truncated_GR_from_seismicity-model01-18.html\" target=\"_blank\">rpt-compute_double_truncated_GR_from_seismicity-model01-18.html</a></td></tr>\n",
       "<tr><td> </td><td><a href=\"http://localhost:8000/reports/model01/rpt-compute_focal_mechanism_distribution-model01-18.html\" target=\"_blank\">rpt-compute_focal_mechanism_distribution-model01-18.html</a></td></tr>\n",
       "<tr><td> </td><td><a href=\"http://localhost:8000/reports/model01/rpt-compute_hypocentral_depth_distribution-model01-18.html\" target=\"_blank\">rpt-compute_hypocentral_depth_distribution-model01-18.html</a></td></tr>\n",
       "<tr><td> </td><td><a href=\"http://localhost:8000/reports/model01/rpt-create_sources-model01-18.html\" target=\"_blank\">rpt-create_sources-model01-18.html</a></td></tr>\n",
       "<tr><td> </td><td><a href=\"http://localhost:8000/reports/model01/rpt-mfd_from_seismicity_VS_mfd_from_faults-model01-18.html\" target=\"_blank\">rpt-mfd_from_seismicity_VS_mfd_from_faults-model01-18.html</a></td></tr>\n",
       "<tr><td> </td><td><a href=\"http://localhost:8000/reports/model01/rpt-set_mfd_tapered_GR-model01-18.html\" target=\"_blank\">rpt-set_mfd_tapered_GR-model01-18.html</a></td></tr>\n",
       "<tr><td><b> ID src: </b></td> <td><b>19</b></td></tr>\n",
       "<tr><td> </td><td><a href=\"http://localhost:8000/reports/model01/rpt-compute_double_truncated_GR_from_seismicity-model01-19.html\" target=\"_blank\">rpt-compute_double_truncated_GR_from_seismicity-model01-19.html</a></td></tr>\n",
       "<tr><td> </td><td><a href=\"http://localhost:8000/reports/model01/rpt-compute_focal_mechanism_distribution-model01-19.html\" target=\"_blank\">rpt-compute_focal_mechanism_distribution-model01-19.html</a></td></tr>\n",
       "<tr><td> </td><td><a href=\"http://localhost:8000/reports/model01/rpt-compute_hypocentral_depth_distribution-model01-19.html\" target=\"_blank\">rpt-compute_hypocentral_depth_distribution-model01-19.html</a></td></tr>\n",
       "<tr><td> </td><td><a href=\"http://localhost:8000/reports/model01/rpt-create_sources-model01-19.html\" target=\"_blank\">rpt-create_sources-model01-19.html</a></td></tr>\n",
       "<tr><td> </td><td><a href=\"http://localhost:8000/reports/model01/rpt-mfd_from_seismicity_VS_mfd_from_faults-model01-19.html\" target=\"_blank\">rpt-mfd_from_seismicity_VS_mfd_from_faults-model01-19.html</a></td></tr>\n",
       "<tr><td> </td><td><a href=\"http://localhost:8000/reports/model01/rpt-set_mfd_tapered_GR-model01-19.html\" target=\"_blank\">rpt-set_mfd_tapered_GR-model01-19.html</a></td></tr>\n",
       "<tr><td><b> ID src: </b></td> <td><b>2</b></td></tr>\n",
       "<tr><td> </td><td><a href=\"http://localhost:8000/reports/model01/rpt-compute_double_truncated_GR_from_seismicity-model01-2.html\" target=\"_blank\">rpt-compute_double_truncated_GR_from_seismicity-model01-2.html</a></td></tr>\n",
       "<tr><td> </td><td><a href=\"http://localhost:8000/reports/model01/rpt-compute_focal_mechanism_distribution-model01-2.html\" target=\"_blank\">rpt-compute_focal_mechanism_distribution-model01-2.html</a></td></tr>\n",
       "<tr><td> </td><td><a href=\"http://localhost:8000/reports/model01/rpt-compute_hypocentral_depth_distribution-model01-2.html\" target=\"_blank\">rpt-compute_hypocentral_depth_distribution-model01-2.html</a></td></tr>\n",
       "<tr><td> </td><td><a href=\"http://localhost:8000/reports/model01/rpt-create_sources-model01-2.html\" target=\"_blank\">rpt-create_sources-model01-2.html</a></td></tr>\n",
       "<tr><td> </td><td><a href=\"http://localhost:8000/reports/model01/rpt-mfd_from_seismicity_VS_mfd_from_faults-model01-2.html\" target=\"_blank\">rpt-mfd_from_seismicity_VS_mfd_from_faults-model01-2.html</a></td></tr>\n",
       "<tr><td> </td><td><a href=\"http://localhost:8000/reports/model01/rpt-set_mfd_tapered_GR-model01-2.html\" target=\"_blank\">rpt-set_mfd_tapered_GR-model01-2.html</a></td></tr>\n",
       "<tr><td><b> ID src: </b></td> <td><b>20</b></td></tr>\n",
       "<tr><td> </td><td><a href=\"http://localhost:8000/reports/model01/rpt-compute_double_truncated_GR_from_seismicity-model01-20.html\" target=\"_blank\">rpt-compute_double_truncated_GR_from_seismicity-model01-20.html</a></td></tr>\n",
       "<tr><td> </td><td><a href=\"http://localhost:8000/reports/model01/rpt-compute_focal_mechanism_distribution-model01-20.html\" target=\"_blank\">rpt-compute_focal_mechanism_distribution-model01-20.html</a></td></tr>\n",
       "<tr><td> </td><td><a href=\"http://localhost:8000/reports/model01/rpt-compute_hypocentral_depth_distribution-model01-20.html\" target=\"_blank\">rpt-compute_hypocentral_depth_distribution-model01-20.html</a></td></tr>\n",
       "<tr><td> </td><td><a href=\"http://localhost:8000/reports/model01/rpt-create_sources-model01-20.html\" target=\"_blank\">rpt-create_sources-model01-20.html</a></td></tr>\n",
       "<tr><td> </td><td><a href=\"http://localhost:8000/reports/model01/rpt-mfd_from_seismicity_VS_mfd_from_faults-model01-20.html\" target=\"_blank\">rpt-mfd_from_seismicity_VS_mfd_from_faults-model01-20.html</a></td></tr>\n",
       "<tr><td> </td><td><a href=\"http://localhost:8000/reports/model01/rpt-set_mfd_tapered_GR-model01-20.html\" target=\"_blank\">rpt-set_mfd_tapered_GR-model01-20.html</a></td></tr>\n",
       "<tr><td><b> ID src: </b></td> <td><b>21</b></td></tr>\n",
       "<tr><td> </td><td><a href=\"http://localhost:8000/reports/model01/rpt-compute_double_truncated_GR_from_seismicity-model01-21.html\" target=\"_blank\">rpt-compute_double_truncated_GR_from_seismicity-model01-21.html</a></td></tr>\n",
       "<tr><td> </td><td><a href=\"http://localhost:8000/reports/model01/rpt-compute_focal_mechanism_distribution-model01-21.html\" target=\"_blank\">rpt-compute_focal_mechanism_distribution-model01-21.html</a></td></tr>\n",
       "<tr><td> </td><td><a href=\"http://localhost:8000/reports/model01/rpt-compute_hypocentral_depth_distribution-model01-21.html\" target=\"_blank\">rpt-compute_hypocentral_depth_distribution-model01-21.html</a></td></tr>\n",
       "<tr><td> </td><td><a href=\"http://localhost:8000/reports/model01/rpt-create_sources-model01-21.html\" target=\"_blank\">rpt-create_sources-model01-21.html</a></td></tr>\n",
       "<tr><td> </td><td><a href=\"http://localhost:8000/reports/model01/rpt-mfd_from_seismicity_VS_mfd_from_faults-model01-21.html\" target=\"_blank\">rpt-mfd_from_seismicity_VS_mfd_from_faults-model01-21.html</a></td></tr>\n",
       "<tr><td> </td><td><a href=\"http://localhost:8000/reports/model01/rpt-set_mfd_tapered_GR-model01-21.html\" target=\"_blank\">rpt-set_mfd_tapered_GR-model01-21.html</a></td></tr>\n",
       "<tr><td><b> ID src: </b></td> <td><b>22</b></td></tr>\n",
       "<tr><td> </td><td><a href=\"http://localhost:8000/reports/model01/rpt-compute_double_truncated_GR_from_seismicity-model01-22.html\" target=\"_blank\">rpt-compute_double_truncated_GR_from_seismicity-model01-22.html</a></td></tr>\n",
       "<tr><td> </td><td><a href=\"http://localhost:8000/reports/model01/rpt-compute_focal_mechanism_distribution-model01-22.html\" target=\"_blank\">rpt-compute_focal_mechanism_distribution-model01-22.html</a></td></tr>\n",
       "<tr><td> </td><td><a href=\"http://localhost:8000/reports/model01/rpt-compute_hypocentral_depth_distribution-model01-22.html\" target=\"_blank\">rpt-compute_hypocentral_depth_distribution-model01-22.html</a></td></tr>\n",
       "<tr><td> </td><td><a href=\"http://localhost:8000/reports/model01/rpt-create_sources-model01-22.html\" target=\"_blank\">rpt-create_sources-model01-22.html</a></td></tr>\n",
       "<tr><td> </td><td><a href=\"http://localhost:8000/reports/model01/rpt-mfd_from_seismicity_VS_mfd_from_faults-model01-22.html\" target=\"_blank\">rpt-mfd_from_seismicity_VS_mfd_from_faults-model01-22.html</a></td></tr>\n",
       "<tr><td> </td><td><a href=\"http://localhost:8000/reports/model01/rpt-set_mfd_tapered_GR-model01-22.html\" target=\"_blank\">rpt-set_mfd_tapered_GR-model01-22.html</a></td></tr>\n",
       "<tr><td><b> ID src: </b></td> <td><b>23</b></td></tr>\n",
       "<tr><td> </td><td><a href=\"http://localhost:8000/reports/model01/rpt-compute_double_truncated_GR_from_seismicity-model01-23.html\" target=\"_blank\">rpt-compute_double_truncated_GR_from_seismicity-model01-23.html</a></td></tr>\n",
       "<tr><td> </td><td><a href=\"http://localhost:8000/reports/model01/rpt-compute_focal_mechanism_distribution-model01-23.html\" target=\"_blank\">rpt-compute_focal_mechanism_distribution-model01-23.html</a></td></tr>\n",
       "<tr><td> </td><td><a href=\"http://localhost:8000/reports/model01/rpt-compute_hypocentral_depth_distribution-model01-23.html\" target=\"_blank\">rpt-compute_hypocentral_depth_distribution-model01-23.html</a></td></tr>\n",
       "<tr><td> </td><td><a href=\"http://localhost:8000/reports/model01/rpt-create_sources-model01-23.html\" target=\"_blank\">rpt-create_sources-model01-23.html</a></td></tr>\n",
       "<tr><td> </td><td><a href=\"http://localhost:8000/reports/model01/rpt-mfd_from_seismicity_VS_mfd_from_faults-model01-23.html\" target=\"_blank\">rpt-mfd_from_seismicity_VS_mfd_from_faults-model01-23.html</a></td></tr>\n",
       "<tr><td> </td><td><a href=\"http://localhost:8000/reports/model01/rpt-set_mfd_tapered_GR-model01-23.html\" target=\"_blank\">rpt-set_mfd_tapered_GR-model01-23.html</a></td></tr>\n",
       "<tr><td><b> ID src: </b></td> <td><b>24</b></td></tr>\n",
       "<tr><td> </td><td><a href=\"http://localhost:8000/reports/model01/rpt-compute_double_truncated_GR_from_seismicity-model01-24.html\" target=\"_blank\">rpt-compute_double_truncated_GR_from_seismicity-model01-24.html</a></td></tr>\n",
       "<tr><td> </td><td><a href=\"http://localhost:8000/reports/model01/rpt-compute_focal_mechanism_distribution-model01-24.html\" target=\"_blank\">rpt-compute_focal_mechanism_distribution-model01-24.html</a></td></tr>\n",
       "<tr><td> </td><td><a href=\"http://localhost:8000/reports/model01/rpt-compute_hypocentral_depth_distribution-model01-24.html\" target=\"_blank\">rpt-compute_hypocentral_depth_distribution-model01-24.html</a></td></tr>\n",
       "<tr><td> </td><td><a href=\"http://localhost:8000/reports/model01/rpt-create_sources-model01-24.html\" target=\"_blank\">rpt-create_sources-model01-24.html</a></td></tr>\n",
       "<tr><td> </td><td><a href=\"http://localhost:8000/reports/model01/rpt-mfd_from_seismicity_VS_mfd_from_faults-model01-24.html\" target=\"_blank\">rpt-mfd_from_seismicity_VS_mfd_from_faults-model01-24.html</a></td></tr>\n",
       "<tr><td> </td><td><a href=\"http://localhost:8000/reports/model01/rpt-set_mfd_tapered_GR-model01-24.html\" target=\"_blank\">rpt-set_mfd_tapered_GR-model01-24.html</a></td></tr>\n",
       "<tr><td><b> ID src: </b></td> <td><b>25</b></td></tr>\n",
       "<tr><td> </td><td><a href=\"http://localhost:8000/reports/model01/rpt-compute_double_truncated_GR_from_seismicity-model01-25.html\" target=\"_blank\">rpt-compute_double_truncated_GR_from_seismicity-model01-25.html</a></td></tr>\n",
       "<tr><td> </td><td><a href=\"http://localhost:8000/reports/model01/rpt-compute_focal_mechanism_distribution-model01-25.html\" target=\"_blank\">rpt-compute_focal_mechanism_distribution-model01-25.html</a></td></tr>\n",
       "<tr><td> </td><td><a href=\"http://localhost:8000/reports/model01/rpt-compute_hypocentral_depth_distribution-model01-25.html\" target=\"_blank\">rpt-compute_hypocentral_depth_distribution-model01-25.html</a></td></tr>\n",
       "<tr><td> </td><td><a href=\"http://localhost:8000/reports/model01/rpt-create_sources-model01-25.html\" target=\"_blank\">rpt-create_sources-model01-25.html</a></td></tr>\n",
       "<tr><td> </td><td><a href=\"http://localhost:8000/reports/model01/rpt-mfd_from_seismicity_VS_mfd_from_faults-model01-25.html\" target=\"_blank\">rpt-mfd_from_seismicity_VS_mfd_from_faults-model01-25.html</a></td></tr>\n",
       "<tr><td> </td><td><a href=\"http://localhost:8000/reports/model01/rpt-set_mfd_tapered_GR-model01-25.html\" target=\"_blank\">rpt-set_mfd_tapered_GR-model01-25.html</a></td></tr>\n",
       "<tr><td><b> ID src: </b></td> <td><b>3</b></td></tr>\n",
       "<tr><td> </td><td><a href=\"http://localhost:8000/reports/model01/rpt-compute_double_truncated_GR_from_seismicity-model01-3.html\" target=\"_blank\">rpt-compute_double_truncated_GR_from_seismicity-model01-3.html</a></td></tr>\n",
       "<tr><td> </td><td><a href=\"http://localhost:8000/reports/model01/rpt-compute_focal_mechanism_distribution-model01-3.html\" target=\"_blank\">rpt-compute_focal_mechanism_distribution-model01-3.html</a></td></tr>\n",
       "<tr><td> </td><td><a href=\"http://localhost:8000/reports/model01/rpt-compute_hypocentral_depth_distribution-model01-3.html\" target=\"_blank\">rpt-compute_hypocentral_depth_distribution-model01-3.html</a></td></tr>\n",
       "<tr><td> </td><td><a href=\"http://localhost:8000/reports/model01/rpt-create_sources-model01-3.html\" target=\"_blank\">rpt-create_sources-model01-3.html</a></td></tr>\n",
       "<tr><td> </td><td><a href=\"http://localhost:8000/reports/model01/rpt-mfd_from_seismicity_VS_mfd_from_faults-model01-3.html\" target=\"_blank\">rpt-mfd_from_seismicity_VS_mfd_from_faults-model01-3.html</a></td></tr>\n",
       "<tr><td> </td><td><a href=\"http://localhost:8000/reports/model01/rpt-set_mfd_tapered_GR-model01-3.html\" target=\"_blank\">rpt-set_mfd_tapered_GR-model01-3.html</a></td></tr>\n",
       "<tr><td><b> ID src: </b></td> <td><b>4</b></td></tr>\n",
       "<tr><td> </td><td><a href=\"http://localhost:8000/reports/model01/rpt-compute_double_truncated_GR_from_seismicity-model01-4.html\" target=\"_blank\">rpt-compute_double_truncated_GR_from_seismicity-model01-4.html</a></td></tr>\n",
       "<tr><td> </td><td><a href=\"http://localhost:8000/reports/model01/rpt-compute_focal_mechanism_distribution-model01-4.html\" target=\"_blank\">rpt-compute_focal_mechanism_distribution-model01-4.html</a></td></tr>\n",
       "<tr><td> </td><td><a href=\"http://localhost:8000/reports/model01/rpt-compute_hypocentral_depth_distribution-model01-4.html\" target=\"_blank\">rpt-compute_hypocentral_depth_distribution-model01-4.html</a></td></tr>\n",
       "<tr><td> </td><td><a href=\"http://localhost:8000/reports/model01/rpt-create_sources-model01-4.html\" target=\"_blank\">rpt-create_sources-model01-4.html</a></td></tr>\n",
       "<tr><td> </td><td><a href=\"http://localhost:8000/reports/model01/rpt-mfd_from_seismicity_VS_mfd_from_faults-model01-4.html\" target=\"_blank\">rpt-mfd_from_seismicity_VS_mfd_from_faults-model01-4.html</a></td></tr>\n",
       "<tr><td> </td><td><a href=\"http://localhost:8000/reports/model01/rpt-set_mfd_tapered_GR-model01-4.html\" target=\"_blank\">rpt-set_mfd_tapered_GR-model01-4.html</a></td></tr>\n",
       "<tr><td><b> ID src: </b></td> <td><b>5</b></td></tr>\n",
       "<tr><td> </td><td><a href=\"http://localhost:8000/reports/model01/rpt-compute_double_truncated_GR_from_seismicity-model01-5.html\" target=\"_blank\">rpt-compute_double_truncated_GR_from_seismicity-model01-5.html</a></td></tr>\n",
       "<tr><td> </td><td><a href=\"http://localhost:8000/reports/model01/rpt-compute_focal_mechanism_distribution-model01-5.html\" target=\"_blank\">rpt-compute_focal_mechanism_distribution-model01-5.html</a></td></tr>\n",
       "<tr><td> </td><td><a href=\"http://localhost:8000/reports/model01/rpt-compute_hypocentral_depth_distribution-model01-5.html\" target=\"_blank\">rpt-compute_hypocentral_depth_distribution-model01-5.html</a></td></tr>\n",
       "<tr><td> </td><td><a href=\"http://localhost:8000/reports/model01/rpt-create_sources-model01-5.html\" target=\"_blank\">rpt-create_sources-model01-5.html</a></td></tr>\n",
       "<tr><td> </td><td><a href=\"http://localhost:8000/reports/model01/rpt-mfd_from_seismicity_VS_mfd_from_faults-model01-5.html\" target=\"_blank\">rpt-mfd_from_seismicity_VS_mfd_from_faults-model01-5.html</a></td></tr>\n",
       "<tr><td> </td><td><a href=\"http://localhost:8000/reports/model01/rpt-set_mfd_tapered_GR-model01-5.html\" target=\"_blank\">rpt-set_mfd_tapered_GR-model01-5.html</a></td></tr>\n",
       "<tr><td><b> ID src: </b></td> <td><b>6</b></td></tr>\n",
       "<tr><td> </td><td><a href=\"http://localhost:8000/reports/model01/rpt-compute_double_truncated_GR_from_seismicity-model01-6.html\" target=\"_blank\">rpt-compute_double_truncated_GR_from_seismicity-model01-6.html</a></td></tr>\n",
       "<tr><td> </td><td><a href=\"http://localhost:8000/reports/model01/rpt-compute_focal_mechanism_distribution-model01-6.html\" target=\"_blank\">rpt-compute_focal_mechanism_distribution-model01-6.html</a></td></tr>\n",
       "<tr><td> </td><td><a href=\"http://localhost:8000/reports/model01/rpt-compute_hypocentral_depth_distribution-model01-6.html\" target=\"_blank\">rpt-compute_hypocentral_depth_distribution-model01-6.html</a></td></tr>\n",
       "<tr><td> </td><td><a href=\"http://localhost:8000/reports/model01/rpt-create_sources-model01-6.html\" target=\"_blank\">rpt-create_sources-model01-6.html</a></td></tr>\n",
       "<tr><td> </td><td><a href=\"http://localhost:8000/reports/model01/rpt-mfd_from_seismicity_VS_mfd_from_faults-model01-6.html\" target=\"_blank\">rpt-mfd_from_seismicity_VS_mfd_from_faults-model01-6.html</a></td></tr>\n",
       "<tr><td> </td><td><a href=\"http://localhost:8000/reports/model01/rpt-set_mfd_tapered_GR-model01-6.html\" target=\"_blank\">rpt-set_mfd_tapered_GR-model01-6.html</a></td></tr>\n",
       "<tr><td><b> ID src: </b></td> <td><b>7</b></td></tr>\n",
       "<tr><td> </td><td><a href=\"http://localhost:8000/reports/model01/rpt-compute_double_truncated_GR_from_seismicity-model01-7.html\" target=\"_blank\">rpt-compute_double_truncated_GR_from_seismicity-model01-7.html</a></td></tr>\n",
       "<tr><td> </td><td><a href=\"http://localhost:8000/reports/model01/rpt-compute_focal_mechanism_distribution-model01-7.html\" target=\"_blank\">rpt-compute_focal_mechanism_distribution-model01-7.html</a></td></tr>\n",
       "<tr><td> </td><td><a href=\"http://localhost:8000/reports/model01/rpt-compute_hypocentral_depth_distribution-model01-7.html\" target=\"_blank\">rpt-compute_hypocentral_depth_distribution-model01-7.html</a></td></tr>\n",
       "<tr><td> </td><td><a href=\"http://localhost:8000/reports/model01/rpt-create_sources-model01-7.html\" target=\"_blank\">rpt-create_sources-model01-7.html</a></td></tr>\n",
       "<tr><td> </td><td><a href=\"http://localhost:8000/reports/model01/rpt-mfd_from_seismicity_VS_mfd_from_faults-model01-7.html\" target=\"_blank\">rpt-mfd_from_seismicity_VS_mfd_from_faults-model01-7.html</a></td></tr>\n",
       "<tr><td> </td><td><a href=\"http://localhost:8000/reports/model01/rpt-set_mfd_tapered_GR-model01-7.html\" target=\"_blank\">rpt-set_mfd_tapered_GR-model01-7.html</a></td></tr>\n",
       "<tr><td><b> ID src: </b></td> <td><b>8</b></td></tr>\n",
       "<tr><td> </td><td><a href=\"http://localhost:8000/reports/model01/rpt-compute_double_truncated_GR_from_seismicity-model01-8.html\" target=\"_blank\">rpt-compute_double_truncated_GR_from_seismicity-model01-8.html</a></td></tr>\n",
       "<tr><td> </td><td><a href=\"http://localhost:8000/reports/model01/rpt-compute_focal_mechanism_distribution-model01-8.html\" target=\"_blank\">rpt-compute_focal_mechanism_distribution-model01-8.html</a></td></tr>\n",
       "<tr><td> </td><td><a href=\"http://localhost:8000/reports/model01/rpt-compute_hypocentral_depth_distribution-model01-8.html\" target=\"_blank\">rpt-compute_hypocentral_depth_distribution-model01-8.html</a></td></tr>\n",
       "<tr><td> </td><td><a href=\"http://localhost:8000/reports/model01/rpt-create_sources-model01-8.html\" target=\"_blank\">rpt-create_sources-model01-8.html</a></td></tr>\n",
       "<tr><td> </td><td><a href=\"http://localhost:8000/reports/model01/rpt-mfd_from_seismicity_VS_mfd_from_faults-model01-8.html\" target=\"_blank\">rpt-mfd_from_seismicity_VS_mfd_from_faults-model01-8.html</a></td></tr>\n",
       "<tr><td> </td><td><a href=\"http://localhost:8000/reports/model01/rpt-set_mfd_tapered_GR-model01-8.html\" target=\"_blank\">rpt-set_mfd_tapered_GR-model01-8.html</a></td></tr>\n",
       "<tr><td><b> ID src: </b></td> <td><b>9</b></td></tr>\n",
       "<tr><td> </td><td><a href=\"http://localhost:8000/reports/model01/rpt-compute_double_truncated_GR_from_seismicity-model01-9.html\" target=\"_blank\">rpt-compute_double_truncated_GR_from_seismicity-model01-9.html</a></td></tr>\n",
       "<tr><td> </td><td><a href=\"http://localhost:8000/reports/model01/rpt-compute_focal_mechanism_distribution-model01-9.html\" target=\"_blank\">rpt-compute_focal_mechanism_distribution-model01-9.html</a></td></tr>\n",
       "<tr><td> </td><td><a href=\"http://localhost:8000/reports/model01/rpt-compute_hypocentral_depth_distribution-model01-9.html\" target=\"_blank\">rpt-compute_hypocentral_depth_distribution-model01-9.html</a></td></tr>\n",
       "<tr><td> </td><td><a href=\"http://localhost:8000/reports/model01/rpt-create_sources-model01-9.html\" target=\"_blank\">rpt-create_sources-model01-9.html</a></td></tr>\n",
       "<tr><td> </td><td><a href=\"http://localhost:8000/reports/model01/rpt-mfd_from_seismicity_VS_mfd_from_faults-model01-9.html\" target=\"_blank\">rpt-mfd_from_seismicity_VS_mfd_from_faults-model01-9.html</a></td></tr>\n",
       "<tr><td> </td><td><a href=\"http://localhost:8000/reports/model01/rpt-set_mfd_tapered_GR-model01-9.html\" target=\"_blank\">rpt-set_mfd_tapered_GR-model01-9.html</a></td></tr>\n",
       "</table>"
      ],
      "text/plain": [
       "<IPython.core.display.HTML object>"
      ]
     },
     "metadata": {},
     "output_type": "display_data"
    }
   ],
   "source": [
    "path = os.path.join(oqtkp.directory, 'reports/%s/*.html' % (model_id))\n",
    "id_src_set = set()\n",
    "for filename in glob.glob(path):\n",
    "    mtch = re.search('-([0-9a-zA-Z]*)\\.html', filename)\n",
    "    id_src_set.add(mtch.group(1))\n",
    "\n",
    "text = '<table style=\"width:100%\">\\n'\n",
    "for ids in list(sorted(list(id_src_set))):\n",
    "    text += '<tr><td><b> ID src: </b></td> <td><b>%s</b></td></tr>\\n' % (ids)\n",
    "    # This is the pattern used to search for reports\n",
    "    pattern = os.path.join(oqtkp.directory, 'reports/%s/' % model_id, '*-%s.html' % ids) \n",
    "    for filename in sorted(glob.glob(pattern)):\n",
    "        path, name = os.path.split(filename)\n",
    "        rpath = os.path.relpath(filename)\n",
    "        link = '<a href=\"http://localhost:8000/%s\" target=\"_blank\">%s</a>' % (rpath, name)\n",
    "        text += '<tr><td> </td><td>%s</td></tr>\\n' % (link)   \n",
    "text += \"</table>\"\n",
    "display(HTML(text))"
   ]
  },
  {
   "cell_type": "raw",
   "metadata": {
    "deletable": true,
    "editable": true
   },
   "source": [
    "proc.terminate()"
   ]
  }
 ],
 "metadata": {
  "kernelspec": {
   "display_name": "Python 2",
   "language": "python",
   "name": "python2"
  },
  "language_info": {
   "codemirror_mode": {
    "name": "ipython",
    "version": 2
   },
   "file_extension": ".py",
   "mimetype": "text/x-python",
   "name": "python",
   "nbconvert_exporter": "python",
   "pygments_lexer": "ipython2",
   "version": "2.7.12"
  }
 },
 "nbformat": 4,
 "nbformat_minor": 0
}
