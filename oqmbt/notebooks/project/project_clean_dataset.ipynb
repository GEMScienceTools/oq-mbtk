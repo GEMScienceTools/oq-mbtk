{
 "cells": [
  {
   "cell_type": "markdown",
   "metadata": {},
   "source": [
    "# Deleting components of an OQMBT project"
   ]
  },
  {
   "cell_type": "code",
   "execution_count": 1,
   "metadata": {},
   "outputs": [],
   "source": [
    "import os\n",
    "import sys\n",
    "from oqmbt.oqt_project import OQtProject, OQtModel\n",
    "from oqmbt.notebooks.project.utils import clean_project_component\n",
    "import ipywidgets as widgets\n",
    "from IPython.display import display\n",
    "from ipywidgets import Layout, Label, HBox, VBox"
   ]
  },
  {
   "cell_type": "code",
   "execution_count": 2,
   "metadata": {},
   "outputs": [],
   "source": [
    "\n",
    "prj_path = \"/Users/kjohnson/GEM/Regions/paisl18/project/paisl.oqmbtp\"\n",
    "os.environ[\"OQMBT_PROJECT\"] = prj_path"
   ]
  },
  {
   "cell_type": "markdown",
   "metadata": {},
   "source": [
    "### Load the project"
   ]
  },
  {
   "cell_type": "code",
   "execution_count": 3,
   "metadata": {},
   "outputs": [
    {
     "data": {
      "application/vnd.jupyter.widget-view+json": {
       "model_id": "6ea29d74ab1b4ef58e5c239f1c3392cc",
       "version_major": 2,
       "version_minor": 0
      },
      "text/html": [
       "<p>Failed to display Jupyter Widget of type <code>VBox</code>.</p>\n",
       "<p>\n",
       "  If you're reading this message in the Jupyter Notebook or JupyterLab Notebook, it may mean\n",
       "  that the widgets JavaScript is still loading. If this message persists, it\n",
       "  likely means that the widgets JavaScript library is either not installed or\n",
       "  not enabled. See the <a href=\"https://ipywidgets.readthedocs.io/en/stable/user_install.html\">Jupyter\n",
       "  Widgets Documentation</a> for setup instructions.\n",
       "</p>\n",
       "<p>\n",
       "  If you're reading this message in another frontend (for example, a static\n",
       "  rendering on GitHub or <a href=\"https://nbviewer.jupyter.org/\">NBViewer</a>),\n",
       "  it may mean that your frontend doesn't currently support widgets.\n",
       "</p>\n"
      ],
      "text/plain": [
       "VBox(children=(HBox(children=(Label(value='Project: paisl'),)), HBox(children=(Label(value='Choose the ID of a model'),)), HBox(children=(Label(value=' '), Dropdown(options=(' ', 'model01'), value=' ')))))"
      ]
     },
     "metadata": {},
     "output_type": "display_data"
    }
   ],
   "source": [
    "project_pickle_filename = os.environ.get('OQMBT_PROJECT')\n",
    "oqtkp = OQtProject.load_from_file(project_pickle_filename)\n",
    "lab_mod = 'Project: {:s}'.format(oqtkp.name)\n",
    "\n",
    "       \n",
    "aa = [' '] + list(oqtkp.models)\n",
    "w_models = widgets.Dropdown(\n",
    "    options=aa,\n",
    "    disabled=False,\n",
    ")\n",
    "\n",
    "hbox_model0 = HBox([Label(lab_mod)])\n",
    "hbox_model1 = HBox([Label('Choose the ID of a model')])\n",
    "hbox_model2 = HBox([Label(' '), w_models])\n",
    "\n",
    "#def handle_dd_change(change):\n",
    "#    print (change.owner.value)\n",
    "#w_models.observe(handle_dd_change, names='value')\n",
    "\n",
    "VBox([hbox_model0, hbox_model1, hbox_model2])"
   ]
  },
  {
   "cell_type": "markdown",
   "metadata": {},
   "source": [
    "### Available source typologies"
   ]
  },
  {
   "cell_type": "code",
   "execution_count": null,
   "metadata": {},
   "outputs": [],
   "source": [
    "stypes = set([])\n",
    "#\n",
    "# find source types\n",
    "model_key = w_models.value\n",
    "for skey in oqtkp.models[model_key].sources:\n",
    "    stype = oqtkp.models[model_key].sources[skey].source_type\n",
    "    stypes = stypes | set([stype])\n",
    "#\n",
    "#\n",
    "lab = 'Source typologies that you want to remove which are included in the model with ID: {:s}'.format(model_key)\n",
    "aa = [' '] + list(stypes)\n",
    "w_source_type = widgets.Dropdown(\n",
    "    options=aa,\n",
    "    disabled=False,\n",
    ")\n",
    "\n",
    "tbox = HBox([Label(lab)])\n",
    "bbox = HBox([Label('Source type'), w_source_type])\n",
    "VBox([tbox, bbox])"
   ]
  },
  {
   "cell_type": "markdown",
   "metadata": {},
   "source": [
    "### Deleting"
   ]
  },
  {
   "cell_type": "code",
   "execution_count": null,
   "metadata": {},
   "outputs": [],
   "source": [
    "text = 'You are about to remove the following information:<br>'\n",
    "text += '    - model ID       : {:s}<br>'.format(w_models.value)\n",
    "text += '    - source typology: {:s}<br>'.format(w_source_type.value)\n",
    "\n",
    "wdg_html = widgets.HTML(\n",
    "    value=text,\n",
    "    placeholder='Some HTML',\n",
    "    description='Some HTML',\n",
    ")\n",
    "#\n",
    "#\n",
    "check = widgets.Checkbox(\n",
    "    value=False,\n",
    "    disabled=False\n",
    ")\n",
    "hbox1 = HBox([wdg_html])\n",
    "hbox2 = HBox([Label('Check this box if you want to proceed'), check])\n",
    "VBox([hbox1, hbox2])"
   ]
  },
  {
   "cell_type": "code",
   "execution_count": null,
   "metadata": {},
   "outputs": [],
   "source": [
    "from ipywidgets import Button\n",
    "\n",
    "delete_button = Button(description='Delete data',\n",
    "                       disabled=True,\n",
    "                       button_style='danger')\n",
    "if not check.value:\n",
    "    print ('The checkbox above must be selected if you want to proceed')\n",
    "else:\n",
    "    delete_button.disabled = False\n",
    "\n",
    "display(delete_button)\n",
    "    \n",
    "def on_button_clicked(b):\n",
    "    clean_project_component(w_models.value, w_source_type.value)\n",
    "     \n",
    "delete_button.on_click(on_button_clicked)"
   ]
  },
  {
   "cell_type": "code",
   "execution_count": null,
   "metadata": {},
   "outputs": [],
   "source": []
  }
 ],
 "metadata": {
  "kernelspec": {
   "display_name": "Python 3",
   "language": "python",
   "name": "python3"
  },
  "language_info": {
   "codemirror_mode": {
    "name": "ipython",
    "version": 3
   },
   "file_extension": ".py",
   "mimetype": "text/x-python",
   "name": "python",
   "nbconvert_exporter": "python",
   "pygments_lexer": "ipython3",
   "version": "3.5.4"
  }
 },
 "nbformat": 4,
 "nbformat_minor": 1
}
