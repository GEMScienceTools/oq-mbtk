{
 "cells": [
  {
   "cell_type": "markdown",
   "metadata": {},
   "source": [
    "# Create an OQt project\n",
    "\n",
    "This notebook performs the initial steps needed to create an OQt project. It can be use either as a standalone notebook or as a script using runipy. \n",
    "\n",
    "This notebook can be run as a script in this way:\n",
    "```shell\n",
    "ini_filename = 'project.ini' runipy.py project_create.py\n",
    "```\n",
    "\n",
    "This script will create in the folder `/Users/home/hazard_projects/` a subdirectory called `nowhere` and inside `nowhere` there will be two files. The first one - named `nowhere.oqmbtp` - is a [pickle](https://docs.python.org/2/library/pickle.html) file while the second one - named `completeness.hdf5` - is a [hdf5](https://www.hdfgroup.org/HDF5/) file which will be used to store catalogue completeness.\n",
    "\n",
    "## Settings"
   ]
  },
  {
   "cell_type": "code",
   "execution_count": null,
   "metadata": {},
   "outputs": [],
   "source": [
    "import os\n",
    "import re\n",
    "import sys\n",
    "import h5py\n",
    "\n",
    "from oqmbt.oqt_project import OQtProject, OQtModel\n",
    "from configparser import ConfigParser\n",
    "\n",
    "class AttrDict(dict):\n",
    "    def __init__(self, *args, **kwargs):\n",
    "        super(AttrDict, self).__init__(*args, **kwargs)\n",
    "        self.__dict__ = self"
   ]
  },
  {
   "cell_type": "markdown",
   "metadata": {},
   "source": [
    "## Reading .ini file"
   ]
  },
  {
   "cell_type": "code",
   "execution_count": null,
   "metadata": {},
   "outputs": [],
   "source": [
    "# By default we assume that this notebook is run from the command line, therefore we look at environment variables.\n",
    "try: \n",
    "    ini_filename = os.environ.get('ini_file')\n",
    "    assert ini_filename is not None\n",
    "except:\n",
    "    #ini_filename = './../../../project.ini'\n",
    "    #ini_filename = '/Users/mpagani/Hazard_projects/south_america.ini'\n",
    "    #ini_filename = '/Users/mpagani/Hazard_projects/south_america_sf.ini'\n",
    "    #ini_filename = '/home/openquake/Hazard_projects/south_east_china.ini'\n",
    "    #ini_filename = './../../../examples/South_east_china/south_east_china.ini'\n",
    "    #ini_filename = '/home/openquake/GEM/model_building_tools_data/data/south_america/south_america.ini'\n",
    "    #ini_filename = '/home/openquake/GEM/model_building_tools_data/data/china/south_east_china.ini'\n",
    "    ini_filename = '/home/openquake/GEM/model_building_tools_data/data/china2016/china2016.ini'\n",
    "assert os.path.exists(ini_filename)\n",
    "print 'Reading project information from: \\n', ini_filename"
   ]
  },
  {
   "cell_type": "code",
   "execution_count": null,
   "metadata": {},
   "outputs": [],
   "source": [
    "config = ConfigParser(dict_type=AttrDict)\n",
    "config.read(ini_filename)\n",
    "\n",
    "project_dir = os.path.abspath(config._sections.project.directory)\n",
    "project_name = config._sections.project.name\n",
    "\n",
    "print 'Project directory : %s' % (project_dir)\n",
    "print 'Project name      : %s' % (project_name)"
   ]
  },
  {
   "cell_type": "markdown",
   "metadata": {},
   "source": [
    "### Clean the folder\n",
    "The commands inside this cell will delete and recreate from scratch the folder that will contain the project. ALL THE FILES PREVIOUSLY STORED IN THIS FOLDER WILL BE DELETED!"
   ]
  },
  {
   "cell_type": "raw",
   "metadata": {},
   "source": [
    "!rm -dfr $project_dir\n",
    "!echo 'Removed  :' $project_dir\n",
    "!mkdir $project_dir\n",
    "!echo 'Created  :' $project_dir"
   ]
  },
  {
   "cell_type": "markdown",
   "metadata": {},
   "source": [
    "## Create project\n",
    "This cell creates an instance of a [OQtProject](./../../../doc/_build/html/project.html) which will be used to store all the information related with the construction of the source model.\n",
    "    "
   ]
  },
  {
   "cell_type": "code",
   "execution_count": null,
   "metadata": {},
   "outputs": [],
   "source": [
    "prj = OQtProject(project_name, project_dir)\n",
    "project_filename = os.path.join(project_dir, prj._get_filename())\n",
    "print project_filename\n",
    "print project_dir"
   ]
  },
  {
   "cell_type": "markdown",
   "metadata": {},
   "source": [
    "## Create completeness file, the earthquake rate file and the file associating earthquakes to faults\n",
    "This cell creates a .hdf5 file which will be used to store the information related with the magnitude-time completeness of the catalogue."
   ]
  },
  {
   "cell_type": "code",
   "execution_count": null,
   "metadata": {},
   "outputs": [],
   "source": [
    "prj.compl_hdf5_filename = 'completeness.hdf5'\n",
    "compl_hdf5_filename = os.path.join(project_dir, prj.compl_hdf5_filename)\n",
    "print compl_hdf5_filename\n",
    "fhdf5 = h5py.File(compl_hdf5_filename, 'a')\n",
    "fhdf5.close()"
   ]
  },
  {
   "cell_type": "code",
   "execution_count": null,
   "metadata": {},
   "outputs": [],
   "source": [
    "prj.eqk_rates_hdf5_filename = 'eqk_rates.hdf5'\n",
    "eqk_rates_hdf5_filename = os.path.join(project_dir, prj.eqk_rates_hdf5_filename)\n",
    "fhdf5 = h5py.File(eqk_rates_hdf5_filename, 'a')\n",
    "fhdf5.close()"
   ]
  },
  {
   "cell_type": "code",
   "execution_count": null,
   "metadata": {},
   "outputs": [],
   "source": [
    "prj.hypo_close_to_flts_hdf5_filename = 'hypo_close_to_faults.hdf5'\n",
    "hypo_close_to_flts_hdf5_filename = os.path.join(project_dir, prj.hypo_close_to_flts_hdf5_filename)\n",
    "fhdf5 = h5py.File(hypo_close_to_flts_hdf5_filename, 'a')\n",
    "fhdf5.close()"
   ]
  },
  {
   "cell_type": "markdown",
   "metadata": {},
   "source": [
    "## Create source model and add it to the project"
   ]
  },
  {
   "cell_type": "code",
   "execution_count": null,
   "metadata": {},
   "outputs": [],
   "source": [
    "for key in config._sections.keys():\n",
    "    if re.search('^model', key):\n",
    "        inimodel = getattr(config._sections, key)\n",
    "        model = OQtModel(model_id=inimodel.id, name=inimodel.name)\n",
    "        for mkey in inimodel.keys():\n",
    "            if not re.search('^__', mkey):\n",
    "                if re.search('filename$', mkey):\n",
    "                    path = os.path.relpath(os.path.abspath(getattr(inimodel, mkey)))\n",
    "                    setattr(model, mkey, path)\n",
    "                else:\n",
    "                    setattr(model, mkey, getattr(inimodel, mkey))\n",
    "        prj.add_model(model)\n",
    "prj.active_model_id = 'model01'"
   ]
  },
  {
   "cell_type": "markdown",
   "metadata": {},
   "source": [
    "## Save project "
   ]
  },
  {
   "cell_type": "code",
   "execution_count": null,
   "metadata": {},
   "outputs": [],
   "source": [
    "prj.save()\n",
    "del prj"
   ]
  },
  {
   "cell_type": "markdown",
   "metadata": {},
   "source": [
    "## Check: load model "
   ]
  },
  {
   "cell_type": "code",
   "execution_count": null,
   "metadata": {},
   "outputs": [],
   "source": [
    "print 'Project file:', project_filename"
   ]
  },
  {
   "cell_type": "code",
   "execution_count": null,
   "metadata": {},
   "outputs": [],
   "source": [
    "prj = OQtProject.load_from_file(project_filename)\n",
    "prj.get_info()\n",
    "model = prj.models['model01']\n",
    "model.get_info()"
   ]
  },
  {
   "cell_type": "code",
   "execution_count": null,
   "metadata": {},
   "outputs": [],
   "source": []
  }
 ],
 "metadata": {
  "kernelspec": {
   "display_name": "py35",
   "language": "python",
   "name": "py35"
  },
  "language_info": {
   "codemirror_mode": {
    "name": "ipython",
    "version": 3
   },
   "file_extension": ".py",
   "mimetype": "text/x-python",
   "name": "python",
   "nbconvert_exporter": "python",
   "pygments_lexer": "ipython3",
   "version": "3.5.5"
  }
 },
 "nbformat": 4,
 "nbformat_minor": 2
}
