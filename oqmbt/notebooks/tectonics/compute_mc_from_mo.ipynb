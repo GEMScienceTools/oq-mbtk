{
 "cells": [
  {
   "cell_type": "markdown",
   "metadata": {},
   "source": [
    "# Compute Mc from strain for all the sources "
   ]
  },
  {
   "cell_type": "code",
   "execution_count": null,
   "metadata": {},
   "outputs": [],
   "source": [
    "%matplotlib inline\n",
    "import os\n",
    "import re\n",
    "import sys\n",
    "import h5py\n",
    "import numpy\n",
    "\n",
    "from rtree import index\n",
    "from prettytable import PrettyTable\n",
    "\n",
    "import scipy.constants as constants  \n",
    "import scipy.special as special\n",
    "\n",
    "from oqmbt.oqt_project import OQtProject\n",
    "from oqmbt.tools.strain import get_moment_for_polygon\n",
    "from oqmbt.tools.mfd import get_moment_from_mfd"
   ]
  },
  {
   "cell_type": "code",
   "execution_count": null,
   "metadata": {},
   "outputs": [],
   "source": [
    "project_pickle_filename = os.environ.get('OQMBT_PROJECT')\n",
    "oqtkp = OQtProject.load_from_file(project_pickle_filename)\n",
    "model_id = oqtkp.active_model_id\n",
    "model = oqtkp.models[model_id]"
   ]
  },
  {
   "cell_type": "code",
   "execution_count": null,
   "metadata": {},
   "outputs": [],
   "source": [
    "p = PrettyTable([\"ID\", \"Mc\", \"Mx\", \"Mcs\"])\n",
    "p.align[\"ID\"] = 'l'\n",
    "p.align[\"Mc\"] = 'r'\n",
    "p.align[\"Mx\"] = 'r'\n",
    "p.align[\"Mcs\"] = 'r'"
   ]
  },
  {
   "cell_type": "markdown",
   "metadata": {},
   "source": [
    "## Computing scalar moment from strain "
   ]
  },
  {
   "cell_type": "code",
   "execution_count": null,
   "metadata": {},
   "outputs": [],
   "source": [
    "shear_modulus = model.shear_modulus \n",
    "mo_dict = {}\n",
    "\n",
    "for key in model.sources:\n",
    "    source = model.sources[key]\n",
    "    \n",
    "    if re.match('AreaSource', source.source_type) and 'a_gr' in source.__dict__:\n",
    "        #\n",
    "        # get parameters\n",
    "        mo_tot = source.mo_strain\n",
    "        a_gr = source.a_gr\n",
    "        b_gr = source.b_gr\n",
    "        #\n",
    "        #\n",
    "        threshold_mag = 6.0\n",
    "        efficiency = 1.0\n",
    "        beta = b_gr*2./3. # See Fig. 3 of Kagan and Jackson (2015)\n",
    "        #\n",
    "        alpha = 10**(a_gr-b_gr*threshold_mag) \n",
    "        mo_low = 10.**(1.5*threshold_mag+9.0)\n",
    "        #\n",
    "        # truncated pareto distribution\n",
    "        num = mo_tot*(1.-beta)*efficiency\n",
    "        den = alpha*(mo_low**beta)*beta\n",
    "        mx = (num / den)**(1./(1.-beta))\n",
    "        m_mx = (numpy.log10(mx)-9.0)/1.5\n",
    "        #\n",
    "        # gamma distribution\n",
    "        gamma = special.gamma(2.-beta) \n",
    "        den = den*gamma\n",
    "        mc = (num / den)**(1./(1.-beta))\n",
    "        m_mc = (numpy.log10(mc)-9.0)/1.5\n",
    "        #\n",
    "        # Simplified formula for the calculation of corner moment/magnitude\n",
    "        # see Yufang slides and Kagan (2002) eq. 15\n",
    "        den = alpha*(mo_low**beta)*gamma\n",
    "        mcs = (num/den)**(1/(1-beta)) \n",
    "        m_mcs = (numpy.log10(mcs)-9.0)/1.5\n",
    "        # \n",
    "        # adding a row to the table\n",
    "        p.add_row([key, \"%.2f\" % m_mc, \"%.2f\" % m_mx, \"%.2f\" % m_mcs])\n",
    "        print(key, mcs)\n",
    "        #\n",
    "        # updating source parameters\n",
    "        source.mo_mx = mx\n",
    "        source.mo_mc = mc\n",
    "        source.mo_mcs = mcs\n",
    "        #\n",
    "        # updating source\n",
    "        model.sources[key] = source\n",
    "        \n",
    "    else:\n",
    "        if re.match('AreaSource', source.source_type):\n",
    "            print('Skipping area source ', key)\n",
    "        \n",
    "print(p)\n",
    "oqtkp.models[model_id] = model\n",
    "oqtkp.save()"
   ]
  },
  {
   "cell_type": "code",
   "execution_count": null,
   "metadata": {},
   "outputs": [],
   "source": []
  }
 ],
 "metadata": {
  "kernelspec": {
   "display_name": "py35",
   "language": "python",
   "name": "py35"
  },
  "language_info": {
   "codemirror_mode": {
    "name": "ipython",
    "version": 3
   },
   "file_extension": ".py",
   "mimetype": "text/x-python",
   "name": "python",
   "nbconvert_exporter": "python",
   "pygments_lexer": "ipython3",
   "version": "3.5.5"
  }
 },
 "nbformat": 4,
 "nbformat_minor": 2
}
