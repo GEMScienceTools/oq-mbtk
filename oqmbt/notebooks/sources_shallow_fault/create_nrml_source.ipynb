{
 "cells": [
  {
   "cell_type": "code",
   "execution_count": null,
   "metadata": {},
   "outputs": [],
   "source": [
    "%matplotlib inline\n",
    "import os\n",
    "import re\n",
    "import sys\n",
    "from oqmbt.oqt_project import OQtProject\n",
    "from openquake.hazardlib.tom import PoissonTOM\n",
    "from openquake.hazardlib.source import SimpleFaultSource\n",
    "from openquake.hazardlib.const import TRT\n",
    "from openquake.hazardlib.scalerel.wc1994 import WC1994"
   ]
  },
  {
   "cell_type": "code",
   "execution_count": null,
   "metadata": {},
   "outputs": [],
   "source": [
    "project_pickle_filename = os.environ.get('OQMBT_PROJECT')\n",
    "oqtkp = OQtProject.load_from_file(project_pickle_filename)\n",
    "model_id = oqtkp.active_model_id\n",
    "model = oqtkp.models[model_id]\n",
    "try:\n",
    "    source_ids_list = getattr(oqtkp,'active_source_id')\n",
    "except:\n",
    "    print('Active source ID not defined in the OQMBT project')\n",
    "    source_ids_list = ['sf1']\n",
    "print('Processing fault source with ID:', source_ids_list)"
   ]
  },
  {
   "cell_type": "markdown",
   "metadata": {},
   "source": [
    "## Get the source"
   ]
  },
  {
   "cell_type": "code",
   "execution_count": null,
   "metadata": {},
   "outputs": [],
   "source": [
    "assert len(source_ids_list) == 1\n",
    "src = model.sources[source_ids_list[0]]"
   ]
  },
  {
   "cell_type": "markdown",
   "metadata": {},
   "source": [
    "## Creating the nrml source"
   ]
  },
  {
   "cell_type": "code",
   "execution_count": null,
   "metadata": {},
   "outputs": [],
   "source": [
    "rupture_mesh_spacing = float(model.fault_rupture_mesh_spacing)\n",
    "rupt_aspect_ratio = float(model.fault_rupt_aspect_ratio)\n",
    "temporal_occurrence_model = PoissonTOM(1.0)\n",
    "\n",
    "if hasattr(src, 'tectonic_region_type'):\n",
    "    if src.tectonic_region_type == 'Active Shallow Crust':\n",
    "        tectonic_region_type = TRT.ACTIVE_SHALLOW_CRUST\n",
    "    elif src.tectonic_region_type == 'Stable Shallow Crust':\n",
    "        tectonic_region_type = TRT.STABLE_CONTINENTAL\n",
    "    else:\n",
    "        raise ValueError('Unknown tectonic region')\n",
    "else:\n",
    "    tectonic_region_type = TRT.ACTIVE_SHALLOW_CRUST\n",
    "    \n",
    "flag = False\n",
    "\n",
    "if hasattr(src, 'mfd') and src.mfd is not None and len(src.mfd.occurrence_rates):\n",
    "    \n",
    "    if 'scalerel' in src.__dict__:\n",
    "        scalerel = src.scalerel\n",
    "    else:\n",
    "        scalerel = WC1994()\n",
    "    \n",
    "    nsrc = SimpleFaultSource(\n",
    "            source_id = src.source_id, \n",
    "            name = src.name, \n",
    "            tectonic_region_type = tectonic_region_type, \n",
    "            mfd = src.mfd, \n",
    "            rupture_mesh_spacing = float(rupture_mesh_spacing), \n",
    "            magnitude_scaling_relationship = scalerel, \n",
    "            rupture_aspect_ratio = rupt_aspect_ratio, \n",
    "            temporal_occurrence_model = temporal_occurrence_model, \n",
    "            upper_seismogenic_depth = float(src.upper_seismogenic_depth), \n",
    "            lower_seismogenic_depth = float(src.lower_seismogenic_depth), \n",
    "            fault_trace = src.trace,\n",
    "            dip = src.dip,\n",
    "            rake = src.rake)\n",
    "    flag = True\n",
    "else:\n",
    "    print('skipping: ', src.source_id)"
   ]
  },
  {
   "cell_type": "markdown",
   "metadata": {},
   "source": [
    "## Update the project"
   ]
  },
  {
   "cell_type": "code",
   "execution_count": null,
   "metadata": {},
   "outputs": [],
   "source": [
    "if flag:\n",
    "    if hasattr(model, 'nrml_sources'):\n",
    "        model.nrml_sources[src.source_id] = nsrc\n",
    "    else:\n",
    "        model.nrml_sources = {src.source_id : nsrc}\n",
    "    oqtkp.save()\n",
    "    print ('Source id                       : %s' % (src.source_id))\n",
    "    print ('Added to nrml sources in model  : %s' % (model_id))"
   ]
  },
  {
   "cell_type": "code",
   "execution_count": null,
   "metadata": {},
   "outputs": [],
   "source": []
  }
 ],
 "metadata": {
  "kernelspec": {
   "display_name": "py35",
   "language": "python",
   "name": "py35"
  },
  "language_info": {
   "codemirror_mode": {
    "name": "ipython",
    "version": 3
   },
   "file_extension": ".py",
   "mimetype": "text/x-python",
   "name": "python",
   "nbconvert_exporter": "python",
   "pygments_lexer": "ipython3",
   "version": "3.5.5"
  }
 },
 "nbformat": 4,
 "nbformat_minor": 2
}
