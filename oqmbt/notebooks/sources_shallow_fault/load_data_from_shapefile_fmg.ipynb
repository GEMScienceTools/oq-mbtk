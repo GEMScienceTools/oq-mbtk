{
 "cells": [
  {
   "cell_type": "code",
   "execution_count": null,
   "metadata": {},
   "outputs": [],
   "source": [
    "%matplotlib inline\n",
    "import os\n",
    "import sys  \n",
    "from oqmbt.tools.general import merge_dictionaries\n",
    "from oqmbt.notebooks.sources_shallow_fault.shallow_faults import shallow_faults_to_oqt_sources\n",
    "from oqmbt.oqt_project import OQtProject"
   ]
  },
  {
   "cell_type": "code",
   "execution_count": null,
   "metadata": {},
   "outputs": [],
   "source": [
    "project_pickle_filename = os.environ.get('OQMBT_PROJECT')\n",
    "oqtkp = OQtProject.load_from_file(project_pickle_filename)\n",
    "model_id = oqtkp.active_model_id\n",
    "model = oqtkp.models[model_id]\n",
    "faults_shp_filename = os.path.join(oqtkp.directory, getattr(model,'faults_shp_filename'))\n",
    "print(os.path.realpath(faults_shp_filename))"
   ]
  },
  {
   "cell_type": "markdown",
   "metadata": {},
   "source": [
    "## Get shallow crust fault sources"
   ]
  },
  {
   "cell_type": "code",
   "execution_count": null,
   "metadata": {},
   "outputs": [],
   "source": [
    "sources = shallow_faults_to_oqt_sources(os.path.realpath(faults_shp_filename))\n",
    "print(len(model.sources.keys()))"
   ]
  },
  {
   "cell_type": "markdown",
   "metadata": {},
   "source": [
    "## Update project"
   ]
  },
  {
   "cell_type": "code",
   "execution_count": null,
   "metadata": {},
   "outputs": [],
   "source": [
    "if len(model.sources):\n",
    "    model.sources = merge_dictionaries(sources, model.sources)\n",
    "else:\n",
    "    model.sources = sources\n",
    "oqtkp.save()\n",
    "del oqtkp"
   ]
  },
  {
   "cell_type": "code",
   "execution_count": null,
   "metadata": {},
   "outputs": [],
   "source": [
    "prj = OQtProject.load_from_file(project_pickle_filename)\n",
    "model = prj.models['model01']\n",
    "model.get_info()"
   ]
  }
 ],
 "metadata": {
  "kernelspec": {
   "display_name": "Python 3",
   "language": "python",
   "name": "python3"
  },
  "language_info": {
   "codemirror_mode": {
    "name": "ipython",
    "version": 3
   },
   "file_extension": ".py",
   "mimetype": "text/x-python",
   "name": "python",
   "nbconvert_exporter": "python",
   "pygments_lexer": "ipython3",
   "version": "3.5.2"
  }
 },
 "nbformat": 4,
 "nbformat_minor": 1
}
