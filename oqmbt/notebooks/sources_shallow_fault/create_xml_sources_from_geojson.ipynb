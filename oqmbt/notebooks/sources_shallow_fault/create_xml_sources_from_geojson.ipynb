{
 "cells": [
  {
   "cell_type": "code",
   "execution_count": null,
   "metadata": {},
   "outputs": [],
   "source": [
    "%matplotlib inline\n",
    "import os\n",
    "import re\n",
    "import sys\n",
    "from oqmbt.oqt_project import OQtProject\n",
    "from oqmbt.notebooks.sources_shallow_fault.create_fault_sources_from_geojson import get_fault_sources\n",
    "from openquake.hazardlib.tom import PoissonTOM\n",
    "from openquake.hazardlib.geo.surface import SimpleFaultSurface\n",
    "from openquake.hazardlib.mfd import EvenlyDiscretizedMFD\n",
    "from openquake.hazardlib.scalerel.wc1994 import WC1994\n",
    "from openquake.hazardlib.sourcewriter import write_source_model"
   ]
  },
  {
   "cell_type": "code",
   "execution_count": null,
   "metadata": {},
   "outputs": [],
   "source": [
    "project_pickle_filename = os.environ.get('OQMBT_PROJECT')\n",
    "oqtkp = OQtProject.load_from_file(project_pickle_filename)\n",
    "model_id = oqtkp.active_model_id\n",
    "model = oqtkp.models[model_id]"
   ]
  },
  {
   "cell_type": "markdown",
   "metadata": {},
   "source": [
    "## Parameters"
   ]
  },
  {
   "cell_type": "code",
   "execution_count": null,
   "metadata": {},
   "outputs": [],
   "source": [
    "slip_rate_class = 'suggested' \n",
    "m_low = model.faults_lower_threshold_magnitude\n",
    "bin_width = model.mfd_binwidth\n",
    "scalerel_name = model.msr\n",
    "rupture_mesh_spacing = model.fault_rupture_mesh_spacing\n",
    "upper_seismogenic_depth = model.upper_seismogenic_depth\n",
    "## THIS PARAMETER IS NOT USED BUT THIS PART NEEDS TO BE IMPROVED\n",
    "lower_seismogenic_depth=10.0 \n",
    "rupture_aspect_ratio=2.0\n",
    "temporal_occurrence_model=PoissonTOM(1.0)\n",
    "aseismic_coeff=0.9\n",
    "# this is the geojson file\n",
    "filename = os.path.abspath(os.path.join(oqtkp.directory, model.fault_geojson_filename))"
   ]
  },
  {
   "cell_type": "markdown",
   "metadata": {},
   "source": [
    "## Set the magnitude scaling relationship\n",
    "The options available for the magnitude scaling relationship are:\n",
    "* `scalrel_name = 'WC1994`' <br> Wells and Coppersmith (1994) scaling relationship\n",
    "* '`PointMSR`' Scaling relationship to be used for the creation of tiny ruptures resembling points\n",
    "* '`CEUS2011`' Scaling relationship developed within the CEUS SSC project"
   ]
  },
  {
   "cell_type": "code",
   "execution_count": null,
   "metadata": {},
   "outputs": [],
   "source": [
    "import importlib\n",
    "module = importlib.import_module('openquake.hazardlib.scalerel')\n",
    "my_class = getattr(module, scalerel_name)\n",
    "msr = my_class()"
   ]
  },
  {
   "cell_type": "markdown",
   "metadata": {},
   "source": [
    "## Creating the xml file"
   ]
  },
  {
   "cell_type": "code",
   "execution_count": null,
   "metadata": {},
   "outputs": [],
   "source": [
    "b_gr = 1.0 # this is a dummy value that will be modified during following steps\n",
    "sources = get_fault_sources(filename, \n",
    "                            slip_rate_class, \n",
    "                            bin_width, \n",
    "                            m_low, \n",
    "                            b_gr,\n",
    "                            rupture_mesh_spacing, \n",
    "                            upper_seismogenic_depth,\n",
    "                            lower_seismogenic_depth, \n",
    "                            msr,\n",
    "                            rupture_aspect_ratio, \n",
    "                            temporal_occurrence_model,\n",
    "                            aseismic_coeff)"
   ]
  },
  {
   "cell_type": "code",
   "execution_count": null,
   "metadata": {},
   "outputs": [],
   "source": [
    "# write the final fault model\n",
    "dest = model.faults_xml_filename\n",
    "if not os.path.exists(os.path.dirname(dest)):\n",
    "    print(os.path.dirname(dest))\n",
    "    os.mkdir(os.path.dirname(dest))\n",
    "write_source_model(dest, sources, 'Test')"
   ]
  },
  {
   "cell_type": "code",
   "execution_count": null,
   "metadata": {},
   "outputs": [],
   "source": []
  }
 ],
 "metadata": {
  "kernelspec": {
   "display_name": "Python 3",
   "language": "python",
   "name": "python3"
  },
  "language_info": {
   "codemirror_mode": {
    "name": "ipython",
    "version": 3
   },
   "file_extension": ".py",
   "mimetype": "text/x-python",
   "name": "python",
   "nbconvert_exporter": "python",
   "pygments_lexer": "ipython3",
   "version": "3.5.4"
  }
 },
 "nbformat": 4,
 "nbformat_minor": 1
}
