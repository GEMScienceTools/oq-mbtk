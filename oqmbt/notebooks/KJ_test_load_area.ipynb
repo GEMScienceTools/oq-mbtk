{
 "cells": [
  {
   "cell_type": "code",
   "execution_count": null,
   "metadata": {},
   "outputs": [],
   "source": [
    "import re\n",
    "import numpy\n",
    "from shapely import wkt\n",
    "import pickle\n",
    "from openquake.hmtk.parsers.catalogue import CsvCatalogueParser\n",
    "\n",
    "from osgeo import ogr\n",
    "from copy import deepcopy\n",
    "\n",
    "#from prettytable import PrettyTable\n",
    "\n",
    "from openquake.hmtk.seismicity.selector import CatalogueSelector\n",
    "from openquake.hmtk.sources.area_source import mtkAreaSource\n",
    "from openquake.hazardlib.const import TRT\n",
    "\n",
    "from oqmbt.tools.general import _get_point_list\n",
    "from oqmbt.oqt_project import OQtSource\n",
    "\n",
    "from openquake.hazardlib.geo.polygon import Polygon"
   ]
  },
  {
   "cell_type": "code",
   "execution_count": null,
   "metadata": {},
   "outputs": [],
   "source": [
    "prj_path = \"/Users/kjohnson/GEM/Regions/paisl18/project/paisl.oqmbtp\"\n",
    "os.environ[\"OQMBT_PROJECT\"] = prj_path"
   ]
  },
  {
   "cell_type": "code",
   "execution_count": 2,
   "metadata": {},
   "outputs": [],
   "source": [
    "shapefile_filename = '/Users/kjohnson/GEM/Regions/paisl18/data/TroubleShooting/area_16.shp'"
   ]
  },
  {
   "cell_type": "code",
   "execution_count": 3,
   "metadata": {},
   "outputs": [],
   "source": [
    "idname = 'Id'\n",
    "driver = ogr.GetDriverByName('ESRI Shapefile')\n",
    "datasource = driver.Open(shapefile_filename, 0)\n",
    "layer = datasource.GetLayer()\n",
    "sources = {}\n",
    "id_set = set()"
   ]
  },
  {
   "cell_type": "code",
   "execution_count": 4,
   "metadata": {},
   "outputs": [],
   "source": [
    "for feature in layer:\n",
    "    # Read the geometry\n",
    "    geom = feature.GetGeometryRef()\n",
    "    polygon = wkt.loads(geom.ExportToWkt())\n",
    "    xtp, y = polygon.exterior.coords.xy\n",
    "    x = ([a-360 if a>180 else a for a in xtp])\n",
    "    points = _get_point_list(x, y)\n",
    "    # Set the ID\n",
    "    if isinstance(feature.GetField(idname), str):\n",
    "        id_str = feature.GetField(idname)\n",
    "    elif isinstance(feature.GetField(idname), int):\n",
    "        id_str = '%d' % (feature.GetField(idname))\n",
    "    else:\n",
    "        raise ValueError('Unsupported source ID type')\n",
    "    src = OQtSource(source_id=id_str,\n",
    "            source_type='AreaSource',\n",
    "            polygon=Polygon(points),\n",
    "            name=id_str,\n",
    "            )\n",
    "    if not id_set and set(id_str):\n",
    "        sources[id_str] = src\n",
    "    else:\n",
    "        raise ValueError('Sources with non unique ID %s' % id_str)\n",
    "    #print(sources)"
   ]
  },
  {
   "cell_type": "code",
   "execution_count": 5,
   "metadata": {},
   "outputs": [
    {
     "name": "stdout",
     "output_type": "stream",
     "text": [
      "[<Latitude=-12.455004, Longitude=167.933559, Depth=0.0000>, <Latitude=-12.922864, Longitude=173.052492, Depth=0.0000>, <Latitude=-16.234425, Longitude=174.118927, Depth=0.0000>, <Latitude=-15.038612, Longitude=-179.762958, Depth=0.0000>, <Latitude=-15.041702, Longitude=-179.763104, Depth=0.0000>, <Latitude=-16.262489, Longitude=-178.542316, Depth=0.0000>, <Latitude=-17.071093, Longitude=-179.858647, Depth=0.0000>, <Latitude=-16.515066, Longitude=179.198525, Depth=0.0000>, <Latitude=-17.216668, Longitude=176.897271, Depth=0.0000>, <Latitude=-18.030526, Longitude=176.700822, Depth=0.0000>, <Latitude=-19.658243, Longitude=176.588566, Depth=0.0000>, <Latitude=-20.174363, Longitude=176.493491, Depth=0.0000>, <Latitude=-20.955487, Longitude=175.059899, Depth=0.0000>, <Latitude=-17.749886, Longitude=175.353746, Depth=0.0000>, <Latitude=-17.693757, Longitude=174.259247, Depth=0.0000>, <Latitude=-17.076348, Longitude=172.996363, Depth=0.0000>, <Latitude=-15.280246, Longitude=172.322825, Depth=0.0000>, <Latitude=-15.139926, Longitude=171.256390, Depth=0.0000>, <Latitude=-14.326068, Longitude=169.937378, Depth=0.0000>, <Latitude=-14.033156, Longitude=168.350772, Depth=0.0000>, <Latitude=-12.455004, Longitude=167.933559, Depth=0.0000>]\n"
     ]
    }
   ],
   "source": [
    "print(points)\n",
    "test_poly = Polygon(points)"
   ]
  },
  {
   "cell_type": "code",
   "execution_count": 6,
   "metadata": {},
   "outputs": [
    {
     "data": {
      "text/plain": [
       "'POLYGON((167.933559374 -12.4550041676, 173.052491518 -12.9228635571, 174.118926606 -16.2344251473, -179.762958074 -15.0386116985, -179.763103676 -15.0417016932, -178.542316141 -16.2624892285, -179.85864706 -17.0710925073, 179.198525317 -16.51506596, 176.897270652 -17.2166679918, 176.700822084 -18.0305263487, 176.588565758 -19.6582430626, 176.493490987 -20.1743632507, 175.059899393 -20.9554868756, 175.353746182 -17.749885536, 174.259247013 -17.6937573735, 172.996363356 -17.0763475855, 172.322825405 -15.280246384, 171.256390317 -15.1399259776, 169.937378497 -14.3260676207, 168.350771827 -14.0331556202, 167.933559374 -12.4550041676, 167.933559374 -12.4550041676))'"
      ]
     },
     "execution_count": 6,
     "metadata": {},
     "output_type": "execute_result"
    }
   ],
   "source": [
    "src.polygon.wkt"
   ]
  },
  {
   "cell_type": "code",
   "execution_count": 19,
   "metadata": {},
   "outputs": [
    {
     "name": "stdout",
     "output_type": "stream",
     "text": [
      "Catalogue Attribute field_25 is not a recognised catalogue key\n",
      "Catalogue Attribute 360_1 is not a recognised catalogue key\n",
      "Catalogue Attribute field_26 is not a recognised catalogue key\n",
      "Catalogue Attribute field_20 is not a recognised catalogue key\n",
      "Catalogue Attribute field_24 is not a recognised catalogue key\n",
      "Catalogue Attribute field_22 is not a recognised catalogue key\n",
      "Catalogue Attribute field_21 is not a recognised catalogue key\n",
      "Catalogue Attribute field_23 is not a recognised catalogue key\n",
      "Catalogue Attribute field_27 is not a recognised catalogue key\n",
      "213\n"
     ]
    }
   ],
   "source": [
    "catalogue_filename = '/Users/kjohnson/GEM/Regions/paisl18/data/TroubleShooting/area16_subcata.csv'\n",
    "#catalogue_filename = '/Users/kjohnson/GEM/Regions/paisl18/data/catalogues/locations/FinalCatalog/Simplified/PI_final_crustal.csv'\n",
    "parser = CsvCatalogueParser(catalogue_filename)\n",
    "catalogue = parser.read_file()\n",
    "catalogue.sort_catalogue_chronologically()\n",
    "print(len(catalogue.data['depth']))                       \n"
   ]
  },
  {
   "cell_type": "code",
   "execution_count": 20,
   "metadata": {},
   "outputs": [
    {
     "name": "stdout",
     "output_type": "stream",
     "text": [
      "213\n"
     ]
    }
   ],
   "source": [
    "sel = CatalogueSelector(catalogue, create_copy=True)\n",
    "catalogue = sel.within_polygon(test_poly, distance = None)\n",
    "print(len(catalogue.data['depth'])) "
   ]
  },
  {
   "cell_type": "code",
   "execution_count": null,
   "metadata": {},
   "outputs": [],
   "source": []
  }
 ],
 "metadata": {
  "kernelspec": {
   "display_name": "Python 3",
   "language": "python",
   "name": "python3"
  },
  "language_info": {
   "codemirror_mode": {
    "name": "ipython",
    "version": 3
   },
   "file_extension": ".py",
   "mimetype": "text/x-python",
   "name": "python",
   "nbconvert_exporter": "python",
   "pygments_lexer": "ipython3",
   "version": "3.5.4"
  }
 },
 "nbformat": 4,
 "nbformat_minor": 2
}
